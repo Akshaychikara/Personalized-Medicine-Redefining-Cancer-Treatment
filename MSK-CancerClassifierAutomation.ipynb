{
 "cells": [
  {
   "cell_type": "code",
   "execution_count": 1,
   "metadata": {},
   "outputs": [],
   "source": [
    "import pandas as pd\n",
    "import numpy as np\n",
    "from matplotlib import pyplot as plt\n",
    "%matplotlib inline\n",
    "from sklearn import model_selection, preprocessing\n",
    "import seaborn as sns"
   ]
  },
  {
   "cell_type": "code",
   "execution_count": 2,
   "metadata": {},
   "outputs": [],
   "source": [
    "data_variant = pd.read_csv(\"./training/training_variants\")\n",
    "data_txt = pd.read_csv(\"./training/training_text\", sep='\\|\\|', names=[\"ID\",\"TEXT\"], skiprows=1, engine='python')"
   ]
  },
  {
   "cell_type": "code",
   "execution_count": 3,
   "metadata": {},
   "outputs": [
    {
     "name": "stdout",
     "output_type": "stream",
     "text": [
      "<class 'pandas.core.frame.DataFrame'>\n",
      "RangeIndex: 3321 entries, 0 to 3320\n",
      "Data columns (total 4 columns):\n",
      "ID           3321 non-null int64\n",
      "Gene         3321 non-null object\n",
      "Variation    3321 non-null object\n",
      "Class        3321 non-null int64\n",
      "dtypes: int64(2), object(2)\n",
      "memory usage: 103.9+ KB\n"
     ]
    }
   ],
   "source": [
    "data_variant.info()"
   ]
  },
  {
   "cell_type": "code",
   "execution_count": 4,
   "metadata": {},
   "outputs": [
    {
     "name": "stdout",
     "output_type": "stream",
     "text": [
      "<class 'pandas.core.frame.DataFrame'>\n",
      "RangeIndex: 3321 entries, 0 to 3320\n",
      "Data columns (total 2 columns):\n",
      "ID      3321 non-null int64\n",
      "TEXT    3316 non-null object\n",
      "dtypes: int64(1), object(1)\n",
      "memory usage: 52.0+ KB\n"
     ]
    }
   ],
   "source": [
    "data_txt.info()"
   ]
  },
  {
   "cell_type": "code",
   "execution_count": 5,
   "metadata": {},
   "outputs": [
    {
     "data": {
      "text/html": [
       "<div>\n",
       "<style scoped>\n",
       "    .dataframe tbody tr th:only-of-type {\n",
       "        vertical-align: middle;\n",
       "    }\n",
       "\n",
       "    .dataframe tbody tr th {\n",
       "        vertical-align: top;\n",
       "    }\n",
       "\n",
       "    .dataframe thead th {\n",
       "        text-align: right;\n",
       "    }\n",
       "</style>\n",
       "<table border=\"1\" class=\"dataframe\">\n",
       "  <thead>\n",
       "    <tr style=\"text-align: right;\">\n",
       "      <th></th>\n",
       "      <th>ID</th>\n",
       "      <th>Gene</th>\n",
       "      <th>Variation</th>\n",
       "      <th>Class</th>\n",
       "    </tr>\n",
       "  </thead>\n",
       "  <tbody>\n",
       "    <tr>\n",
       "      <th>0</th>\n",
       "      <td>0</td>\n",
       "      <td>FAM58A</td>\n",
       "      <td>Truncating Mutations</td>\n",
       "      <td>1</td>\n",
       "    </tr>\n",
       "    <tr>\n",
       "      <th>1</th>\n",
       "      <td>1</td>\n",
       "      <td>CBL</td>\n",
       "      <td>W802*</td>\n",
       "      <td>2</td>\n",
       "    </tr>\n",
       "    <tr>\n",
       "      <th>2</th>\n",
       "      <td>2</td>\n",
       "      <td>CBL</td>\n",
       "      <td>Q249E</td>\n",
       "      <td>2</td>\n",
       "    </tr>\n",
       "    <tr>\n",
       "      <th>3</th>\n",
       "      <td>3</td>\n",
       "      <td>CBL</td>\n",
       "      <td>N454D</td>\n",
       "      <td>3</td>\n",
       "    </tr>\n",
       "    <tr>\n",
       "      <th>4</th>\n",
       "      <td>4</td>\n",
       "      <td>CBL</td>\n",
       "      <td>L399V</td>\n",
       "      <td>4</td>\n",
       "    </tr>\n",
       "  </tbody>\n",
       "</table>\n",
       "</div>"
      ],
      "text/plain": [
       "   ID    Gene             Variation  Class\n",
       "0   0  FAM58A  Truncating Mutations      1\n",
       "1   1     CBL                 W802*      2\n",
       "2   2     CBL                 Q249E      2\n",
       "3   3     CBL                 N454D      3\n",
       "4   4     CBL                 L399V      4"
      ]
     },
     "execution_count": 5,
     "metadata": {},
     "output_type": "execute_result"
    }
   ],
   "source": [
    "data_variant.head()"
   ]
  },
  {
   "cell_type": "code",
   "execution_count": 6,
   "metadata": {},
   "outputs": [
    {
     "data": {
      "text/plain": [
       "<matplotlib.axes._subplots.AxesSubplot at 0x160223582e8>"
      ]
     },
     "execution_count": 6,
     "metadata": {},
     "output_type": "execute_result"
    },
    {
     "data": {
      "image/png": "[encoded data removed]",
      "text/plain": [
       "<matplotlib.figure.Figure at 0x16022358cf8>"
      ]
     },
     "metadata": {},
     "output_type": "display_data"
    }
   ],
   "source": [
    "variants = data_variant['Class'].value_counts()\n",
    "\n",
    "variants.plot.bar()"
   ]
  },
  {
   "cell_type": "code",
   "execution_count": 7,
   "metadata": {},
   "outputs": [
    {
     "data": {
      "text/plain": [
       "([<matplotlib.axis.YTick at 0x160224c7898>,\n",
       "  <matplotlib.axis.YTick at 0x160224c74a8>,\n",
       "  <matplotlib.axis.YTick at 0x160224c4048>,\n",
       "  <matplotlib.axis.YTick at 0x160225078d0>,\n",
       "  <matplotlib.axis.YTick at 0x16022507f28>,\n",
       "  <matplotlib.axis.YTick at 0x1602250f5c0>,\n",
       "  <matplotlib.axis.YTick at 0x1602250fc50>,\n",
       "  <matplotlib.axis.YTick at 0x16022512320>,\n",
       "  <matplotlib.axis.YTick at 0x160225129b0>],\n",
       " <a list of 9 Text yticklabel objects>)"
      ]
     },
     "execution_count": 7,
     "metadata": {},
     "output_type": "execute_result"
    },
    {
     "data": {
      "image/png": "[encoded data removed]",
      "text/plain": [
       "<matplotlib.figure.Figure at 0x16022481940>"
      ]
     },
     "metadata": {},
     "output_type": "display_data"
    }
   ],
   "source": [
    "plt.barh(variants.index, variants.values)\n",
    "plt.yticks(variants.index)"
   ]
  },
  {
   "cell_type": "code",
   "execution_count": 8,
   "metadata": {},
   "outputs": [
    {
     "data": {
      "text/html": [
       "<div>\n",
       "<style scoped>\n",
       "    .dataframe tbody tr th:only-of-type {\n",
       "        vertical-align: middle;\n",
       "    }\n",
       "\n",
       "    .dataframe tbody tr th {\n",
       "        vertical-align: top;\n",
       "    }\n",
       "\n",
       "    .dataframe thead th {\n",
       "        text-align: right;\n",
       "    }\n",
       "</style>\n",
       "<table border=\"1\" class=\"dataframe\">\n",
       "  <thead>\n",
       "    <tr style=\"text-align: right;\">\n",
       "      <th></th>\n",
       "      <th>ID</th>\n",
       "      <th>TEXT</th>\n",
       "    </tr>\n",
       "  </thead>\n",
       "  <tbody>\n",
       "    <tr>\n",
       "      <th>0</th>\n",
       "      <td>0</td>\n",
       "      <td>Cyclin-dependent kinases (CDKs) regulate a var...</td>\n",
       "    </tr>\n",
       "    <tr>\n",
       "      <th>1</th>\n",
       "      <td>1</td>\n",
       "      <td>Abstract Background  Non-small cell lung canc...</td>\n",
       "    </tr>\n",
       "    <tr>\n",
       "      <th>2</th>\n",
       "      <td>2</td>\n",
       "      <td>Abstract Background  Non-small cell lung canc...</td>\n",
       "    </tr>\n",
       "    <tr>\n",
       "      <th>3</th>\n",
       "      <td>3</td>\n",
       "      <td>Recent evidence has demonstrated that acquired...</td>\n",
       "    </tr>\n",
       "    <tr>\n",
       "      <th>4</th>\n",
       "      <td>4</td>\n",
       "      <td>Oncogenic mutations in the monomeric Casitas B...</td>\n",
       "    </tr>\n",
       "  </tbody>\n",
       "</table>\n",
       "</div>"
      ],
      "text/plain": [
       "   ID                                               TEXT\n",
       "0   0  Cyclin-dependent kinases (CDKs) regulate a var...\n",
       "1   1   Abstract Background  Non-small cell lung canc...\n",
       "2   2   Abstract Background  Non-small cell lung canc...\n",
       "3   3  Recent evidence has demonstrated that acquired...\n",
       "4   4  Oncogenic mutations in the monomeric Casitas B..."
      ]
     },
     "execution_count": 8,
     "metadata": {},
     "output_type": "execute_result"
    }
   ],
   "source": [
    "data_txt.head()"
   ]
  },
  {
   "cell_type": "code",
   "execution_count": 9,
   "metadata": {},
   "outputs": [
    {
     "data": {
      "text/html": [
       "<div>\n",
       "<style scoped>\n",
       "    .dataframe tbody tr th:only-of-type {\n",
       "        vertical-align: middle;\n",
       "    }\n",
       "\n",
       "    .dataframe tbody tr th {\n",
       "        vertical-align: top;\n",
       "    }\n",
       "\n",
       "    .dataframe thead th {\n",
       "        text-align: right;\n",
       "    }\n",
       "</style>\n",
       "<table border=\"1\" class=\"dataframe\">\n",
       "  <thead>\n",
       "    <tr style=\"text-align: right;\">\n",
       "      <th></th>\n",
       "      <th>ID</th>\n",
       "      <th>Class</th>\n",
       "    </tr>\n",
       "  </thead>\n",
       "  <tbody>\n",
       "    <tr>\n",
       "      <th>count</th>\n",
       "      <td>3321.000000</td>\n",
       "      <td>3321.000000</td>\n",
       "    </tr>\n",
       "    <tr>\n",
       "      <th>mean</th>\n",
       "      <td>1660.000000</td>\n",
       "      <td>4.365854</td>\n",
       "    </tr>\n",
       "    <tr>\n",
       "      <th>std</th>\n",
       "      <td>958.834449</td>\n",
       "      <td>2.309781</td>\n",
       "    </tr>\n",
       "    <tr>\n",
       "      <th>min</th>\n",
       "      <td>0.000000</td>\n",
       "      <td>1.000000</td>\n",
       "    </tr>\n",
       "    <tr>\n",
       "      <th>25%</th>\n",
       "      <td>830.000000</td>\n",
       "      <td>2.000000</td>\n",
       "    </tr>\n",
       "    <tr>\n",
       "      <th>50%</th>\n",
       "      <td>1660.000000</td>\n",
       "      <td>4.000000</td>\n",
       "    </tr>\n",
       "    <tr>\n",
       "      <th>75%</th>\n",
       "      <td>2490.000000</td>\n",
       "      <td>7.000000</td>\n",
       "    </tr>\n",
       "    <tr>\n",
       "      <th>max</th>\n",
       "      <td>3320.000000</td>\n",
       "      <td>9.000000</td>\n",
       "    </tr>\n",
       "  </tbody>\n",
       "</table>\n",
       "</div>"
      ],
      "text/plain": [
       "                ID        Class\n",
       "count  3321.000000  3321.000000\n",
       "mean   1660.000000     4.365854\n",
       "std     958.834449     2.309781\n",
       "min       0.000000     1.000000\n",
       "25%     830.000000     2.000000\n",
       "50%    1660.000000     4.000000\n",
       "75%    2490.000000     7.000000\n",
       "max    3320.000000     9.000000"
      ]
     },
     "execution_count": 9,
     "metadata": {},
     "output_type": "execute_result"
    }
   ],
   "source": [
    "data_variant.describe()"
   ]
  },
  {
   "cell_type": "code",
   "execution_count": 10,
   "metadata": {},
   "outputs": [
    {
     "data": {
      "text/plain": [
       "<matplotlib.axes._subplots.AxesSubplot at 0x160335cb4e0>"
      ]
     },
     "execution_count": 10,
     "metadata": {},
     "output_type": "execute_result"
    },
    {
     "data": {
      "image/png": "[encoded data removed]",
      "text/plain": [
       "<matplotlib.figure.Figure at 0x16022527358>"
      ]
     },
     "metadata": {},
     "output_type": "display_data"
    }
   ],
   "source": [
    "sns.heatmap(data_variant.isnull(),cbar=False, yticklabels=False,cmap='viridis')"
   ]
  },
  {
   "cell_type": "code",
   "execution_count": 11,
   "metadata": {},
   "outputs": [
    {
     "data": {
      "text/plain": [
       "<matplotlib.axes._subplots.AxesSubplot at 0x16033611908>"
      ]
     },
     "execution_count": 11,
     "metadata": {},
     "output_type": "execute_result"
    },
    {
     "data": {
      "image/png": "[encoded data removed]",
      "text/plain": [
       "<matplotlib.figure.Figure at 0x160335cbda0>"
      ]
     },
     "metadata": {},
     "output_type": "display_data"
    }
   ],
   "source": [
    "sns.heatmap(data_txt.isnull(),cbar=False, yticklabels=False,cmap='viridis')"
   ]
  },
  {
   "cell_type": "code",
   "execution_count": 12,
   "metadata": {},
   "outputs": [
    {
     "data": {
      "text/plain": [
       "ID      5\n",
       "TEXT    0\n",
       "dtype: int64"
      ]
     },
     "execution_count": 12,
     "metadata": {},
     "output_type": "execute_result"
    }
   ],
   "source": [
    "data_txt[data_txt.isnull().any(axis=1)].count()"
   ]
  },
  {
   "cell_type": "markdown",
   "metadata": {},
   "source": [
    "ML Problem statement :\n",
    "1. We have to predict the cancer class (1-9) based on the type of mutation a person has. Its a multiclass classification problem.\n",
    "2. Errors are very bad in medical world and it is better for doctors to provide reasoning why a person falls under one of 9 categories of cancer. \n",
    "    a) Talking in probabilistic term will be more intutive here\n",
    "    b) Interpretability of results (why perticular class) is also necessary\n",
    "3. As we are more focussed towards accuracy , we can allow some expensive operations/algorithms to do calculation inorder to achive desired accuracy."
   ]
  },
  {
   "cell_type": "code",
   "execution_count": 13,
   "metadata": {},
   "outputs": [],
   "source": [
    "# from data_txt, we would like to process research papers, that is text field\n",
    "# we want to remove stop words, using nltk \n",
    "from nltk.corpus import stopwords\n",
    "import re"
   ]
  },
  {
   "cell_type": "code",
   "execution_count": 14,
   "metadata": {},
   "outputs": [],
   "source": [
    "def data_txt_preprocess(text, ind, col):\n",
    "    # remove integers from text\n",
    "    if type(text) is not int:\n",
    "        string = ''\n",
    "        \n",
    "        # replacing all special characters with space\n",
    "        text = re.sub('[^a-zA-Z0-9\\n]', ' ', str(text))\n",
    "        \n",
    "        # replace multiple spaces with single space\n",
    "        text = re.sub('\\s+',' ', str(text))\n",
    "        \n",
    "        text = text.lower()\n",
    "        stop_words = set(stopwords.words('english')) \n",
    "        for word in text.split():\n",
    "            if word not in stop_words:\n",
    "                string+=word + \" \"\n",
    "                \n",
    "        data_txt.loc[ind, col] = string"
   ]
  },
  {
   "cell_type": "code",
   "execution_count": 15,
   "metadata": {},
   "outputs": [
    {
     "data": {
      "text/html": [
       "<div>\n",
       "<style scoped>\n",
       "    .dataframe tbody tr th:only-of-type {\n",
       "        vertical-align: middle;\n",
       "    }\n",
       "\n",
       "    .dataframe tbody tr th {\n",
       "        vertical-align: top;\n",
       "    }\n",
       "\n",
       "    .dataframe thead th {\n",
       "        text-align: right;\n",
       "    }\n",
       "</style>\n",
       "<table border=\"1\" class=\"dataframe\">\n",
       "  <thead>\n",
       "    <tr style=\"text-align: right;\">\n",
       "      <th></th>\n",
       "      <th>ID</th>\n",
       "      <th>TEXT</th>\n",
       "    </tr>\n",
       "  </thead>\n",
       "  <tbody>\n",
       "    <tr>\n",
       "      <th>0</th>\n",
       "      <td>0</td>\n",
       "      <td>cyclin dependent kinases cdks regulate variety...</td>\n",
       "    </tr>\n",
       "    <tr>\n",
       "      <th>1</th>\n",
       "      <td>1</td>\n",
       "      <td>abstract background non small cell lung cancer...</td>\n",
       "    </tr>\n",
       "    <tr>\n",
       "      <th>2</th>\n",
       "      <td>2</td>\n",
       "      <td>abstract background non small cell lung cancer...</td>\n",
       "    </tr>\n",
       "    <tr>\n",
       "      <th>3</th>\n",
       "      <td>3</td>\n",
       "      <td>recent evidence demonstrated acquired uniparen...</td>\n",
       "    </tr>\n",
       "    <tr>\n",
       "      <th>4</th>\n",
       "      <td>4</td>\n",
       "      <td>oncogenic mutations monomeric casitas b lineag...</td>\n",
       "    </tr>\n",
       "  </tbody>\n",
       "</table>\n",
       "</div>"
      ],
      "text/plain": [
       "   ID                                               TEXT\n",
       "0   0  cyclin dependent kinases cdks regulate variety...\n",
       "1   1  abstract background non small cell lung cancer...\n",
       "2   2  abstract background non small cell lung cancer...\n",
       "3   3  recent evidence demonstrated acquired uniparen...\n",
       "4   4  oncogenic mutations monomeric casitas b lineag..."
      ]
     },
     "execution_count": 15,
     "metadata": {},
     "output_type": "execute_result"
    }
   ],
   "source": [
    "# call the above function and preprocess all the text data\n",
    "for index, row in data_txt.iterrows():\n",
    "    if type(row['TEXT']) is str:\n",
    "        data_txt_preprocess(row['TEXT'], index,'TEXT')\n",
    "\n",
    "data_txt.head()"
   ]
  },
  {
   "cell_type": "code",
   "execution_count": 16,
   "metadata": {},
   "outputs": [
    {
     "data": {
      "text/html": [
       "<div>\n",
       "<style scoped>\n",
       "    .dataframe tbody tr th:only-of-type {\n",
       "        vertical-align: middle;\n",
       "    }\n",
       "\n",
       "    .dataframe tbody tr th {\n",
       "        vertical-align: top;\n",
       "    }\n",
       "\n",
       "    .dataframe thead th {\n",
       "        text-align: right;\n",
       "    }\n",
       "</style>\n",
       "<table border=\"1\" class=\"dataframe\">\n",
       "  <thead>\n",
       "    <tr style=\"text-align: right;\">\n",
       "      <th></th>\n",
       "      <th>ID</th>\n",
       "      <th>Gene</th>\n",
       "      <th>Variation</th>\n",
       "      <th>Class</th>\n",
       "      <th>TEXT</th>\n",
       "    </tr>\n",
       "  </thead>\n",
       "  <tbody>\n",
       "    <tr>\n",
       "      <th>0</th>\n",
       "      <td>0</td>\n",
       "      <td>FAM58A</td>\n",
       "      <td>Truncating Mutations</td>\n",
       "      <td>1</td>\n",
       "      <td>cyclin dependent kinases cdks regulate variety...</td>\n",
       "    </tr>\n",
       "    <tr>\n",
       "      <th>1</th>\n",
       "      <td>1</td>\n",
       "      <td>CBL</td>\n",
       "      <td>W802*</td>\n",
       "      <td>2</td>\n",
       "      <td>abstract background non small cell lung cancer...</td>\n",
       "    </tr>\n",
       "    <tr>\n",
       "      <th>2</th>\n",
       "      <td>2</td>\n",
       "      <td>CBL</td>\n",
       "      <td>Q249E</td>\n",
       "      <td>2</td>\n",
       "      <td>abstract background non small cell lung cancer...</td>\n",
       "    </tr>\n",
       "    <tr>\n",
       "      <th>3</th>\n",
       "      <td>3</td>\n",
       "      <td>CBL</td>\n",
       "      <td>N454D</td>\n",
       "      <td>3</td>\n",
       "      <td>recent evidence demonstrated acquired uniparen...</td>\n",
       "    </tr>\n",
       "    <tr>\n",
       "      <th>4</th>\n",
       "      <td>4</td>\n",
       "      <td>CBL</td>\n",
       "      <td>L399V</td>\n",
       "      <td>4</td>\n",
       "      <td>oncogenic mutations monomeric casitas b lineag...</td>\n",
       "    </tr>\n",
       "  </tbody>\n",
       "</table>\n",
       "</div>"
      ],
      "text/plain": [
       "   ID    Gene             Variation  Class  \\\n",
       "0   0  FAM58A  Truncating Mutations      1   \n",
       "1   1     CBL                 W802*      2   \n",
       "2   2     CBL                 Q249E      2   \n",
       "3   3     CBL                 N454D      3   \n",
       "4   4     CBL                 L399V      4   \n",
       "\n",
       "                                                TEXT  \n",
       "0  cyclin dependent kinases cdks regulate variety...  \n",
       "1  abstract background non small cell lung cancer...  \n",
       "2  abstract background non small cell lung cancer...  \n",
       "3  recent evidence demonstrated acquired uniparen...  \n",
       "4  oncogenic mutations monomeric casitas b lineag...  "
      ]
     },
     "execution_count": 16,
     "metadata": {},
     "output_type": "execute_result"
    }
   ],
   "source": [
    "# merge two data\n",
    "result = pd.merge(data_variant, data_txt, on='ID', how='left')\n",
    "result.head()"
   ]
  },
  {
   "cell_type": "code",
   "execution_count": 17,
   "metadata": {},
   "outputs": [
    {
     "data": {
      "text/html": [
       "<div>\n",
       "<style scoped>\n",
       "    .dataframe tbody tr th:only-of-type {\n",
       "        vertical-align: middle;\n",
       "    }\n",
       "\n",
       "    .dataframe tbody tr th {\n",
       "        vertical-align: top;\n",
       "    }\n",
       "\n",
       "    .dataframe thead th {\n",
       "        text-align: right;\n",
       "    }\n",
       "</style>\n",
       "<table border=\"1\" class=\"dataframe\">\n",
       "  <thead>\n",
       "    <tr style=\"text-align: right;\">\n",
       "      <th></th>\n",
       "      <th>ID</th>\n",
       "      <th>Gene</th>\n",
       "      <th>Variation</th>\n",
       "      <th>Class</th>\n",
       "      <th>TEXT</th>\n",
       "    </tr>\n",
       "  </thead>\n",
       "  <tbody>\n",
       "    <tr>\n",
       "      <th>1109</th>\n",
       "      <td>1109</td>\n",
       "      <td>FANCA</td>\n",
       "      <td>S1088F</td>\n",
       "      <td>1</td>\n",
       "      <td>NaN</td>\n",
       "    </tr>\n",
       "    <tr>\n",
       "      <th>1277</th>\n",
       "      <td>1277</td>\n",
       "      <td>ARID5B</td>\n",
       "      <td>Truncating Mutations</td>\n",
       "      <td>1</td>\n",
       "      <td>NaN</td>\n",
       "    </tr>\n",
       "    <tr>\n",
       "      <th>1407</th>\n",
       "      <td>1407</td>\n",
       "      <td>FGFR3</td>\n",
       "      <td>K508M</td>\n",
       "      <td>6</td>\n",
       "      <td>NaN</td>\n",
       "    </tr>\n",
       "    <tr>\n",
       "      <th>1639</th>\n",
       "      <td>1639</td>\n",
       "      <td>FLT1</td>\n",
       "      <td>Amplification</td>\n",
       "      <td>6</td>\n",
       "      <td>NaN</td>\n",
       "    </tr>\n",
       "    <tr>\n",
       "      <th>2755</th>\n",
       "      <td>2755</td>\n",
       "      <td>BRAF</td>\n",
       "      <td>G596C</td>\n",
       "      <td>7</td>\n",
       "      <td>NaN</td>\n",
       "    </tr>\n",
       "  </tbody>\n",
       "</table>\n",
       "</div>"
      ],
      "text/plain": [
       "        ID    Gene             Variation  Class TEXT\n",
       "1109  1109   FANCA                S1088F      1  NaN\n",
       "1277  1277  ARID5B  Truncating Mutations      1  NaN\n",
       "1407  1407   FGFR3                 K508M      6  NaN\n",
       "1639  1639    FLT1         Amplification      6  NaN\n",
       "2755  2755    BRAF                 G596C      7  NaN"
      ]
     },
     "execution_count": 17,
     "metadata": {},
     "output_type": "execute_result"
    }
   ],
   "source": [
    "result[result.isnull().any(axis=1)]"
   ]
  },
  {
   "cell_type": "code",
   "execution_count": 18,
   "metadata": {},
   "outputs": [],
   "source": [
    "# impudate TEXT field with gene and variation name\n",
    "result.loc[result['TEXT'].isnull(), 'TEXT'] = result['Gene'] + \" \" + result['Variation'] "
   ]
  },
  {
   "cell_type": "code",
   "execution_count": 19,
   "metadata": {},
   "outputs": [
    {
     "data": {
      "text/html": [
       "<div>\n",
       "<style scoped>\n",
       "    .dataframe tbody tr th:only-of-type {\n",
       "        vertical-align: middle;\n",
       "    }\n",
       "\n",
       "    .dataframe tbody tr th {\n",
       "        vertical-align: top;\n",
       "    }\n",
       "\n",
       "    .dataframe thead th {\n",
       "        text-align: right;\n",
       "    }\n",
       "</style>\n",
       "<table border=\"1\" class=\"dataframe\">\n",
       "  <thead>\n",
       "    <tr style=\"text-align: right;\">\n",
       "      <th></th>\n",
       "      <th>ID</th>\n",
       "      <th>Gene</th>\n",
       "      <th>Variation</th>\n",
       "      <th>Class</th>\n",
       "      <th>TEXT</th>\n",
       "    </tr>\n",
       "  </thead>\n",
       "  <tbody>\n",
       "  </tbody>\n",
       "</table>\n",
       "</div>"
      ],
      "text/plain": [
       "Empty DataFrame\n",
       "Columns: [ID, Gene, Variation, Class, TEXT]\n",
       "Index: []"
      ]
     },
     "execution_count": 19,
     "metadata": {},
     "output_type": "execute_result"
    }
   ],
   "source": [
    "# check for null values again.\n",
    "result[result.isnull().any(axis=1)]"
   ]
  },
  {
   "cell_type": "markdown",
   "metadata": {},
   "source": [
    "# Create train, test and validation set"
   ]
  },
  {
   "cell_type": "code",
   "execution_count": 20,
   "metadata": {},
   "outputs": [],
   "source": [
    "# Before splitting , lets remove all spaces in Gene and Variations columns\n",
    "result.Gene = result.Gene.str.replace('\\s+','_')\n",
    "result.Variation = result.Variation.str.replace('\\s+','_')"
   ]
  },
  {
   "cell_type": "code",
   "execution_count": 21,
   "metadata": {},
   "outputs": [
    {
     "data": {
      "text/html": [
       "<div>\n",
       "<style scoped>\n",
       "    .dataframe tbody tr th:only-of-type {\n",
       "        vertical-align: middle;\n",
       "    }\n",
       "\n",
       "    .dataframe tbody tr th {\n",
       "        vertical-align: top;\n",
       "    }\n",
       "\n",
       "    .dataframe thead th {\n",
       "        text-align: right;\n",
       "    }\n",
       "</style>\n",
       "<table border=\"1\" class=\"dataframe\">\n",
       "  <thead>\n",
       "    <tr style=\"text-align: right;\">\n",
       "      <th></th>\n",
       "      <th>ID</th>\n",
       "      <th>Gene</th>\n",
       "      <th>Variation</th>\n",
       "      <th>Class</th>\n",
       "      <th>TEXT</th>\n",
       "    </tr>\n",
       "  </thead>\n",
       "  <tbody>\n",
       "    <tr>\n",
       "      <th>0</th>\n",
       "      <td>0</td>\n",
       "      <td>FAM58A</td>\n",
       "      <td>Truncating_Mutations</td>\n",
       "      <td>1</td>\n",
       "      <td>cyclin dependent kinases cdks regulate variety...</td>\n",
       "    </tr>\n",
       "    <tr>\n",
       "      <th>1</th>\n",
       "      <td>1</td>\n",
       "      <td>CBL</td>\n",
       "      <td>W802*</td>\n",
       "      <td>2</td>\n",
       "      <td>abstract background non small cell lung cancer...</td>\n",
       "    </tr>\n",
       "    <tr>\n",
       "      <th>2</th>\n",
       "      <td>2</td>\n",
       "      <td>CBL</td>\n",
       "      <td>Q249E</td>\n",
       "      <td>2</td>\n",
       "      <td>abstract background non small cell lung cancer...</td>\n",
       "    </tr>\n",
       "    <tr>\n",
       "      <th>3</th>\n",
       "      <td>3</td>\n",
       "      <td>CBL</td>\n",
       "      <td>N454D</td>\n",
       "      <td>3</td>\n",
       "      <td>recent evidence demonstrated acquired uniparen...</td>\n",
       "    </tr>\n",
       "    <tr>\n",
       "      <th>4</th>\n",
       "      <td>4</td>\n",
       "      <td>CBL</td>\n",
       "      <td>L399V</td>\n",
       "      <td>4</td>\n",
       "      <td>oncogenic mutations monomeric casitas b lineag...</td>\n",
       "    </tr>\n",
       "  </tbody>\n",
       "</table>\n",
       "</div>"
      ],
      "text/plain": [
       "   ID    Gene             Variation  Class  \\\n",
       "0   0  FAM58A  Truncating_Mutations      1   \n",
       "1   1     CBL                 W802*      2   \n",
       "2   2     CBL                 Q249E      2   \n",
       "3   3     CBL                 N454D      3   \n",
       "4   4     CBL                 L399V      4   \n",
       "\n",
       "                                                TEXT  \n",
       "0  cyclin dependent kinases cdks regulate variety...  \n",
       "1  abstract background non small cell lung cancer...  \n",
       "2  abstract background non small cell lung cancer...  \n",
       "3  recent evidence demonstrated acquired uniparen...  \n",
       "4  oncogenic mutations monomeric casitas b lineag...  "
      ]
     },
     "execution_count": 21,
     "metadata": {},
     "output_type": "execute_result"
    }
   ],
   "source": [
    "X = result\n",
    "y = result['Class']\n",
    "X.head()"
   ]
  },
  {
   "cell_type": "code",
   "execution_count": 22,
   "metadata": {},
   "outputs": [
    {
     "name": "stdout",
     "output_type": "stream",
     "text": [
      "Train size:  2124\n",
      "Cross validation size:  532\n",
      "Test data size:  665\n"
     ]
    }
   ],
   "source": [
    "from sklearn.model_selection import train_test_split\n",
    "\n",
    "X_train, X_test, y_train, y_test = train_test_split(X, y, test_size=0.2, stratify=y)\n",
    "\n",
    "X_train, X_cv, y_train, y_cv = train_test_split(X_train, y_train, test_size=0.2, stratify=y_train)\n",
    "\n",
    "print(\"Train size: \", len(y_train))\n",
    "print(\"Cross validation size: \", len(y_cv))\n",
    "print(\"Test data size: \", len(y_test))"
   ]
  },
  {
   "cell_type": "code",
   "execution_count": 23,
   "metadata": {},
   "outputs": [
    {
     "name": "stdout",
     "output_type": "stream",
     "text": [
      "7    609\n",
      "4    439\n",
      "1    363\n",
      "2    289\n",
      "6    176\n",
      "5    155\n",
      "3     57\n",
      "9     24\n",
      "8     12\n",
      "Name: Class, dtype: int64\n"
     ]
    }
   ],
   "source": [
    "# check if all class examples are properly distributed in all three train , CV and test parts, otherwise it will be a problem\n",
    "train_class_distribution = y_train.value_counts()\n",
    "validation_class_distribution = y_cv.value_counts()\n",
    "test_class_distribution = y_test.value_counts()\n",
    "\n",
    "print(train_class_distribution)"
   ]
  },
  {
   "cell_type": "code",
   "execution_count": 24,
   "metadata": {},
   "outputs": [
    {
     "data": {
      "text/plain": [
       "289"
      ]
     },
     "execution_count": 24,
     "metadata": {},
     "output_type": "execute_result"
    }
   ],
   "source": [
    "y_train.value_counts().loc[2]"
   ]
  },
  {
   "cell_type": "code",
   "execution_count": 25,
   "metadata": {},
   "outputs": [
    {
     "data": {
      "text/plain": [
       "{1: [64.0, 16.0, 20.0],\n",
       " 2: [64.0, 16.0, 20.0],\n",
       " 3: [64.0, 16.0, 20.0],\n",
       " 4: [64.0, 16.0, 20.0],\n",
       " 5: [64.0, 16.0, 20.0],\n",
       " 6: [64.0, 16.0, 20.0],\n",
       " 7: [64.0, 16.0, 20.0],\n",
       " 8: [63.0, 16.0, 21.0],\n",
       " 9: [65.0, 16.0, 19.0]}"
      ]
     },
     "execution_count": 25,
     "metadata": {},
     "output_type": "execute_result"
    }
   ],
   "source": [
    "# calculate %age class distribution in each data set\n",
    "percent_dict = {}\n",
    "for i in range(1,10):\n",
    "    train_dist = np.round_(100*y_train.value_counts().loc[i]/y.value_counts().loc[i])\n",
    "    test_dist = np.round_(100*y_test.value_counts().loc[i]/y.value_counts().loc[i])\n",
    "    cv_dist = np.round_(100*y_cv.value_counts().loc[i]/y.value_counts().loc[i])\n",
    "    percent_dict[i] = [train_dist, cv_dist, test_dist]\n",
    "    \n",
    "    \n",
    "percent_dict\n",
    "    "
   ]
  },
  {
   "cell_type": "code",
   "execution_count": 26,
   "metadata": {},
   "outputs": [
    {
     "data": {
      "text/html": [
       "<div>\n",
       "<style scoped>\n",
       "    .dataframe tbody tr th:only-of-type {\n",
       "        vertical-align: middle;\n",
       "    }\n",
       "\n",
       "    .dataframe tbody tr th {\n",
       "        vertical-align: top;\n",
       "    }\n",
       "\n",
       "    .dataframe thead th {\n",
       "        text-align: right;\n",
       "    }\n",
       "</style>\n",
       "<table border=\"1\" class=\"dataframe\">\n",
       "  <thead>\n",
       "    <tr style=\"text-align: right;\">\n",
       "      <th></th>\n",
       "      <th>Train</th>\n",
       "      <th>CV</th>\n",
       "      <th>Test</th>\n",
       "    </tr>\n",
       "  </thead>\n",
       "  <tbody>\n",
       "    <tr>\n",
       "      <th>1</th>\n",
       "      <td>64.0</td>\n",
       "      <td>16.0</td>\n",
       "      <td>20.0</td>\n",
       "    </tr>\n",
       "    <tr>\n",
       "      <th>2</th>\n",
       "      <td>64.0</td>\n",
       "      <td>16.0</td>\n",
       "      <td>20.0</td>\n",
       "    </tr>\n",
       "    <tr>\n",
       "      <th>3</th>\n",
       "      <td>64.0</td>\n",
       "      <td>16.0</td>\n",
       "      <td>20.0</td>\n",
       "    </tr>\n",
       "    <tr>\n",
       "      <th>4</th>\n",
       "      <td>64.0</td>\n",
       "      <td>16.0</td>\n",
       "      <td>20.0</td>\n",
       "    </tr>\n",
       "    <tr>\n",
       "      <th>5</th>\n",
       "      <td>64.0</td>\n",
       "      <td>16.0</td>\n",
       "      <td>20.0</td>\n",
       "    </tr>\n",
       "    <tr>\n",
       "      <th>6</th>\n",
       "      <td>64.0</td>\n",
       "      <td>16.0</td>\n",
       "      <td>20.0</td>\n",
       "    </tr>\n",
       "    <tr>\n",
       "      <th>7</th>\n",
       "      <td>64.0</td>\n",
       "      <td>16.0</td>\n",
       "      <td>20.0</td>\n",
       "    </tr>\n",
       "    <tr>\n",
       "      <th>8</th>\n",
       "      <td>63.0</td>\n",
       "      <td>16.0</td>\n",
       "      <td>21.0</td>\n",
       "    </tr>\n",
       "    <tr>\n",
       "      <th>9</th>\n",
       "      <td>65.0</td>\n",
       "      <td>16.0</td>\n",
       "      <td>19.0</td>\n",
       "    </tr>\n",
       "  </tbody>\n",
       "</table>\n",
       "</div>"
      ],
      "text/plain": [
       "   Train    CV  Test\n",
       "1   64.0  16.0  20.0\n",
       "2   64.0  16.0  20.0\n",
       "3   64.0  16.0  20.0\n",
       "4   64.0  16.0  20.0\n",
       "5   64.0  16.0  20.0\n",
       "6   64.0  16.0  20.0\n",
       "7   64.0  16.0  20.0\n",
       "8   63.0  16.0  21.0\n",
       "9   65.0  16.0  19.0"
      ]
     },
     "execution_count": 26,
     "metadata": {},
     "output_type": "execute_result"
    }
   ],
   "source": [
    "percent_df = pd.DataFrame.from_dict(percent_dict, orient='index')\n",
    "percent_df.columns = ['Train','CV','Test']\n",
    "\n",
    "percent_df\n",
    "\n",
    "#fig, ax = plt.subplots(1,3)\n",
    "#ax[0].bar(percent_df.index, percent_df['Train'])"
   ]
  },
  {
   "cell_type": "code",
   "execution_count": 27,
   "metadata": {},
   "outputs": [
    {
     "name": "stderr",
     "output_type": "stream",
     "text": [
      "No handles with labels found to put in legend.\n",
      "No handles with labels found to put in legend.\n"
     ]
    },
    {
     "data": {
      "image/png": "[encoded data removed]",
      "text/plain": [
       "<matplotlib.figure.Figure at 0x16034187518>"
      ]
     },
     "metadata": {},
     "output_type": "display_data"
    }
   ],
   "source": [
    "fig, ax = plt.subplots(1,3)\n",
    "fig.set_figwidth(18)\n",
    "for i in range(0,3):\n",
    "    ax[i].bar(percent_df.index, percent_df.iloc[:,i], label = percent_df.columns[i])\n",
    "    plt.legend()\n"
   ]
  },
  {
   "cell_type": "markdown",
   "metadata": {},
   "source": [
    "## Building a random model (worst model) to set a performance bench mark"
   ]
  },
  {
   "cell_type": "markdown",
   "metadata": {},
   "source": [
    "### perfomance matrics -  Log loss function, = -1/n * Sum (y*log(p) + (1-y)*log(1-p))"
   ]
  },
  {
   "cell_type": "code",
   "execution_count": 28,
   "metadata": {},
   "outputs": [],
   "source": [
    "# Generate random probabilities and calculate log loss on CV and Test data set\n",
    "CV_data_len = X_cv.shape[0]\n",
    "Test_data_len = X_test.shape[0]\n",
    "from sklearn.metrics import log_loss"
   ]
  },
  {
   "cell_type": "code",
   "execution_count": 29,
   "metadata": {},
   "outputs": [
    {
     "name": "stdout",
     "output_type": "stream",
     "text": [
      "CV log loss :  2.4502779778348667\n"
     ]
    }
   ],
   "source": [
    "# for cross validattion\n",
    "cv_predicted_y = np.zeros((CV_data_len,9))\n",
    "for i in range(CV_data_len):\n",
    "    rand_prob = np.random.rand(1,9)\n",
    "    cv_predicted_y[i] = (rand_prob/sum(sum(rand_prob)))[0]\n",
    "print(\"CV log loss : \", log_loss(y_cv,cv_predicted_y))"
   ]
  },
  {
   "cell_type": "code",
   "execution_count": 30,
   "metadata": {},
   "outputs": [
    {
     "name": "stdout",
     "output_type": "stream",
     "text": [
      "Test prediction log loss :  2.481398456082309\n"
     ]
    }
   ],
   "source": [
    "# for test data set\n",
    "test_predicted_y = np.zeros((Test_data_len,9))\n",
    "for i in range(Test_data_len):\n",
    "    rand_prob = np.random.rand(1,9)\n",
    "    test_predicted_y[i] = (rand_prob/sum(sum(rand_prob)))[0]\n",
    "print(\"Test prediction log loss : \", log_loss(y_test,test_predicted_y))"
   ]
  },
  {
   "cell_type": "code",
   "execution_count": 31,
   "metadata": {},
   "outputs": [
    {
     "data": {
      "text/plain": [
       "array([1, 4, 2, 3, 8, 4, 4, 2, 0, 7, 5, 4, 1, 4, 5, 6, 3, 1, 6, 2, 6, 8,\n",
       "       8, 6, 7, 5, 7, 2, 2, 6, 2, 8, 1, 2, 6, 7, 3, 4, 3, 7, 4, 8, 2, 3,\n",
       "       3, 4, 4, 8, 6, 4, 8, 4, 5, 2, 1, 2, 5, 2, 8, 7, 1, 3, 8, 6, 7, 0,\n",
       "       8, 5, 0, 5, 7, 2, 3, 1, 0, 7, 8, 4, 4, 0, 1, 8, 5, 2, 5, 8, 5, 0,\n",
       "       1, 3, 5, 4, 4, 3, 2, 0, 7, 4, 6, 4, 8, 8, 5, 4, 0, 0, 6, 5, 5, 3,\n",
       "       0, 4, 7, 4, 7, 0, 6, 8, 4, 7, 2, 1, 5, 4, 6, 5, 4, 0, 3, 8, 8, 6,\n",
       "       8, 2, 6, 5, 0, 3, 4, 8, 3, 5, 0, 0, 1, 1, 1, 7, 3, 4, 5, 5, 3, 0,\n",
       "       7, 8, 4, 6, 0, 3, 1, 4, 4, 4, 5, 3, 7, 4, 7, 6, 6, 1, 3, 3, 8, 7,\n",
       "       7, 0, 2, 3, 0, 1, 0, 3, 1, 3, 2, 0, 4, 0, 4, 6, 4, 6, 1, 4, 0, 3,\n",
       "       0, 1, 7, 2, 3, 7, 8, 1, 6, 1, 7, 1, 6, 0, 5, 6, 4, 5, 2, 7, 3, 0,\n",
       "       6, 0, 7, 6, 0, 2, 2, 1, 4, 0, 5, 0, 3, 8, 3, 3, 7, 4, 4, 6, 1, 2,\n",
       "       4, 5, 1, 7, 0, 4, 0, 3, 7, 6, 4, 2, 0, 8, 3, 8, 7, 5, 3, 2, 0, 0,\n",
       "       0, 0, 4, 2, 6, 8, 8, 1, 4, 1, 4, 7, 1, 8, 0, 6, 2, 7, 8, 1, 7, 2,\n",
       "       8, 1, 6, 3, 7, 6, 2, 6, 3, 8, 0, 2, 1, 0, 7, 7, 7, 7, 2, 0, 7, 2,\n",
       "       4, 4, 2, 2, 8, 6, 7, 4, 5, 3, 7, 6, 7, 7, 6, 0, 5, 0, 4, 7, 5, 5,\n",
       "       3, 5, 8, 4, 3, 2, 4, 8, 8, 8, 4, 1, 1, 5, 7, 8, 4, 7, 4, 2, 2, 6,\n",
       "       3, 1, 1, 2, 7, 1, 4, 8, 0, 6, 8, 4, 1, 7, 8, 3, 0, 4, 2, 7, 5, 0,\n",
       "       0, 7, 4, 2, 0, 6, 1, 7, 5, 3, 1, 7, 0, 8, 4, 3, 4, 0, 8, 6, 4, 1,\n",
       "       6, 4, 6, 0, 6, 8, 8, 7, 8, 0, 3, 3, 4, 5, 4, 0, 6, 2, 8, 8, 1, 5,\n",
       "       2, 4, 0, 2, 8, 8, 1, 2, 1, 0, 7, 2, 8, 3, 1, 5, 4, 8, 4, 6, 4, 2,\n",
       "       2, 7, 7, 0, 1, 4, 3, 2, 0, 6, 7, 1, 2, 2, 2, 1, 1, 4, 8, 7, 3, 1,\n",
       "       4, 2, 2, 3, 3, 4, 5, 0, 3, 1, 5, 2, 7, 1, 0, 4, 8, 8, 0, 6, 1, 4,\n",
       "       4, 6, 2, 5, 6, 3, 7, 4, 4, 2, 6, 4, 3, 8, 3, 0, 1, 1, 4, 4, 5, 2,\n",
       "       3, 2, 3, 4, 4, 2, 8, 8, 7, 4, 7, 8, 3, 5, 0, 8, 3, 2, 6, 3, 6, 4,\n",
       "       8, 7, 8, 6, 1, 2, 0, 6, 5, 3, 0, 1, 8, 3, 3, 0, 2, 3, 2, 1, 7, 2,\n",
       "       5, 1, 1, 0, 7, 6, 8, 3, 3, 5, 5, 4, 3, 4, 2, 6, 5, 4, 8, 2, 6, 4,\n",
       "       7, 2, 2, 1, 7, 1, 1, 3, 1, 6, 5, 5, 0, 6, 6, 5, 4, 4, 3, 3, 8, 5,\n",
       "       3, 0, 7, 8, 0, 2, 0, 2, 1, 8, 1, 7, 8, 4, 0, 4, 8, 3, 4, 3, 4, 5,\n",
       "       6, 6, 5, 3, 0, 8, 0, 8, 2, 4, 8, 7, 7, 3, 0, 4, 4, 3, 2, 6, 5, 1,\n",
       "       6, 2, 3, 4, 7, 3, 6, 6, 4, 8, 2, 4, 1, 7, 7, 3, 6, 6, 7, 6, 1, 7,\n",
       "       2, 0, 1, 6, 7], dtype=int64)"
      ]
     },
     "execution_count": 31,
     "metadata": {},
     "output_type": "execute_result"
    }
   ],
   "source": [
    "worst_predicted = np.argmax(test_predicted_y, axis=1)\n",
    "worst_predicted"
   ]
  },
  {
   "cell_type": "code",
   "execution_count": 32,
   "metadata": {},
   "outputs": [],
   "source": [
    "worst_predicted = worst_predicted + 1"
   ]
  },
  {
   "cell_type": "code",
   "execution_count": 104,
   "metadata": {},
   "outputs": [
    {
     "name": "stdout",
     "output_type": "stream",
     "text": [
      "Worst model accuracy is:  0.09473684210526316\n",
      "[[13 11 14 12 23  9 10 15  7]\n",
      " [10  8 12 13 13  5  4  9 17]\n",
      " [ 4  6  1  0  3  2  0  1  1]\n",
      " [17 15 11 13 24 14 19 10 14]\n",
      " [ 4  1  6  5  6  1 10  7  8]\n",
      " [ 6  5  9  6  7  3  6  7  6]\n",
      " [20 23 20 26 21 19 18 24 20]\n",
      " [ 1  0  0  0  2  1  0  0  0]\n",
      " [ 0  0  2  1  0  0  1  2  1]]\n"
     ]
    }
   ],
   "source": [
    "# calculate confusion matrix, precision and recall\n",
    "\n",
    "from sklearn.metrics import confusion_matrix, accuracy_score\n",
    "\n",
    "C = confusion_matrix(y_test, worst_predicted)\n",
    "print(\"Worst model accuracy is: \", accuracy_score(y_test, worst_predicted))\n",
    "print(C)"
   ]
  },
  {
   "cell_type": "code",
   "execution_count": 34,
   "metadata": {},
   "outputs": [
    {
     "data": {
      "text/plain": [
       "Text(159,0.5,'Actual Classes')"
      ]
     },
     "execution_count": 34,
     "metadata": {},
     "output_type": "execute_result"
    },
    {
     "data": {
      "image/png": "[encoded data removed]",
      "text/plain": [
       "<matplotlib.figure.Figure at 0x1603416a358>"
      ]
     },
     "metadata": {},
     "output_type": "display_data"
    }
   ],
   "source": [
    "classes = [n for n in range(1,10)]\n",
    "plt.figure(figsize=(20,6))\n",
    "sns.heatmap(C, fmt=\"0.2f\", xticklabels=classes, yticklabels=classes, cmap='YlGnBu', annot=True)\n",
    "plt.xlabel(\"Predicted Classes\")\n",
    "plt.ylabel(\"Actual Classes\")"
   ]
  },
  {
   "cell_type": "code",
   "execution_count": 35,
   "metadata": {},
   "outputs": [],
   "source": [
    "# precision metics\n",
    "# out of all prediction for a perticular class , what portion is correct\n",
    "P = C/C.sum(axis = 0)"
   ]
  },
  {
   "cell_type": "code",
   "execution_count": 36,
   "metadata": {},
   "outputs": [
    {
     "data": {
      "text/plain": [
       "Text(159,0.5,'Actual Classes')"
      ]
     },
     "execution_count": 36,
     "metadata": {},
     "output_type": "execute_result"
    },
    {
     "data": {
      "image/png": "[encoded data removed]",
      "text/plain": [
       "<matplotlib.figure.Figure at 0x1603426c780>"
      ]
     },
     "metadata": {},
     "output_type": "display_data"
    }
   ],
   "source": [
    "\n",
    "plt.figure(figsize=(20,6))\n",
    "sns.heatmap(P, fmt=\"0.2f\", xticklabels=classes, yticklabels=classes, cmap='YlGnBu', annot=True)\n",
    "plt.xlabel(\"Predicted Classes\")\n",
    "plt.ylabel(\"Actual Classes\")"
   ]
  },
  {
   "cell_type": "code",
   "execution_count": 37,
   "metadata": {},
   "outputs": [],
   "source": [
    "# Recall\n",
    "# Out of all those belogs to one class, what portion is predicted correctly\n",
    "R = (C.T / C.sum(axis=1)).T"
   ]
  },
  {
   "cell_type": "code",
   "execution_count": 38,
   "metadata": {},
   "outputs": [
    {
     "data": {
      "text/plain": [
       "Text(159,0.5,'Actual Classes')"
      ]
     },
     "execution_count": 38,
     "metadata": {},
     "output_type": "execute_result"
    },
    {
     "data": {
      "image/png": "[encoded data removed]",
      "text/plain": [
       "<matplotlib.figure.Figure at 0x1604a4dc780>"
      ]
     },
     "metadata": {},
     "output_type": "display_data"
    }
   ],
   "source": [
    "\n",
    "plt.figure(figsize=(20,6))\n",
    "sns.heatmap(R, fmt=\"0.2f\", xticklabels=classes, yticklabels=classes, cmap='YlGnBu', annot=True)\n",
    "plt.xlabel(\"Predicted Classes\")\n",
    "plt.ylabel(\"Actual Classes\")"
   ]
  },
  {
   "cell_type": "markdown",
   "metadata": {},
   "source": [
    "## Evaluate Gene column"
   ]
  },
  {
   "cell_type": "code",
   "execution_count": 39,
   "metadata": {},
   "outputs": [
    {
     "name": "stdout",
     "output_type": "stream",
     "text": [
      "count :  234\n"
     ]
    },
    {
     "data": {
      "text/plain": [
       "BRCA1     173\n",
       "TP53      105\n",
       "EGFR       82\n",
       "BRCA2      81\n",
       "PTEN       75\n",
       "KIT        69\n",
       "BRAF       61\n",
       "ALK        52\n",
       "ERBB2      49\n",
       "PIK3CA     40\n",
       "Name: Gene, dtype: int64"
      ]
     },
     "execution_count": 39,
     "metadata": {},
     "output_type": "execute_result"
    }
   ],
   "source": [
    "unique_genes = X_train['Gene'].value_counts()\n",
    "print(\"count : \", unique_genes.shape[0])\n",
    "unique_genes.head(10)"
   ]
  },
  {
   "cell_type": "code",
   "execution_count": 40,
   "metadata": {},
   "outputs": [
    {
     "data": {
      "text/plain": [
       "<matplotlib.legend.Legend at 0x1604a66aeb8>"
      ]
     },
     "execution_count": 40,
     "metadata": {},
     "output_type": "execute_result"
    },
    {
     "data": {
      "image/png": "[encoded data removed]",
      "text/plain": [
       "<matplotlib.figure.Figure at 0x1604a5ab588>"
      ]
     },
     "metadata": {},
     "output_type": "display_data"
    }
   ],
   "source": [
    "# plot a cumulative graph on gene column to see distribution\n",
    "# first normalize the counts\n",
    "s = sum(unique_genes.values)\n",
    "h = unique_genes.values / s\n",
    "c_sum = np.cumsum(h)\n",
    "plt.plot(c_sum, label = \"Gene Cumulative Sum Distribution\")\n",
    "plt.grid()\n",
    "plt.legend()"
   ]
  },
  {
   "cell_type": "markdown",
   "metadata": {},
   "source": [
    "#### We can see from above graph that more than 75% of data are for top 50 genes\n",
    "## Lets deal with this categorical data now\n",
    "\n",
    "### There are two methods -\n",
    "#### One hot Encoding - \n",
    "#### Responce Encoding (Mean Imputation)"
   ]
  },
  {
   "cell_type": "markdown",
   "metadata": {},
   "source": [
    "There is much more problem with one hot encoding here as unique categories are 236 in this case. Lets see both -"
   ]
  },
  {
   "cell_type": "code",
   "execution_count": 41,
   "metadata": {},
   "outputs": [],
   "source": [
    "from sklearn.feature_extraction.text import CountVectorizer\n",
    "gene_vectorizer = CountVectorizer()"
   ]
  },
  {
   "cell_type": "code",
   "execution_count": 42,
   "metadata": {},
   "outputs": [
    {
     "data": {
      "text/plain": [
       "(532, 234)"
      ]
     },
     "execution_count": 42,
     "metadata": {},
     "output_type": "execute_result"
    }
   ],
   "source": [
    "train_gene_feature_onehotencoding = gene_vectorizer.fit_transform(X_train['Gene'])\n",
    "cv_gene_feature_onehotencoding = gene_vectorizer.transform(X_cv['Gene'])\n",
    "test_gene_feature_onehotencoding = gene_vectorizer.transform(X_test['Gene'])\n",
    "\n",
    "cv_gene_feature_onehotencoding.shape"
   ]
  },
  {
   "cell_type": "code",
   "execution_count": 43,
   "metadata": {},
   "outputs": [
    {
     "data": {
      "text/plain": [
       "['abl1',\n",
       " 'acvr1',\n",
       " 'ago2',\n",
       " 'akt1',\n",
       " 'akt2',\n",
       " 'akt3',\n",
       " 'alk',\n",
       " 'apc',\n",
       " 'ar',\n",
       " 'araf',\n",
       " 'arid1a',\n",
       " 'arid1b',\n",
       " 'arid5b',\n",
       " 'asxl1',\n",
       " 'atm',\n",
       " 'atr',\n",
       " 'atrx',\n",
       " 'aurka',\n",
       " 'aurkb',\n",
       " 'axin1',\n",
       " 'b2m',\n",
       " 'bap1',\n",
       " 'bard1',\n",
       " 'bcl10',\n",
       " 'bcl2',\n",
       " 'bcor',\n",
       " 'braf',\n",
       " 'brca1',\n",
       " 'brca2',\n",
       " 'brip1',\n",
       " 'btk',\n",
       " 'card11',\n",
       " 'carm1',\n",
       " 'casp8',\n",
       " 'cbl',\n",
       " 'ccnd1',\n",
       " 'ccnd2',\n",
       " 'ccnd3',\n",
       " 'ccne1',\n",
       " 'cdh1',\n",
       " 'cdk12',\n",
       " 'cdk4',\n",
       " 'cdk6',\n",
       " 'cdkn1a',\n",
       " 'cdkn1b',\n",
       " 'cdkn2a',\n",
       " 'cdkn2b',\n",
       " 'cdkn2c',\n",
       " 'chek2',\n",
       " 'cic',\n",
       " 'crebbp',\n",
       " 'ctcf',\n",
       " 'ctnnb1',\n",
       " 'ddr2',\n",
       " 'dicer1',\n",
       " 'dnmt3a',\n",
       " 'dnmt3b',\n",
       " 'dusp4',\n",
       " 'egfr',\n",
       " 'elf3',\n",
       " 'ep300',\n",
       " 'epas1',\n",
       " 'epcam',\n",
       " 'erbb2',\n",
       " 'erbb3',\n",
       " 'erbb4',\n",
       " 'ercc2',\n",
       " 'ercc3',\n",
       " 'ercc4',\n",
       " 'erg',\n",
       " 'errfi1',\n",
       " 'esr1',\n",
       " 'etv1',\n",
       " 'etv6',\n",
       " 'ewsr1',\n",
       " 'ezh2',\n",
       " 'fam58a',\n",
       " 'fanca',\n",
       " 'fancc',\n",
       " 'fat1',\n",
       " 'fbxw7',\n",
       " 'fgf19',\n",
       " 'fgf4',\n",
       " 'fgfr1',\n",
       " 'fgfr2',\n",
       " 'fgfr3',\n",
       " 'fgfr4',\n",
       " 'flt3',\n",
       " 'foxa1',\n",
       " 'foxl2',\n",
       " 'foxo1',\n",
       " 'foxp1',\n",
       " 'gata3',\n",
       " 'gli1',\n",
       " 'gna11',\n",
       " 'gnaq',\n",
       " 'gnas',\n",
       " 'h3f3a',\n",
       " 'hla',\n",
       " 'hnf1a',\n",
       " 'hras',\n",
       " 'idh1',\n",
       " 'idh2',\n",
       " 'igf1r',\n",
       " 'ikbke',\n",
       " 'il7r',\n",
       " 'inpp4b',\n",
       " 'jak1',\n",
       " 'jak2',\n",
       " 'jun',\n",
       " 'kdm5c',\n",
       " 'kdm6a',\n",
       " 'kdr',\n",
       " 'keap1',\n",
       " 'kit',\n",
       " 'kmt2c',\n",
       " 'kmt2d',\n",
       " 'knstrn',\n",
       " 'kras',\n",
       " 'lats1',\n",
       " 'lats2',\n",
       " 'map2k1',\n",
       " 'map2k2',\n",
       " 'map2k4',\n",
       " 'map3k1',\n",
       " 'mapk1',\n",
       " 'med12',\n",
       " 'mef2b',\n",
       " 'men1',\n",
       " 'met',\n",
       " 'mga',\n",
       " 'mlh1',\n",
       " 'mpl',\n",
       " 'msh2',\n",
       " 'msh6',\n",
       " 'mtor',\n",
       " 'myc',\n",
       " 'mycn',\n",
       " 'myd88',\n",
       " 'myod1',\n",
       " 'ncor1',\n",
       " 'nf1',\n",
       " 'nf2',\n",
       " 'nfe2l2',\n",
       " 'nfkbia',\n",
       " 'nkx2',\n",
       " 'notch1',\n",
       " 'notch2',\n",
       " 'npm1',\n",
       " 'nras',\n",
       " 'ntrk1',\n",
       " 'ntrk2',\n",
       " 'ntrk3',\n",
       " 'nup93',\n",
       " 'pax8',\n",
       " 'pbrm1',\n",
       " 'pdgfra',\n",
       " 'pdgfrb',\n",
       " 'pik3ca',\n",
       " 'pik3cb',\n",
       " 'pik3cd',\n",
       " 'pik3r1',\n",
       " 'pik3r2',\n",
       " 'pik3r3',\n",
       " 'pim1',\n",
       " 'pms2',\n",
       " 'pole',\n",
       " 'ppm1d',\n",
       " 'ppp2r1a',\n",
       " 'ppp6c',\n",
       " 'ptch1',\n",
       " 'pten',\n",
       " 'ptpn11',\n",
       " 'ptprd',\n",
       " 'ptprt',\n",
       " 'rab35',\n",
       " 'rac1',\n",
       " 'rad21',\n",
       " 'rad50',\n",
       " 'rad51b',\n",
       " 'rad51c',\n",
       " 'rad51d',\n",
       " 'rad54l',\n",
       " 'raf1',\n",
       " 'rara',\n",
       " 'rasa1',\n",
       " 'rb1',\n",
       " 'rbm10',\n",
       " 'ret',\n",
       " 'rheb',\n",
       " 'rhoa',\n",
       " 'rictor',\n",
       " 'rit1',\n",
       " 'rnf43',\n",
       " 'ros1',\n",
       " 'rras2',\n",
       " 'runx1',\n",
       " 'rxra',\n",
       " 'rybp',\n",
       " 'setd2',\n",
       " 'sf3b1',\n",
       " 'shoc2',\n",
       " 'smad2',\n",
       " 'smad3',\n",
       " 'smad4',\n",
       " 'smarca4',\n",
       " 'smarcb1',\n",
       " 'smo',\n",
       " 'sos1',\n",
       " 'sox9',\n",
       " 'spop',\n",
       " 'src',\n",
       " 'srsf2',\n",
       " 'stag2',\n",
       " 'stat3',\n",
       " 'stk11',\n",
       " 'tcf7l2',\n",
       " 'tert',\n",
       " 'tet1',\n",
       " 'tet2',\n",
       " 'tgfbr1',\n",
       " 'tgfbr2',\n",
       " 'tmprss2',\n",
       " 'tp53',\n",
       " 'tp53bp1',\n",
       " 'tsc1',\n",
       " 'tsc2',\n",
       " 'u2af1',\n",
       " 'vhl',\n",
       " 'whsc1',\n",
       " 'whsc1l1',\n",
       " 'xpo1',\n",
       " 'xrcc2',\n",
       " 'yap1']"
      ]
     },
     "execution_count": 43,
     "metadata": {},
     "output_type": "execute_result"
    }
   ],
   "source": [
    "gene_vectorizer.get_feature_names()"
   ]
  },
  {
   "cell_type": "markdown",
   "metadata": {},
   "source": [
    "One hot encoding will create too many columns and increase dimentionality of dataset. Models like Random forest will not perform better with high dimentional data. However dimentionality is fine for Linear/Logistic Regression and SVM like models.\n",
    "\n",
    "## Responce Encoding with Laplas smooting"
   ]
  },
  {
   "cell_type": "code",
   "execution_count": 44,
   "metadata": {},
   "outputs": [],
   "source": [
    "# code for response coding with Laplace smoothing.\n",
    "# alpha : used for laplace smoothing\n",
    "# feature: ['gene', 'variation']\n",
    "# df: ['train_df', 'test_df', 'cv_df']\n",
    "# algorithm\n",
    "# ----------\n",
    "# Consider all unique values and the number of occurances of given feature in train data dataframe\n",
    "# build a vector (1*9) , the first element = (number of times it occured in class1 + 10*alpha / number of time it occurred in total data+90*alpha)\n",
    "# gv_dict is like a look up table, for every gene it store a (1*9) representation of it\n",
    "# for a value of feature in df:\n",
    "# if it is in train data:\n",
    "# we add the vector that was stored in 'gv_dict' look up table to 'gv_fea'\n",
    "# if it is not there is train:\n",
    "# we add [1/9, 1/9, 1/9, 1/9,1/9, 1/9, 1/9, 1/9, 1/9] to 'gv_fea'\n",
    "# return 'gv_fea'\n",
    "# ----------------------\n",
    "\n",
    "# get_gv_fea_dict: Get Gene varaition Feature Dict\n",
    "def get_gv_fea_dict(alpha, feature, df):\n",
    "    # value_count: it contains a dict like\n",
    "    # print(train_df['Gene'].value_counts())\n",
    "    # output:\n",
    "    #        {BRCA1      174\n",
    "    #         TP53       106\n",
    "    #         EGFR        86\n",
    "    #         BRCA2       75\n",
    "    #         PTEN        69\n",
    "    #         KIT         61\n",
    "    #         BRAF        60\n",
    "    #         ERBB2       47\n",
    "    #         PDGFRA      46\n",
    "    #         ...}\n",
    "    # print(train_df['Variation'].value_counts())\n",
    "    # output:\n",
    "    # {\n",
    "    # Truncating_Mutations                     63\n",
    "    # Deletion                                 43\n",
    "    # Amplification                            43\n",
    "    # Fusions                                  22\n",
    "    # Overexpression                            3\n",
    "    # E17K                                      3\n",
    "    # Q61L                                      3\n",
    "    # S222D                                     2\n",
    "    # P130S                                     2\n",
    "    # ...\n",
    "    # }\n",
    "    value_count = df[feature].value_counts()\n",
    "    \n",
    "    # gv_dict : Gene Variation Dict, which contains the probability array for each gene/variation\n",
    "    gv_dict = dict()\n",
    "    \n",
    "    # denominator will contain the number of time that particular feature occured in whole data\n",
    "    for i, denominator in value_count.items():\n",
    "        # vec will contain (p(yi==1/Gi) probability of gene/variation belongs to perticular class\n",
    "        # vec is 9 diamensional vector\n",
    "        vec = []\n",
    "        for k in range(1,10):\n",
    "            # print(train_df.loc[(train_df['Class']==1) & (train_df['Gene']=='BRCA1')])\n",
    "            #         ID   Gene             Variation  Class  \n",
    "            # 2470  2470  BRCA1                S1715C      1   \n",
    "            # 2486  2486  BRCA1                S1841R      1   \n",
    "            # 2614  2614  BRCA1                   M1R      1   \n",
    "            # 2432  2432  BRCA1                L1657P      1   \n",
    "            # 2567  2567  BRCA1                T1685A      1   \n",
    "            # 2583  2583  BRCA1                E1660G      1   \n",
    "            # 2634  2634  BRCA1                W1718L      1   \n",
    "            # cls_cnt.shape[0] will return the number of rows\n",
    "\n",
    "            cls_cnt = df.loc[(df['Class']==k) & (df[feature]==i)]\n",
    "            \n",
    "            # cls_cnt.shape[0](numerator) will contain the number of time that particular feature occured in whole data\n",
    "            vec.append((cls_cnt.shape[0] + alpha*10)/ (denominator + 90*alpha))\n",
    "\n",
    "        # we are adding the gene/variation to the dict as key and vec as value\n",
    "        gv_dict[i]=vec\n",
    "    return gv_dict\n",
    "\n",
    "# Get Gene variation feature\n",
    "def get_gv_feature(alpha, feature, df):\n",
    "    # print(gv_dict)\n",
    "    #     {'BRCA1': [0.20075757575757575, 0.03787878787878788, 0.068181818181818177, 0.13636363636363635, 0.25, 0.19318181818181818, 0.03787878787878788, 0.03787878787878788, 0.03787878787878788], \n",
    "    #      'TP53': [0.32142857142857145, 0.061224489795918366, 0.061224489795918366, 0.27040816326530615, 0.061224489795918366, 0.066326530612244902, 0.051020408163265307, 0.051020408163265307, 0.056122448979591837], \n",
    "    #      'EGFR': [0.056818181818181816, 0.21590909090909091, 0.0625, 0.068181818181818177, 0.068181818181818177, 0.0625, 0.34659090909090912, 0.0625, 0.056818181818181816], \n",
    "    #      'BRCA2': [0.13333333333333333, 0.060606060606060608, 0.060606060606060608, 0.078787878787878782, 0.1393939393939394, 0.34545454545454546, 0.060606060606060608, 0.060606060606060608, 0.060606060606060608], \n",
    "    #      'PTEN': [0.069182389937106917, 0.062893081761006289, 0.069182389937106917, 0.46540880503144655, 0.075471698113207544, 0.062893081761006289, 0.069182389937106917, 0.062893081761006289, 0.062893081761006289], \n",
    "    #      'KIT': [0.066225165562913912, 0.25165562913907286, 0.072847682119205295, 0.072847682119205295, 0.066225165562913912, 0.066225165562913912, 0.27152317880794702, 0.066225165562913912, 0.066225165562913912], \n",
    "    #      'BRAF': [0.066666666666666666, 0.17999999999999999, 0.073333333333333334, 0.073333333333333334, 0.093333333333333338, 0.080000000000000002, 0.29999999999999999, 0.066666666666666666, 0.066666666666666666],\n",
    "    #      ...\n",
    "    #     }\n",
    "    gv_dict = get_gv_fea_dict(alpha, feature, df)\n",
    "    # value_count is similar in get_gv_fea_dict\n",
    "    value_count = df[feature].value_counts()\n",
    "    \n",
    "    # gv_fea: Gene_variation feature, it will contain the feature for each feature value in the data\n",
    "    gv_fea = []\n",
    "    # for every feature values in the given data frame we will check if it is there in the train data then we will add the feature to gv_fea\n",
    "    # if not we will add [1/9,1/9,1/9,1/9,1/9,1/9,1/9,1/9,1/9] to gv_fea\n",
    "    for index, row in df.iterrows():\n",
    "        if row[feature] in dict(value_count).keys():\n",
    "            gv_fea.append(gv_dict[row[feature]])\n",
    "        else:\n",
    "            gv_fea.append([1/9,1/9,1/9,1/9,1/9,1/9,1/9,1/9,1/9])\n",
    "#             gv_fea.append([-1,-1,-1,-1,-1,-1,-1,-1,-1])\n",
    "    return gv_fea"
   ]
  },
  {
   "cell_type": "code",
   "execution_count": 45,
   "metadata": {},
   "outputs": [
    {
     "data": {
      "text/html": [
       "<div>\n",
       "<style scoped>\n",
       "    .dataframe tbody tr th:only-of-type {\n",
       "        vertical-align: middle;\n",
       "    }\n",
       "\n",
       "    .dataframe tbody tr th {\n",
       "        vertical-align: top;\n",
       "    }\n",
       "\n",
       "    .dataframe thead th {\n",
       "        text-align: right;\n",
       "    }\n",
       "</style>\n",
       "<table border=\"1\" class=\"dataframe\">\n",
       "  <thead>\n",
       "    <tr style=\"text-align: right;\">\n",
       "      <th></th>\n",
       "      <th>ID</th>\n",
       "      <th>Gene</th>\n",
       "      <th>Variation</th>\n",
       "      <th>Class</th>\n",
       "      <th>TEXT</th>\n",
       "    </tr>\n",
       "  </thead>\n",
       "  <tbody>\n",
       "    <tr>\n",
       "      <th>817</th>\n",
       "      <td>817</td>\n",
       "      <td>ERCC2</td>\n",
       "      <td>Y24C</td>\n",
       "      <td>1</td>\n",
       "      <td>introduction platinum based chemotherapy stand...</td>\n",
       "    </tr>\n",
       "    <tr>\n",
       "      <th>1908</th>\n",
       "      <td>1908</td>\n",
       "      <td>SMARCA4</td>\n",
       "      <td>Truncating_Mutations</td>\n",
       "      <td>1</td>\n",
       "      <td>small cell carcinoma ovary hypercalcemic type ...</td>\n",
       "    </tr>\n",
       "    <tr>\n",
       "      <th>1076</th>\n",
       "      <td>1076</td>\n",
       "      <td>FOXA1</td>\n",
       "      <td>F400I</td>\n",
       "      <td>1</td>\n",
       "      <td>characterization prostate cancer transcriptome...</td>\n",
       "    </tr>\n",
       "    <tr>\n",
       "      <th>2650</th>\n",
       "      <td>2650</td>\n",
       "      <td>BRCA1</td>\n",
       "      <td>Q1756C</td>\n",
       "      <td>1</td>\n",
       "      <td>abstract mutations brca1 account 45 families h...</td>\n",
       "    </tr>\n",
       "    <tr>\n",
       "      <th>3127</th>\n",
       "      <td>3127</td>\n",
       "      <td>KRAS</td>\n",
       "      <td>N116H</td>\n",
       "      <td>6</td>\n",
       "      <td>abstract thought kras oncoproteins constitutiv...</td>\n",
       "    </tr>\n",
       "  </tbody>\n",
       "</table>\n",
       "</div>"
      ],
      "text/plain": [
       "        ID     Gene             Variation  Class  \\\n",
       "817    817    ERCC2                  Y24C      1   \n",
       "1908  1908  SMARCA4  Truncating_Mutations      1   \n",
       "1076  1076    FOXA1                 F400I      1   \n",
       "2650  2650    BRCA1                Q1756C      1   \n",
       "3127  3127     KRAS                 N116H      6   \n",
       "\n",
       "                                                   TEXT  \n",
       "817   introduction platinum based chemotherapy stand...  \n",
       "1908  small cell carcinoma ovary hypercalcemic type ...  \n",
       "1076  characterization prostate cancer transcriptome...  \n",
       "2650  abstract mutations brca1 account 45 families h...  \n",
       "3127  abstract thought kras oncoproteins constitutiv...  "
      ]
     },
     "execution_count": 45,
     "metadata": {},
     "output_type": "execute_result"
    }
   ],
   "source": [
    "X_train.head()"
   ]
  },
  {
   "cell_type": "code",
   "execution_count": 46,
   "metadata": {},
   "outputs": [
    {
     "data": {
      "text/plain": [
       "(2124, 9)"
      ]
     },
     "execution_count": 46,
     "metadata": {},
     "output_type": "execute_result"
    }
   ],
   "source": [
    "# Response encoding of gene column\n",
    "# Alpha is used for laplas smoothing\n",
    "alpha = 1\n",
    "\n",
    "train_gene_feature_responseEncoding = np.array(get_gv_feature(alpha, 'Gene', X_train))\n",
    "cv_gene_feature_responseEncoding = np.array(get_gv_feature(alpha, 'Gene', X_cv))\n",
    "test_gene_feature_responseEncoding = np.array(get_gv_feature(alpha, 'Gene', X_test))\n",
    "\n",
    "train_gene_feature_responseEncoding.shape"
   ]
  },
  {
   "cell_type": "markdown",
   "metadata": {},
   "source": [
    "### How good this gene feature is to predict the classes\n",
    "Lets fit it to a model logistic regression and check if it produce accuracy better than my worst model"
   ]
  },
  {
   "cell_type": "code",
   "execution_count": 47,
   "metadata": {},
   "outputs": [],
   "source": [
    "alpha = [10**x for x in range(-5,1)]  # testing pperfomance for different alpha value - hyper paratemer"
   ]
  },
  {
   "cell_type": "code",
   "execution_count": 48,
   "metadata": {},
   "outputs": [
    {
     "name": "stderr",
     "output_type": "stream",
     "text": [
      "C:\\ProgramData\\Anaconda3\\lib\\site-packages\\sklearn\\linear_model\\stochastic_gradient.py:128: FutureWarning: max_iter and tol parameters have been added in <class 'sklearn.linear_model.stochastic_gradient.SGDClassifier'> in 0.19. If both are left unset, they default to max_iter=5 and tol=None. If tol is not None, max_iter defaults to max_iter=1000. From 0.21, default max_iter will be 1000, and default tol will be 1e-3.\n",
      "  \"and default tol will be 1e-3.\" % type(self), FutureWarning)\n",
      "C:\\ProgramData\\Anaconda3\\lib\\site-packages\\sklearn\\linear_model\\stochastic_gradient.py:128: FutureWarning: max_iter and tol parameters have been added in <class 'sklearn.linear_model.stochastic_gradient.SGDClassifier'> in 0.19. If both are left unset, they default to max_iter=5 and tol=None. If tol is not None, max_iter defaults to max_iter=1000. From 0.21, default max_iter will be 1000, and default tol will be 1e-3.\n",
      "  \"and default tol will be 1e-3.\" % type(self), FutureWarning)\n",
      "C:\\ProgramData\\Anaconda3\\lib\\site-packages\\sklearn\\linear_model\\stochastic_gradient.py:128: FutureWarning: max_iter and tol parameters have been added in <class 'sklearn.linear_model.stochastic_gradient.SGDClassifier'> in 0.19. If both are left unset, they default to max_iter=5 and tol=None. If tol is not None, max_iter defaults to max_iter=1000. From 0.21, default max_iter will be 1000, and default tol will be 1e-3.\n",
      "  \"and default tol will be 1e-3.\" % type(self), FutureWarning)\n",
      "C:\\ProgramData\\Anaconda3\\lib\\site-packages\\sklearn\\linear_model\\stochastic_gradient.py:128: FutureWarning: max_iter and tol parameters have been added in <class 'sklearn.linear_model.stochastic_gradient.SGDClassifier'> in 0.19. If both are left unset, they default to max_iter=5 and tol=None. If tol is not None, max_iter defaults to max_iter=1000. From 0.21, default max_iter will be 1000, and default tol will be 1e-3.\n",
      "  \"and default tol will be 1e-3.\" % type(self), FutureWarning)\n",
      "C:\\ProgramData\\Anaconda3\\lib\\site-packages\\sklearn\\linear_model\\stochastic_gradient.py:128: FutureWarning: max_iter and tol parameters have been added in <class 'sklearn.linear_model.stochastic_gradient.SGDClassifier'> in 0.19. If both are left unset, they default to max_iter=5 and tol=None. If tol is not None, max_iter defaults to max_iter=1000. From 0.21, default max_iter will be 1000, and default tol will be 1e-3.\n",
      "  \"and default tol will be 1e-3.\" % type(self), FutureWarning)\n"
     ]
    },
    {
     "name": "stdout",
     "output_type": "stream",
     "text": [
      " for value of alpha 1e-05 log loss is 1.4332807913827064\n"
     ]
    },
    {
     "name": "stderr",
     "output_type": "stream",
     "text": [
      "C:\\ProgramData\\Anaconda3\\lib\\site-packages\\sklearn\\linear_model\\stochastic_gradient.py:128: FutureWarning: max_iter and tol parameters have been added in <class 'sklearn.linear_model.stochastic_gradient.SGDClassifier'> in 0.19. If both are left unset, they default to max_iter=5 and tol=None. If tol is not None, max_iter defaults to max_iter=1000. From 0.21, default max_iter will be 1000, and default tol will be 1e-3.\n",
      "  \"and default tol will be 1e-3.\" % type(self), FutureWarning)\n",
      "C:\\ProgramData\\Anaconda3\\lib\\site-packages\\sklearn\\linear_model\\stochastic_gradient.py:128: FutureWarning: max_iter and tol parameters have been added in <class 'sklearn.linear_model.stochastic_gradient.SGDClassifier'> in 0.19. If both are left unset, they default to max_iter=5 and tol=None. If tol is not None, max_iter defaults to max_iter=1000. From 0.21, default max_iter will be 1000, and default tol will be 1e-3.\n",
      "  \"and default tol will be 1e-3.\" % type(self), FutureWarning)\n",
      "C:\\ProgramData\\Anaconda3\\lib\\site-packages\\sklearn\\linear_model\\stochastic_gradient.py:128: FutureWarning: max_iter and tol parameters have been added in <class 'sklearn.linear_model.stochastic_gradient.SGDClassifier'> in 0.19. If both are left unset, they default to max_iter=5 and tol=None. If tol is not None, max_iter defaults to max_iter=1000. From 0.21, default max_iter will be 1000, and default tol will be 1e-3.\n",
      "  \"and default tol will be 1e-3.\" % type(self), FutureWarning)\n"
     ]
    },
    {
     "name": "stdout",
     "output_type": "stream",
     "text": [
      " for value of alpha 0.0001 log loss is 1.2769866829875636\n"
     ]
    },
    {
     "name": "stderr",
     "output_type": "stream",
     "text": [
      "C:\\ProgramData\\Anaconda3\\lib\\site-packages\\sklearn\\linear_model\\stochastic_gradient.py:128: FutureWarning: max_iter and tol parameters have been added in <class 'sklearn.linear_model.stochastic_gradient.SGDClassifier'> in 0.19. If both are left unset, they default to max_iter=5 and tol=None. If tol is not None, max_iter defaults to max_iter=1000. From 0.21, default max_iter will be 1000, and default tol will be 1e-3.\n",
      "  \"and default tol will be 1e-3.\" % type(self), FutureWarning)\n",
      "C:\\ProgramData\\Anaconda3\\lib\\site-packages\\sklearn\\linear_model\\stochastic_gradient.py:128: FutureWarning: max_iter and tol parameters have been added in <class 'sklearn.linear_model.stochastic_gradient.SGDClassifier'> in 0.19. If both are left unset, they default to max_iter=5 and tol=None. If tol is not None, max_iter defaults to max_iter=1000. From 0.21, default max_iter will be 1000, and default tol will be 1e-3.\n",
      "  \"and default tol will be 1e-3.\" % type(self), FutureWarning)\n",
      "C:\\ProgramData\\Anaconda3\\lib\\site-packages\\sklearn\\linear_model\\stochastic_gradient.py:128: FutureWarning: max_iter and tol parameters have been added in <class 'sklearn.linear_model.stochastic_gradient.SGDClassifier'> in 0.19. If both are left unset, they default to max_iter=5 and tol=None. If tol is not None, max_iter defaults to max_iter=1000. From 0.21, default max_iter will be 1000, and default tol will be 1e-3.\n",
      "  \"and default tol will be 1e-3.\" % type(self), FutureWarning)\n",
      "C:\\ProgramData\\Anaconda3\\lib\\site-packages\\sklearn\\linear_model\\stochastic_gradient.py:128: FutureWarning: max_iter and tol parameters have been added in <class 'sklearn.linear_model.stochastic_gradient.SGDClassifier'> in 0.19. If both are left unset, they default to max_iter=5 and tol=None. If tol is not None, max_iter defaults to max_iter=1000. From 0.21, default max_iter will be 1000, and default tol will be 1e-3.\n",
      "  \"and default tol will be 1e-3.\" % type(self), FutureWarning)\n"
     ]
    },
    {
     "name": "stdout",
     "output_type": "stream",
     "text": [
      " for value of alpha 0.001 log loss is 1.3162842753810509\n"
     ]
    },
    {
     "name": "stderr",
     "output_type": "stream",
     "text": [
      "C:\\ProgramData\\Anaconda3\\lib\\site-packages\\sklearn\\linear_model\\stochastic_gradient.py:128: FutureWarning: max_iter and tol parameters have been added in <class 'sklearn.linear_model.stochastic_gradient.SGDClassifier'> in 0.19. If both are left unset, they default to max_iter=5 and tol=None. If tol is not None, max_iter defaults to max_iter=1000. From 0.21, default max_iter will be 1000, and default tol will be 1e-3.\n",
      "  \"and default tol will be 1e-3.\" % type(self), FutureWarning)\n",
      "C:\\ProgramData\\Anaconda3\\lib\\site-packages\\sklearn\\linear_model\\stochastic_gradient.py:128: FutureWarning: max_iter and tol parameters have been added in <class 'sklearn.linear_model.stochastic_gradient.SGDClassifier'> in 0.19. If both are left unset, they default to max_iter=5 and tol=None. If tol is not None, max_iter defaults to max_iter=1000. From 0.21, default max_iter will be 1000, and default tol will be 1e-3.\n",
      "  \"and default tol will be 1e-3.\" % type(self), FutureWarning)\n",
      "C:\\ProgramData\\Anaconda3\\lib\\site-packages\\sklearn\\linear_model\\stochastic_gradient.py:128: FutureWarning: max_iter and tol parameters have been added in <class 'sklearn.linear_model.stochastic_gradient.SGDClassifier'> in 0.19. If both are left unset, they default to max_iter=5 and tol=None. If tol is not None, max_iter defaults to max_iter=1000. From 0.21, default max_iter will be 1000, and default tol will be 1e-3.\n",
      "  \"and default tol will be 1e-3.\" % type(self), FutureWarning)\n"
     ]
    },
    {
     "name": "stdout",
     "output_type": "stream",
     "text": [
      " for value of alpha 0.01 log loss is 1.432847698287074\n"
     ]
    },
    {
     "name": "stderr",
     "output_type": "stream",
     "text": [
      "C:\\ProgramData\\Anaconda3\\lib\\site-packages\\sklearn\\linear_model\\stochastic_gradient.py:128: FutureWarning: max_iter and tol parameters have been added in <class 'sklearn.linear_model.stochastic_gradient.SGDClassifier'> in 0.19. If both are left unset, they default to max_iter=5 and tol=None. If tol is not None, max_iter defaults to max_iter=1000. From 0.21, default max_iter will be 1000, and default tol will be 1e-3.\n",
      "  \"and default tol will be 1e-3.\" % type(self), FutureWarning)\n",
      "C:\\ProgramData\\Anaconda3\\lib\\site-packages\\sklearn\\linear_model\\stochastic_gradient.py:128: FutureWarning: max_iter and tol parameters have been added in <class 'sklearn.linear_model.stochastic_gradient.SGDClassifier'> in 0.19. If both are left unset, they default to max_iter=5 and tol=None. If tol is not None, max_iter defaults to max_iter=1000. From 0.21, default max_iter will be 1000, and default tol will be 1e-3.\n",
      "  \"and default tol will be 1e-3.\" % type(self), FutureWarning)\n",
      "C:\\ProgramData\\Anaconda3\\lib\\site-packages\\sklearn\\linear_model\\stochastic_gradient.py:128: FutureWarning: max_iter and tol parameters have been added in <class 'sklearn.linear_model.stochastic_gradient.SGDClassifier'> in 0.19. If both are left unset, they default to max_iter=5 and tol=None. If tol is not None, max_iter defaults to max_iter=1000. From 0.21, default max_iter will be 1000, and default tol will be 1e-3.\n",
      "  \"and default tol will be 1e-3.\" % type(self), FutureWarning)\n"
     ]
    },
    {
     "name": "stdout",
     "output_type": "stream",
     "text": [
      " for value of alpha 0.1 log loss is 1.5074996357828498\n",
      " for value of alpha 1 log loss is 1.5300226908551793\n"
     ]
    },
    {
     "name": "stderr",
     "output_type": "stream",
     "text": [
      "C:\\ProgramData\\Anaconda3\\lib\\site-packages\\sklearn\\linear_model\\stochastic_gradient.py:128: FutureWarning: max_iter and tol parameters have been added in <class 'sklearn.linear_model.stochastic_gradient.SGDClassifier'> in 0.19. If both are left unset, they default to max_iter=5 and tol=None. If tol is not None, max_iter defaults to max_iter=1000. From 0.21, default max_iter will be 1000, and default tol will be 1e-3.\n",
      "  \"and default tol will be 1e-3.\" % type(self), FutureWarning)\n"
     ]
    }
   ],
   "source": [
    "# Use a SGD classifier\n",
    "# and calibrated classifier to get the results in term of probabilities (sum of all = 1)\n",
    "from sklearn.linear_model import SGDClassifier\n",
    "from sklearn.calibration import CalibratedClassifierCV\n",
    "\n",
    "cv_log_error_array = []\n",
    "for i in alpha:\n",
    "    \n",
    "    clf = SGDClassifier(alpha=i, penalty='l2', loss='log', random_state=42)\n",
    "    clf.fit(train_gene_feature_onehotencoding, y_train)\n",
    "    \n",
    "    sigmoid_clf = CalibratedClassifierCV(clf, method = 'sigmoid')\n",
    "    sigmoid_clf.fit(train_gene_feature_onehotencoding, y_train)\n",
    "    predict_sig_y = sigmoid_clf.predict_proba(cv_gene_feature_onehotencoding)\n",
    "    cv_log_error_array.append(log_loss(y_cv, predict_sig_y, labels = clf.classes_, eps=1e-15))\n",
    "    print(\" for value of alpha {} log loss is {}\".format(i, log_loss(y_cv, predict_sig_y, labels = clf.classes_, eps=1e-15)))\n",
    "    \n"
   ]
  },
  {
   "cell_type": "code",
   "execution_count": 49,
   "metadata": {},
   "outputs": [
    {
     "data": {
      "text/plain": [
       "(532, 234)"
      ]
     },
     "execution_count": 49,
     "metadata": {},
     "output_type": "execute_result"
    }
   ],
   "source": [
    "cv_gene_feature_onehotencoding.shape"
   ]
  },
  {
   "cell_type": "code",
   "execution_count": 50,
   "metadata": {},
   "outputs": [
    {
     "data": {
      "image/png": "[encoded data removed]",
      "text/plain": [
       "<matplotlib.figure.Figure at 0x16022527518>"
      ]
     },
     "metadata": {},
     "output_type": "display_data"
    }
   ],
   "source": [
    "fig, ax = plt.subplots()\n",
    "ax.plot(alpha, cv_log_error_array, c='g')\n",
    "# for annotation\n",
    "for i, txt in enumerate(np.round(cv_log_error_array,3)):\n",
    "    ax.annotate((alpha[i],np.round(txt,3)), (alpha[i],cv_log_error_array[i]))\n",
    "    \n",
    "plt.grid()\n",
    "plt.title(\"Cross Validation Error for each alpha\")\n",
    "plt.xlabel(\"Alpha i's\")\n",
    "plt.ylabel(\"Error measure\")\n",
    "plt.show()\n"
   ]
  },
  {
   "cell_type": "code",
   "execution_count": 51,
   "metadata": {},
   "outputs": [
    {
     "name": "stderr",
     "output_type": "stream",
     "text": [
      "C:\\ProgramData\\Anaconda3\\lib\\site-packages\\sklearn\\linear_model\\stochastic_gradient.py:128: FutureWarning: max_iter and tol parameters have been added in <class 'sklearn.linear_model.stochastic_gradient.SGDClassifier'> in 0.19. If both are left unset, they default to max_iter=5 and tol=None. If tol is not None, max_iter defaults to max_iter=1000. From 0.21, default max_iter will be 1000, and default tol will be 1e-3.\n",
      "  \"and default tol will be 1e-3.\" % type(self), FutureWarning)\n",
      "C:\\ProgramData\\Anaconda3\\lib\\site-packages\\sklearn\\linear_model\\stochastic_gradient.py:128: FutureWarning: max_iter and tol parameters have been added in <class 'sklearn.linear_model.stochastic_gradient.SGDClassifier'> in 0.19. If both are left unset, they default to max_iter=5 and tol=None. If tol is not None, max_iter defaults to max_iter=1000. From 0.21, default max_iter will be 1000, and default tol will be 1e-3.\n",
      "  \"and default tol will be 1e-3.\" % type(self), FutureWarning)\n",
      "C:\\ProgramData\\Anaconda3\\lib\\site-packages\\sklearn\\linear_model\\stochastic_gradient.py:128: FutureWarning: max_iter and tol parameters have been added in <class 'sklearn.linear_model.stochastic_gradient.SGDClassifier'> in 0.19. If both are left unset, they default to max_iter=5 and tol=None. If tol is not None, max_iter defaults to max_iter=1000. From 0.21, default max_iter will be 1000, and default tol will be 1e-3.\n",
      "  \"and default tol will be 1e-3.\" % type(self), FutureWarning)\n",
      "C:\\ProgramData\\Anaconda3\\lib\\site-packages\\sklearn\\linear_model\\stochastic_gradient.py:128: FutureWarning: max_iter and tol parameters have been added in <class 'sklearn.linear_model.stochastic_gradient.SGDClassifier'> in 0.19. If both are left unset, they default to max_iter=5 and tol=None. If tol is not None, max_iter defaults to max_iter=1000. From 0.21, default max_iter will be 1000, and default tol will be 1e-3.\n",
      "  \"and default tol will be 1e-3.\" % type(self), FutureWarning)\n"
     ]
    },
    {
     "name": "stdout",
     "output_type": "stream",
     "text": [
      "For values of best alpha =  0.0001 The train log loss is: 1.0102547222586051\n",
      "For values of best alpha =  0.0001 The cross validation log loss is: 1.2769866829875636\n",
      "For values of best alpha =  0.0001 The test log loss is: 1.2230064414911128\n"
     ]
    }
   ],
   "source": [
    "# Lets use best alpha value as we can see from above graph and compute log loss\n",
    "best_alpha = np.argmin(cv_log_error_array)\n",
    "clf = SGDClassifier(alpha=alpha[best_alpha], penalty='l2', loss='log', random_state=42)\n",
    "clf.fit(train_gene_feature_onehotencoding, y_train)\n",
    "sigmoid_clf = CalibratedClassifierCV(clf, method=\"sigmoid\")\n",
    "sigmoid_clf.fit(train_gene_feature_onehotencoding, y_train)\n",
    "\n",
    "predict_sig_y = sigmoid_clf.predict_proba(train_gene_feature_onehotencoding)\n",
    "print('For values of best alpha = ', alpha[best_alpha], \"The train log loss is:\",log_loss(y_train, predict_sig_y, labels=clf.classes_, eps=1e-15))\n",
    "predict_sig_y = sigmoid_clf.predict_proba(cv_gene_feature_onehotencoding)\n",
    "print('For values of best alpha = ', alpha[best_alpha], \"The cross validation log loss is:\",log_loss(y_cv, predict_sig_y, labels=clf.classes_, eps=1e-15))\n",
    "predict_sig_y = sigmoid_clf.predict_proba(test_gene_feature_onehotencoding)\n",
    "print('For values of best alpha = ', alpha[best_alpha], \"The test log loss is:\",log_loss(y_test, predict_sig_y, labels=clf.classes_, eps=1e-15))\n"
   ]
  },
  {
   "cell_type": "markdown",
   "metadata": {},
   "source": [
    "Now lets check how many values are overlapping between train, test or between CV and train"
   ]
  },
  {
   "cell_type": "code",
   "execution_count": 52,
   "metadata": {},
   "outputs": [],
   "source": [
    "test_coverage = X_test[X_test['Gene'].isin(list(set(X_train['Gene'])))].shape[0]\n",
    "cv_coverage = X_cv[X_cv['Gene'].isin(list(set(X_train['Gene'])))].shape[0]"
   ]
  },
  {
   "cell_type": "code",
   "execution_count": 53,
   "metadata": {},
   "outputs": [
    {
     "name": "stdout",
     "output_type": "stream",
     "text": [
      "1. In test data 644 out of 665 : 96.84210526315789\n",
      "2. In cross validation data 513 out of  532 : 96.42857142857143\n"
     ]
    }
   ],
   "source": [
    "print('1. In test data',test_coverage, 'out of',X_test.shape[0], \":\",(test_coverage/X_test.shape[0])*100)\n",
    "print('2. In cross validation data',cv_coverage, 'out of ',X_cv.shape[0],\":\" ,(cv_coverage/X_cv.shape[0])*100)"
   ]
  },
  {
   "cell_type": "markdown",
   "metadata": {},
   "source": [
    "## Evaluating Variation column"
   ]
  },
  {
   "cell_type": "code",
   "execution_count": 54,
   "metadata": {},
   "outputs": [
    {
     "data": {
      "text/plain": [
       "Truncating_Mutations    56\n",
       "Amplification           45\n",
       "Deletion                38\n",
       "Fusions                 22\n",
       "Q61L                     3\n",
       "Name: Variation, dtype: int64"
      ]
     },
     "execution_count": 54,
     "metadata": {},
     "output_type": "execute_result"
    }
   ],
   "source": [
    "unique_variation = X_train['Variation'].value_counts()\n",
    "unique_variation.head()"
   ]
  },
  {
   "cell_type": "code",
   "execution_count": 55,
   "metadata": {},
   "outputs": [
    {
     "data": {
      "text/plain": [
       "[<matplotlib.lines.Line2D at 0x1604a7ae278>]"
      ]
     },
     "execution_count": 55,
     "metadata": {},
     "output_type": "execute_result"
    },
    {
     "data": {
      "image/png": "[encoded data removed]",
      "text/plain": [
       "<matplotlib.figure.Figure at 0x1604a6d3400>"
      ]
     },
     "metadata": {},
     "output_type": "display_data"
    }
   ],
   "source": [
    "## Cumulative Graph\n",
    "s = sum(unique_variation.values)\n",
    "h = unique_variation.values/s\n",
    "c = np.cumsum(h)\n",
    "\n",
    "plt.plot(c)"
   ]
  },
  {
   "cell_type": "markdown",
   "metadata": {},
   "source": [
    "#### one hot encoding for variation"
   ]
  },
  {
   "cell_type": "code",
   "execution_count": 56,
   "metadata": {},
   "outputs": [],
   "source": [
    "variation_vectorizer = CountVectorizer()\n",
    "train_variation_onehotencoding = variation_vectorizer.fit_transform(X_train['Variation'])\n",
    "cv_variation_onehotencoding = variation_vectorizer.transform(X_cv['Variation'])\n",
    "test_variation_onehotencoding = variation_vectorizer.transform(X_test['Variation'])"
   ]
  },
  {
   "cell_type": "code",
   "execution_count": 57,
   "metadata": {},
   "outputs": [
    {
     "data": {
      "text/plain": [
       "(2124, 1979)"
      ]
     },
     "execution_count": 57,
     "metadata": {},
     "output_type": "execute_result"
    }
   ],
   "source": [
    "train_variation_onehotencoding.shape"
   ]
  },
  {
   "cell_type": "markdown",
   "metadata": {},
   "source": [
    "### Responce encoding for variation column"
   ]
  },
  {
   "cell_type": "code",
   "execution_count": 58,
   "metadata": {},
   "outputs": [],
   "source": [
    "alpha = 1\n",
    "\n",
    "train_variation_responseencoding = np.array(get_gv_feature(alpha, 'Variation', X_train))\n",
    "test_variation_responseencoding = np.array(get_gv_feature(alpha, 'Variation', X_test))\n",
    "cv_variation_responseencoding = np.array(get_gv_feature(alpha, 'Variation', X_cv))"
   ]
  },
  {
   "cell_type": "code",
   "execution_count": 59,
   "metadata": {},
   "outputs": [
    {
     "data": {
      "text/plain": [
       "(2124, 9)"
      ]
     },
     "execution_count": 59,
     "metadata": {},
     "output_type": "execute_result"
    }
   ],
   "source": [
    "train_variation_responseencoding.shape"
   ]
  },
  {
   "cell_type": "markdown",
   "metadata": {},
   "source": [
    "### Lets build a model with variation column only and see if this feature is important"
   ]
  },
  {
   "cell_type": "code",
   "execution_count": 60,
   "metadata": {},
   "outputs": [],
   "source": [
    "# hyperparameter\n",
    "alpha = [10**x for x in range(-5,1)]"
   ]
  },
  {
   "cell_type": "code",
   "execution_count": 61,
   "metadata": {},
   "outputs": [
    {
     "name": "stderr",
     "output_type": "stream",
     "text": [
      "C:\\ProgramData\\Anaconda3\\lib\\site-packages\\sklearn\\linear_model\\stochastic_gradient.py:128: FutureWarning: max_iter and tol parameters have been added in <class 'sklearn.linear_model.stochastic_gradient.SGDClassifier'> in 0.19. If both are left unset, they default to max_iter=5 and tol=None. If tol is not None, max_iter defaults to max_iter=1000. From 0.21, default max_iter will be 1000, and default tol will be 1e-3.\n",
      "  \"and default tol will be 1e-3.\" % type(self), FutureWarning)\n",
      "C:\\ProgramData\\Anaconda3\\lib\\site-packages\\sklearn\\linear_model\\stochastic_gradient.py:128: FutureWarning: max_iter and tol parameters have been added in <class 'sklearn.linear_model.stochastic_gradient.SGDClassifier'> in 0.19. If both are left unset, they default to max_iter=5 and tol=None. If tol is not None, max_iter defaults to max_iter=1000. From 0.21, default max_iter will be 1000, and default tol will be 1e-3.\n",
      "  \"and default tol will be 1e-3.\" % type(self), FutureWarning)\n",
      "C:\\ProgramData\\Anaconda3\\lib\\site-packages\\sklearn\\linear_model\\stochastic_gradient.py:128: FutureWarning: max_iter and tol parameters have been added in <class 'sklearn.linear_model.stochastic_gradient.SGDClassifier'> in 0.19. If both are left unset, they default to max_iter=5 and tol=None. If tol is not None, max_iter defaults to max_iter=1000. From 0.21, default max_iter will be 1000, and default tol will be 1e-3.\n",
      "  \"and default tol will be 1e-3.\" % type(self), FutureWarning)\n",
      "C:\\ProgramData\\Anaconda3\\lib\\site-packages\\sklearn\\linear_model\\stochastic_gradient.py:128: FutureWarning: max_iter and tol parameters have been added in <class 'sklearn.linear_model.stochastic_gradient.SGDClassifier'> in 0.19. If both are left unset, they default to max_iter=5 and tol=None. If tol is not None, max_iter defaults to max_iter=1000. From 0.21, default max_iter will be 1000, and default tol will be 1e-3.\n",
      "  \"and default tol will be 1e-3.\" % type(self), FutureWarning)\n",
      "C:\\ProgramData\\Anaconda3\\lib\\site-packages\\sklearn\\linear_model\\stochastic_gradient.py:128: FutureWarning: max_iter and tol parameters have been added in <class 'sklearn.linear_model.stochastic_gradient.SGDClassifier'> in 0.19. If both are left unset, they default to max_iter=5 and tol=None. If tol is not None, max_iter defaults to max_iter=1000. From 0.21, default max_iter will be 1000, and default tol will be 1e-3.\n",
      "  \"and default tol will be 1e-3.\" % type(self), FutureWarning)\n"
     ]
    },
    {
     "name": "stdout",
     "output_type": "stream",
     "text": [
      "CV log loss for alpha:  1e-05 is :  1.7137937000680181\n"
     ]
    },
    {
     "name": "stderr",
     "output_type": "stream",
     "text": [
      "C:\\ProgramData\\Anaconda3\\lib\\site-packages\\sklearn\\linear_model\\stochastic_gradient.py:128: FutureWarning: max_iter and tol parameters have been added in <class 'sklearn.linear_model.stochastic_gradient.SGDClassifier'> in 0.19. If both are left unset, they default to max_iter=5 and tol=None. If tol is not None, max_iter defaults to max_iter=1000. From 0.21, default max_iter will be 1000, and default tol will be 1e-3.\n",
      "  \"and default tol will be 1e-3.\" % type(self), FutureWarning)\n",
      "C:\\ProgramData\\Anaconda3\\lib\\site-packages\\sklearn\\linear_model\\stochastic_gradient.py:128: FutureWarning: max_iter and tol parameters have been added in <class 'sklearn.linear_model.stochastic_gradient.SGDClassifier'> in 0.19. If both are left unset, they default to max_iter=5 and tol=None. If tol is not None, max_iter defaults to max_iter=1000. From 0.21, default max_iter will be 1000, and default tol will be 1e-3.\n",
      "  \"and default tol will be 1e-3.\" % type(self), FutureWarning)\n"
     ]
    },
    {
     "name": "stdout",
     "output_type": "stream",
     "text": [
      "CV log loss for alpha:  0.0001 is :  1.7137937000680181\n"
     ]
    },
    {
     "name": "stderr",
     "output_type": "stream",
     "text": [
      "C:\\ProgramData\\Anaconda3\\lib\\site-packages\\sklearn\\linear_model\\stochastic_gradient.py:128: FutureWarning: max_iter and tol parameters have been added in <class 'sklearn.linear_model.stochastic_gradient.SGDClassifier'> in 0.19. If both are left unset, they default to max_iter=5 and tol=None. If tol is not None, max_iter defaults to max_iter=1000. From 0.21, default max_iter will be 1000, and default tol will be 1e-3.\n",
      "  \"and default tol will be 1e-3.\" % type(self), FutureWarning)\n",
      "C:\\ProgramData\\Anaconda3\\lib\\site-packages\\sklearn\\linear_model\\stochastic_gradient.py:128: FutureWarning: max_iter and tol parameters have been added in <class 'sklearn.linear_model.stochastic_gradient.SGDClassifier'> in 0.19. If both are left unset, they default to max_iter=5 and tol=None. If tol is not None, max_iter defaults to max_iter=1000. From 0.21, default max_iter will be 1000, and default tol will be 1e-3.\n",
      "  \"and default tol will be 1e-3.\" % type(self), FutureWarning)\n",
      "C:\\ProgramData\\Anaconda3\\lib\\site-packages\\sklearn\\linear_model\\stochastic_gradient.py:128: FutureWarning: max_iter and tol parameters have been added in <class 'sklearn.linear_model.stochastic_gradient.SGDClassifier'> in 0.19. If both are left unset, they default to max_iter=5 and tol=None. If tol is not None, max_iter defaults to max_iter=1000. From 0.21, default max_iter will be 1000, and default tol will be 1e-3.\n",
      "  \"and default tol will be 1e-3.\" % type(self), FutureWarning)\n",
      "C:\\ProgramData\\Anaconda3\\lib\\site-packages\\sklearn\\linear_model\\stochastic_gradient.py:128: FutureWarning: max_iter and tol parameters have been added in <class 'sklearn.linear_model.stochastic_gradient.SGDClassifier'> in 0.19. If both are left unset, they default to max_iter=5 and tol=None. If tol is not None, max_iter defaults to max_iter=1000. From 0.21, default max_iter will be 1000, and default tol will be 1e-3.\n",
      "  \"and default tol will be 1e-3.\" % type(self), FutureWarning)\n"
     ]
    },
    {
     "name": "stdout",
     "output_type": "stream",
     "text": [
      "CV log loss for alpha:  0.001 is :  1.7137937000680181\n"
     ]
    },
    {
     "name": "stderr",
     "output_type": "stream",
     "text": [
      "C:\\ProgramData\\Anaconda3\\lib\\site-packages\\sklearn\\linear_model\\stochastic_gradient.py:128: FutureWarning: max_iter and tol parameters have been added in <class 'sklearn.linear_model.stochastic_gradient.SGDClassifier'> in 0.19. If both are left unset, they default to max_iter=5 and tol=None. If tol is not None, max_iter defaults to max_iter=1000. From 0.21, default max_iter will be 1000, and default tol will be 1e-3.\n",
      "  \"and default tol will be 1e-3.\" % type(self), FutureWarning)\n",
      "C:\\ProgramData\\Anaconda3\\lib\\site-packages\\sklearn\\linear_model\\stochastic_gradient.py:128: FutureWarning: max_iter and tol parameters have been added in <class 'sklearn.linear_model.stochastic_gradient.SGDClassifier'> in 0.19. If both are left unset, they default to max_iter=5 and tol=None. If tol is not None, max_iter defaults to max_iter=1000. From 0.21, default max_iter will be 1000, and default tol will be 1e-3.\n",
      "  \"and default tol will be 1e-3.\" % type(self), FutureWarning)\n"
     ]
    },
    {
     "name": "stdout",
     "output_type": "stream",
     "text": [
      "CV log loss for alpha:  0.01 is :  1.7137937000680181\n"
     ]
    },
    {
     "name": "stderr",
     "output_type": "stream",
     "text": [
      "C:\\ProgramData\\Anaconda3\\lib\\site-packages\\sklearn\\linear_model\\stochastic_gradient.py:128: FutureWarning: max_iter and tol parameters have been added in <class 'sklearn.linear_model.stochastic_gradient.SGDClassifier'> in 0.19. If both are left unset, they default to max_iter=5 and tol=None. If tol is not None, max_iter defaults to max_iter=1000. From 0.21, default max_iter will be 1000, and default tol will be 1e-3.\n",
      "  \"and default tol will be 1e-3.\" % type(self), FutureWarning)\n",
      "C:\\ProgramData\\Anaconda3\\lib\\site-packages\\sklearn\\linear_model\\stochastic_gradient.py:128: FutureWarning: max_iter and tol parameters have been added in <class 'sklearn.linear_model.stochastic_gradient.SGDClassifier'> in 0.19. If both are left unset, they default to max_iter=5 and tol=None. If tol is not None, max_iter defaults to max_iter=1000. From 0.21, default max_iter will be 1000, and default tol will be 1e-3.\n",
      "  \"and default tol will be 1e-3.\" % type(self), FutureWarning)\n",
      "C:\\ProgramData\\Anaconda3\\lib\\site-packages\\sklearn\\linear_model\\stochastic_gradient.py:128: FutureWarning: max_iter and tol parameters have been added in <class 'sklearn.linear_model.stochastic_gradient.SGDClassifier'> in 0.19. If both are left unset, they default to max_iter=5 and tol=None. If tol is not None, max_iter defaults to max_iter=1000. From 0.21, default max_iter will be 1000, and default tol will be 1e-3.\n",
      "  \"and default tol will be 1e-3.\" % type(self), FutureWarning)\n",
      "C:\\ProgramData\\Anaconda3\\lib\\site-packages\\sklearn\\linear_model\\stochastic_gradient.py:128: FutureWarning: max_iter and tol parameters have been added in <class 'sklearn.linear_model.stochastic_gradient.SGDClassifier'> in 0.19. If both are left unset, they default to max_iter=5 and tol=None. If tol is not None, max_iter defaults to max_iter=1000. From 0.21, default max_iter will be 1000, and default tol will be 1e-3.\n",
      "  \"and default tol will be 1e-3.\" % type(self), FutureWarning)\n"
     ]
    },
    {
     "name": "stdout",
     "output_type": "stream",
     "text": [
      "CV log loss for alpha:  0.1 is :  1.7137937000680181\n"
     ]
    },
    {
     "name": "stderr",
     "output_type": "stream",
     "text": [
      "C:\\ProgramData\\Anaconda3\\lib\\site-packages\\sklearn\\linear_model\\stochastic_gradient.py:128: FutureWarning: max_iter and tol parameters have been added in <class 'sklearn.linear_model.stochastic_gradient.SGDClassifier'> in 0.19. If both are left unset, they default to max_iter=5 and tol=None. If tol is not None, max_iter defaults to max_iter=1000. From 0.21, default max_iter will be 1000, and default tol will be 1e-3.\n",
      "  \"and default tol will be 1e-3.\" % type(self), FutureWarning)\n",
      "C:\\ProgramData\\Anaconda3\\lib\\site-packages\\sklearn\\linear_model\\stochastic_gradient.py:128: FutureWarning: max_iter and tol parameters have been added in <class 'sklearn.linear_model.stochastic_gradient.SGDClassifier'> in 0.19. If both are left unset, they default to max_iter=5 and tol=None. If tol is not None, max_iter defaults to max_iter=1000. From 0.21, default max_iter will be 1000, and default tol will be 1e-3.\n",
      "  \"and default tol will be 1e-3.\" % type(self), FutureWarning)\n"
     ]
    },
    {
     "name": "stdout",
     "output_type": "stream",
     "text": [
      "CV log loss for alpha:  1 is :  1.7137937000680181\n"
     ]
    }
   ],
   "source": [
    "# SGD classifier for model\n",
    "# Calibrated classifier to get result in probability terms - sigmoid\n",
    "cv_log_error_array = []\n",
    "for i in alpha:\n",
    "    \n",
    "    clf = SGDClassifier(alpha=1, loss='log', penalty='l2', random_state=42)\n",
    "    clf.fit(train_variation_onehotencoding, y_train)\n",
    "    \n",
    "    sig_clf = CalibratedClassifierCV(clf, method = 'sigmoid')\n",
    "    sig_clf.fit(train_variation_onehotencoding, y_train)\n",
    "    predicted_y = sig_clf.predict_proba(cv_variation_onehotencoding)\n",
    "    \n",
    "    cv_log_error_array.append(log_loss(y_cv, predicted_y, labels=clf.classes_))\n",
    "    print(\"CV log loss for alpha: \", i,\"is : \",log_loss(y_cv, predicted_y, labels=clf.classes_))"
   ]
  },
  {
   "cell_type": "code",
   "execution_count": 62,
   "metadata": {},
   "outputs": [
    {
     "name": "stderr",
     "output_type": "stream",
     "text": [
      "C:\\ProgramData\\Anaconda3\\lib\\site-packages\\sklearn\\linear_model\\stochastic_gradient.py:128: FutureWarning: max_iter and tol parameters have been added in <class 'sklearn.linear_model.stochastic_gradient.SGDClassifier'> in 0.19. If both are left unset, they default to max_iter=5 and tol=None. If tol is not None, max_iter defaults to max_iter=1000. From 0.21, default max_iter will be 1000, and default tol will be 1e-3.\n",
      "  \"and default tol will be 1e-3.\" % type(self), FutureWarning)\n",
      "C:\\ProgramData\\Anaconda3\\lib\\site-packages\\sklearn\\linear_model\\stochastic_gradient.py:128: FutureWarning: max_iter and tol parameters have been added in <class 'sklearn.linear_model.stochastic_gradient.SGDClassifier'> in 0.19. If both are left unset, they default to max_iter=5 and tol=None. If tol is not None, max_iter defaults to max_iter=1000. From 0.21, default max_iter will be 1000, and default tol will be 1e-3.\n",
      "  \"and default tol will be 1e-3.\" % type(self), FutureWarning)\n",
      "C:\\ProgramData\\Anaconda3\\lib\\site-packages\\sklearn\\linear_model\\stochastic_gradient.py:128: FutureWarning: max_iter and tol parameters have been added in <class 'sklearn.linear_model.stochastic_gradient.SGDClassifier'> in 0.19. If both are left unset, they default to max_iter=5 and tol=None. If tol is not None, max_iter defaults to max_iter=1000. From 0.21, default max_iter will be 1000, and default tol will be 1e-3.\n",
      "  \"and default tol will be 1e-3.\" % type(self), FutureWarning)\n"
     ]
    },
    {
     "name": "stdout",
     "output_type": "stream",
     "text": [
      " log loss for training data , with best alpha: 1e-05 is:  0.7625252133968826\n",
      " log loss for cv data , with best alpha: 1e-05 is:  1.7096969711832972\n",
      " log loss for test data , with best alpha: 1e-05 is:  1.6892025612149209\n"
     ]
    },
    {
     "name": "stderr",
     "output_type": "stream",
     "text": [
      "C:\\ProgramData\\Anaconda3\\lib\\site-packages\\sklearn\\linear_model\\stochastic_gradient.py:128: FutureWarning: max_iter and tol parameters have been added in <class 'sklearn.linear_model.stochastic_gradient.SGDClassifier'> in 0.19. If both are left unset, they default to max_iter=5 and tol=None. If tol is not None, max_iter defaults to max_iter=1000. From 0.21, default max_iter will be 1000, and default tol will be 1e-3.\n",
      "  \"and default tol will be 1e-3.\" % type(self), FutureWarning)\n"
     ]
    }
   ],
   "source": [
    "best_alpha = np.argmin(cv_log_error_array)\n",
    "clf = SGDClassifier(alpha=alpha[best_alpha], loss='log', penalty='l2', random_state=42)\n",
    "clf.fit(train_variation_onehotencoding, y_train)\n",
    "    \n",
    "sig_clf = CalibratedClassifierCV(clf, method = 'sigmoid')\n",
    "sig_clf.fit(train_variation_onehotencoding, y_train)\n",
    "\n",
    "\n",
    "predicted_y = sig_clf.predict_proba(train_variation_onehotencoding)\n",
    "print(\" log loss for training data , with best alpha:\", alpha[best_alpha], \"is: \",log_loss(y_train, predicted_y, labels=clf.classes_))\n",
    "    \n",
    "predicted_y = sig_clf.predict_proba(cv_variation_onehotencoding)\n",
    "print(\" log loss for cv data , with best alpha:\", alpha[best_alpha], \"is: \",log_loss(y_cv, predicted_y, labels=clf.classes_))\n",
    "\n",
    "predicted_y = sig_clf.predict_proba(test_variation_onehotencoding)\n",
    "print(\" log loss for test data , with best alpha:\", alpha[best_alpha], \"is: \",log_loss(y_test, predicted_y, labels=clf.classes_))\n",
    "   "
   ]
  },
  {
   "cell_type": "markdown",
   "metadata": {},
   "source": [
    "#### test log loss is much lesser as compare to worst fuction, this feature can be important .. One more thing to check"
   ]
  },
  {
   "cell_type": "code",
   "execution_count": 63,
   "metadata": {},
   "outputs": [
    {
     "name": "stdout",
     "output_type": "stream",
     "text": [
      " Test has  81  variations out of  665 percentage is :  12.180451127819548\n",
      " CV has  56  variations out of  532 percentage is :  10.526315789473685\n"
     ]
    }
   ],
   "source": [
    "test_coverage = X_test[X_test['Variation'].isin(list(set(X_train['Variation'])))].shape[0]\n",
    "cv_coverage = X_cv[X_cv['Variation'].isin(list(set(X_train['Variation'])))].shape[0]      \n",
    "                                          \n",
    "print(\" Test has \", test_coverage, \" variations out of \", X_test.shape[0], \"percentage is : \", test_coverage*100/X_test.shape[0])\n",
    "print(\" CV has \", cv_coverage, \" variations out of \", X_cv.shape[0], \"percentage is : \", cv_coverage*100/X_cv.shape[0])"
   ]
  },
  {
   "cell_type": "markdown",
   "metadata": {},
   "source": [
    "#### feature is not much stable, it has very less common variation in test and train.. If log loss is not much lower then worst model, I can eleminate this feature from my final model"
   ]
  },
  {
   "cell_type": "markdown",
   "metadata": {},
   "source": [
    "For worst model : Test prediction log loss :  2.4241973490851803\n"
   ]
  },
  {
   "cell_type": "markdown",
   "metadata": {},
   "source": [
    "With variation feature : log loss for test data , with best alpha: 1e-05 is:  1.6966176998017122"
   ]
  },
  {
   "cell_type": "markdown",
   "metadata": {},
   "source": [
    "## Evaluating text column"
   ]
  },
  {
   "cell_type": "code",
   "execution_count": 64,
   "metadata": {},
   "outputs": [],
   "source": [
    "# cls_text is a data frame\n",
    "# for every row in data frame consider the 'TEXT'\n",
    "# split the words by space\n",
    "# make a dict with those words\n",
    "# increment its count whenever we see that word\n",
    "from collections import defaultdict\n",
    "\n",
    "def extract_dictionary_paddle(cls_text):\n",
    "    dictionary = defaultdict(int)\n",
    "    for index, row in cls_text.iterrows():\n",
    "        for word in row['TEXT'].lower().split():\n",
    "            dictionary[word]+=1\n",
    "    return dictionary\n"
   ]
  },
  {
   "cell_type": "code",
   "execution_count": 65,
   "metadata": {},
   "outputs": [],
   "source": [
    "# text feature response encoding\n",
    "\n",
    "import math\n",
    "#https://stackoverflow.com/a/1602964\n",
    "def get_text_responsecoding(df):\n",
    "    text_feature_responseCoding = np.zeros((df.shape[0],9))\n",
    "    for i in range(0,9):\n",
    "        row_index = 0\n",
    "        for index, row in df.iterrows():\n",
    "            sum_prob = 0\n",
    "            for word in row['TEXT'].split():\n",
    "                sum_prob += math.log(((dict_list[i].get(word,0)+10 )/(total_dict.get(word,0)+90)))\n",
    "            text_feature_responseCoding[row_index][i] = math.exp(sum_prob/len(row['TEXT'].split()))\n",
    "            row_index += 1\n",
    "    return text_feature_responseCoding"
   ]
  },
  {
   "cell_type": "code",
   "execution_count": 66,
   "metadata": {},
   "outputs": [
    {
     "name": "stdout",
     "output_type": "stream",
     "text": [
      "Total number of unique words in train data : 52114\n"
     ]
    }
   ],
   "source": [
    "# building a CountVectorizer with all the words that occured minimum 3 times in train data\n",
    "text_vectorizer = CountVectorizer(min_df=3)\n",
    "train_text_feature_onehotCoding = text_vectorizer.fit_transform(X_train['TEXT'])\n",
    "# getting all the feature names (words)\n",
    "train_text_features= text_vectorizer.get_feature_names()\n",
    "\n",
    "# train_text_feature_onehotCoding.sum(axis=0).A1 will sum every row and returns (1*number of features) vector\n",
    "train_text_fea_counts = train_text_feature_onehotCoding.sum(axis=0).A1\n",
    "\n",
    "# zip(list(text_features),text_fea_counts) will zip a word with its number of times it occured\n",
    "text_fea_dict = dict(zip(list(train_text_features),train_text_fea_counts))\n",
    "\n",
    "\n",
    "print(\"Total number of unique words in train data :\", len(train_text_features))"
   ]
  },
  {
   "cell_type": "code",
   "execution_count": 67,
   "metadata": {},
   "outputs": [],
   "source": [
    "dict_list = []\n",
    "# dict_list =[] contains 9 dictoinaries each corresponds to a class\n",
    "for i in range(1,10):\n",
    "    cls_text = X_train[X_train['Class']==i]\n",
    "    # build a word dict based on the words in that class\n",
    "    dict_list.append(extract_dictionary_paddle(cls_text))\n",
    "    # append it to dict_list\n",
    "\n",
    "# dict_list[i] is build on i'th  class text data\n",
    "# total_dict is buid on whole training text data\n",
    "total_dict = extract_dictionary_paddle(X_train)\n",
    "\n",
    "\n",
    "confuse_array = []\n",
    "for i in train_text_features:\n",
    "    ratios = []\n",
    "    max_val = -1\n",
    "    for j in range(0,9):\n",
    "        ratios.append((dict_list[j][i]+10 )/(total_dict[i]+90))\n",
    "    confuse_array.append(ratios)\n",
    "confuse_array = np.array(confuse_array)"
   ]
  },
  {
   "cell_type": "code",
   "execution_count": 68,
   "metadata": {},
   "outputs": [],
   "source": [
    "#response coding of text features\n",
    "train_text_feature_responseCoding  = get_text_responsecoding(X_train)\n",
    "test_text_feature_responseCoding  = get_text_responsecoding(X_test)\n",
    "cv_text_feature_responseCoding  = get_text_responsecoding(X_cv)"
   ]
  },
  {
   "cell_type": "code",
   "execution_count": 69,
   "metadata": {},
   "outputs": [],
   "source": [
    "# https://stackoverflow.com/a/16202486\n",
    "# we convert each row values such that they sum to 1  \n",
    "train_text_feature_responseCoding = (train_text_feature_responseCoding.T/train_text_feature_responseCoding.sum(axis=1)).T\n",
    "test_text_feature_responseCoding = (test_text_feature_responseCoding.T/test_text_feature_responseCoding.sum(axis=1)).T\n",
    "cv_text_feature_responseCoding = (cv_text_feature_responseCoding.T/cv_text_feature_responseCoding.sum(axis=1)).T"
   ]
  },
  {
   "cell_type": "code",
   "execution_count": 70,
   "metadata": {},
   "outputs": [],
   "source": [
    "# don't forget to normalize every feature\n",
    "from sklearn.preprocessing import normalize\n",
    "train_text_feature_onehotCoding = normalize(train_text_feature_onehotCoding, axis=0)\n",
    "\n",
    "# we use the same vectorizer that was trained on train data\n",
    "test_text_feature_onehotCoding = text_vectorizer.transform(X_test['TEXT'])\n",
    "# don't forget to normalize every feature\n",
    "test_text_feature_onehotCoding = normalize(test_text_feature_onehotCoding, axis=0)\n",
    "\n",
    "# we use the same vectorizer that was trained on train data\n",
    "cv_text_feature_onehotCoding = text_vectorizer.transform(X_cv['TEXT'])\n",
    "# don't forget to normalize every feature\n",
    "cv_text_feature_onehotCoding = normalize(cv_text_feature_onehotCoding, axis=0)"
   ]
  },
  {
   "cell_type": "code",
   "execution_count": 71,
   "metadata": {},
   "outputs": [],
   "source": [
    "#https://stackoverflow.com/a/2258273/4084039\n",
    "sorted_text_fea_dict = dict(sorted(text_fea_dict.items(), key=lambda x: x[1] , reverse=True))\n",
    "sorted_text_occur = np.array(list(sorted_text_fea_dict.values()))"
   ]
  },
  {
   "cell_type": "code",
   "execution_count": 72,
   "metadata": {},
   "outputs": [
    {
     "name": "stdout",
     "output_type": "stream",
     "text": [
      "Counter({3: 5029, 4: 3253, 5: 2632, 6: 2584, 7: 2215, 8: 2213, 10: 1592, 9: 1559, 11: 1251, 12: 1160, 13: 995, 16: 918, 15: 837, 14: 828, 18: 745, 17: 597, 21: 577, 20: 556, 19: 531, 24: 513, 22: 466, 27: 398, 23: 388, 25: 355, 26: 350, 28: 335, 41: 324, 30: 313, 32: 307, 31: 306, 29: 290, 51: 279, 36: 277, 34: 250, 33: 247, 40: 236, 35: 232, 42: 219, 38: 219, 45: 204, 44: 198, 48: 193, 37: 192, 39: 179, 43: 176, 52: 173, 55: 147, 46: 147, 60: 146, 54: 146, 47: 143, 50: 136, 56: 132, 49: 131, 58: 121, 53: 117, 68: 116, 66: 113, 57: 111, 70: 110, 62: 108, 65: 107, 63: 107, 67: 104, 61: 100, 59: 100, 76: 98, 80: 95, 71: 94, 75: 91, 64: 90, 74: 88, 73: 88, 88: 84, 82: 80, 102: 78, 83: 77, 92: 74, 84: 73, 77: 73, 72: 73, 81: 72, 78: 72, 93: 69, 90: 69, 87: 68, 79: 67, 96: 66, 69: 66, 99: 64, 104: 62, 86: 62, 89: 60, 106: 56, 100: 56, 98: 56, 91: 56, 111: 54, 108: 54, 101: 54, 120: 51, 112: 51, 107: 50, 130: 49, 117: 49, 116: 49, 118: 48, 85: 48, 109: 47, 97: 47, 114: 46, 103: 46, 105: 44, 95: 44, 131: 43, 121: 43, 110: 43, 133: 42, 94: 42, 128: 41, 126: 41, 146: 40, 132: 40, 123: 40, 136: 39, 115: 39, 113: 39, 129: 37, 124: 37, 154: 36, 134: 36, 125: 36, 148: 35, 119: 35, 144: 34, 139: 34, 171: 33, 153: 33, 140: 33, 135: 33, 168: 32, 143: 32, 184: 31, 150: 31, 147: 31, 142: 31, 141: 31, 127: 31, 156: 30, 145: 30, 169: 29, 216: 28, 185: 28, 161: 28, 138: 28, 204: 27, 174: 27, 165: 27, 164: 27, 122: 27, 176: 26, 162: 26, 149: 26, 137: 26, 198: 25, 177: 25, 160: 25, 152: 25, 200: 24, 181: 24, 151: 24, 236: 23, 218: 23, 193: 23, 180: 23, 175: 23, 166: 23, 158: 23, 155: 23, 225: 22, 212: 22, 203: 22, 182: 22, 179: 22, 172: 22, 163: 22, 261: 21, 234: 21, 205: 21, 194: 21, 173: 21, 170: 21, 262: 20, 260: 20, 249: 20, 211: 20, 202: 20, 196: 20, 190: 20, 186: 20, 178: 20, 159: 20, 157: 20, 289: 19, 271: 19, 235: 19, 231: 19, 221: 19, 209: 19, 191: 19, 207: 18, 201: 18, 199: 18, 197: 18, 167: 18, 256: 17, 245: 17, 242: 17, 238: 17, 237: 17, 215: 17, 195: 17, 188: 17, 340: 16, 309: 16, 302: 16, 270: 16, 267: 16, 263: 16, 255: 16, 248: 16, 244: 16, 224: 16, 222: 16, 219: 16, 217: 16, 187: 16, 183: 16, 356: 15, 354: 15, 324: 15, 304: 15, 296: 15, 269: 15, 243: 15, 241: 15, 226: 15, 208: 15, 206: 15, 192: 15, 345: 14, 316: 14, 288: 14, 285: 14, 278: 14, 277: 14, 275: 14, 272: 14, 264: 14, 254: 14, 251: 14, 246: 14, 240: 14, 239: 14, 233: 14, 229: 14, 228: 14, 227: 14, 223: 14, 189: 14, 341: 13, 338: 13, 333: 13, 313: 13, 281: 13, 220: 13, 210: 13, 346: 12, 336: 12, 332: 12, 326: 12, 317: 12, 314: 12, 303: 12, 297: 12, 286: 12, 280: 12, 274: 12, 268: 12, 266: 12, 252: 12, 214: 12, 423: 11, 384: 11, 381: 11, 380: 11, 374: 11, 355: 11, 339: 11, 327: 11, 315: 11, 300: 11, 298: 11, 292: 11, 282: 11, 276: 11, 257: 11, 232: 11, 710: 10, 556: 10, 412: 10, 382: 10, 375: 10, 367: 10, 358: 10, 357: 10, 348: 10, 344: 10, 328: 10, 320: 10, 295: 10, 290: 10, 258: 10, 253: 10, 250: 10, 590: 9, 587: 9, 488: 9, 473: 9, 453: 9, 436: 9, 435: 9, 419: 9, 418: 9, 394: 9, 385: 9, 378: 9, 371: 9, 370: 9, 361: 9, 342: 9, 321: 9, 319: 9, 294: 9, 291: 9, 284: 9, 259: 9, 247: 9, 230: 9, 213: 9, 706: 8, 667: 8, 599: 8, 570: 8, 508: 8, 476: 8, 468: 8, 415: 8, 414: 8, 413: 8, 410: 8, 408: 8, 404: 8, 402: 8, 395: 8, 390: 8, 369: 8, 364: 8, 362: 8, 350: 8, 343: 8, 331: 8, 322: 8, 305: 8, 299: 8, 283: 8, 279: 8, 265: 8, 766: 7, 726: 7, 687: 7, 646: 7, 547: 7, 522: 7, 513: 7, 507: 7, 493: 7, 487: 7, 479: 7, 455: 7, 452: 7, 434: 7, 433: 7, 428: 7, 422: 7, 401: 7, 400: 7, 392: 7, 387: 7, 373: 7, 372: 7, 368: 7, 365: 7, 360: 7, 352: 7, 349: 7, 323: 7, 318: 7, 312: 7, 310: 7, 306: 7, 301: 7, 273: 7, 1304: 6, 1017: 6, 940: 6, 838: 6, 837: 6, 831: 6, 803: 6, 744: 6, 729: 6, 694: 6, 669: 6, 657: 6, 648: 6, 642: 6, 637: 6, 632: 6, 612: 6, 609: 6, 588: 6, 585: 6, 565: 6, 561: 6, 551: 6, 543: 6, 531: 6, 530: 6, 529: 6, 523: 6, 520: 6, 509: 6, 501: 6, 498: 6, 496: 6, 489: 6, 486: 6, 461: 6, 450: 6, 449: 6, 448: 6, 444: 6, 442: 6, 431: 6, 424: 6, 416: 6, 391: 6, 388: 6, 366: 6, 334: 6, 330: 6, 293: 6, 1717: 5, 1548: 5, 1430: 5, 1342: 5, 1309: 5, 1247: 5, 1224: 5, 1089: 5, 1085: 5, 1082: 5, 1018: 5, 1000: 5, 986: 5, 861: 5, 859: 5, 850: 5, 847: 5, 840: 5, 826: 5, 798: 5, 760: 5, 759: 5, 754: 5, 748: 5, 743: 5, 741: 5, 722: 5, 715: 5, 700: 5, 663: 5, 634: 5, 624: 5, 621: 5, 619: 5, 611: 5, 610: 5, 608: 5, 607: 5, 596: 5, 591: 5, 589: 5, 586: 5, 582: 5, 576: 5, 572: 5, 567: 5, 555: 5, 552: 5, 540: 5, 535: 5, 534: 5, 525: 5, 521: 5, 518: 5, 515: 5, 502: 5, 499: 5, 495: 5, 494: 5, 491: 5, 490: 5, 484: 5, 483: 5, 482: 5, 478: 5, 477: 5, 469: 5, 466: 5, 465: 5, 459: 5, 458: 5, 457: 5, 454: 5, 446: 5, 441: 5, 438: 5, 421: 5, 420: 5, 417: 5, 411: 5, 407: 5, 406: 5, 399: 5, 398: 5, 397: 5, 393: 5, 383: 5, 376: 5, 363: 5, 351: 5, 337: 5, 335: 5, 329: 5, 325: 5, 311: 5, 2006: 4, 1940: 4, 1602: 4, 1428: 4, 1386: 4, 1348: 4, 1296: 4, 1294: 4, 1285: 4, 1218: 4, 1209: 4, 1181: 4, 1176: 4, 1093: 4, 1084: 4, 1028: 4, 1026: 4, 992: 4, 981: 4, 980: 4, 961: 4, 960: 4, 957: 4, 936: 4, 933: 4, 916: 4, 908: 4, 886: 4, 879: 4, 870: 4, 845: 4, 841: 4, 832: 4, 822: 4, 811: 4, 799: 4, 796: 4, 793: 4, 772: 4, 771: 4, 763: 4, 758: 4, 742: 4, 735: 4, 713: 4, 707: 4, 696: 4, 693: 4, 690: 4, 682: 4, 679: 4, 678: 4, 660: 4, 659: 4, 652: 4, 650: 4, 644: 4, 640: 4, 633: 4, 627: 4, 625: 4, 622: 4, 615: 4, 614: 4, 613: 4, 593: 4, 584: 4, 578: 4, 577: 4, 569: 4, 566: 4, 564: 4, 563: 4, 557: 4, 548: 4, 519: 4, 514: 4, 510: 4, 506: 4, 504: 4, 503: 4, 485: 4, 480: 4, 472: 4, 471: 4, 467: 4, 462: 4, 460: 4, 456: 4, 451: 4, 447: 4, 445: 4, 439: 4, 429: 4, 425: 4, 405: 4, 379: 4, 377: 4, 359: 4, 308: 4, 307: 4, 287: 4, 3705: 3, 3643: 3, 2890: 3, 2598: 3, 2557: 3, 2508: 3, 2249: 3, 2217: 3, 2090: 3, 2078: 3, 2033: 3, 1989: 3, 1906: 3, 1899: 3, 1841: 3, 1807: 3, 1795: 3, 1779: 3, 1770: 3, 1745: 3, 1729: 3, 1652: 3, 1645: 3, 1637: 3, 1620: 3, 1565: 3, 1554: 3, 1505: 3, 1481: 3, 1410: 3, 1406: 3, 1405: 3, 1403: 3, 1371: 3, 1347: 3, 1345: 3, 1333: 3, 1322: 3, 1317: 3, 1316: 3, 1307: 3, 1297: 3, 1295: 3, 1291: 3, 1290: 3, 1282: 3, 1252: 3, 1249: 3, 1248: 3, 1241: 3, 1231: 3, 1225: 3, 1206: 3, 1203: 3, 1163: 3, 1161: 3, 1159: 3, 1156: 3, 1153: 3, 1152: 3, 1150: 3, 1149: 3, 1147: 3, 1139: 3, 1128: 3, 1127: 3, 1110: 3, 1109: 3, 1107: 3, 1106: 3, 1102: 3, 1095: 3, 1081: 3, 1073: 3, 1066: 3, 1064: 3, 1060: 3, 1056: 3, 1048: 3, 1038: 3, 1032: 3, 1009: 3, 1002: 3, 1001: 3, 993: 3, 982: 3, 979: 3, 969: 3, 967: 3, 964: 3, 962: 3, 958: 3, 954: 3, 952: 3, 949: 3, 943: 3, 942: 3, 931: 3, 926: 3, 919: 3, 910: 3, 901: 3, 896: 3, 895: 3, 892: 3, 880: 3, 878: 3, 877: 3, 867: 3, 842: 3, 836: 3, 825: 3, 824: 3, 819: 3, 815: 3, 814: 3, 810: 3, 804: 3, 802: 3, 787: 3, 782: 3, 778: 3, 774: 3, 770: 3, 767: 3, 765: 3, 764: 3, 745: 3, 738: 3, 720: 3, 719: 3, 718: 3, 716: 3, 712: 3, 708: 3, 702: 3, 701: 3, 699: 3, 697: 3, 692: 3, 691: 3, 689: 3, 688: 3, 683: 3, 668: 3, 653: 3, 651: 3, 649: 3, 645: 3, 620: 3, 618: 3, 616: 3, 605: 3, 595: 3, 594: 3, 583: 3, 581: 3, 575: 3, 574: 3, 573: 3, 568: 3, 560: 3, 559: 3, 558: 3, 553: 3, 549: 3, 546: 3, 545: 3, 542: 3, 541: 3, 537: 3, 533: 3, 527: 3, 526: 3, 524: 3, 512: 3, 505: 3, 500: 3, 481: 3, 475: 3, 463: 3, 443: 3, 440: 3, 432: 3, 430: 3, 426: 3, 409: 3, 403: 3, 353: 3, 347: 3, 25063: 2, 6020: 2, 5930: 2, 5757: 2, 5226: 2, 4954: 2, 4796: 2, 4793: 2, 4528: 2, 4346: 2, 4301: 2, 4252: 2, 4214: 2, 4166: 2, 4116: 2, 4005: 2, 3935: 2, 3897: 2, 3831: 2, 3729: 2, 3613: 2, 3598: 2, 3562: 2, 3500: 2, 3453: 2, 3434: 2, 3406: 2, 3399: 2, 3350: 2, 3297: 2, 3292: 2, 3231: 2, 3174: 2, 3172: 2, 3158: 2, 3119: 2, 3057: 2, 3054: 2, 3028: 2, 3016: 2, 3015: 2, 2986: 2, 2957: 2, 2912: 2, 2779: 2, 2715: 2, 2694: 2, 2689: 2, 2663: 2, 2654: 2, 2641: 2, 2583: 2, 2564: 2, 2563: 2, 2548: 2, 2546: 2, 2526: 2, 2520: 2, 2450: 2, 2447: 2, 2444: 2, 2425: 2, 2402: 2, 2366: 2, 2352: 2, 2340: 2, 2326: 2, 2314: 2, 2292: 2, 2264: 2, 2260: 2, 2246: 2, 2245: 2, 2242: 2, 2241: 2, 2211: 2, 2209: 2, 2178: 2, 2165: 2, 2149: 2, 2147: 2, 2146: 2, 2121: 2, 2112: 2, 2071: 2, 2068: 2, 2061: 2, 2060: 2, 2031: 2, 2017: 2, 2014: 2, 2013: 2, 1990: 2, 1982: 2, 1979: 2, 1978: 2, 1973: 2, 1970: 2, 1949: 2, 1925: 2, 1917: 2, 1908: 2, 1903: 2, 1902: 2, 1893: 2, 1866: 2, 1860: 2, 1828: 2, 1826: 2, 1824: 2, 1821: 2, 1814: 2, 1810: 2, 1809: 2, 1797: 2, 1794: 2, 1793: 2, 1778: 2, 1746: 2, 1737: 2, 1722: 2, 1720: 2, 1718: 2, 1713: 2, 1709: 2, 1699: 2, 1694: 2, 1690: 2, 1684: 2, 1671: 2, 1663: 2, 1661: 2, 1657: 2, 1656: 2, 1653: 2, 1639: 2, 1635: 2, 1632: 2, 1630: 2, 1629: 2, 1626: 2, 1614: 2, 1606: 2, 1605: 2, 1599: 2, 1579: 2, 1578: 2, 1571: 2, 1562: 2, 1559: 2, 1556: 2, 1550: 2, 1543: 2, 1542: 2, 1540: 2, 1533: 2, 1523: 2, 1520: 2, 1516: 2, 1512: 2, 1510: 2, 1508: 2, 1498: 2, 1494: 2, 1492: 2, 1483: 2, 1482: 2, 1479: 2, 1465: 2, 1447: 2, 1446: 2, 1442: 2, 1438: 2, 1437: 2, 1434: 2, 1427: 2, 1423: 2, 1417: 2, 1398: 2, 1391: 2, 1376: 2, 1362: 2, 1355: 2, 1353: 2, 1350: 2, 1346: 2, 1341: 2, 1339: 2, 1334: 2, 1331: 2, 1325: 2, 1313: 2, 1311: 2, 1303: 2, 1289: 2, 1280: 2, 1278: 2, 1277: 2, 1274: 2, 1269: 2, 1263: 2, 1243: 2, 1239: 2, 1237: 2, 1229: 2, 1227: 2, 1221: 2, 1220: 2, 1219: 2, 1215: 2, 1212: 2, 1210: 2, 1204: 2, 1195: 2, 1182: 2, 1179: 2, 1171: 2, 1170: 2, 1168: 2, 1164: 2, 1160: 2, 1143: 2, 1142: 2, 1133: 2, 1104: 2, 1097: 2, 1092: 2, 1088: 2, 1087: 2, 1074: 2, 1070: 2, 1069: 2, 1068: 2, 1054: 2, 1052: 2, 1050: 2, 1040: 2, 1033: 2, 1025: 2, 1014: 2, 1011: 2, 1003: 2, 995: 2, 990: 2, 985: 2, 978: 2, 976: 2, 975: 2, 974: 2, 968: 2, 953: 2, 950: 2, 945: 2, 944: 2, 938: 2, 937: 2, 932: 2, 920: 2, 917: 2, 914: 2, 913: 2, 909: 2, 904: 2, 900: 2, 899: 2, 897: 2, 894: 2, 893: 2, 891: 2, 890: 2, 888: 2, 885: 2, 873: 2, 869: 2, 868: 2, 866: 2, 864: 2, 863: 2, 858: 2, 856: 2, 854: 2, 835: 2, 833: 2, 830: 2, 827: 2, 823: 2, 817: 2, 813: 2, 812: 2, 805: 2, 801: 2, 794: 2, 792: 2, 791: 2, 789: 2, 786: 2, 780: 2, 777: 2, 776: 2, 775: 2, 773: 2, 762: 2, 755: 2, 752: 2, 751: 2, 740: 2, 739: 2, 733: 2, 730: 2, 728: 2, 723: 2, 711: 2, 705: 2, 704: 2, 698: 2, 695: 2, 686: 2, 685: 2, 684: 2, 675: 2, 674: 2, 673: 2, 670: 2, 665: 2, 664: 2, 662: 2, 658: 2, 655: 2, 647: 2, 631: 2, 630: 2, 628: 2, 626: 2, 623: 2, 617: 2, 606: 2, 604: 2, 601: 2, 600: 2, 592: 2, 571: 2, 562: 2, 544: 2, 539: 2, 538: 2, 532: 2, 528: 2, 511: 2, 492: 2, 470: 2, 464: 2, 437: 2, 427: 2, 389: 2, 386: 2, 156610: 1, 119392: 1, 81709: 1, 70508: 1, 66363: 1, 65036: 1, 64837: 1, 64668: 1, 62256: 1, 58217: 1, 53868: 1, 49310: 1, 49122: 1, 47123: 1, 47003: 1, 44497: 1, 43512: 1, 42649: 1, 42260: 1, 42065: 1, 40722: 1, 39955: 1, 39702: 1, 38511: 1, 38313: 1, 37753: 1, 37140: 1, 37075: 1, 36301: 1, 35475: 1, 34090: 1, 33764: 1, 33688: 1, 33548: 1, 32654: 1, 32186: 1, 29370: 1, 27898: 1, 27165: 1, 26866: 1, 26508: 1, 25914: 1, 25881: 1, 25803: 1, 25771: 1, 24960: 1, 24892: 1, 24671: 1, 24342: 1, 24213: 1, 23726: 1, 22864: 1, 22278: 1, 22104: 1, 22016: 1, 22000: 1, 21414: 1, 21362: 1, 20937: 1, 20612: 1, 20409: 1, 20161: 1, 20149: 1, 19903: 1, 19812: 1, 19654: 1, 19601: 1, 19328: 1, 19281: 1, 19220: 1, 19179: 1, 19143: 1, 19112: 1, 19057: 1, 19039: 1, 18643: 1, 18240: 1, 18113: 1, 18105: 1, 18096: 1, 18040: 1, 17842: 1, 17823: 1, 17783: 1, 17666: 1, 17580: 1, 17501: 1, 17396: 1, 17208: 1, 17173: 1, 17141: 1, 17104: 1, 17001: 1, 16981: 1, 16880: 1, 16334: 1, 16169: 1, 16137: 1, 16022: 1, 15889: 1, 15789: 1, 15696: 1, 15600: 1, 15511: 1, 15409: 1, 15375: 1, 15265: 1, 15145: 1, 15142: 1, 15117: 1, 14817: 1, 14669: 1, 14581: 1, 14541: 1, 14509: 1, 14449: 1, 14370: 1, 14369: 1, 14183: 1, 14057: 1, 13998: 1, 13997: 1, 13808: 1, 13667: 1, 13536: 1, 13351: 1, 13333: 1, 13308: 1, 13288: 1, 13114: 1, 13067: 1, 13062: 1, 13050: 1, 12984: 1, 12956: 1, 12941: 1, 12919: 1, 12826: 1, 12757: 1, 12691: 1, 12680: 1, 12638: 1, 12606: 1, 12593: 1, 12573: 1, 12567: 1, 12537: 1, 12493: 1, 12457: 1, 12419: 1, 12407: 1, 12401: 1, 12396: 1, 12381: 1, 12365: 1, 12289: 1, 12234: 1, 12222: 1, 12197: 1, 12174: 1, 12054: 1, 12025: 1, 11980: 1, 11965: 1, 11956: 1, 11848: 1, 11831: 1, 11793: 1, 11765: 1, 11654: 1, 11504: 1, 11464: 1, 11445: 1, 11369: 1, 11368: 1, 11237: 1, 11014: 1, 10977: 1, 10966: 1, 10956: 1, 10934: 1, 10927: 1, 10925: 1, 10907: 1, 10800: 1, 10706: 1, 10535: 1, 10474: 1, 10414: 1, 10363: 1, 10361: 1, 10347: 1, 10345: 1, 10339: 1, 10289: 1, 10226: 1, 10183: 1, 10172: 1, 10154: 1, 10140: 1, 10107: 1, 10064: 1, 10019: 1, 9928: 1, 9925: 1, 9895: 1, 9892: 1, 9859: 1, 9851: 1, 9790: 1, 9778: 1, 9776: 1, 9767: 1, 9725: 1, 9651: 1, 9631: 1, 9562: 1, 9485: 1, 9467: 1, 9397: 1, 9378: 1, 9335: 1, 9332: 1, 9304: 1, 9255: 1, 9253: 1, 9242: 1, 9209: 1, 9200: 1, 9159: 1, 9024: 1, 9004: 1, 8993: 1, 8989: 1, 8988: 1, 8966: 1, 8945: 1, 8933: 1, 8921: 1, 8882: 1, 8861: 1, 8840: 1, 8831: 1, 8818: 1, 8678: 1, 8594: 1, 8588: 1, 8540: 1, 8521: 1, 8511: 1, 8468: 1, 8467: 1, 8443: 1, 8404: 1, 8392: 1, 8323: 1, 8284: 1, 8257: 1, 8254: 1, 8235: 1, 8233: 1, 8172: 1, 8168: 1, 8150: 1, 8144: 1, 8078: 1, 8058: 1, 8043: 1, 8017: 1, 8002: 1, 8000: 1, 7980: 1, 7934: 1, 7933: 1, 7924: 1, 7922: 1, 7915: 1, 7906: 1, 7897: 1, 7892: 1, 7854: 1, 7815: 1, 7804: 1, 7792: 1, 7790: 1, 7775: 1, 7745: 1, 7721: 1, 7712: 1, 7644: 1, 7638: 1, 7625: 1, 7622: 1, 7613: 1, 7596: 1, 7595: 1, 7581: 1, 7531: 1, 7520: 1, 7516: 1, 7403: 1, 7401: 1, 7380: 1, 7372: 1, 7338: 1, 7314: 1, 7311: 1, 7302: 1, 7277: 1, 7253: 1, 7165: 1, 7158: 1, 7122: 1, 7105: 1, 7104: 1, 7099: 1, 7096: 1, 7079: 1, 7073: 1, 7056: 1, 7053: 1, 7034: 1, 7011: 1, 6999: 1, 6984: 1, 6979: 1, 6978: 1, 6960: 1, 6954: 1, 6935: 1, 6934: 1, 6930: 1, 6911: 1, 6902: 1, 6858: 1, 6842: 1, 6829: 1, 6826: 1, 6776: 1, 6767: 1, 6766: 1, 6730: 1, 6729: 1, 6723: 1, 6699: 1, 6686: 1, 6668: 1, 6666: 1, 6651: 1, 6646: 1, 6640: 1, 6635: 1, 6620: 1, 6619: 1, 6616: 1, 6612: 1, 6559: 1, 6557: 1, 6556: 1, 6548: 1, 6546: 1, 6542: 1, 6534: 1, 6494: 1, 6435: 1, 6423: 1, 6422: 1, 6418: 1, 6413: 1, 6401: 1, 6383: 1, 6366: 1, 6360: 1, 6351: 1, 6324: 1, 6317: 1, 6298: 1, 6283: 1, 6240: 1, 6238: 1, 6205: 1, 6190: 1, 6160: 1, 6143: 1, 6139: 1, 6138: 1, 6126: 1, 6125: 1, 6123: 1, 6118: 1, 6094: 1, 6076: 1, 6070: 1, 6044: 1, 6016: 1, 5998: 1, 5967: 1, 5947: 1, 5935: 1, 5933: 1, 5923: 1, 5916: 1, 5905: 1, 5871: 1, 5869: 1, 5865: 1, 5839: 1, 5829: 1, 5816: 1, 5803: 1, 5800: 1, 5785: 1, 5758: 1, 5753: 1, 5741: 1, 5739: 1, 5721: 1, 5699: 1, 5696: 1, 5688: 1, 5669: 1, 5651: 1, 5643: 1, 5630: 1, 5621: 1, 5613: 1, 5600: 1, 5592: 1, 5587: 1, 5574: 1, 5554: 1, 5552: 1, 5523: 1, 5500: 1, 5493: 1, 5491: 1, 5485: 1, 5482: 1, 5467: 1, 5450: 1, 5447: 1, 5444: 1, 5435: 1, 5421: 1, 5416: 1, 5370: 1, 5326: 1, 5325: 1, 5302: 1, 5301: 1, 5300: 1, 5284: 1, 5282: 1, 5277: 1, 5266: 1, 5263: 1, 5251: 1, 5237: 1, 5220: 1, 5198: 1, 5191: 1, 5188: 1, 5186: 1, 5176: 1, 5174: 1, 5173: 1, 5172: 1, 5169: 1, 5155: 1, 5149: 1, 5139: 1, 5138: 1, 5131: 1, 5129: 1, 5127: 1, 5114: 1, 5104: 1, 5092: 1, 5077: 1, 5073: 1, 5055: 1, 5041: 1, 5006: 1, 4993: 1, 4982: 1, 4974: 1, 4942: 1, 4936: 1, 4912: 1, 4908: 1, 4900: 1, 4899: 1, 4896: 1, 4895: 1, 4891: 1, 4874: 1, 4861: 1, 4856: 1, 4855: 1, 4850: 1, 4849: 1, 4846: 1, 4841: 1, 4834: 1, 4832: 1, 4828: 1, 4823: 1, 4819: 1, 4801: 1, 4791: 1, 4790: 1, 4777: 1, 4733: 1, 4731: 1, 4723: 1, 4705: 1, 4693: 1, 4683: 1, 4639: 1, 4635: 1, 4613: 1, 4612: 1, 4609: 1, 4599: 1, 4568: 1, 4562: 1, 4558: 1, 4557: 1, 4555: 1, 4530: 1, 4503: 1, 4489: 1, 4488: 1, 4484: 1, 4474: 1, 4461: 1, 4458: 1, 4450: 1, 4448: 1, 4443: 1, 4439: 1, 4438: 1, 4408: 1, 4406: 1, 4401: 1, 4387: 1, 4384: 1, 4383: 1, 4381: 1, 4380: 1, 4379: 1, 4374: 1, 4362: 1, 4357: 1, 4353: 1, 4349: 1, 4348: 1, 4338: 1, 4334: 1, 4319: 1, 4300: 1, 4299: 1, 4276: 1, 4263: 1, 4250: 1, 4247: 1, 4245: 1, 4241: 1, 4238: 1, 4233: 1, 4224: 1, 4216: 1, 4213: 1, 4206: 1, 4204: 1, 4202: 1, 4200: 1, 4179: 1, 4173: 1, 4169: 1, 4164: 1, 4156: 1, 4154: 1, 4150: 1, 4143: 1, 4138: 1, 4137: 1, 4126: 1, 4125: 1, 4119: 1, 4111: 1, 4085: 1, 4075: 1, 4073: 1, 4069: 1, 4048: 1, 4044: 1, 4030: 1, 4027: 1, 4025: 1, 4018: 1, 3992: 1, 3985: 1, 3983: 1, 3982: 1, 3971: 1, 3958: 1, 3956: 1, 3955: 1, 3940: 1, 3927: 1, 3918: 1, 3905: 1, 3893: 1, 3892: 1, 3890: 1, 3889: 1, 3887: 1, 3884: 1, 3876: 1, 3874: 1, 3871: 1, 3867: 1, 3866: 1, 3863: 1, 3840: 1, 3836: 1, 3803: 1, 3800: 1, 3799: 1, 3798: 1, 3796: 1, 3790: 1, 3788: 1, 3787: 1, 3774: 1, 3772: 1, 3747: 1, 3739: 1, 3732: 1, 3728: 1, 3721: 1, 3713: 1, 3710: 1, 3707: 1, 3706: 1, 3698: 1, 3696: 1, 3691: 1, 3688: 1, 3681: 1, 3679: 1, 3674: 1, 3656: 1, 3653: 1, 3650: 1, 3642: 1, 3636: 1, 3629: 1, 3607: 1, 3605: 1, 3603: 1, 3601: 1, 3586: 1, 3585: 1, 3582: 1, 3577: 1, 3573: 1, 3570: 1, 3569: 1, 3558: 1, 3554: 1, 3552: 1, 3551: 1, 3549: 1, 3548: 1, 3544: 1, 3542: 1, 3541: 1, 3537: 1, 3534: 1, 3530: 1, 3529: 1, 3519: 1, 3496: 1, 3494: 1, 3488: 1, 3487: 1, 3486: 1, 3482: 1, 3481: 1, 3467: 1, 3460: 1, 3451: 1, 3448: 1, 3442: 1, 3440: 1, 3439: 1, 3435: 1, 3433: 1, 3424: 1, 3414: 1, 3412: 1, 3409: 1, 3403: 1, 3391: 1, 3390: 1, 3387: 1, 3386: 1, 3383: 1, 3375: 1, 3373: 1, 3369: 1, 3356: 1, 3355: 1, 3354: 1, 3348: 1, 3344: 1, 3340: 1, 3336: 1, 3333: 1, 3332: 1, 3330: 1, 3328: 1, 3319: 1, 3318: 1, 3305: 1, 3303: 1, 3299: 1, 3296: 1, 3294: 1, 3291: 1, 3279: 1, 3278: 1, 3276: 1, 3264: 1, 3263: 1, 3262: 1, 3261: 1, 3260: 1, 3257: 1, 3256: 1, 3251: 1, 3246: 1, 3245: 1, 3244: 1, 3241: 1, 3239: 1, 3232: 1, 3229: 1, 3226: 1, 3225: 1, 3223: 1, 3217: 1, 3209: 1, 3204: 1, 3201: 1, 3200: 1, 3195: 1, 3192: 1, 3191: 1, 3180: 1, 3177: 1, 3170: 1, 3164: 1, 3156: 1, 3148: 1, 3143: 1, 3138: 1, 3137: 1, 3131: 1, 3127: 1, 3125: 1, 3120: 1, 3117: 1, 3113: 1, 3105: 1, 3103: 1, 3102: 1, 3096: 1, 3094: 1, 3076: 1, 3073: 1, 3064: 1, 3056: 1, 3051: 1, 3049: 1, 3046: 1, 3045: 1, 3042: 1, 3040: 1, 3035: 1, 3032: 1, 3023: 1, 3012: 1, 3007: 1, 3006: 1, 3003: 1, 3002: 1, 2988: 1, 2985: 1, 2984: 1, 2973: 1, 2968: 1, 2967: 1, 2960: 1, 2943: 1, 2942: 1, 2935: 1, 2932: 1, 2925: 1, 2924: 1, 2915: 1, 2908: 1, 2907: 1, 2905: 1, 2902: 1, 2901: 1, 2900: 1, 2896: 1, 2889: 1, 2883: 1, 2882: 1, 2877: 1, 2874: 1, 2869: 1, 2858: 1, 2854: 1, 2852: 1, 2847: 1, 2835: 1, 2827: 1, 2820: 1, 2819: 1, 2806: 1, 2804: 1, 2801: 1, 2800: 1, 2796: 1, 2790: 1, 2774: 1, 2771: 1, 2762: 1, 2758: 1, 2757: 1, 2756: 1, 2752: 1, 2751: 1, 2743: 1, 2734: 1, 2732: 1, 2724: 1, 2723: 1, 2720: 1, 2718: 1, 2710: 1, 2695: 1, 2690: 1, 2687: 1, 2683: 1, 2676: 1, 2673: 1, 2671: 1, 2669: 1, 2651: 1, 2648: 1, 2635: 1, 2633: 1, 2632: 1, 2631: 1, 2630: 1, 2628: 1, 2627: 1, 2626: 1, 2623: 1, 2621: 1, 2620: 1, 2619: 1, 2613: 1, 2611: 1, 2606: 1, 2604: 1, 2597: 1, 2596: 1, 2592: 1, 2582: 1, 2570: 1, 2568: 1, 2566: 1, 2565: 1, 2562: 1, 2561: 1, 2554: 1, 2553: 1, 2550: 1, 2544: 1, 2540: 1, 2536: 1, 2533: 1, 2525: 1, 2514: 1, 2512: 1, 2511: 1, 2509: 1, 2507: 1, 2502: 1, 2497: 1, 2495: 1, 2487: 1, 2477: 1, 2475: 1, 2470: 1, 2469: 1, 2465: 1, 2464: 1, 2463: 1, 2461: 1, 2458: 1, 2457: 1, 2454: 1, 2452: 1, 2451: 1, 2449: 1, 2445: 1, 2437: 1, 2430: 1, 2419: 1, 2417: 1, 2416: 1, 2411: 1, 2410: 1, 2407: 1, 2401: 1, 2400: 1, 2391: 1, 2390: 1, 2387: 1, 2384: 1, 2380: 1, 2375: 1, 2374: 1, 2373: 1, 2372: 1, 2371: 1, 2369: 1, 2368: 1, 2360: 1, 2359: 1, 2351: 1, 2350: 1, 2348: 1, 2343: 1, 2337: 1, 2331: 1, 2329: 1, 2328: 1, 2324: 1, 2319: 1, 2315: 1, 2310: 1, 2306: 1, 2305: 1, 2302: 1, 2301: 1, 2296: 1, 2295: 1, 2287: 1, 2281: 1, 2279: 1, 2274: 1, 2270: 1, 2268: 1, 2267: 1, 2265: 1, 2258: 1, 2257: 1, 2254: 1, 2250: 1, 2244: 1, 2243: 1, 2234: 1, 2229: 1, 2226: 1, 2221: 1, 2219: 1, 2216: 1, 2212: 1, 2210: 1, 2204: 1, 2202: 1, 2196: 1, 2195: 1, 2187: 1, 2184: 1, 2180: 1, 2177: 1, 2174: 1, 2170: 1, 2166: 1, 2164: 1, 2163: 1, 2162: 1, 2161: 1, 2160: 1, 2159: 1, 2157: 1, 2153: 1, 2152: 1, 2148: 1, 2144: 1, 2139: 1, 2136: 1, 2135: 1, 2133: 1, 2131: 1, 2129: 1, 2125: 1, 2122: 1, 2118: 1, 2116: 1, 2113: 1, 2110: 1, 2107: 1, 2106: 1, 2102: 1, 2096: 1, 2094: 1, 2084: 1, 2082: 1, 2074: 1, 2073: 1, 2067: 1, 2066: 1, 2059: 1, 2052: 1, 2050: 1, 2049: 1, 2047: 1, 2045: 1, 2044: 1, 2043: 1, 2041: 1, 2037: 1, 2036: 1, 2034: 1, 2032: 1, 2029: 1, 2028: 1, 2027: 1, 2022: 1, 2021: 1, 2018: 1, 2015: 1, 2011: 1, 2010: 1, 2001: 1, 1996: 1, 1995: 1, 1992: 1, 1991: 1, 1984: 1, 1981: 1, 1980: 1, 1975: 1, 1969: 1, 1964: 1, 1958: 1, 1955: 1, 1952: 1, 1951: 1, 1948: 1, 1947: 1, 1946: 1, 1945: 1, 1943: 1, 1939: 1, 1934: 1, 1932: 1, 1930: 1, 1926: 1, 1920: 1, 1918: 1, 1915: 1, 1912: 1, 1907: 1, 1905: 1, 1904: 1, 1900: 1, 1897: 1, 1895: 1, 1894: 1, 1889: 1, 1885: 1, 1880: 1, 1878: 1, 1876: 1, 1875: 1, 1874: 1, 1872: 1, 1868: 1, 1865: 1, 1862: 1, 1861: 1, 1857: 1, 1856: 1, 1855: 1, 1854: 1, 1851: 1, 1849: 1, 1848: 1, 1844: 1, 1840: 1, 1838: 1, 1837: 1, 1835: 1, 1833: 1, 1832: 1, 1831: 1, 1827: 1, 1823: 1, 1819: 1, 1815: 1, 1811: 1, 1804: 1, 1798: 1, 1791: 1, 1790: 1, 1789: 1, 1786: 1, 1784: 1, 1783: 1, 1780: 1, 1776: 1, 1774: 1, 1773: 1, 1768: 1, 1767: 1, 1766: 1, 1760: 1, 1757: 1, 1754: 1, 1753: 1, 1751: 1, 1750: 1, 1749: 1, 1747: 1, 1744: 1, 1741: 1, 1739: 1, 1735: 1, 1733: 1, 1730: 1, 1727: 1, 1726: 1, 1725: 1, 1724: 1, 1714: 1, 1711: 1, 1708: 1, 1703: 1, 1702: 1, 1696: 1, 1691: 1, 1689: 1, 1678: 1, 1676: 1, 1675: 1, 1673: 1, 1662: 1, 1660: 1, 1659: 1, 1655: 1, 1654: 1, 1651: 1, 1649: 1, 1642: 1, 1641: 1, 1638: 1, 1636: 1, 1634: 1, 1628: 1, 1625: 1, 1624: 1, 1622: 1, 1619: 1, 1617: 1, 1613: 1, 1612: 1, 1611: 1, 1610: 1, 1608: 1, 1603: 1, 1601: 1, 1598: 1, 1595: 1, 1592: 1, 1591: 1, 1590: 1, 1589: 1, 1588: 1, 1582: 1, 1581: 1, 1576: 1, 1573: 1, 1572: 1, 1570: 1, 1566: 1, 1564: 1, 1561: 1, 1545: 1, 1544: 1, 1541: 1, 1538: 1, 1537: 1, 1536: 1, 1535: 1, 1530: 1, 1529: 1, 1528: 1, 1527: 1, 1526: 1, 1525: 1, 1521: 1, 1519: 1, 1513: 1, 1511: 1, 1509: 1, 1507: 1, 1506: 1, 1504: 1, 1503: 1, 1502: 1, 1501: 1, 1499: 1, 1495: 1, 1493: 1, 1491: 1, 1490: 1, 1489: 1, 1488: 1, 1485: 1, 1476: 1, 1475: 1, 1474: 1, 1471: 1, 1470: 1, 1462: 1, 1457: 1, 1455: 1, 1454: 1, 1452: 1, 1449: 1, 1448: 1, 1444: 1, 1443: 1, 1432: 1, 1425: 1, 1424: 1, 1421: 1, 1420: 1, 1416: 1, 1413: 1, 1412: 1, 1411: 1, 1407: 1, 1402: 1, 1401: 1, 1400: 1, 1399: 1, 1396: 1, 1394: 1, 1393: 1, 1392: 1, 1387: 1, 1382: 1, 1381: 1, 1378: 1, 1375: 1, 1373: 1, 1370: 1, 1369: 1, 1366: 1, 1364: 1, 1361: 1, 1360: 1, 1359: 1, 1352: 1, 1349: 1, 1336: 1, 1332: 1, 1330: 1, 1326: 1, 1323: 1, 1320: 1, 1318: 1, 1314: 1, 1312: 1, 1310: 1, 1308: 1, 1306: 1, 1302: 1, 1288: 1, 1287: 1, 1286: 1, 1284: 1, 1275: 1, 1270: 1, 1266: 1, 1265: 1, 1261: 1, 1260: 1, 1259: 1, 1254: 1, 1253: 1, 1250: 1, 1245: 1, 1242: 1, 1240: 1, 1238: 1, 1236: 1, 1234: 1, 1233: 1, 1232: 1, 1230: 1, 1226: 1, 1223: 1, 1222: 1, 1216: 1, 1211: 1, 1208: 1, 1207: 1, 1200: 1, 1197: 1, 1194: 1, 1193: 1, 1192: 1, 1190: 1, 1189: 1, 1188: 1, 1187: 1, 1184: 1, 1177: 1, 1175: 1, 1174: 1, 1167: 1, 1166: 1, 1162: 1, 1157: 1, 1151: 1, 1148: 1, 1146: 1, 1144: 1, 1141: 1, 1138: 1, 1137: 1, 1134: 1, 1132: 1, 1131: 1, 1130: 1, 1124: 1, 1123: 1, 1122: 1, 1121: 1, 1120: 1, 1119: 1, 1117: 1, 1115: 1, 1113: 1, 1108: 1, 1105: 1, 1101: 1, 1100: 1, 1099: 1, 1098: 1, 1094: 1, 1091: 1, 1090: 1, 1086: 1, 1083: 1, 1080: 1, 1076: 1, 1071: 1, 1065: 1, 1062: 1, 1061: 1, 1059: 1, 1058: 1, 1057: 1, 1055: 1, 1053: 1, 1051: 1, 1047: 1, 1046: 1, 1045: 1, 1043: 1, 1042: 1, 1041: 1, 1035: 1, 1034: 1, 1030: 1, 1029: 1, 1024: 1, 1022: 1, 1016: 1, 1015: 1, 1013: 1, 1012: 1, 1010: 1, 1008: 1, 1006: 1, 1005: 1, 999: 1, 989: 1, 988: 1, 987: 1, 973: 1, 972: 1, 971: 1, 970: 1, 966: 1, 963: 1, 956: 1, 955: 1, 947: 1, 946: 1, 941: 1, 934: 1, 930: 1, 929: 1, 928: 1, 927: 1, 925: 1, 923: 1, 921: 1, 915: 1, 912: 1, 911: 1, 907: 1, 906: 1, 903: 1, 889: 1, 887: 1, 884: 1, 883: 1, 881: 1, 875: 1, 874: 1, 872: 1, 871: 1, 862: 1, 857: 1, 855: 1, 853: 1, 852: 1, 844: 1, 839: 1, 829: 1, 828: 1, 821: 1, 820: 1, 818: 1, 816: 1, 809: 1, 807: 1, 800: 1, 797: 1, 795: 1, 790: 1, 788: 1, 783: 1, 769: 1, 761: 1, 756: 1, 753: 1, 750: 1, 749: 1, 747: 1, 737: 1, 736: 1, 734: 1, 732: 1, 725: 1, 714: 1, 709: 1, 681: 1, 680: 1, 677: 1, 676: 1, 671: 1, 661: 1, 656: 1, 654: 1, 643: 1, 641: 1, 639: 1, 638: 1, 636: 1, 635: 1, 603: 1, 602: 1, 598: 1, 597: 1, 580: 1, 579: 1, 554: 1, 550: 1, 536: 1, 517: 1, 497: 1, 474: 1})\n"
     ]
    }
   ],
   "source": [
    "# Number of words for a given frequency.\n",
    "from collections import Counter\n",
    "print(Counter(sorted_text_occur))"
   ]
  },
  {
   "cell_type": "markdown",
   "metadata": {},
   "source": [
    "#### Lets build model with only 'TEXT' column to see its important"
   ]
  },
  {
   "cell_type": "code",
   "execution_count": 73,
   "metadata": {},
   "outputs": [
    {
     "name": "stderr",
     "output_type": "stream",
     "text": [
      "C:\\ProgramData\\Anaconda3\\lib\\site-packages\\sklearn\\linear_model\\stochastic_gradient.py:128: FutureWarning: max_iter and tol parameters have been added in <class 'sklearn.linear_model.stochastic_gradient.SGDClassifier'> in 0.19. If both are left unset, they default to max_iter=5 and tol=None. If tol is not None, max_iter defaults to max_iter=1000. From 0.21, default max_iter will be 1000, and default tol will be 1e-3.\n",
      "  \"and default tol will be 1e-3.\" % type(self), FutureWarning)\n",
      "C:\\ProgramData\\Anaconda3\\lib\\site-packages\\sklearn\\linear_model\\stochastic_gradient.py:128: FutureWarning: max_iter and tol parameters have been added in <class 'sklearn.linear_model.stochastic_gradient.SGDClassifier'> in 0.19. If both are left unset, they default to max_iter=5 and tol=None. If tol is not None, max_iter defaults to max_iter=1000. From 0.21, default max_iter will be 1000, and default tol will be 1e-3.\n",
      "  \"and default tol will be 1e-3.\" % type(self), FutureWarning)\n",
      "C:\\ProgramData\\Anaconda3\\lib\\site-packages\\sklearn\\calibration.py:435: RuntimeWarning: overflow encountered in exp\n",
      "  E = np.exp(AB[0] * F + AB[1])\n",
      "C:\\ProgramData\\Anaconda3\\lib\\site-packages\\sklearn\\calibration.py:445: RuntimeWarning: overflow encountered in exp\n",
      "  E = np.exp(AB[0] * F + AB[1])\n",
      "C:\\ProgramData\\Anaconda3\\lib\\site-packages\\sklearn\\calibration.py:447: RuntimeWarning: invalid value encountered in multiply\n",
      "  TEP_minus_T1P = P * (T * E - T1)\n",
      "C:\\ProgramData\\Anaconda3\\lib\\site-packages\\sklearn\\calibration.py:435: RuntimeWarning: overflow encountered in exp\n",
      "  E = np.exp(AB[0] * F + AB[1])\n",
      "C:\\ProgramData\\Anaconda3\\lib\\site-packages\\sklearn\\calibration.py:435: RuntimeWarning: overflow encountered in exp\n",
      "  E = np.exp(AB[0] * F + AB[1])\n",
      "C:\\ProgramData\\Anaconda3\\lib\\site-packages\\sklearn\\calibration.py:445: RuntimeWarning: overflow encountered in exp\n",
      "  E = np.exp(AB[0] * F + AB[1])\n",
      "C:\\ProgramData\\Anaconda3\\lib\\site-packages\\sklearn\\calibration.py:447: RuntimeWarning: invalid value encountered in multiply\n",
      "  TEP_minus_T1P = P * (T * E - T1)\n",
      "C:\\ProgramData\\Anaconda3\\lib\\site-packages\\sklearn\\calibration.py:435: RuntimeWarning: overflow encountered in exp\n",
      "  E = np.exp(AB[0] * F + AB[1])\n",
      "C:\\ProgramData\\Anaconda3\\lib\\site-packages\\sklearn\\linear_model\\stochastic_gradient.py:128: FutureWarning: max_iter and tol parameters have been added in <class 'sklearn.linear_model.stochastic_gradient.SGDClassifier'> in 0.19. If both are left unset, they default to max_iter=5 and tol=None. If tol is not None, max_iter defaults to max_iter=1000. From 0.21, default max_iter will be 1000, and default tol will be 1e-3.\n",
      "  \"and default tol will be 1e-3.\" % type(self), FutureWarning)\n",
      "C:\\ProgramData\\Anaconda3\\lib\\site-packages\\sklearn\\calibration.py:435: RuntimeWarning: overflow encountered in exp\n",
      "  E = np.exp(AB[0] * F + AB[1])\n",
      "C:\\ProgramData\\Anaconda3\\lib\\site-packages\\sklearn\\calibration.py:445: RuntimeWarning: overflow encountered in exp\n",
      "  E = np.exp(AB[0] * F + AB[1])\n",
      "C:\\ProgramData\\Anaconda3\\lib\\site-packages\\sklearn\\calibration.py:447: RuntimeWarning: invalid value encountered in multiply\n",
      "  TEP_minus_T1P = P * (T * E - T1)\n",
      "C:\\ProgramData\\Anaconda3\\lib\\site-packages\\sklearn\\calibration.py:435: RuntimeWarning: overflow encountered in exp\n",
      "  E = np.exp(AB[0] * F + AB[1])\n",
      "C:\\ProgramData\\Anaconda3\\lib\\site-packages\\sklearn\\calibration.py:435: RuntimeWarning: overflow encountered in exp\n",
      "  E = np.exp(AB[0] * F + AB[1])\n",
      "C:\\ProgramData\\Anaconda3\\lib\\site-packages\\sklearn\\calibration.py:445: RuntimeWarning: overflow encountered in exp\n",
      "  E = np.exp(AB[0] * F + AB[1])\n",
      "C:\\ProgramData\\Anaconda3\\lib\\site-packages\\sklearn\\calibration.py:447: RuntimeWarning: invalid value encountered in multiply\n",
      "  TEP_minus_T1P = P * (T * E - T1)\n",
      "C:\\ProgramData\\Anaconda3\\lib\\site-packages\\sklearn\\calibration.py:435: RuntimeWarning: overflow encountered in exp\n",
      "  E = np.exp(AB[0] * F + AB[1])\n",
      "C:\\ProgramData\\Anaconda3\\lib\\site-packages\\sklearn\\calibration.py:435: RuntimeWarning: overflow encountered in exp\n",
      "  E = np.exp(AB[0] * F + AB[1])\n",
      "C:\\ProgramData\\Anaconda3\\lib\\site-packages\\sklearn\\calibration.py:445: RuntimeWarning: overflow encountered in exp\n",
      "  E = np.exp(AB[0] * F + AB[1])\n",
      "C:\\ProgramData\\Anaconda3\\lib\\site-packages\\sklearn\\calibration.py:447: RuntimeWarning: invalid value encountered in multiply\n",
      "  TEP_minus_T1P = P * (T * E - T1)\n",
      "C:\\ProgramData\\Anaconda3\\lib\\site-packages\\sklearn\\calibration.py:435: RuntimeWarning: overflow encountered in exp\n",
      "  E = np.exp(AB[0] * F + AB[1])\n",
      "C:\\ProgramData\\Anaconda3\\lib\\site-packages\\sklearn\\linear_model\\stochastic_gradient.py:128: FutureWarning: max_iter and tol parameters have been added in <class 'sklearn.linear_model.stochastic_gradient.SGDClassifier'> in 0.19. If both are left unset, they default to max_iter=5 and tol=None. If tol is not None, max_iter defaults to max_iter=1000. From 0.21, default max_iter will be 1000, and default tol will be 1e-3.\n",
      "  \"and default tol will be 1e-3.\" % type(self), FutureWarning)\n",
      "C:\\ProgramData\\Anaconda3\\lib\\site-packages\\sklearn\\calibration.py:435: RuntimeWarning: overflow encountered in exp\n",
      "  E = np.exp(AB[0] * F + AB[1])\n",
      "C:\\ProgramData\\Anaconda3\\lib\\site-packages\\sklearn\\calibration.py:445: RuntimeWarning: overflow encountered in exp\n",
      "  E = np.exp(AB[0] * F + AB[1])\n",
      "C:\\ProgramData\\Anaconda3\\lib\\site-packages\\sklearn\\calibration.py:447: RuntimeWarning: invalid value encountered in multiply\n",
      "  TEP_minus_T1P = P * (T * E - T1)\n",
      "C:\\ProgramData\\Anaconda3\\lib\\site-packages\\sklearn\\calibration.py:435: RuntimeWarning: overflow encountered in exp\n",
      "  E = np.exp(AB[0] * F + AB[1])\n",
      "C:\\ProgramData\\Anaconda3\\lib\\site-packages\\sklearn\\calibration.py:435: RuntimeWarning: overflow encountered in exp\n",
      "  E = np.exp(AB[0] * F + AB[1])\n",
      "C:\\ProgramData\\Anaconda3\\lib\\site-packages\\sklearn\\calibration.py:445: RuntimeWarning: overflow encountered in exp\n",
      "  E = np.exp(AB[0] * F + AB[1])\n",
      "C:\\ProgramData\\Anaconda3\\lib\\site-packages\\sklearn\\calibration.py:447: RuntimeWarning: invalid value encountered in multiply\n",
      "  TEP_minus_T1P = P * (T * E - T1)\n",
      "C:\\ProgramData\\Anaconda3\\lib\\site-packages\\sklearn\\calibration.py:435: RuntimeWarning: overflow encountered in exp\n",
      "  E = np.exp(AB[0] * F + AB[1])\n",
      "C:\\ProgramData\\Anaconda3\\lib\\site-packages\\sklearn\\calibration.py:435: RuntimeWarning: overflow encountered in exp\n",
      "  E = np.exp(AB[0] * F + AB[1])\n",
      "C:\\ProgramData\\Anaconda3\\lib\\site-packages\\sklearn\\calibration.py:445: RuntimeWarning: overflow encountered in exp\n",
      "  E = np.exp(AB[0] * F + AB[1])\n",
      "C:\\ProgramData\\Anaconda3\\lib\\site-packages\\sklearn\\calibration.py:447: RuntimeWarning: invalid value encountered in multiply\n",
      "  TEP_minus_T1P = P * (T * E - T1)\n",
      "C:\\ProgramData\\Anaconda3\\lib\\site-packages\\sklearn\\calibration.py:435: RuntimeWarning: overflow encountered in exp\n",
      "  E = np.exp(AB[0] * F + AB[1])\n",
      "C:\\ProgramData\\Anaconda3\\lib\\site-packages\\sklearn\\calibration.py:435: RuntimeWarning: overflow encountered in exp\n",
      "  E = np.exp(AB[0] * F + AB[1])\n",
      "C:\\ProgramData\\Anaconda3\\lib\\site-packages\\sklearn\\calibration.py:445: RuntimeWarning: overflow encountered in exp\n",
      "  E = np.exp(AB[0] * F + AB[1])\n",
      "C:\\ProgramData\\Anaconda3\\lib\\site-packages\\sklearn\\calibration.py:447: RuntimeWarning: invalid value encountered in multiply\n",
      "  TEP_minus_T1P = P * (T * E - T1)\n",
      "C:\\ProgramData\\Anaconda3\\lib\\site-packages\\sklearn\\calibration.py:435: RuntimeWarning: overflow encountered in exp\n",
      "  E = np.exp(AB[0] * F + AB[1])\n"
     ]
    },
    {
     "name": "stdout",
     "output_type": "stream",
     "text": [
      "For values of alpha =  1e-05 The log loss is: 1.3635452314084857\n"
     ]
    },
    {
     "name": "stderr",
     "output_type": "stream",
     "text": [
      "C:\\ProgramData\\Anaconda3\\lib\\site-packages\\sklearn\\linear_model\\stochastic_gradient.py:128: FutureWarning: max_iter and tol parameters have been added in <class 'sklearn.linear_model.stochastic_gradient.SGDClassifier'> in 0.19. If both are left unset, they default to max_iter=5 and tol=None. If tol is not None, max_iter defaults to max_iter=1000. From 0.21, default max_iter will be 1000, and default tol will be 1e-3.\n",
      "  \"and default tol will be 1e-3.\" % type(self), FutureWarning)\n",
      "C:\\ProgramData\\Anaconda3\\lib\\site-packages\\sklearn\\linear_model\\stochastic_gradient.py:128: FutureWarning: max_iter and tol parameters have been added in <class 'sklearn.linear_model.stochastic_gradient.SGDClassifier'> in 0.19. If both are left unset, they default to max_iter=5 and tol=None. If tol is not None, max_iter defaults to max_iter=1000. From 0.21, default max_iter will be 1000, and default tol will be 1e-3.\n",
      "  \"and default tol will be 1e-3.\" % type(self), FutureWarning)\n",
      "C:\\ProgramData\\Anaconda3\\lib\\site-packages\\sklearn\\linear_model\\stochastic_gradient.py:128: FutureWarning: max_iter and tol parameters have been added in <class 'sklearn.linear_model.stochastic_gradient.SGDClassifier'> in 0.19. If both are left unset, they default to max_iter=5 and tol=None. If tol is not None, max_iter defaults to max_iter=1000. From 0.21, default max_iter will be 1000, and default tol will be 1e-3.\n",
      "  \"and default tol will be 1e-3.\" % type(self), FutureWarning)\n",
      "C:\\ProgramData\\Anaconda3\\lib\\site-packages\\sklearn\\linear_model\\stochastic_gradient.py:128: FutureWarning: max_iter and tol parameters have been added in <class 'sklearn.linear_model.stochastic_gradient.SGDClassifier'> in 0.19. If both are left unset, they default to max_iter=5 and tol=None. If tol is not None, max_iter defaults to max_iter=1000. From 0.21, default max_iter will be 1000, and default tol will be 1e-3.\n",
      "  \"and default tol will be 1e-3.\" % type(self), FutureWarning)\n"
     ]
    },
    {
     "name": "stdout",
     "output_type": "stream",
     "text": [
      "For values of alpha =  0.0001 The log loss is: 1.3473463815155957\n"
     ]
    },
    {
     "name": "stderr",
     "output_type": "stream",
     "text": [
      "C:\\ProgramData\\Anaconda3\\lib\\site-packages\\sklearn\\linear_model\\stochastic_gradient.py:128: FutureWarning: max_iter and tol parameters have been added in <class 'sklearn.linear_model.stochastic_gradient.SGDClassifier'> in 0.19. If both are left unset, they default to max_iter=5 and tol=None. If tol is not None, max_iter defaults to max_iter=1000. From 0.21, default max_iter will be 1000, and default tol will be 1e-3.\n",
      "  \"and default tol will be 1e-3.\" % type(self), FutureWarning)\n",
      "C:\\ProgramData\\Anaconda3\\lib\\site-packages\\sklearn\\linear_model\\stochastic_gradient.py:128: FutureWarning: max_iter and tol parameters have been added in <class 'sklearn.linear_model.stochastic_gradient.SGDClassifier'> in 0.19. If both are left unset, they default to max_iter=5 and tol=None. If tol is not None, max_iter defaults to max_iter=1000. From 0.21, default max_iter will be 1000, and default tol will be 1e-3.\n",
      "  \"and default tol will be 1e-3.\" % type(self), FutureWarning)\n",
      "C:\\ProgramData\\Anaconda3\\lib\\site-packages\\sklearn\\linear_model\\stochastic_gradient.py:128: FutureWarning: max_iter and tol parameters have been added in <class 'sklearn.linear_model.stochastic_gradient.SGDClassifier'> in 0.19. If both are left unset, they default to max_iter=5 and tol=None. If tol is not None, max_iter defaults to max_iter=1000. From 0.21, default max_iter will be 1000, and default tol will be 1e-3.\n",
      "  \"and default tol will be 1e-3.\" % type(self), FutureWarning)\n",
      "C:\\ProgramData\\Anaconda3\\lib\\site-packages\\sklearn\\linear_model\\stochastic_gradient.py:128: FutureWarning: max_iter and tol parameters have been added in <class 'sklearn.linear_model.stochastic_gradient.SGDClassifier'> in 0.19. If both are left unset, they default to max_iter=5 and tol=None. If tol is not None, max_iter defaults to max_iter=1000. From 0.21, default max_iter will be 1000, and default tol will be 1e-3.\n",
      "  \"and default tol will be 1e-3.\" % type(self), FutureWarning)\n"
     ]
    },
    {
     "name": "stdout",
     "output_type": "stream",
     "text": [
      "For values of alpha =  0.001 The log loss is: 1.2462146390989044\n"
     ]
    },
    {
     "name": "stderr",
     "output_type": "stream",
     "text": [
      "C:\\ProgramData\\Anaconda3\\lib\\site-packages\\sklearn\\linear_model\\stochastic_gradient.py:128: FutureWarning: max_iter and tol parameters have been added in <class 'sklearn.linear_model.stochastic_gradient.SGDClassifier'> in 0.19. If both are left unset, they default to max_iter=5 and tol=None. If tol is not None, max_iter defaults to max_iter=1000. From 0.21, default max_iter will be 1000, and default tol will be 1e-3.\n",
      "  \"and default tol will be 1e-3.\" % type(self), FutureWarning)\n",
      "C:\\ProgramData\\Anaconda3\\lib\\site-packages\\sklearn\\linear_model\\stochastic_gradient.py:128: FutureWarning: max_iter and tol parameters have been added in <class 'sklearn.linear_model.stochastic_gradient.SGDClassifier'> in 0.19. If both are left unset, they default to max_iter=5 and tol=None. If tol is not None, max_iter defaults to max_iter=1000. From 0.21, default max_iter will be 1000, and default tol will be 1e-3.\n",
      "  \"and default tol will be 1e-3.\" % type(self), FutureWarning)\n",
      "C:\\ProgramData\\Anaconda3\\lib\\site-packages\\sklearn\\linear_model\\stochastic_gradient.py:128: FutureWarning: max_iter and tol parameters have been added in <class 'sklearn.linear_model.stochastic_gradient.SGDClassifier'> in 0.19. If both are left unset, they default to max_iter=5 and tol=None. If tol is not None, max_iter defaults to max_iter=1000. From 0.21, default max_iter will be 1000, and default tol will be 1e-3.\n",
      "  \"and default tol will be 1e-3.\" % type(self), FutureWarning)\n"
     ]
    },
    {
     "name": "stdout",
     "output_type": "stream",
     "text": [
      "For values of alpha =  0.01 The log loss is: 1.3084810596745038\n"
     ]
    },
    {
     "name": "stderr",
     "output_type": "stream",
     "text": [
      "C:\\ProgramData\\Anaconda3\\lib\\site-packages\\sklearn\\linear_model\\stochastic_gradient.py:128: FutureWarning: max_iter and tol parameters have been added in <class 'sklearn.linear_model.stochastic_gradient.SGDClassifier'> in 0.19. If both are left unset, they default to max_iter=5 and tol=None. If tol is not None, max_iter defaults to max_iter=1000. From 0.21, default max_iter will be 1000, and default tol will be 1e-3.\n",
      "  \"and default tol will be 1e-3.\" % type(self), FutureWarning)\n",
      "C:\\ProgramData\\Anaconda3\\lib\\site-packages\\sklearn\\linear_model\\stochastic_gradient.py:128: FutureWarning: max_iter and tol parameters have been added in <class 'sklearn.linear_model.stochastic_gradient.SGDClassifier'> in 0.19. If both are left unset, they default to max_iter=5 and tol=None. If tol is not None, max_iter defaults to max_iter=1000. From 0.21, default max_iter will be 1000, and default tol will be 1e-3.\n",
      "  \"and default tol will be 1e-3.\" % type(self), FutureWarning)\n",
      "C:\\ProgramData\\Anaconda3\\lib\\site-packages\\sklearn\\linear_model\\stochastic_gradient.py:128: FutureWarning: max_iter and tol parameters have been added in <class 'sklearn.linear_model.stochastic_gradient.SGDClassifier'> in 0.19. If both are left unset, they default to max_iter=5 and tol=None. If tol is not None, max_iter defaults to max_iter=1000. From 0.21, default max_iter will be 1000, and default tol will be 1e-3.\n",
      "  \"and default tol will be 1e-3.\" % type(self), FutureWarning)\n"
     ]
    },
    {
     "name": "stdout",
     "output_type": "stream",
     "text": [
      "For values of alpha =  0.1 The log loss is: 1.5079009191511201\n"
     ]
    },
    {
     "name": "stderr",
     "output_type": "stream",
     "text": [
      "C:\\ProgramData\\Anaconda3\\lib\\site-packages\\sklearn\\linear_model\\stochastic_gradient.py:128: FutureWarning: max_iter and tol parameters have been added in <class 'sklearn.linear_model.stochastic_gradient.SGDClassifier'> in 0.19. If both are left unset, they default to max_iter=5 and tol=None. If tol is not None, max_iter defaults to max_iter=1000. From 0.21, default max_iter will be 1000, and default tol will be 1e-3.\n",
      "  \"and default tol will be 1e-3.\" % type(self), FutureWarning)\n",
      "C:\\ProgramData\\Anaconda3\\lib\\site-packages\\sklearn\\linear_model\\stochastic_gradient.py:128: FutureWarning: max_iter and tol parameters have been added in <class 'sklearn.linear_model.stochastic_gradient.SGDClassifier'> in 0.19. If both are left unset, they default to max_iter=5 and tol=None. If tol is not None, max_iter defaults to max_iter=1000. From 0.21, default max_iter will be 1000, and default tol will be 1e-3.\n",
      "  \"and default tol will be 1e-3.\" % type(self), FutureWarning)\n",
      "C:\\ProgramData\\Anaconda3\\lib\\site-packages\\sklearn\\linear_model\\stochastic_gradient.py:128: FutureWarning: max_iter and tol parameters have been added in <class 'sklearn.linear_model.stochastic_gradient.SGDClassifier'> in 0.19. If both are left unset, they default to max_iter=5 and tol=None. If tol is not None, max_iter defaults to max_iter=1000. From 0.21, default max_iter will be 1000, and default tol will be 1e-3.\n",
      "  \"and default tol will be 1e-3.\" % type(self), FutureWarning)\n"
     ]
    },
    {
     "name": "stdout",
     "output_type": "stream",
     "text": [
      "For values of alpha =  1 The log loss is: 1.683621490681199\n"
     ]
    }
   ],
   "source": [
    "cv_log_error_array=[]\n",
    "for i in alpha:\n",
    "    clf = SGDClassifier(alpha=i, penalty='l2', loss='log', random_state=42)\n",
    "    clf.fit(train_text_feature_onehotCoding, y_train)\n",
    "    \n",
    "    sig_clf = CalibratedClassifierCV(clf, method=\"sigmoid\")\n",
    "    sig_clf.fit(train_text_feature_onehotCoding, y_train)\n",
    "    predict_y = sig_clf.predict_proba(cv_text_feature_onehotCoding)\n",
    "    cv_log_error_array.append(log_loss(y_cv, predict_y, labels=clf.classes_, eps=1e-15))\n",
    "    print('For values of alpha = ', i, \"The log loss is:\",log_loss(y_cv, predict_y, labels=clf.classes_, eps=1e-15))"
   ]
  },
  {
   "cell_type": "code",
   "execution_count": 74,
   "metadata": {},
   "outputs": [
    {
     "name": "stderr",
     "output_type": "stream",
     "text": [
      "C:\\ProgramData\\Anaconda3\\lib\\site-packages\\sklearn\\linear_model\\stochastic_gradient.py:128: FutureWarning: max_iter and tol parameters have been added in <class 'sklearn.linear_model.stochastic_gradient.SGDClassifier'> in 0.19. If both are left unset, they default to max_iter=5 and tol=None. If tol is not None, max_iter defaults to max_iter=1000. From 0.21, default max_iter will be 1000, and default tol will be 1e-3.\n",
      "  \"and default tol will be 1e-3.\" % type(self), FutureWarning)\n",
      "C:\\ProgramData\\Anaconda3\\lib\\site-packages\\sklearn\\linear_model\\stochastic_gradient.py:128: FutureWarning: max_iter and tol parameters have been added in <class 'sklearn.linear_model.stochastic_gradient.SGDClassifier'> in 0.19. If both are left unset, they default to max_iter=5 and tol=None. If tol is not None, max_iter defaults to max_iter=1000. From 0.21, default max_iter will be 1000, and default tol will be 1e-3.\n",
      "  \"and default tol will be 1e-3.\" % type(self), FutureWarning)\n",
      "C:\\ProgramData\\Anaconda3\\lib\\site-packages\\sklearn\\linear_model\\stochastic_gradient.py:128: FutureWarning: max_iter and tol parameters have been added in <class 'sklearn.linear_model.stochastic_gradient.SGDClassifier'> in 0.19. If both are left unset, they default to max_iter=5 and tol=None. If tol is not None, max_iter defaults to max_iter=1000. From 0.21, default max_iter will be 1000, and default tol will be 1e-3.\n",
      "  \"and default tol will be 1e-3.\" % type(self), FutureWarning)\n",
      "C:\\ProgramData\\Anaconda3\\lib\\site-packages\\sklearn\\linear_model\\stochastic_gradient.py:128: FutureWarning: max_iter and tol parameters have been added in <class 'sklearn.linear_model.stochastic_gradient.SGDClassifier'> in 0.19. If both are left unset, they default to max_iter=5 and tol=None. If tol is not None, max_iter defaults to max_iter=1000. From 0.21, default max_iter will be 1000, and default tol will be 1e-3.\n",
      "  \"and default tol will be 1e-3.\" % type(self), FutureWarning)\n"
     ]
    },
    {
     "name": "stdout",
     "output_type": "stream",
     "text": [
      "For values of best alpha =  0.001 The train log loss is: 0.7271305461927356\n",
      "For values of best alpha =  0.001 The cross validation log loss is: 1.2462146390989044\n",
      "For values of best alpha =  0.001 The test log loss is: 1.2084056874167126\n"
     ]
    }
   ],
   "source": [
    "best_alpha = np.argmin(cv_log_error_array)\n",
    "clf = SGDClassifier(alpha=alpha[best_alpha], penalty='l2', loss='log', random_state=42)\n",
    "clf.fit(train_text_feature_onehotCoding, y_train)\n",
    "sig_clf = CalibratedClassifierCV(clf, method=\"sigmoid\")\n",
    "sig_clf.fit(train_text_feature_onehotCoding, y_train)\n",
    "\n",
    "predict_y = sig_clf.predict_proba(train_text_feature_onehotCoding)\n",
    "print('For values of best alpha = ', alpha[best_alpha], \"The train log loss is:\",log_loss(y_train, predict_y, labels=clf.classes_, eps=1e-15))\n",
    "predict_y = sig_clf.predict_proba(cv_text_feature_onehotCoding)\n",
    "print('For values of best alpha = ', alpha[best_alpha], \"The cross validation log loss is:\",log_loss(y_cv, predict_y, labels=clf.classes_, eps=1e-15))\n",
    "predict_y = sig_clf.predict_proba(test_text_feature_onehotCoding)\n",
    "print('For values of best alpha = ', alpha[best_alpha], \"The test log loss is:\",log_loss(y_test, predict_y, labels=clf.classes_, eps=1e-15))\n"
   ]
  },
  {
   "cell_type": "markdown",
   "metadata": {},
   "source": [
    "Good performance as compare to Random model\n",
    "#### Lets check the overlap of 'TEXT' data\n"
   ]
  },
  {
   "cell_type": "code",
   "execution_count": 75,
   "metadata": {},
   "outputs": [],
   "source": [
    "def get_intersec_text(df):\n",
    "    df_text_vec = CountVectorizer(min_df=3)\n",
    "    df_text_fea = df_text_vec.fit_transform(df['TEXT'])\n",
    "    df_text_features = df_text_vec.get_feature_names()\n",
    "\n",
    "    df_text_fea_counts = df_text_fea.sum(axis=0).A1\n",
    "    df_text_fea_dict = dict(zip(list(df_text_features),df_text_fea_counts))\n",
    "    len1 = len(set(df_text_features))\n",
    "    len2 = len(set(train_text_features) & set(df_text_features))\n",
    "    return len1,len2"
   ]
  },
  {
   "cell_type": "code",
   "execution_count": 76,
   "metadata": {},
   "outputs": [
    {
     "name": "stdout",
     "output_type": "stream",
     "text": [
      "96.403 % of word of test data appeared in train data\n",
      "97.617 % of word of Cross Validation appeared in train data\n"
     ]
    }
   ],
   "source": [
    "len1,len2 = get_intersec_text(X_test)\n",
    "print(np.round((len2/len1)*100, 3), \"% of word of test data appeared in train data\")\n",
    "len1,len2 = get_intersec_text(X_cv)\n",
    "print(np.round((len2/len1)*100, 3), \"% of word of Cross Validation appeared in train data\")"
   ]
  },
  {
   "cell_type": "markdown",
   "metadata": {},
   "source": [
    "So, all 3 columns are going to be important.\n",
    "### Data prepration for Machine Learning models\n",
    "\n",
    "Lets create few functions which we will be using later"
   ]
  },
  {
   "cell_type": "code",
   "execution_count": 77,
   "metadata": {},
   "outputs": [],
   "source": [
    "def report_log_loss(train_x, train_y, test_x, test_y,  clf):\n",
    "    clf.fit(train_x, train_y)\n",
    "    sig_clf = CalibratedClassifierCV(clf, method=\"sigmoid\")\n",
    "    sig_clf.fit(train_x, train_y)\n",
    "    sig_clf_probs = sig_clf.predict_proba(test_x)\n",
    "    return log_loss(test_y, sig_clf_probs, eps=1e-15)"
   ]
  },
  {
   "cell_type": "code",
   "execution_count": 78,
   "metadata": {},
   "outputs": [],
   "source": [
    "# This function plots the confusion matrices given y_i, y_i_hat.\n",
    "def plot_confusion_matrix(test_y, predict_y):\n",
    "    C = confusion_matrix(test_y, predict_y)\n",
    "    \n",
    "    A =(((C.T)/(C.sum(axis=1))).T)\n",
    "    \n",
    "    B =(C/C.sum(axis=0)) \n",
    "    labels = [1,2,3,4,5,6,7,8,9]\n",
    "    # representing A in heatmap format\n",
    "    print(\"-\"*20, \"Confusion matrix\", \"-\"*20)\n",
    "    plt.figure(figsize=(20,7))\n",
    "    sns.heatmap(C, annot=True, cmap=\"YlGnBu\", fmt=\".3f\", xticklabels=labels, yticklabels=labels)\n",
    "    plt.xlabel('Predicted Class')\n",
    "    plt.ylabel('Original Class')\n",
    "    plt.show()\n",
    "\n",
    "    print(\"-\"*20, \"Precision matrix (Columm Sum=1)\", \"-\"*20)\n",
    "    plt.figure(figsize=(20,7))\n",
    "    sns.heatmap(B, annot=True, cmap=\"YlGnBu\", fmt=\".3f\", xticklabels=labels, yticklabels=labels)\n",
    "    plt.xlabel('Predicted Class')\n",
    "    plt.ylabel('Original Class')\n",
    "    plt.show()\n",
    "    \n",
    "    # representing B in heatmap format\n",
    "    print(\"-\"*20, \"Recall matrix (Row sum=1)\", \"-\"*20)\n",
    "    plt.figure(figsize=(20,7))\n",
    "    sns.heatmap(A, annot=True, cmap=\"YlGnBu\", fmt=\".3f\", xticklabels=labels, yticklabels=labels)\n",
    "    plt.xlabel('Predicted Class')\n",
    "    plt.ylabel('Original Class')\n",
    "    plt.show()\n",
    "\n",
    "\n",
    "def predict_and_plot_confusion_matrix(train_x, train_y,test_x, test_y, clf):\n",
    "    clf.fit(train_x, train_y)\n",
    "    sig_clf = CalibratedClassifierCV(clf, method=\"sigmoid\")\n",
    "    sig_clf.fit(train_x, train_y)\n",
    "    pred_y = sig_clf.predict(test_x)\n",
    "\n",
    "    # for calculating log_loss we willl provide the array of probabilities belongs to each class\n",
    "    print(\"Log loss :\",log_loss(test_y, sig_clf.predict_proba(test_x)))\n",
    "    # calculating the number of data points that are misclassified\n",
    "    print(\"Number of mis-classified points :\", np.count_nonzero((pred_y- test_y))/test_y.shape[0])\n",
    "    plot_confusion_matrix(test_y, pred_y)"
   ]
  },
  {
   "cell_type": "code",
   "execution_count": 79,
   "metadata": {},
   "outputs": [],
   "source": [
    "# this function will be used just for naive bayes\n",
    "# for the given indices, we will print the name of the features\n",
    "# and we will check whether the feature present in the test point text or not\n",
    "def get_impfeature_names(indices, text, gene, var, no_features):\n",
    "    gene_count_vec = CountVectorizer()\n",
    "    var_count_vec = CountVectorizer()\n",
    "    text_count_vec = CountVectorizer(min_df=3)\n",
    "    \n",
    "    gene_vec = gene_count_vec.fit(X_train['Gene'])\n",
    "    var_vec  = var_count_vec.fit(X_train['Variation'])\n",
    "    text_vec = text_count_vec.fit(X_train['TEXT'])\n",
    "    \n",
    "    fea1_len = len(gene_vec.get_feature_names())\n",
    "    fea2_len = len(var_count_vec.get_feature_names())\n",
    "    \n",
    "    word_present = 0\n",
    "    for i,v in enumerate(indices):\n",
    "        if (v < fea1_len):\n",
    "            word = gene_vec.get_feature_names()[v]\n",
    "            yes_no = True if word == gene else False\n",
    "            if yes_no:\n",
    "                word_present += 1\n",
    "                print(i, \"Gene feature [{}] present in test data point [{}]\".format(word,yes_no))\n",
    "        elif (v < fea1_len+fea2_len):\n",
    "            word = var_vec.get_feature_names()[v-(fea1_len)]\n",
    "            yes_no = True if word == var else False\n",
    "            if yes_no:\n",
    "                word_present += 1\n",
    "                print(i, \"variation feature [{}] present in test data point [{}]\".format(word,yes_no))\n",
    "        else:\n",
    "            word = text_vec.get_feature_names()[v-(fea1_len+fea2_len)]\n",
    "            yes_no = True if word in text.split() else False\n",
    "            if yes_no:\n",
    "                word_present += 1\n",
    "                print(i, \"Text feature [{}] present in test data point [{}]\".format(word,yes_no))\n",
    "\n",
    "    print(\"Out of the top \",no_features,\" features \", word_present, \"are present in query point\")"
   ]
  },
  {
   "cell_type": "markdown",
   "metadata": {},
   "source": [
    "#### combining all three features together"
   ]
  },
  {
   "cell_type": "code",
   "execution_count": 80,
   "metadata": {},
   "outputs": [],
   "source": [
    "# merging gene, variance and text features\n",
    "\n",
    "# building train, test and cross validation data sets\n",
    "# a = [[1, 2], \n",
    "#      [3, 4]]\n",
    "# b = [[4, 5], \n",
    "#      [6, 7]]\n",
    "# hstack(a, b) = [[1, 2, 4, 5],\n",
    "#                [ 3, 4, 6, 7]]\n",
    "from scipy.sparse import hstack\n",
    "\n",
    "train_gene_var_onehotCoding = hstack((train_gene_feature_onehotencoding,train_variation_onehotencoding))\n",
    "test_gene_var_onehotCoding = hstack((test_gene_feature_onehotencoding,test_variation_onehotencoding))\n",
    "cv_gene_var_onehotCoding = hstack((cv_gene_feature_onehotencoding,cv_variation_onehotencoding))\n",
    "\n",
    "train_x_onehotCoding = hstack((train_gene_var_onehotCoding, train_text_feature_onehotCoding)).tocsr()\n",
    "train_y = np.array(list(X_train['Class']))\n",
    "\n",
    "test_x_onehotCoding = hstack((test_gene_var_onehotCoding, test_text_feature_onehotCoding)).tocsr()\n",
    "test_y = np.array(list(X_test['Class']))\n",
    "\n",
    "cv_x_onehotCoding = hstack((cv_gene_var_onehotCoding, cv_text_feature_onehotCoding)).tocsr()\n",
    "cv_y = np.array(list(X_cv['Class']))\n",
    "\n",
    "\n",
    "train_gene_var_responseCoding = np.hstack((train_gene_feature_responseEncoding,train_variation_responseencoding))\n",
    "test_gene_var_responseCoding = np.hstack((test_gene_feature_responseEncoding,test_variation_responseencoding))\n",
    "cv_gene_var_responseCoding = np.hstack((cv_gene_feature_responseEncoding,cv_variation_responseencoding))\n",
    "\n",
    "train_x_responseCoding = np.hstack((train_gene_var_responseCoding, train_text_feature_responseCoding))\n",
    "test_x_responseCoding = np.hstack((test_gene_var_responseCoding, test_text_feature_responseCoding))\n",
    "cv_x_responseCoding = np.hstack((cv_gene_var_responseCoding, cv_text_feature_responseCoding))\n"
   ]
  },
  {
   "cell_type": "code",
   "execution_count": 81,
   "metadata": {},
   "outputs": [
    {
     "name": "stdout",
     "output_type": "stream",
     "text": [
      "One hot encoding features :\n",
      "(number of data points * number of features) in train data =  (2124, 54327)\n",
      "(number of data points * number of features) in test data =  (665, 54327)\n",
      "(number of data points * number of features) in cross validation data = (532, 54327)\n"
     ]
    }
   ],
   "source": [
    "print(\"One hot encoding features :\")\n",
    "print(\"(number of data points * number of features) in train data = \", train_x_onehotCoding.shape)\n",
    "print(\"(number of data points * number of features) in test data = \", test_x_onehotCoding.shape)\n",
    "print(\"(number of data points * number of features) in cross validation data =\", cv_x_onehotCoding.shape)"
   ]
  },
  {
   "cell_type": "code",
   "execution_count": 82,
   "metadata": {},
   "outputs": [
    {
     "name": "stdout",
     "output_type": "stream",
     "text": [
      " Response encoding features :\n",
      "(number of data points * number of features) in train data =  (2124, 27)\n",
      "(number of data points * number of features) in test data =  (665, 27)\n",
      "(number of data points * number of features) in cross validation data = (532, 27)\n"
     ]
    }
   ],
   "source": [
    "print(\" Response encoding features :\")\n",
    "print(\"(number of data points * number of features) in train data = \", train_x_responseCoding.shape)\n",
    "print(\"(number of data points * number of features) in test data = \", test_x_responseCoding.shape)\n",
    "print(\"(number of data points * number of features) in cross validation data =\", cv_x_responseCoding.shape)"
   ]
  },
  {
   "cell_type": "markdown",
   "metadata": {},
   "source": [
    "# Building a model\n",
    "## 1. Naive Bayes"
   ]
  },
  {
   "cell_type": "code",
   "execution_count": 85,
   "metadata": {},
   "outputs": [
    {
     "name": "stdout",
     "output_type": "stream",
     "text": [
      "log loss for alpha :  1e-05 is : 1.322708196288818\n",
      "log loss for alpha :  0.0001 is : 1.3168551150524963\n",
      "log loss for alpha :  0.001 is : 1.3108887277429992\n",
      "log loss for alpha :  0.01 is : 1.3161510154370042\n",
      "log loss for alpha :  0.1 is : 1.3144301110284402\n",
      "log loss for alpha :  1 is : 1.3272308540818825\n",
      "log loss for alpha :  10 is : 1.4151732600504523\n",
      "log loss for alpha :  100 is : 1.4064129616726706\n",
      "log loss for alpha :  1000 is : 1.3597145835850968\n"
     ]
    }
   ],
   "source": [
    "from sklearn.naive_bayes import MultinomialNB\n",
    "alpha = [10**x for x in range(-5,4)]\n",
    "\n",
    "cv_log_error_array = []\n",
    "for i in alpha:\n",
    "    clf = MultinomialNB(alpha = i)\n",
    "    clf.fit(train_x_onehotCoding, train_y)\n",
    "    \n",
    "    sig_clf = CalibratedClassifierCV(base_estimator=clf, method='sigmoid', cv=3)\n",
    "    sig_clf.fit(train_x_onehotCoding, train_y)\n",
    "    y_predicted = sig_clf.predict_proba(cv_x_onehotCoding)\n",
    "    \n",
    "    cv_log_error_array.append(log_loss(y_cv, y_predicted, labels=clf.classes_))\n",
    "    print(\"log loss for alpha : \",i, \"is :\", log_loss(y_cv, y_predicted, labels=clf.classes_))\n"
   ]
  },
  {
   "cell_type": "code",
   "execution_count": 86,
   "metadata": {},
   "outputs": [
    {
     "data": {
      "text/plain": [
       "array([1, 2, 3, 4, 5, 6, 7, 8, 9])"
      ]
     },
     "execution_count": 86,
     "metadata": {},
     "output_type": "execute_result"
    }
   ],
   "source": [
    "clf.classes_"
   ]
  },
  {
   "cell_type": "code",
   "execution_count": 91,
   "metadata": {},
   "outputs": [
    {
     "name": "stdout",
     "output_type": "stream",
     "text": [
      "minimum log loss is:  1.3108887277429992 for alpha : 0.001\n"
     ]
    }
   ],
   "source": [
    "min_loss_index = np.argmin(cv_log_error_array)\n",
    "print(\"minimum log loss is: \", cv_log_error_array[min_loss_index], \"for alpha :\", alpha[min_loss_index])"
   ]
  },
  {
   "cell_type": "code",
   "execution_count": 92,
   "metadata": {},
   "outputs": [
    {
     "name": "stdout",
     "output_type": "stream",
     "text": [
      "train log loss :  0.8604048325104329\n",
      "cv log loss :  1.3108887277429992\n",
      "test log loss :  1.2798602234919703\n"
     ]
    }
   ],
   "source": [
    "best_alpha = alpha[min_loss_index]\n",
    "\n",
    "clf = MultinomialNB(alpha=best_alpha)\n",
    "clf.fit(train_x_onehotCoding, y_train)\n",
    "sig_clf = CalibratedClassifierCV(clf, 'sigmoid')\n",
    "sig_clf.fit(train_x_onehotCoding, y_train)\n",
    "\n",
    "train_y_predicted = sig_clf.predict_proba(train_x_onehotCoding)\n",
    "print(\"train log loss : \", log_loss(y_train,train_y_predicted))\n",
    "\n",
    "cv_y_predicted = sig_clf.predict_proba(cv_x_onehotCoding)\n",
    "print(\"cv log loss : \", log_loss(y_cv,cv_y_predicted))\n",
    "\n",
    "test_y_predicted = sig_clf.predict_proba(test_x_onehotCoding)\n",
    "print(\"test log loss : \", log_loss(y_test,test_y_predicted))"
   ]
  },
  {
   "cell_type": "code",
   "execution_count": 102,
   "metadata": {},
   "outputs": [
    {
     "name": "stdout",
     "output_type": "stream",
     "text": [
      "Accuracy :  0.606015037593985\n",
      "-------------------- Confusion matrix --------------------\n"
     ]
    },
    {
     "data": {
      "image/png": "[encoded data removed]",
      "text/plain": [
       "<matplotlib.figure.Figure at 0x160618fb080>"
      ]
     },
     "metadata": {},
     "output_type": "display_data"
    },
    {
     "name": "stdout",
     "output_type": "stream",
     "text": [
      "-------------------- Precision matrix (Columm Sum=1) --------------------\n"
     ]
    },
    {
     "data": {
      "image/png": "[encoded data removed]",
      "text/plain": [
       "<matplotlib.figure.Figure at 0x16060576908>"
      ]
     },
     "metadata": {},
     "output_type": "display_data"
    },
    {
     "name": "stdout",
     "output_type": "stream",
     "text": [
      "-------------------- Recall matrix (Row sum=1) --------------------\n"
     ]
    },
    {
     "data": {
      "image/png": "[encoded data removed]",
      "text/plain": [
       "<matplotlib.figure.Figure at 0x16060781f98>"
      ]
     },
     "metadata": {},
     "output_type": "display_data"
    }
   ],
   "source": [
    "from sklearn.metrics import accuracy_score\n",
    "print(\"Accuracy : \", accuracy_score(y_test, sig_clf.predict(test_x_onehotCoding)))\n",
    "plot_confusion_matrix(y_test, sig_clf.predict(test_x_onehotCoding))"
   ]
  },
  {
   "cell_type": "code",
   "execution_count": 95,
   "metadata": {},
   "outputs": [
    {
     "data": {
      "text/plain": [
       "7    609\n",
       "4    439\n",
       "1    363\n",
       "2    289\n",
       "6    176\n",
       "5    155\n",
       "3     57\n",
       "9     24\n",
       "8     12\n",
       "Name: Class, dtype: int64"
      ]
     },
     "execution_count": 95,
     "metadata": {},
     "output_type": "execute_result"
    }
   ],
   "source": [
    "X_train['Class'].value_counts()"
   ]
  },
  {
   "cell_type": "markdown",
   "metadata": {},
   "source": [
    "### Interpretibility of Naive bayes"
   ]
  },
  {
   "cell_type": "code",
   "execution_count": 98,
   "metadata": {},
   "outputs": [
    {
     "name": "stdout",
     "output_type": "stream",
     "text": [
      "Predicted Class : 7\n",
      "Predicted Class Probabilities: [[0.0974 0.2471 0.0101 0.1146 0.0405 0.0414 0.4409 0.0039 0.004 ]]\n",
      "Actual Class : 7\n",
      "--------------------------------------------------\n",
      "17 Text feature [activating] present in test data point [True]\n",
      "18 Text feature [presence] present in test data point [True]\n",
      "19 Text feature [kinase] present in test data point [True]\n",
      "20 Text feature [well] present in test data point [True]\n",
      "21 Text feature [expressing] present in test data point [True]\n",
      "22 Text feature [downstream] present in test data point [True]\n",
      "23 Text feature [independent] present in test data point [True]\n",
      "26 Text feature [cell] present in test data point [True]\n",
      "27 Text feature [inhibitor] present in test data point [True]\n",
      "28 Text feature [recently] present in test data point [True]\n",
      "29 Text feature [cells] present in test data point [True]\n",
      "30 Text feature [contrast] present in test data point [True]\n",
      "32 Text feature [growth] present in test data point [True]\n",
      "34 Text feature [addition] present in test data point [True]\n",
      "35 Text feature [mutations] present in test data point [True]\n",
      "36 Text feature [compared] present in test data point [True]\n",
      "37 Text feature [shown] present in test data point [True]\n",
      "38 Text feature [similar] present in test data point [True]\n",
      "39 Text feature [however] present in test data point [True]\n",
      "40 Text feature [also] present in test data point [True]\n",
      "41 Text feature [previously] present in test data point [True]\n",
      "42 Text feature [showed] present in test data point [True]\n",
      "43 Text feature [higher] present in test data point [True]\n",
      "44 Text feature [found] present in test data point [True]\n",
      "45 Text feature [may] present in test data point [True]\n",
      "46 Text feature [activation] present in test data point [True]\n",
      "47 Text feature [total] present in test data point [True]\n",
      "48 Text feature [suggest] present in test data point [True]\n",
      "49 Text feature [10] present in test data point [True]\n",
      "51 Text feature [inhibition] present in test data point [True]\n",
      "52 Text feature [observed] present in test data point [True]\n",
      "53 Text feature [studies] present in test data point [True]\n",
      "54 Text feature [identified] present in test data point [True]\n",
      "55 Text feature [factor] present in test data point [True]\n",
      "57 Text feature [12] present in test data point [True]\n",
      "58 Text feature [phosphorylation] present in test data point [True]\n",
      "59 Text feature [described] present in test data point [True]\n",
      "60 Text feature [due] present in test data point [True]\n",
      "61 Text feature [molecular] present in test data point [True]\n",
      "62 Text feature [interestingly] present in test data point [True]\n",
      "63 Text feature [confirmed] present in test data point [True]\n",
      "65 Text feature [including] present in test data point [True]\n",
      "66 Text feature [constitutive] present in test data point [True]\n",
      "67 Text feature [respectively] present in test data point [True]\n",
      "69 Text feature [absence] present in test data point [True]\n",
      "70 Text feature [followed] present in test data point [True]\n",
      "71 Text feature [constitutively] present in test data point [True]\n",
      "72 Text feature [proliferation] present in test data point [True]\n",
      "73 Text feature [using] present in test data point [True]\n",
      "74 Text feature [mutation] present in test data point [True]\n",
      "75 Text feature [reported] present in test data point [True]\n",
      "76 Text feature [activated] present in test data point [True]\n",
      "77 Text feature [1a] present in test data point [True]\n",
      "78 Text feature [report] present in test data point [True]\n",
      "79 Text feature [thus] present in test data point [True]\n",
      "80 Text feature [increase] present in test data point [True]\n",
      "81 Text feature [demonstrated] present in test data point [True]\n",
      "84 Text feature [approximately] present in test data point [True]\n",
      "85 Text feature [although] present in test data point [True]\n",
      "87 Text feature [occur] present in test data point [True]\n",
      "88 Text feature [two] present in test data point [True]\n",
      "89 Text feature [different] present in test data point [True]\n",
      "90 Text feature [figure] present in test data point [True]\n",
      "91 Text feature [15] present in test data point [True]\n",
      "92 Text feature [inhibitors] present in test data point [True]\n",
      "93 Text feature [keywords] present in test data point [True]\n",
      "94 Text feature [3b] present in test data point [True]\n",
      "95 Text feature [whereas] present in test data point [True]\n",
      "96 Text feature [suggests] present in test data point [True]\n",
      "97 Text feature [consistent] present in test data point [True]\n",
      "99 Text feature [additional] present in test data point [True]\n",
      "Out of the top  100  features  71 are present in query point\n"
     ]
    }
   ],
   "source": [
    "test_point_index = 1\n",
    "no_feature = 100\n",
    "predicted_cls = sig_clf.predict(test_x_onehotCoding[test_point_index])\n",
    "print(\"Predicted Class :\", predicted_cls[0])\n",
    "print(\"Predicted Class Probabilities:\", np.round(sig_clf.predict_proba(test_x_onehotCoding[test_point_index]),4))\n",
    "print(\"Actual Class :\", y_test.iloc[test_point_index])\n",
    "indices = np.argsort(-clf.coef_)[predicted_cls-1][:,:no_feature]\n",
    "print(\"-\"*50)\n",
    "get_impfeature_names(indices[0], X_test['TEXT'].iloc[test_point_index],X_test['Gene'].iloc[test_point_index],X_test['Variation'].iloc[test_point_index], no_feature)"
   ]
  },
  {
   "cell_type": "code",
   "execution_count": 100,
   "metadata": {},
   "outputs": [
    {
     "name": "stdout",
     "output_type": "stream",
     "text": [
      "Predicted Class : 2\n",
      "Predicted Class Probabilities: [[0.1076 0.5369 0.011  0.1266 0.0442 0.0455 0.1195 0.0042 0.0044]]\n",
      "Actual Class : 2\n",
      "--------------------------------------------------\n",
      "17 Text feature [identified] present in test data point [True]\n",
      "18 Text feature [harbored] present in test data point [True]\n",
      "19 Text feature [molecular] present in test data point [True]\n",
      "20 Text feature [novel] present in test data point [True]\n",
      "21 Text feature [sequencing] present in test data point [True]\n",
      "27 Text feature [new] present in test data point [True]\n",
      "29 Text feature [including] present in test data point [True]\n",
      "32 Text feature [different] present in test data point [True]\n",
      "33 Text feature [identification] present in test data point [True]\n",
      "34 Text feature [clinical] present in test data point [True]\n",
      "35 Text feature [mutations] present in test data point [True]\n",
      "36 Text feature [mutational] present in test data point [True]\n",
      "37 Text feature [found] present in test data point [True]\n",
      "38 Text feature [case] present in test data point [True]\n",
      "40 Text feature [using] present in test data point [True]\n",
      "41 Text feature [15] present in test data point [True]\n",
      "42 Text feature [pcr] present in test data point [True]\n",
      "43 Text feature [another] present in test data point [True]\n",
      "44 Text feature [well] present in test data point [True]\n",
      "45 Text feature [may] present in test data point [True]\n",
      "46 Text feature [kinase] present in test data point [True]\n",
      "47 Text feature [revealed] present in test data point [True]\n",
      "50 Text feature [one] present in test data point [True]\n",
      "52 Text feature [tumor] present in test data point [True]\n",
      "53 Text feature [previously] present in test data point [True]\n",
      "54 Text feature [subsequent] present in test data point [True]\n",
      "55 Text feature [also] present in test data point [True]\n",
      "56 Text feature [12] present in test data point [True]\n",
      "58 Text feature [types] present in test data point [True]\n",
      "59 Text feature [patient] present in test data point [True]\n",
      "63 Text feature [confirmed] present in test data point [True]\n",
      "64 Text feature [small] present in test data point [True]\n",
      "65 Text feature [gene] present in test data point [True]\n",
      "69 Text feature [per] present in test data point [True]\n",
      "71 Text feature [three] present in test data point [True]\n",
      "72 Text feature [distinct] present in test data point [True]\n",
      "73 Text feature [samples] present in test data point [True]\n",
      "78 Text feature [higher] present in test data point [True]\n",
      "81 Text feature [cases] present in test data point [True]\n",
      "82 Text feature [mutation] present in test data point [True]\n",
      "83 Text feature [studies] present in test data point [True]\n",
      "84 Text feature [tissue] present in test data point [True]\n",
      "85 Text feature [10] present in test data point [True]\n",
      "86 Text feature [informed] present in test data point [True]\n",
      "87 Text feature [however] present in test data point [True]\n",
      "88 Text feature [similar] present in test data point [True]\n",
      "89 Text feature [sequenced] present in test data point [True]\n",
      "90 Text feature [discussion] present in test data point [True]\n",
      "91 Text feature [reported] present in test data point [True]\n",
      "93 Text feature [single] present in test data point [True]\n",
      "94 Text feature [initial] present in test data point [True]\n",
      "95 Text feature [table] present in test data point [True]\n",
      "96 Text feature [development] present in test data point [True]\n",
      "99 Text feature [analysis] present in test data point [True]\n",
      "Out of the top  100  features  54 are present in query point\n"
     ]
    }
   ],
   "source": [
    "test_point_index = 100\n",
    "no_feature = 100\n",
    "predicted_cls = sig_clf.predict(test_x_onehotCoding[test_point_index])\n",
    "print(\"Predicted Class :\", predicted_cls[0])\n",
    "print(\"Predicted Class Probabilities:\", np.round(sig_clf.predict_proba(test_x_onehotCoding[test_point_index]),4))\n",
    "print(\"Actual Class :\", y_test.iloc[test_point_index])\n",
    "indices = np.argsort(-clf.coef_)[predicted_cls-1][:,:no_feature]\n",
    "print(\"-\"*50)\n",
    "get_impfeature_names(indices[0], X_test['TEXT'].iloc[test_point_index],X_test['Gene'].iloc[test_point_index],X_test['Variation'].iloc[test_point_index], no_feature)"
   ]
  },
  {
   "cell_type": "code",
   "execution_count": null,
   "metadata": {},
   "outputs": [],
   "source": []
  }
 ],
 "metadata": {
  "kernelspec": {
   "display_name": "Python 3",
   "language": "python",
   "name": "python3"
  },
  "language_info": {
   "codemirror_mode": {
    "name": "ipython",
    "version": 3
   },
   "file_extension": ".py",
   "mimetype": "text/x-python",
   "name": "python",
   "nbconvert_exporter": "python",
   "pygments_lexer": "ipython3",
   "version": "3.6.4"
  }
 },
 "nbformat": 4,
 "nbformat_minor": 2
}
