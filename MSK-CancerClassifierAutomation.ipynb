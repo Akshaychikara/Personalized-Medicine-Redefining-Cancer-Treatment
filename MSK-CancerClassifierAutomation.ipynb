{
 "cells": [
  {
   "cell_type": "code",
   "execution_count": 1,
   "metadata": {},
   "outputs": [],
   "source": [
    "import pandas as pd\n",
    "import numpy as np\n",
    "from matplotlib import pyplot as plt\n",
    "%matplotlib inline\n",
    "from sklearn import model_selection, preprocessing\n",
    "import seaborn as sns"
   ]
  },
  {
   "cell_type": "code",
   "execution_count": 2,
   "metadata": {},
   "outputs": [],
   "source": [
    "data_variant = pd.read_csv(\"./training/training_variants\")\n",
    "data_txt = pd.read_csv(\"./training/training_text\", sep='\\|\\|', names=[\"ID\",\"TEXT\"], skiprows=1, engine='python')"
   ]
  },
  {
   "cell_type": "code",
   "execution_count": 3,
   "metadata": {},
   "outputs": [
    {
     "name": "stdout",
     "output_type": "stream",
     "text": [
      "<class 'pandas.core.frame.DataFrame'>\n",
      "RangeIndex: 3321 entries, 0 to 3320\n",
      "Data columns (total 4 columns):\n",
      "ID           3321 non-null int64\n",
      "Gene         3321 non-null object\n",
      "Variation    3321 non-null object\n",
      "Class        3321 non-null int64\n",
      "dtypes: int64(2), object(2)\n",
      "memory usage: 103.9+ KB\n"
     ]
    }
   ],
   "source": [
    "data_variant.info()"
   ]
  },
  {
   "cell_type": "code",
   "execution_count": 4,
   "metadata": {},
   "outputs": [
    {
     "name": "stdout",
     "output_type": "stream",
     "text": [
      "<class 'pandas.core.frame.DataFrame'>\n",
      "RangeIndex: 3321 entries, 0 to 3320\n",
      "Data columns (total 2 columns):\n",
      "ID      3321 non-null int64\n",
      "TEXT    3316 non-null object\n",
      "dtypes: int64(1), object(1)\n",
      "memory usage: 52.0+ KB\n"
     ]
    }
   ],
   "source": [
    "data_txt.info()"
   ]
  },
  {
   "cell_type": "code",
   "execution_count": 5,
   "metadata": {},
   "outputs": [
    {
     "data": {
      "text/html": [
       "<div>\n",
       "<style scoped>\n",
       "    .dataframe tbody tr th:only-of-type {\n",
       "        vertical-align: middle;\n",
       "    }\n",
       "\n",
       "    .dataframe tbody tr th {\n",
       "        vertical-align: top;\n",
       "    }\n",
       "\n",
       "    .dataframe thead th {\n",
       "        text-align: right;\n",
       "    }\n",
       "</style>\n",
       "<table border=\"1\" class=\"dataframe\">\n",
       "  <thead>\n",
       "    <tr style=\"text-align: right;\">\n",
       "      <th></th>\n",
       "      <th>ID</th>\n",
       "      <th>Gene</th>\n",
       "      <th>Variation</th>\n",
       "      <th>Class</th>\n",
       "    </tr>\n",
       "  </thead>\n",
       "  <tbody>\n",
       "    <tr>\n",
       "      <th>0</th>\n",
       "      <td>0</td>\n",
       "      <td>FAM58A</td>\n",
       "      <td>Truncating Mutations</td>\n",
       "      <td>1</td>\n",
       "    </tr>\n",
       "    <tr>\n",
       "      <th>1</th>\n",
       "      <td>1</td>\n",
       "      <td>CBL</td>\n",
       "      <td>W802*</td>\n",
       "      <td>2</td>\n",
       "    </tr>\n",
       "    <tr>\n",
       "      <th>2</th>\n",
       "      <td>2</td>\n",
       "      <td>CBL</td>\n",
       "      <td>Q249E</td>\n",
       "      <td>2</td>\n",
       "    </tr>\n",
       "    <tr>\n",
       "      <th>3</th>\n",
       "      <td>3</td>\n",
       "      <td>CBL</td>\n",
       "      <td>N454D</td>\n",
       "      <td>3</td>\n",
       "    </tr>\n",
       "    <tr>\n",
       "      <th>4</th>\n",
       "      <td>4</td>\n",
       "      <td>CBL</td>\n",
       "      <td>L399V</td>\n",
       "      <td>4</td>\n",
       "    </tr>\n",
       "  </tbody>\n",
       "</table>\n",
       "</div>"
      ],
      "text/plain": [
       "   ID    Gene             Variation  Class\n",
       "0   0  FAM58A  Truncating Mutations      1\n",
       "1   1     CBL                 W802*      2\n",
       "2   2     CBL                 Q249E      2\n",
       "3   3     CBL                 N454D      3\n",
       "4   4     CBL                 L399V      4"
      ]
     },
     "execution_count": 5,
     "metadata": {},
     "output_type": "execute_result"
    }
   ],
   "source": [
    "data_variant.head()"
   ]
  },
  {
   "cell_type": "code",
   "execution_count": 6,
   "metadata": {},
   "outputs": [
    {
     "data": {
      "text/plain": [
       "<matplotlib.axes._subplots.AxesSubplot at 0x204f4c46128>"
      ]
     },
     "execution_count": 6,
     "metadata": {},
     "output_type": "execute_result"
    },
    {
     "data": {
      "image/png": "[encoded data removed]",
      "text/plain": [
       "<matplotlib.figure.Figure at 0x204f4c464e0>"
      ]
     },
     "metadata": {},
     "output_type": "display_data"
    }
   ],
   "source": [
    "variants = data_variant['Class'].value_counts()\n",
    "\n",
    "variants.plot.bar()"
   ]
  },
  {
   "cell_type": "code",
   "execution_count": 7,
   "metadata": {},
   "outputs": [
    {
     "data": {
      "text/plain": [
       "([<matplotlib.axis.YTick at 0x204f4d788d0>,\n",
       "  <matplotlib.axis.YTick at 0x204f4d78748>,\n",
       "  <matplotlib.axis.YTick at 0x204f4d75d30>,\n",
       "  <matplotlib.axis.YTick at 0x204f4db69b0>,\n",
       "  <matplotlib.axis.YTick at 0x204f4dbf048>,\n",
       "  <matplotlib.axis.YTick at 0x204f4dbf6a0>,\n",
       "  <matplotlib.axis.YTick at 0x204f4dbfd30>,\n",
       "  <matplotlib.axis.YTick at 0x204f4dc3400>,\n",
       "  <matplotlib.axis.YTick at 0x204f4dc3a90>],\n",
       " <a list of 9 Text yticklabel objects>)"
      ]
     },
     "execution_count": 7,
     "metadata": {},
     "output_type": "execute_result"
    },
    {
     "data": {
      "image/png": "[encoded data removed]",
      "text/plain": [
       "<matplotlib.figure.Figure at 0x204e8552be0>"
      ]
     },
     "metadata": {},
     "output_type": "display_data"
    }
   ],
   "source": [
    "plt.barh(variants.index, variants.values)\n",
    "plt.yticks(variants.index)"
   ]
  },
  {
   "cell_type": "code",
   "execution_count": 8,
   "metadata": {},
   "outputs": [
    {
     "data": {
      "text/html": [
       "<div>\n",
       "<style scoped>\n",
       "    .dataframe tbody tr th:only-of-type {\n",
       "        vertical-align: middle;\n",
       "    }\n",
       "\n",
       "    .dataframe tbody tr th {\n",
       "        vertical-align: top;\n",
       "    }\n",
       "\n",
       "    .dataframe thead th {\n",
       "        text-align: right;\n",
       "    }\n",
       "</style>\n",
       "<table border=\"1\" class=\"dataframe\">\n",
       "  <thead>\n",
       "    <tr style=\"text-align: right;\">\n",
       "      <th></th>\n",
       "      <th>ID</th>\n",
       "      <th>TEXT</th>\n",
       "    </tr>\n",
       "  </thead>\n",
       "  <tbody>\n",
       "    <tr>\n",
       "      <th>0</th>\n",
       "      <td>0</td>\n",
       "      <td>Cyclin-dependent kinases (CDKs) regulate a var...</td>\n",
       "    </tr>\n",
       "    <tr>\n",
       "      <th>1</th>\n",
       "      <td>1</td>\n",
       "      <td>Abstract Background  Non-small cell lung canc...</td>\n",
       "    </tr>\n",
       "    <tr>\n",
       "      <th>2</th>\n",
       "      <td>2</td>\n",
       "      <td>Abstract Background  Non-small cell lung canc...</td>\n",
       "    </tr>\n",
       "    <tr>\n",
       "      <th>3</th>\n",
       "      <td>3</td>\n",
       "      <td>Recent evidence has demonstrated that acquired...</td>\n",
       "    </tr>\n",
       "    <tr>\n",
       "      <th>4</th>\n",
       "      <td>4</td>\n",
       "      <td>Oncogenic mutations in the monomeric Casitas B...</td>\n",
       "    </tr>\n",
       "  </tbody>\n",
       "</table>\n",
       "</div>"
      ],
      "text/plain": [
       "   ID                                               TEXT\n",
       "0   0  Cyclin-dependent kinases (CDKs) regulate a var...\n",
       "1   1   Abstract Background  Non-small cell lung canc...\n",
       "2   2   Abstract Background  Non-small cell lung canc...\n",
       "3   3  Recent evidence has demonstrated that acquired...\n",
       "4   4  Oncogenic mutations in the monomeric Casitas B..."
      ]
     },
     "execution_count": 8,
     "metadata": {},
     "output_type": "execute_result"
    }
   ],
   "source": [
    "data_txt.head()"
   ]
  },
  {
   "cell_type": "code",
   "execution_count": 9,
   "metadata": {},
   "outputs": [
    {
     "data": {
      "text/html": [
       "<div>\n",
       "<style scoped>\n",
       "    .dataframe tbody tr th:only-of-type {\n",
       "        vertical-align: middle;\n",
       "    }\n",
       "\n",
       "    .dataframe tbody tr th {\n",
       "        vertical-align: top;\n",
       "    }\n",
       "\n",
       "    .dataframe thead th {\n",
       "        text-align: right;\n",
       "    }\n",
       "</style>\n",
       "<table border=\"1\" class=\"dataframe\">\n",
       "  <thead>\n",
       "    <tr style=\"text-align: right;\">\n",
       "      <th></th>\n",
       "      <th>ID</th>\n",
       "      <th>Class</th>\n",
       "    </tr>\n",
       "  </thead>\n",
       "  <tbody>\n",
       "    <tr>\n",
       "      <th>count</th>\n",
       "      <td>3321.000000</td>\n",
       "      <td>3321.000000</td>\n",
       "    </tr>\n",
       "    <tr>\n",
       "      <th>mean</th>\n",
       "      <td>1660.000000</td>\n",
       "      <td>4.365854</td>\n",
       "    </tr>\n",
       "    <tr>\n",
       "      <th>std</th>\n",
       "      <td>958.834449</td>\n",
       "      <td>2.309781</td>\n",
       "    </tr>\n",
       "    <tr>\n",
       "      <th>min</th>\n",
       "      <td>0.000000</td>\n",
       "      <td>1.000000</td>\n",
       "    </tr>\n",
       "    <tr>\n",
       "      <th>25%</th>\n",
       "      <td>830.000000</td>\n",
       "      <td>2.000000</td>\n",
       "    </tr>\n",
       "    <tr>\n",
       "      <th>50%</th>\n",
       "      <td>1660.000000</td>\n",
       "      <td>4.000000</td>\n",
       "    </tr>\n",
       "    <tr>\n",
       "      <th>75%</th>\n",
       "      <td>2490.000000</td>\n",
       "      <td>7.000000</td>\n",
       "    </tr>\n",
       "    <tr>\n",
       "      <th>max</th>\n",
       "      <td>3320.000000</td>\n",
       "      <td>9.000000</td>\n",
       "    </tr>\n",
       "  </tbody>\n",
       "</table>\n",
       "</div>"
      ],
      "text/plain": [
       "                ID        Class\n",
       "count  3321.000000  3321.000000\n",
       "mean   1660.000000     4.365854\n",
       "std     958.834449     2.309781\n",
       "min       0.000000     1.000000\n",
       "25%     830.000000     2.000000\n",
       "50%    1660.000000     4.000000\n",
       "75%    2490.000000     7.000000\n",
       "max    3320.000000     9.000000"
      ]
     },
     "execution_count": 9,
     "metadata": {},
     "output_type": "execute_result"
    }
   ],
   "source": [
    "data_variant.describe()"
   ]
  },
  {
   "cell_type": "code",
   "execution_count": 10,
   "metadata": {},
   "outputs": [
    {
     "data": {
      "text/plain": [
       "<matplotlib.axes._subplots.AxesSubplot at 0x204fffab588>"
      ]
     },
     "execution_count": 10,
     "metadata": {},
     "output_type": "execute_result"
    },
    {
     "data": {
      "image/png": "[encoded data removed]",
      "text/plain": [
       "<matplotlib.figure.Figure at 0x204f4dd5080>"
      ]
     },
     "metadata": {},
     "output_type": "display_data"
    }
   ],
   "source": [
    "sns.heatmap(data_variant.isnull(),cbar=False, yticklabels=False,cmap='viridis')"
   ]
  },
  {
   "cell_type": "code",
   "execution_count": 11,
   "metadata": {},
   "outputs": [
    {
     "data": {
      "text/plain": [
       "<matplotlib.axes._subplots.AxesSubplot at 0x204f4dc90f0>"
      ]
     },
     "execution_count": 11,
     "metadata": {},
     "output_type": "execute_result"
    },
    {
     "data": {
      "image/png": "[encoded data removed]",
      "text/plain": [
       "<matplotlib.figure.Figure at 0x204fffc60f0>"
      ]
     },
     "metadata": {},
     "output_type": "display_data"
    }
   ],
   "source": [
    "sns.heatmap(data_txt.isnull(),cbar=False, yticklabels=False,cmap='viridis')"
   ]
  },
  {
   "cell_type": "code",
   "execution_count": 12,
   "metadata": {},
   "outputs": [
    {
     "data": {
      "text/plain": [
       "ID      5\n",
       "TEXT    0\n",
       "dtype: int64"
      ]
     },
     "execution_count": 12,
     "metadata": {},
     "output_type": "execute_result"
    }
   ],
   "source": [
    "data_txt[data_txt.isnull().any(axis=1)].count()"
   ]
  },
  {
   "cell_type": "markdown",
   "metadata": {},
   "source": [
    "ML Problem statement :\n",
    "1. We have to predict the cancer class (1-9) based on the type of mutation a person has. Its a multiclass classification problem.\n",
    "2. Errors are very bad in medical world and it is better for doctors to provide reasoning why a person falls under one of 9 categories of cancer. \n",
    "    a) Talking in probabilistic term will be more intutive here\n",
    "    b) Interpretability of results (why perticular class) is also necessary\n",
    "3. As we are more focussed towards accuracy , we can allow some expensive operations/algorithms to do calculation inorder to achive desired accuracy."
   ]
  },
  {
   "cell_type": "code",
   "execution_count": 13,
   "metadata": {},
   "outputs": [],
   "source": [
    "# from data_txt, we would like to process research papers, that is text field\n",
    "# we want to remove stop words, using nltk \n",
    "from nltk.corpus import stopwords\n",
    "import re"
   ]
  },
  {
   "cell_type": "code",
   "execution_count": 14,
   "metadata": {},
   "outputs": [],
   "source": [
    "def data_txt_preprocess(text, ind, col):\n",
    "    # remove integers from text\n",
    "    if type(text) is not int:\n",
    "        string = ''\n",
    "        \n",
    "        # replacing all special characters with space\n",
    "        text = re.sub('[^a-zA-Z0-9\\n]', ' ', str(text))\n",
    "        \n",
    "        # replace multiple spaces with single space\n",
    "        text = re.sub('\\s+',' ', str(text))\n",
    "        \n",
    "        text = text.lower()\n",
    "        stop_words = set(stopwords.words('english')) \n",
    "        for word in text.split():\n",
    "            if word not in stop_words:\n",
    "                string+=word + \" \"\n",
    "                \n",
    "        data_txt.loc[ind, col] = string"
   ]
  },
  {
   "cell_type": "code",
   "execution_count": 15,
   "metadata": {},
   "outputs": [
    {
     "data": {
      "text/html": [
       "<div>\n",
       "<style scoped>\n",
       "    .dataframe tbody tr th:only-of-type {\n",
       "        vertical-align: middle;\n",
       "    }\n",
       "\n",
       "    .dataframe tbody tr th {\n",
       "        vertical-align: top;\n",
       "    }\n",
       "\n",
       "    .dataframe thead th {\n",
       "        text-align: right;\n",
       "    }\n",
       "</style>\n",
       "<table border=\"1\" class=\"dataframe\">\n",
       "  <thead>\n",
       "    <tr style=\"text-align: right;\">\n",
       "      <th></th>\n",
       "      <th>ID</th>\n",
       "      <th>TEXT</th>\n",
       "    </tr>\n",
       "  </thead>\n",
       "  <tbody>\n",
       "    <tr>\n",
       "      <th>0</th>\n",
       "      <td>0</td>\n",
       "      <td>cyclin dependent kinases cdks regulate variety...</td>\n",
       "    </tr>\n",
       "    <tr>\n",
       "      <th>1</th>\n",
       "      <td>1</td>\n",
       "      <td>abstract background non small cell lung cancer...</td>\n",
       "    </tr>\n",
       "    <tr>\n",
       "      <th>2</th>\n",
       "      <td>2</td>\n",
       "      <td>abstract background non small cell lung cancer...</td>\n",
       "    </tr>\n",
       "    <tr>\n",
       "      <th>3</th>\n",
       "      <td>3</td>\n",
       "      <td>recent evidence demonstrated acquired uniparen...</td>\n",
       "    </tr>\n",
       "    <tr>\n",
       "      <th>4</th>\n",
       "      <td>4</td>\n",
       "      <td>oncogenic mutations monomeric casitas b lineag...</td>\n",
       "    </tr>\n",
       "  </tbody>\n",
       "</table>\n",
       "</div>"
      ],
      "text/plain": [
       "   ID                                               TEXT\n",
       "0   0  cyclin dependent kinases cdks regulate variety...\n",
       "1   1  abstract background non small cell lung cancer...\n",
       "2   2  abstract background non small cell lung cancer...\n",
       "3   3  recent evidence demonstrated acquired uniparen...\n",
       "4   4  oncogenic mutations monomeric casitas b lineag..."
      ]
     },
     "execution_count": 15,
     "metadata": {},
     "output_type": "execute_result"
    }
   ],
   "source": [
    "# call the above function and preprocess all the text data\n",
    "for index, row in data_txt.iterrows():\n",
    "    if type(row['TEXT']) is str:\n",
    "        data_txt_preprocess(row['TEXT'], index,'TEXT')\n",
    "\n",
    "data_txt.head()"
   ]
  },
  {
   "cell_type": "code",
   "execution_count": 16,
   "metadata": {},
   "outputs": [
    {
     "data": {
      "text/html": [
       "<div>\n",
       "<style scoped>\n",
       "    .dataframe tbody tr th:only-of-type {\n",
       "        vertical-align: middle;\n",
       "    }\n",
       "\n",
       "    .dataframe tbody tr th {\n",
       "        vertical-align: top;\n",
       "    }\n",
       "\n",
       "    .dataframe thead th {\n",
       "        text-align: right;\n",
       "    }\n",
       "</style>\n",
       "<table border=\"1\" class=\"dataframe\">\n",
       "  <thead>\n",
       "    <tr style=\"text-align: right;\">\n",
       "      <th></th>\n",
       "      <th>ID</th>\n",
       "      <th>Gene</th>\n",
       "      <th>Variation</th>\n",
       "      <th>Class</th>\n",
       "      <th>TEXT</th>\n",
       "    </tr>\n",
       "  </thead>\n",
       "  <tbody>\n",
       "    <tr>\n",
       "      <th>0</th>\n",
       "      <td>0</td>\n",
       "      <td>FAM58A</td>\n",
       "      <td>Truncating Mutations</td>\n",
       "      <td>1</td>\n",
       "      <td>cyclin dependent kinases cdks regulate variety...</td>\n",
       "    </tr>\n",
       "    <tr>\n",
       "      <th>1</th>\n",
       "      <td>1</td>\n",
       "      <td>CBL</td>\n",
       "      <td>W802*</td>\n",
       "      <td>2</td>\n",
       "      <td>abstract background non small cell lung cancer...</td>\n",
       "    </tr>\n",
       "    <tr>\n",
       "      <th>2</th>\n",
       "      <td>2</td>\n",
       "      <td>CBL</td>\n",
       "      <td>Q249E</td>\n",
       "      <td>2</td>\n",
       "      <td>abstract background non small cell lung cancer...</td>\n",
       "    </tr>\n",
       "    <tr>\n",
       "      <th>3</th>\n",
       "      <td>3</td>\n",
       "      <td>CBL</td>\n",
       "      <td>N454D</td>\n",
       "      <td>3</td>\n",
       "      <td>recent evidence demonstrated acquired uniparen...</td>\n",
       "    </tr>\n",
       "    <tr>\n",
       "      <th>4</th>\n",
       "      <td>4</td>\n",
       "      <td>CBL</td>\n",
       "      <td>L399V</td>\n",
       "      <td>4</td>\n",
       "      <td>oncogenic mutations monomeric casitas b lineag...</td>\n",
       "    </tr>\n",
       "  </tbody>\n",
       "</table>\n",
       "</div>"
      ],
      "text/plain": [
       "   ID    Gene             Variation  Class  \\\n",
       "0   0  FAM58A  Truncating Mutations      1   \n",
       "1   1     CBL                 W802*      2   \n",
       "2   2     CBL                 Q249E      2   \n",
       "3   3     CBL                 N454D      3   \n",
       "4   4     CBL                 L399V      4   \n",
       "\n",
       "                                                TEXT  \n",
       "0  cyclin dependent kinases cdks regulate variety...  \n",
       "1  abstract background non small cell lung cancer...  \n",
       "2  abstract background non small cell lung cancer...  \n",
       "3  recent evidence demonstrated acquired uniparen...  \n",
       "4  oncogenic mutations monomeric casitas b lineag...  "
      ]
     },
     "execution_count": 16,
     "metadata": {},
     "output_type": "execute_result"
    }
   ],
   "source": [
    "# merge two data\n",
    "result = pd.merge(data_variant, data_txt, on='ID', how='left')\n",
    "result.head()"
   ]
  },
  {
   "cell_type": "code",
   "execution_count": 17,
   "metadata": {},
   "outputs": [
    {
     "data": {
      "text/html": [
       "<div>\n",
       "<style scoped>\n",
       "    .dataframe tbody tr th:only-of-type {\n",
       "        vertical-align: middle;\n",
       "    }\n",
       "\n",
       "    .dataframe tbody tr th {\n",
       "        vertical-align: top;\n",
       "    }\n",
       "\n",
       "    .dataframe thead th {\n",
       "        text-align: right;\n",
       "    }\n",
       "</style>\n",
       "<table border=\"1\" class=\"dataframe\">\n",
       "  <thead>\n",
       "    <tr style=\"text-align: right;\">\n",
       "      <th></th>\n",
       "      <th>ID</th>\n",
       "      <th>Gene</th>\n",
       "      <th>Variation</th>\n",
       "      <th>Class</th>\n",
       "      <th>TEXT</th>\n",
       "    </tr>\n",
       "  </thead>\n",
       "  <tbody>\n",
       "    <tr>\n",
       "      <th>1109</th>\n",
       "      <td>1109</td>\n",
       "      <td>FANCA</td>\n",
       "      <td>S1088F</td>\n",
       "      <td>1</td>\n",
       "      <td>NaN</td>\n",
       "    </tr>\n",
       "    <tr>\n",
       "      <th>1277</th>\n",
       "      <td>1277</td>\n",
       "      <td>ARID5B</td>\n",
       "      <td>Truncating Mutations</td>\n",
       "      <td>1</td>\n",
       "      <td>NaN</td>\n",
       "    </tr>\n",
       "    <tr>\n",
       "      <th>1407</th>\n",
       "      <td>1407</td>\n",
       "      <td>FGFR3</td>\n",
       "      <td>K508M</td>\n",
       "      <td>6</td>\n",
       "      <td>NaN</td>\n",
       "    </tr>\n",
       "    <tr>\n",
       "      <th>1639</th>\n",
       "      <td>1639</td>\n",
       "      <td>FLT1</td>\n",
       "      <td>Amplification</td>\n",
       "      <td>6</td>\n",
       "      <td>NaN</td>\n",
       "    </tr>\n",
       "    <tr>\n",
       "      <th>2755</th>\n",
       "      <td>2755</td>\n",
       "      <td>BRAF</td>\n",
       "      <td>G596C</td>\n",
       "      <td>7</td>\n",
       "      <td>NaN</td>\n",
       "    </tr>\n",
       "  </tbody>\n",
       "</table>\n",
       "</div>"
      ],
      "text/plain": [
       "        ID    Gene             Variation  Class TEXT\n",
       "1109  1109   FANCA                S1088F      1  NaN\n",
       "1277  1277  ARID5B  Truncating Mutations      1  NaN\n",
       "1407  1407   FGFR3                 K508M      6  NaN\n",
       "1639  1639    FLT1         Amplification      6  NaN\n",
       "2755  2755    BRAF                 G596C      7  NaN"
      ]
     },
     "execution_count": 17,
     "metadata": {},
     "output_type": "execute_result"
    }
   ],
   "source": [
    "result[result.isnull().any(axis=1)]"
   ]
  },
  {
   "cell_type": "code",
   "execution_count": 18,
   "metadata": {},
   "outputs": [],
   "source": [
    "# impudate TEXT field with gene and variation name\n",
    "result.loc[result['TEXT'].isnull(), 'TEXT'] = result['Gene'] + \" \" + result['Variation'] "
   ]
  },
  {
   "cell_type": "code",
   "execution_count": 19,
   "metadata": {},
   "outputs": [
    {
     "data": {
      "text/html": [
       "<div>\n",
       "<style scoped>\n",
       "    .dataframe tbody tr th:only-of-type {\n",
       "        vertical-align: middle;\n",
       "    }\n",
       "\n",
       "    .dataframe tbody tr th {\n",
       "        vertical-align: top;\n",
       "    }\n",
       "\n",
       "    .dataframe thead th {\n",
       "        text-align: right;\n",
       "    }\n",
       "</style>\n",
       "<table border=\"1\" class=\"dataframe\">\n",
       "  <thead>\n",
       "    <tr style=\"text-align: right;\">\n",
       "      <th></th>\n",
       "      <th>ID</th>\n",
       "      <th>Gene</th>\n",
       "      <th>Variation</th>\n",
       "      <th>Class</th>\n",
       "      <th>TEXT</th>\n",
       "    </tr>\n",
       "  </thead>\n",
       "  <tbody>\n",
       "  </tbody>\n",
       "</table>\n",
       "</div>"
      ],
      "text/plain": [
       "Empty DataFrame\n",
       "Columns: [ID, Gene, Variation, Class, TEXT]\n",
       "Index: []"
      ]
     },
     "execution_count": 19,
     "metadata": {},
     "output_type": "execute_result"
    }
   ],
   "source": [
    "# check for null values again.\n",
    "result[result.isnull().any(axis=1)]"
   ]
  },
  {
   "cell_type": "markdown",
   "metadata": {},
   "source": [
    "# Create train, test and validation set"
   ]
  },
  {
   "cell_type": "code",
   "execution_count": 20,
   "metadata": {},
   "outputs": [],
   "source": [
    "# Before splitting , lets remove all spaces in Gene and Variations columns\n",
    "result.Gene = result.Gene.str.replace('\\s+','_')\n",
    "result.Variation = result.Variation.str.replace('\\s+','_')"
   ]
  },
  {
   "cell_type": "code",
   "execution_count": 21,
   "metadata": {},
   "outputs": [
    {
     "data": {
      "text/html": [
       "<div>\n",
       "<style scoped>\n",
       "    .dataframe tbody tr th:only-of-type {\n",
       "        vertical-align: middle;\n",
       "    }\n",
       "\n",
       "    .dataframe tbody tr th {\n",
       "        vertical-align: top;\n",
       "    }\n",
       "\n",
       "    .dataframe thead th {\n",
       "        text-align: right;\n",
       "    }\n",
       "</style>\n",
       "<table border=\"1\" class=\"dataframe\">\n",
       "  <thead>\n",
       "    <tr style=\"text-align: right;\">\n",
       "      <th></th>\n",
       "      <th>ID</th>\n",
       "      <th>Gene</th>\n",
       "      <th>Variation</th>\n",
       "      <th>Class</th>\n",
       "      <th>TEXT</th>\n",
       "    </tr>\n",
       "  </thead>\n",
       "  <tbody>\n",
       "    <tr>\n",
       "      <th>0</th>\n",
       "      <td>0</td>\n",
       "      <td>FAM58A</td>\n",
       "      <td>Truncating_Mutations</td>\n",
       "      <td>1</td>\n",
       "      <td>cyclin dependent kinases cdks regulate variety...</td>\n",
       "    </tr>\n",
       "    <tr>\n",
       "      <th>1</th>\n",
       "      <td>1</td>\n",
       "      <td>CBL</td>\n",
       "      <td>W802*</td>\n",
       "      <td>2</td>\n",
       "      <td>abstract background non small cell lung cancer...</td>\n",
       "    </tr>\n",
       "    <tr>\n",
       "      <th>2</th>\n",
       "      <td>2</td>\n",
       "      <td>CBL</td>\n",
       "      <td>Q249E</td>\n",
       "      <td>2</td>\n",
       "      <td>abstract background non small cell lung cancer...</td>\n",
       "    </tr>\n",
       "    <tr>\n",
       "      <th>3</th>\n",
       "      <td>3</td>\n",
       "      <td>CBL</td>\n",
       "      <td>N454D</td>\n",
       "      <td>3</td>\n",
       "      <td>recent evidence demonstrated acquired uniparen...</td>\n",
       "    </tr>\n",
       "    <tr>\n",
       "      <th>4</th>\n",
       "      <td>4</td>\n",
       "      <td>CBL</td>\n",
       "      <td>L399V</td>\n",
       "      <td>4</td>\n",
       "      <td>oncogenic mutations monomeric casitas b lineag...</td>\n",
       "    </tr>\n",
       "  </tbody>\n",
       "</table>\n",
       "</div>"
      ],
      "text/plain": [
       "   ID    Gene             Variation  Class  \\\n",
       "0   0  FAM58A  Truncating_Mutations      1   \n",
       "1   1     CBL                 W802*      2   \n",
       "2   2     CBL                 Q249E      2   \n",
       "3   3     CBL                 N454D      3   \n",
       "4   4     CBL                 L399V      4   \n",
       "\n",
       "                                                TEXT  \n",
       "0  cyclin dependent kinases cdks regulate variety...  \n",
       "1  abstract background non small cell lung cancer...  \n",
       "2  abstract background non small cell lung cancer...  \n",
       "3  recent evidence demonstrated acquired uniparen...  \n",
       "4  oncogenic mutations monomeric casitas b lineag...  "
      ]
     },
     "execution_count": 21,
     "metadata": {},
     "output_type": "execute_result"
    }
   ],
   "source": [
    "X = result\n",
    "y = result['Class']\n",
    "X.head()"
   ]
  },
  {
   "cell_type": "code",
   "execution_count": 22,
   "metadata": {},
   "outputs": [
    {
     "name": "stdout",
     "output_type": "stream",
     "text": [
      "Train size:  2124\n",
      "Cross validation size:  532\n",
      "Test data size:  665\n"
     ]
    }
   ],
   "source": [
    "from sklearn.model_selection import train_test_split\n",
    "\n",
    "X_train, X_test, y_train, y_test = train_test_split(X, y, test_size=0.2, stratify=y)\n",
    "\n",
    "X_train, X_cv, y_train, y_cv = train_test_split(X_train, y_train, test_size=0.2, stratify=y_train)\n",
    "\n",
    "print(\"Train size: \", len(y_train))\n",
    "print(\"Cross validation size: \", len(y_cv))\n",
    "print(\"Test data size: \", len(y_test))"
   ]
  },
  {
   "cell_type": "code",
   "execution_count": 23,
   "metadata": {},
   "outputs": [
    {
     "name": "stdout",
     "output_type": "stream",
     "text": [
      "7    609\n",
      "4    439\n",
      "1    363\n",
      "2    289\n",
      "6    176\n",
      "5    155\n",
      "3     57\n",
      "9     24\n",
      "8     12\n",
      "Name: Class, dtype: int64\n"
     ]
    }
   ],
   "source": [
    "# check if all class examples are properly distributed in all three train , CV and test parts, otherwise it will be a problem\n",
    "train_class_distribution = y_train.value_counts()\n",
    "validation_class_distribution = y_cv.value_counts()\n",
    "test_class_distribution = y_test.value_counts()\n",
    "\n",
    "print(train_class_distribution)"
   ]
  },
  {
   "cell_type": "code",
   "execution_count": 24,
   "metadata": {},
   "outputs": [
    {
     "data": {
      "text/plain": [
       "289"
      ]
     },
     "execution_count": 24,
     "metadata": {},
     "output_type": "execute_result"
    }
   ],
   "source": [
    "y_train.value_counts().loc[2]"
   ]
  },
  {
   "cell_type": "code",
   "execution_count": 25,
   "metadata": {},
   "outputs": [
    {
     "data": {
      "text/plain": [
       "{1: [64.0, 16.0, 20.0],\n",
       " 2: [64.0, 16.0, 20.0],\n",
       " 3: [64.0, 16.0, 20.0],\n",
       " 4: [64.0, 16.0, 20.0],\n",
       " 5: [64.0, 16.0, 20.0],\n",
       " 6: [64.0, 16.0, 20.0],\n",
       " 7: [64.0, 16.0, 20.0],\n",
       " 8: [63.0, 16.0, 21.0],\n",
       " 9: [65.0, 16.0, 19.0]}"
      ]
     },
     "execution_count": 25,
     "metadata": {},
     "output_type": "execute_result"
    }
   ],
   "source": [
    "# calculate %age class distribution in each data set\n",
    "percent_dict = {}\n",
    "for i in range(1,10):\n",
    "    train_dist = np.round_(100*y_train.value_counts().loc[i]/y.value_counts().loc[i])\n",
    "    test_dist = np.round_(100*y_test.value_counts().loc[i]/y.value_counts().loc[i])\n",
    "    cv_dist = np.round_(100*y_cv.value_counts().loc[i]/y.value_counts().loc[i])\n",
    "    percent_dict[i] = [train_dist, cv_dist, test_dist]\n",
    "    \n",
    "    \n",
    "percent_dict\n",
    "    "
   ]
  },
  {
   "cell_type": "code",
   "execution_count": 26,
   "metadata": {},
   "outputs": [
    {
     "data": {
      "text/html": [
       "<div>\n",
       "<style scoped>\n",
       "    .dataframe tbody tr th:only-of-type {\n",
       "        vertical-align: middle;\n",
       "    }\n",
       "\n",
       "    .dataframe tbody tr th {\n",
       "        vertical-align: top;\n",
       "    }\n",
       "\n",
       "    .dataframe thead th {\n",
       "        text-align: right;\n",
       "    }\n",
       "</style>\n",
       "<table border=\"1\" class=\"dataframe\">\n",
       "  <thead>\n",
       "    <tr style=\"text-align: right;\">\n",
       "      <th></th>\n",
       "      <th>Train</th>\n",
       "      <th>CV</th>\n",
       "      <th>Test</th>\n",
       "    </tr>\n",
       "  </thead>\n",
       "  <tbody>\n",
       "    <tr>\n",
       "      <th>1</th>\n",
       "      <td>64.0</td>\n",
       "      <td>16.0</td>\n",
       "      <td>20.0</td>\n",
       "    </tr>\n",
       "    <tr>\n",
       "      <th>2</th>\n",
       "      <td>64.0</td>\n",
       "      <td>16.0</td>\n",
       "      <td>20.0</td>\n",
       "    </tr>\n",
       "    <tr>\n",
       "      <th>3</th>\n",
       "      <td>64.0</td>\n",
       "      <td>16.0</td>\n",
       "      <td>20.0</td>\n",
       "    </tr>\n",
       "    <tr>\n",
       "      <th>4</th>\n",
       "      <td>64.0</td>\n",
       "      <td>16.0</td>\n",
       "      <td>20.0</td>\n",
       "    </tr>\n",
       "    <tr>\n",
       "      <th>5</th>\n",
       "      <td>64.0</td>\n",
       "      <td>16.0</td>\n",
       "      <td>20.0</td>\n",
       "    </tr>\n",
       "    <tr>\n",
       "      <th>6</th>\n",
       "      <td>64.0</td>\n",
       "      <td>16.0</td>\n",
       "      <td>20.0</td>\n",
       "    </tr>\n",
       "    <tr>\n",
       "      <th>7</th>\n",
       "      <td>64.0</td>\n",
       "      <td>16.0</td>\n",
       "      <td>20.0</td>\n",
       "    </tr>\n",
       "    <tr>\n",
       "      <th>8</th>\n",
       "      <td>63.0</td>\n",
       "      <td>16.0</td>\n",
       "      <td>21.0</td>\n",
       "    </tr>\n",
       "    <tr>\n",
       "      <th>9</th>\n",
       "      <td>65.0</td>\n",
       "      <td>16.0</td>\n",
       "      <td>19.0</td>\n",
       "    </tr>\n",
       "  </tbody>\n",
       "</table>\n",
       "</div>"
      ],
      "text/plain": [
       "   Train    CV  Test\n",
       "1   64.0  16.0  20.0\n",
       "2   64.0  16.0  20.0\n",
       "3   64.0  16.0  20.0\n",
       "4   64.0  16.0  20.0\n",
       "5   64.0  16.0  20.0\n",
       "6   64.0  16.0  20.0\n",
       "7   64.0  16.0  20.0\n",
       "8   63.0  16.0  21.0\n",
       "9   65.0  16.0  19.0"
      ]
     },
     "execution_count": 26,
     "metadata": {},
     "output_type": "execute_result"
    }
   ],
   "source": [
    "percent_df = pd.DataFrame.from_dict(percent_dict, orient='index')\n",
    "percent_df.columns = ['Train','CV','Test']\n",
    "\n",
    "percent_df\n",
    "\n",
    "#fig, ax = plt.subplots(1,3)\n",
    "#ax[0].bar(percent_df.index, percent_df['Train'])"
   ]
  },
  {
   "cell_type": "code",
   "execution_count": 27,
   "metadata": {},
   "outputs": [
    {
     "name": "stderr",
     "output_type": "stream",
     "text": [
      "No handles with labels found to put in legend.\n",
      "No handles with labels found to put in legend.\n"
     ]
    },
    {
     "data": {
      "image/png": "[encoded data removed]",
      "text/plain": [
       "<matplotlib.figure.Figure at 0x20486adaa90>"
      ]
     },
     "metadata": {},
     "output_type": "display_data"
    }
   ],
   "source": [
    "fig, ax = plt.subplots(1,3)\n",
    "fig.set_figwidth(18)\n",
    "for i in range(0,3):\n",
    "    ax[i].bar(percent_df.index, percent_df.iloc[:,i], label = percent_df.columns[i])\n",
    "    plt.legend()\n"
   ]
  },
  {
   "cell_type": "markdown",
   "metadata": {},
   "source": [
    "## Building a rondom model (worst model) to set a performance bench mark"
   ]
  },
  {
   "cell_type": "markdown",
   "metadata": {},
   "source": [
    "### perfomance matrics -  Log loss function, = -1/n * Sum (y*log(p) + (1-y)*log(1-p))"
   ]
  },
  {
   "cell_type": "code",
   "execution_count": 28,
   "metadata": {},
   "outputs": [],
   "source": [
    "# Generate random probabilities and calculate log loss on CV and Test data set\n",
    "CV_data_len = X_cv.shape[0]\n",
    "Test_data_len = X_test.shape[0]\n",
    "from sklearn.metrics import log_loss"
   ]
  },
  {
   "cell_type": "code",
   "execution_count": 29,
   "metadata": {},
   "outputs": [
    {
     "name": "stdout",
     "output_type": "stream",
     "text": [
      "CV log loss :  2.4331925212495396\n"
     ]
    }
   ],
   "source": [
    "# for cross validattion\n",
    "cv_predicted_y = np.zeros((CV_data_len,9))\n",
    "for i in range(CV_data_len):\n",
    "    rand_prob = np.random.rand(1,9)\n",
    "    cv_predicted_y[i] = (rand_prob/sum(sum(rand_prob)))[0]\n",
    "print(\"CV log loss : \", log_loss(y_cv,cv_predicted_y))"
   ]
  },
  {
   "cell_type": "code",
   "execution_count": 30,
   "metadata": {},
   "outputs": [
    {
     "name": "stdout",
     "output_type": "stream",
     "text": [
      "Test prediction log loss :  2.4719089441288764\n"
     ]
    }
   ],
   "source": [
    "# for test data set\n",
    "test_predicted_y = np.zeros((Test_data_len,9))\n",
    "for i in range(Test_data_len):\n",
    "    rand_prob = np.random.rand(1,9)\n",
    "    test_predicted_y[i] = (rand_prob/sum(sum(rand_prob)))[0]\n",
    "print(\"Test prediction log loss : \", log_loss(y_test,test_predicted_y))"
   ]
  },
  {
   "cell_type": "code",
   "execution_count": 31,
   "metadata": {},
   "outputs": [
    {
     "data": {
      "text/plain": [
       "array([4, 4, 5, 0, 5, 1, 7, 3, 4, 2, 4, 0, 7, 0, 1, 6, 6, 5, 3, 6, 8, 7,\n",
       "       1, 6, 1, 0, 8, 5, 4, 3, 5, 5, 3, 0, 8, 1, 7, 6, 4, 5, 1, 3, 1, 0,\n",
       "       2, 2, 5, 4, 6, 5, 5, 8, 0, 4, 0, 1, 1, 7, 4, 4, 1, 4, 0, 8, 3, 0,\n",
       "       7, 0, 6, 6, 8, 3, 2, 4, 5, 1, 2, 0, 7, 0, 0, 8, 2, 7, 1, 8, 3, 8,\n",
       "       7, 8, 1, 2, 1, 3, 2, 6, 1, 2, 2, 8, 8, 4, 4, 4, 5, 3, 4, 5, 5, 2,\n",
       "       3, 8, 3, 2, 6, 0, 5, 7, 1, 0, 0, 4, 4, 4, 6, 4, 5, 0, 7, 5, 2, 1,\n",
       "       7, 8, 3, 5, 4, 2, 8, 7, 0, 1, 4, 7, 5, 0, 0, 0, 1, 5, 2, 7, 7, 2,\n",
       "       5, 1, 4, 6, 4, 1, 3, 6, 0, 5, 2, 4, 1, 2, 5, 1, 1, 3, 6, 5, 2, 7,\n",
       "       0, 4, 6, 0, 3, 0, 3, 6, 3, 5, 6, 2, 3, 3, 4, 5, 1, 1, 2, 3, 1, 5,\n",
       "       6, 4, 3, 7, 8, 6, 7, 2, 0, 7, 1, 7, 3, 8, 0, 1, 1, 5, 4, 3, 5, 6,\n",
       "       1, 3, 8, 5, 1, 0, 6, 2, 2, 6, 3, 3, 0, 5, 0, 3, 7, 8, 6, 5, 5, 1,\n",
       "       4, 7, 0, 7, 1, 0, 6, 8, 1, 6, 5, 2, 5, 3, 1, 5, 5, 3, 0, 4, 3, 0,\n",
       "       4, 1, 6, 0, 6, 0, 0, 1, 8, 0, 4, 1, 3, 6, 6, 4, 2, 7, 6, 6, 4, 2,\n",
       "       0, 0, 7, 5, 3, 1, 3, 0, 3, 5, 3, 3, 8, 5, 1, 2, 0, 7, 8, 3, 3, 1,\n",
       "       2, 6, 0, 6, 0, 0, 4, 2, 8, 0, 0, 8, 1, 8, 3, 6, 8, 7, 8, 8, 4, 7,\n",
       "       3, 4, 5, 8, 2, 5, 8, 2, 4, 4, 8, 1, 3, 7, 3, 8, 7, 0, 8, 7, 4, 3,\n",
       "       3, 2, 7, 7, 0, 8, 1, 7, 0, 4, 8, 2, 0, 2, 4, 8, 0, 0, 5, 2, 2, 2,\n",
       "       2, 2, 2, 0, 0, 8, 5, 0, 5, 6, 5, 2, 8, 4, 6, 4, 5, 8, 3, 8, 0, 6,\n",
       "       7, 3, 1, 2, 7, 0, 0, 6, 7, 5, 2, 0, 2, 7, 0, 7, 6, 6, 2, 4, 8, 1,\n",
       "       3, 4, 0, 1, 5, 5, 1, 5, 8, 1, 4, 7, 0, 1, 4, 4, 4, 5, 6, 5, 3, 2,\n",
       "       1, 1, 5, 6, 6, 5, 7, 8, 7, 1, 6, 4, 6, 2, 5, 3, 0, 3, 6, 4, 4, 2,\n",
       "       3, 8, 3, 2, 5, 7, 8, 3, 2, 5, 6, 5, 5, 3, 0, 8, 1, 0, 8, 4, 1, 7,\n",
       "       1, 7, 2, 6, 1, 0, 8, 8, 6, 4, 6, 0, 4, 6, 7, 1, 1, 8, 4, 5, 7, 4,\n",
       "       3, 2, 5, 1, 7, 5, 7, 3, 3, 6, 6, 0, 2, 5, 3, 0, 5, 3, 5, 0, 4, 7,\n",
       "       8, 1, 5, 5, 0, 4, 2, 5, 0, 4, 0, 6, 5, 6, 7, 2, 5, 1, 1, 2, 5, 8,\n",
       "       7, 2, 3, 3, 6, 8, 1, 1, 8, 5, 3, 7, 0, 1, 5, 5, 1, 7, 5, 5, 8, 8,\n",
       "       8, 3, 4, 5, 1, 7, 0, 5, 3, 3, 3, 4, 0, 0, 0, 0, 2, 1, 7, 4, 0, 7,\n",
       "       5, 3, 0, 5, 0, 1, 0, 2, 3, 6, 4, 1, 2, 8, 3, 6, 0, 4, 2, 3, 5, 0,\n",
       "       8, 5, 1, 4, 2, 5, 0, 4, 8, 3, 7, 4, 0, 2, 1, 3, 1, 1, 5, 8, 8, 1,\n",
       "       7, 7, 2, 0, 6, 5, 8, 7, 4, 8, 3, 2, 3, 4, 1, 0, 2, 5, 2, 3, 7, 3,\n",
       "       4, 3, 6, 0, 2], dtype=int64)"
      ]
     },
     "execution_count": 31,
     "metadata": {},
     "output_type": "execute_result"
    }
   ],
   "source": [
    "worst_predicted = np.argmax(test_predicted_y, axis=1)\n",
    "worst_predicted"
   ]
  },
  {
   "cell_type": "code",
   "execution_count": 32,
   "metadata": {},
   "outputs": [],
   "source": [
    "worst_predicted = worst_predicted + 1"
   ]
  },
  {
   "cell_type": "code",
   "execution_count": 33,
   "metadata": {},
   "outputs": [
    {
     "data": {
      "text/plain": [
       "array([[11, 15, 14, 10,  8, 19, 12, 13, 12],\n",
       "       [13,  8,  7, 20,  9,  6,  9,  9, 10],\n",
       "       [ 3,  3,  1,  3,  3,  2,  1,  2,  0],\n",
       "       [19, 21, 16, 16, 16, 16, 13, 11,  9],\n",
       "       [ 5,  8,  6,  3,  3,  6,  5,  5,  7],\n",
       "       [11, 11,  2,  4,  7,  7,  8,  4,  1],\n",
       "       [27, 12, 22, 21, 25, 30, 11, 18, 25],\n",
       "       [ 0,  0,  1,  0,  2,  0,  0,  1,  0],\n",
       "       [ 3,  0,  0,  1,  0,  1,  1,  0,  1]], dtype=int64)"
      ]
     },
     "execution_count": 33,
     "metadata": {},
     "output_type": "execute_result"
    }
   ],
   "source": [
    "# calculate confusion matrix, precision and recall\n",
    "\n",
    "from sklearn.metrics import confusion_matrix\n",
    "\n",
    "C = confusion_matrix(y_test, worst_predicted)\n",
    "C"
   ]
  },
  {
   "cell_type": "code",
   "execution_count": 34,
   "metadata": {},
   "outputs": [
    {
     "data": {
      "text/plain": [
       "Text(159,0.5,'Actual Classes')"
      ]
     },
     "execution_count": 34,
     "metadata": {},
     "output_type": "execute_result"
    },
    {
     "data": {
      "image/png": "[encoded data removed]",
      "text/plain": [
       "<matplotlib.figure.Figure at 0x20486b5be80>"
      ]
     },
     "metadata": {},
     "output_type": "display_data"
    }
   ],
   "source": [
    "classes = [n for n in range(1,10)]\n",
    "plt.figure(figsize=(20,6))\n",
    "sns.heatmap(C, fmt=\"0.2f\", xticklabels=classes, yticklabels=classes, cmap='YlGnBu', annot=True)\n",
    "plt.xlabel(\"Predicted Classes\")\n",
    "plt.ylabel(\"Actual Classes\")"
   ]
  },
  {
   "cell_type": "code",
   "execution_count": 35,
   "metadata": {},
   "outputs": [],
   "source": [
    "# precision metics\n",
    "# out of all prediction for a perticular class , what portion is correct\n",
    "P = C/C.sum(axis = 0)"
   ]
  },
  {
   "cell_type": "code",
   "execution_count": 36,
   "metadata": {},
   "outputs": [
    {
     "data": {
      "text/plain": [
       "Text(159,0.5,'Actual Classes')"
      ]
     },
     "execution_count": 36,
     "metadata": {},
     "output_type": "execute_result"
    },
    {
     "data": {
      "image/png": "[encoded data removed]",
      "text/plain": [
       "<matplotlib.figure.Figure at 0x20486b3d240>"
      ]
     },
     "metadata": {},
     "output_type": "display_data"
    }
   ],
   "source": [
    "\n",
    "plt.figure(figsize=(20,6))\n",
    "sns.heatmap(P, fmt=\"0.2f\", xticklabels=classes, yticklabels=classes, cmap='YlGnBu', annot=True)\n",
    "plt.xlabel(\"Predicted Classes\")\n",
    "plt.ylabel(\"Actual Classes\")"
   ]
  },
  {
   "cell_type": "code",
   "execution_count": 37,
   "metadata": {},
   "outputs": [],
   "source": [
    "# Recall\n",
    "# Out of all those belogs to one class, what portion is predicted correctly\n",
    "R = (C.T / C.sum(axis=1)).T"
   ]
  },
  {
   "cell_type": "code",
   "execution_count": 38,
   "metadata": {},
   "outputs": [
    {
     "data": {
      "text/plain": [
       "Text(159,0.5,'Actual Classes')"
      ]
     },
     "execution_count": 38,
     "metadata": {},
     "output_type": "execute_result"
    },
    {
     "data": {
      "image/png": "[encoded data removed]",
      "text/plain": [
       "<matplotlib.figure.Figure at 0x20486cc4c88>"
      ]
     },
     "metadata": {},
     "output_type": "display_data"
    }
   ],
   "source": [
    "\n",
    "plt.figure(figsize=(20,6))\n",
    "sns.heatmap(R, fmt=\"0.2f\", xticklabels=classes, yticklabels=classes, cmap='YlGnBu', annot=True)\n",
    "plt.xlabel(\"Predicted Classes\")\n",
    "plt.ylabel(\"Actual Classes\")"
   ]
  },
  {
   "cell_type": "markdown",
   "metadata": {},
   "source": [
    "## Evaluate Gene column"
   ]
  },
  {
   "cell_type": "code",
   "execution_count": 39,
   "metadata": {},
   "outputs": [
    {
     "name": "stdout",
     "output_type": "stream",
     "text": [
      "count :  246\n"
     ]
    },
    {
     "data": {
      "text/plain": [
       "BRCA1     175\n",
       "TP53      107\n",
       "EGFR       83\n",
       "PTEN       79\n",
       "BRCA2      79\n",
       "KIT        69\n",
       "BRAF       60\n",
       "ALK        47\n",
       "ERBB2      46\n",
       "PDGFRA     39\n",
       "Name: Gene, dtype: int64"
      ]
     },
     "execution_count": 39,
     "metadata": {},
     "output_type": "execute_result"
    }
   ],
   "source": [
    "unique_genes = X_train['Gene'].value_counts()\n",
    "print(\"count : \", unique_genes.shape[0])\n",
    "unique_genes.head(10)"
   ]
  },
  {
   "cell_type": "code",
   "execution_count": 40,
   "metadata": {},
   "outputs": [
    {
     "data": {
      "text/plain": [
       "<matplotlib.legend.Legend at 0x2049cf8ae80>"
      ]
     },
     "execution_count": 40,
     "metadata": {},
     "output_type": "execute_result"
    },
    {
     "data": {
      "image/png": "[encoded data removed]",
      "text/plain": [
       "<matplotlib.figure.Figure at 0x20486a8d5f8>"
      ]
     },
     "metadata": {},
     "output_type": "display_data"
    }
   ],
   "source": [
    "# plot a cumulative graph on gene column to see distribution\n",
    "# first normalize the counts\n",
    "s = sum(unique_genes.values)\n",
    "h = unique_genes.values / s\n",
    "c_sum = np.cumsum(h)\n",
    "plt.plot(c_sum, label = \"Gene Cumulative Sum Distribution\")\n",
    "plt.grid()\n",
    "plt.legend()"
   ]
  },
  {
   "cell_type": "markdown",
   "metadata": {},
   "source": [
    "#### We can see from above graph that more than 75% of data are for top 50 genes\n",
    "## Lets deal with this categorical data now\n",
    "\n",
    "### There are two methods -\n",
    "#### One hot Encoding - \n",
    "#### Responce Encoding (Mean Imputation)"
   ]
  },
  {
   "cell_type": "markdown",
   "metadata": {},
   "source": [
    "There is much more problem with one hot encoding here as unique categories are 236 in this case. Lets see both -"
   ]
  },
  {
   "cell_type": "code",
   "execution_count": 41,
   "metadata": {},
   "outputs": [],
   "source": [
    "from sklearn.feature_extraction.text import CountVectorizer\n",
    "gene_vectorizer = CountVectorizer()"
   ]
  },
  {
   "cell_type": "code",
   "execution_count": 42,
   "metadata": {},
   "outputs": [
    {
     "data": {
      "text/plain": [
       "(532, 245)"
      ]
     },
     "execution_count": 42,
     "metadata": {},
     "output_type": "execute_result"
    }
   ],
   "source": [
    "train_gene_feature_onehotencoding = gene_vectorizer.fit_transform(X_train['Gene'])\n",
    "cv_gene_feature_onehotencoding = gene_vectorizer.transform(X_cv['Gene'])\n",
    "test_gene_feature_onehotencoding = gene_vectorizer.transform(X_test['Gene'])\n",
    "\n",
    "cv_gene_feature_onehotencoding.shape"
   ]
  },
  {
   "cell_type": "code",
   "execution_count": 43,
   "metadata": {},
   "outputs": [
    {
     "data": {
      "text/plain": [
       "['abl1',\n",
       " 'acvr1',\n",
       " 'ago2',\n",
       " 'akt1',\n",
       " 'akt2',\n",
       " 'akt3',\n",
       " 'alk',\n",
       " 'apc',\n",
       " 'ar',\n",
       " 'araf',\n",
       " 'arid1a',\n",
       " 'arid1b',\n",
       " 'arid2',\n",
       " 'arid5b',\n",
       " 'asxl1',\n",
       " 'asxl2',\n",
       " 'atm',\n",
       " 'atrx',\n",
       " 'aurka',\n",
       " 'axin1',\n",
       " 'axl',\n",
       " 'b2m',\n",
       " 'bap1',\n",
       " 'bard1',\n",
       " 'bcl10',\n",
       " 'bcl2l11',\n",
       " 'bcor',\n",
       " 'braf',\n",
       " 'brca1',\n",
       " 'brca2',\n",
       " 'brd4',\n",
       " 'brip1',\n",
       " 'btk',\n",
       " 'card11',\n",
       " 'carm1',\n",
       " 'casp8',\n",
       " 'cbl',\n",
       " 'ccnd1',\n",
       " 'ccnd2',\n",
       " 'ccnd3',\n",
       " 'ccne1',\n",
       " 'cdh1',\n",
       " 'cdk12',\n",
       " 'cdk4',\n",
       " 'cdk6',\n",
       " 'cdk8',\n",
       " 'cdkn1a',\n",
       " 'cdkn1b',\n",
       " 'cdkn2a',\n",
       " 'cdkn2b',\n",
       " 'cdkn2c',\n",
       " 'cebpa',\n",
       " 'chek2',\n",
       " 'cic',\n",
       " 'crebbp',\n",
       " 'ctcf',\n",
       " 'ctla4',\n",
       " 'ctnnb1',\n",
       " 'ddr2',\n",
       " 'dicer1',\n",
       " 'dnmt3a',\n",
       " 'dnmt3b',\n",
       " 'egfr',\n",
       " 'eif1ax',\n",
       " 'elf3',\n",
       " 'ep300',\n",
       " 'epas1',\n",
       " 'epcam',\n",
       " 'erbb2',\n",
       " 'erbb3',\n",
       " 'erbb4',\n",
       " 'ercc2',\n",
       " 'ercc3',\n",
       " 'ercc4',\n",
       " 'erg',\n",
       " 'errfi1',\n",
       " 'esr1',\n",
       " 'etv1',\n",
       " 'etv6',\n",
       " 'ewsr1',\n",
       " 'ezh2',\n",
       " 'fam58a',\n",
       " 'fanca',\n",
       " 'fancc',\n",
       " 'fat1',\n",
       " 'fbxw7',\n",
       " 'fgf3',\n",
       " 'fgf4',\n",
       " 'fgfr1',\n",
       " 'fgfr2',\n",
       " 'fgfr3',\n",
       " 'fgfr4',\n",
       " 'flt1',\n",
       " 'flt3',\n",
       " 'foxa1',\n",
       " 'foxl2',\n",
       " 'foxo1',\n",
       " 'foxp1',\n",
       " 'fubp1',\n",
       " 'gata3',\n",
       " 'gli1',\n",
       " 'gna11',\n",
       " 'gnaq',\n",
       " 'gnas',\n",
       " 'h3f3a',\n",
       " 'hist1h1c',\n",
       " 'hla',\n",
       " 'hnf1a',\n",
       " 'hras',\n",
       " 'idh1',\n",
       " 'idh2',\n",
       " 'igf1r',\n",
       " 'ikbke',\n",
       " 'il7r',\n",
       " 'inpp4b',\n",
       " 'jak1',\n",
       " 'jak2',\n",
       " 'kdm5a',\n",
       " 'kdm5c',\n",
       " 'kdm6a',\n",
       " 'kdr',\n",
       " 'keap1',\n",
       " 'kit',\n",
       " 'klf4',\n",
       " 'kmt2a',\n",
       " 'kmt2b',\n",
       " 'kmt2c',\n",
       " 'kmt2d',\n",
       " 'knstrn',\n",
       " 'kras',\n",
       " 'lats1',\n",
       " 'map2k1',\n",
       " 'map2k2',\n",
       " 'map2k4',\n",
       " 'map3k1',\n",
       " 'mapk1',\n",
       " 'mdm2',\n",
       " 'mdm4',\n",
       " 'med12',\n",
       " 'mef2b',\n",
       " 'men1',\n",
       " 'met',\n",
       " 'mga',\n",
       " 'mlh1',\n",
       " 'mpl',\n",
       " 'msh2',\n",
       " 'msh6',\n",
       " 'mtor',\n",
       " 'myc',\n",
       " 'mycn',\n",
       " 'myd88',\n",
       " 'myod1',\n",
       " 'ncor1',\n",
       " 'nf1',\n",
       " 'nf2',\n",
       " 'nfe2l2',\n",
       " 'nfkbia',\n",
       " 'nkx2',\n",
       " 'notch1',\n",
       " 'notch2',\n",
       " 'npm1',\n",
       " 'nras',\n",
       " 'nsd1',\n",
       " 'ntrk1',\n",
       " 'ntrk2',\n",
       " 'ntrk3',\n",
       " 'nup93',\n",
       " 'pak1',\n",
       " 'pax8',\n",
       " 'pbrm1',\n",
       " 'pdgfra',\n",
       " 'pdgfrb',\n",
       " 'pik3ca',\n",
       " 'pik3cb',\n",
       " 'pik3cd',\n",
       " 'pik3r1',\n",
       " 'pik3r2',\n",
       " 'pik3r3',\n",
       " 'pim1',\n",
       " 'pms1',\n",
       " 'pms2',\n",
       " 'pole',\n",
       " 'ppm1d',\n",
       " 'ppp2r1a',\n",
       " 'ppp6c',\n",
       " 'prdm1',\n",
       " 'ptch1',\n",
       " 'pten',\n",
       " 'ptpn11',\n",
       " 'ptprd',\n",
       " 'ptprt',\n",
       " 'rab35',\n",
       " 'rac1',\n",
       " 'rad21',\n",
       " 'rad50',\n",
       " 'rad51b',\n",
       " 'rad51c',\n",
       " 'rad54l',\n",
       " 'raf1',\n",
       " 'rara',\n",
       " 'rasa1',\n",
       " 'rb1',\n",
       " 'ret',\n",
       " 'rheb',\n",
       " 'rhoa',\n",
       " 'rictor',\n",
       " 'rit1',\n",
       " 'ros1',\n",
       " 'rras2',\n",
       " 'runx1',\n",
       " 'rxra',\n",
       " 'sdhc',\n",
       " 'setd2',\n",
       " 'sf3b1',\n",
       " 'shoc2',\n",
       " 'shq1',\n",
       " 'smad2',\n",
       " 'smad3',\n",
       " 'smad4',\n",
       " 'smarca4',\n",
       " 'smarcb1',\n",
       " 'smo',\n",
       " 'sos1',\n",
       " 'sox9',\n",
       " 'spop',\n",
       " 'srsf2',\n",
       " 'stag2',\n",
       " 'stat3',\n",
       " 'stk11',\n",
       " 'tert',\n",
       " 'tet1',\n",
       " 'tet2',\n",
       " 'tgfbr1',\n",
       " 'tgfbr2',\n",
       " 'tmprss2',\n",
       " 'tp53',\n",
       " 'tp53bp1',\n",
       " 'tsc1',\n",
       " 'tsc2',\n",
       " 'u2af1',\n",
       " 'vhl',\n",
       " 'whsc1',\n",
       " 'whsc1l1',\n",
       " 'xrcc2',\n",
       " 'yap1']"
      ]
     },
     "execution_count": 43,
     "metadata": {},
     "output_type": "execute_result"
    }
   ],
   "source": [
    "gene_vectorizer.get_feature_names()"
   ]
  },
  {
   "cell_type": "markdown",
   "metadata": {},
   "source": [
    "One hot encoding will create too many columns and increase dimentionality of dataset. Models like Random forest will not perform better with high dimentional data. However dimentionality is fine for Linear/Logistic Regression and SVM like models.\n",
    "\n",
    "## Responce Encoding with Laplas smooting"
   ]
  },
  {
   "cell_type": "code",
   "execution_count": 44,
   "metadata": {},
   "outputs": [],
   "source": [
    "# code for response coding with Laplace smoothing.\n",
    "# alpha : used for laplace smoothing\n",
    "# feature: ['gene', 'variation']\n",
    "# df: ['train_df', 'test_df', 'cv_df']\n",
    "# algorithm\n",
    "# ----------\n",
    "# Consider all unique values and the number of occurances of given feature in train data dataframe\n",
    "# build a vector (1*9) , the first element = (number of times it occured in class1 + 10*alpha / number of time it occurred in total data+90*alpha)\n",
    "# gv_dict is like a look up table, for every gene it store a (1*9) representation of it\n",
    "# for a value of feature in df:\n",
    "# if it is in train data:\n",
    "# we add the vector that was stored in 'gv_dict' look up table to 'gv_fea'\n",
    "# if it is not there is train:\n",
    "# we add [1/9, 1/9, 1/9, 1/9,1/9, 1/9, 1/9, 1/9, 1/9] to 'gv_fea'\n",
    "# return 'gv_fea'\n",
    "# ----------------------\n",
    "\n",
    "# get_gv_fea_dict: Get Gene varaition Feature Dict\n",
    "def get_gv_fea_dict(alpha, feature, df):\n",
    "    # value_count: it contains a dict like\n",
    "    # print(train_df['Gene'].value_counts())\n",
    "    # output:\n",
    "    #        {BRCA1      174\n",
    "    #         TP53       106\n",
    "    #         EGFR        86\n",
    "    #         BRCA2       75\n",
    "    #         PTEN        69\n",
    "    #         KIT         61\n",
    "    #         BRAF        60\n",
    "    #         ERBB2       47\n",
    "    #         PDGFRA      46\n",
    "    #         ...}\n",
    "    # print(train_df['Variation'].value_counts())\n",
    "    # output:\n",
    "    # {\n",
    "    # Truncating_Mutations                     63\n",
    "    # Deletion                                 43\n",
    "    # Amplification                            43\n",
    "    # Fusions                                  22\n",
    "    # Overexpression                            3\n",
    "    # E17K                                      3\n",
    "    # Q61L                                      3\n",
    "    # S222D                                     2\n",
    "    # P130S                                     2\n",
    "    # ...\n",
    "    # }\n",
    "    value_count = df[feature].value_counts()\n",
    "    \n",
    "    # gv_dict : Gene Variation Dict, which contains the probability array for each gene/variation\n",
    "    gv_dict = dict()\n",
    "    \n",
    "    # denominator will contain the number of time that particular feature occured in whole data\n",
    "    for i, denominator in value_count.items():\n",
    "        # vec will contain (p(yi==1/Gi) probability of gene/variation belongs to perticular class\n",
    "        # vec is 9 diamensional vector\n",
    "        vec = []\n",
    "        for k in range(1,10):\n",
    "            # print(train_df.loc[(train_df['Class']==1) & (train_df['Gene']=='BRCA1')])\n",
    "            #         ID   Gene             Variation  Class  \n",
    "            # 2470  2470  BRCA1                S1715C      1   \n",
    "            # 2486  2486  BRCA1                S1841R      1   \n",
    "            # 2614  2614  BRCA1                   M1R      1   \n",
    "            # 2432  2432  BRCA1                L1657P      1   \n",
    "            # 2567  2567  BRCA1                T1685A      1   \n",
    "            # 2583  2583  BRCA1                E1660G      1   \n",
    "            # 2634  2634  BRCA1                W1718L      1   \n",
    "            # cls_cnt.shape[0] will return the number of rows\n",
    "\n",
    "            cls_cnt = df.loc[(df['Class']==k) & (df[feature]==i)]\n",
    "            \n",
    "            # cls_cnt.shape[0](numerator) will contain the number of time that particular feature occured in whole data\n",
    "            vec.append((cls_cnt.shape[0] + alpha*10)/ (denominator + 90*alpha))\n",
    "\n",
    "        # we are adding the gene/variation to the dict as key and vec as value\n",
    "        gv_dict[i]=vec\n",
    "    return gv_dict\n",
    "\n",
    "# Get Gene variation feature\n",
    "def get_gv_feature(alpha, feature, df):\n",
    "    # print(gv_dict)\n",
    "    #     {'BRCA1': [0.20075757575757575, 0.03787878787878788, 0.068181818181818177, 0.13636363636363635, 0.25, 0.19318181818181818, 0.03787878787878788, 0.03787878787878788, 0.03787878787878788], \n",
    "    #      'TP53': [0.32142857142857145, 0.061224489795918366, 0.061224489795918366, 0.27040816326530615, 0.061224489795918366, 0.066326530612244902, 0.051020408163265307, 0.051020408163265307, 0.056122448979591837], \n",
    "    #      'EGFR': [0.056818181818181816, 0.21590909090909091, 0.0625, 0.068181818181818177, 0.068181818181818177, 0.0625, 0.34659090909090912, 0.0625, 0.056818181818181816], \n",
    "    #      'BRCA2': [0.13333333333333333, 0.060606060606060608, 0.060606060606060608, 0.078787878787878782, 0.1393939393939394, 0.34545454545454546, 0.060606060606060608, 0.060606060606060608, 0.060606060606060608], \n",
    "    #      'PTEN': [0.069182389937106917, 0.062893081761006289, 0.069182389937106917, 0.46540880503144655, 0.075471698113207544, 0.062893081761006289, 0.069182389937106917, 0.062893081761006289, 0.062893081761006289], \n",
    "    #      'KIT': [0.066225165562913912, 0.25165562913907286, 0.072847682119205295, 0.072847682119205295, 0.066225165562913912, 0.066225165562913912, 0.27152317880794702, 0.066225165562913912, 0.066225165562913912], \n",
    "    #      'BRAF': [0.066666666666666666, 0.17999999999999999, 0.073333333333333334, 0.073333333333333334, 0.093333333333333338, 0.080000000000000002, 0.29999999999999999, 0.066666666666666666, 0.066666666666666666],\n",
    "    #      ...\n",
    "    #     }\n",
    "    gv_dict = get_gv_fea_dict(alpha, feature, df)\n",
    "    # value_count is similar in get_gv_fea_dict\n",
    "    value_count = df[feature].value_counts()\n",
    "    \n",
    "    # gv_fea: Gene_variation feature, it will contain the feature for each feature value in the data\n",
    "    gv_fea = []\n",
    "    # for every feature values in the given data frame we will check if it is there in the train data then we will add the feature to gv_fea\n",
    "    # if not we will add [1/9,1/9,1/9,1/9,1/9,1/9,1/9,1/9,1/9] to gv_fea\n",
    "    for index, row in df.iterrows():\n",
    "        if row[feature] in dict(value_count).keys():\n",
    "            gv_fea.append(gv_dict[row[feature]])\n",
    "        else:\n",
    "            gv_fea.append([1/9,1/9,1/9,1/9,1/9,1/9,1/9,1/9,1/9])\n",
    "#             gv_fea.append([-1,-1,-1,-1,-1,-1,-1,-1,-1])\n",
    "    return gv_fea"
   ]
  },
  {
   "cell_type": "code",
   "execution_count": 45,
   "metadata": {},
   "outputs": [
    {
     "data": {
      "text/html": [
       "<div>\n",
       "<style scoped>\n",
       "    .dataframe tbody tr th:only-of-type {\n",
       "        vertical-align: middle;\n",
       "    }\n",
       "\n",
       "    .dataframe tbody tr th {\n",
       "        vertical-align: top;\n",
       "    }\n",
       "\n",
       "    .dataframe thead th {\n",
       "        text-align: right;\n",
       "    }\n",
       "</style>\n",
       "<table border=\"1\" class=\"dataframe\">\n",
       "  <thead>\n",
       "    <tr style=\"text-align: right;\">\n",
       "      <th></th>\n",
       "      <th>ID</th>\n",
       "      <th>Gene</th>\n",
       "      <th>Variation</th>\n",
       "      <th>Class</th>\n",
       "      <th>TEXT</th>\n",
       "    </tr>\n",
       "  </thead>\n",
       "  <tbody>\n",
       "    <tr>\n",
       "      <th>1916</th>\n",
       "      <td>1916</td>\n",
       "      <td>SMO</td>\n",
       "      <td>Q477E</td>\n",
       "      <td>2</td>\n",
       "      <td>introduction uncontrolled activation hedgehog ...</td>\n",
       "    </tr>\n",
       "    <tr>\n",
       "      <th>1379</th>\n",
       "      <td>1379</td>\n",
       "      <td>FGFR1</td>\n",
       "      <td>FGFR1OP1-FGFR1_Fusion</td>\n",
       "      <td>7</td>\n",
       "      <td>fop fibroblast growth factor receptor 1 fgfr1 ...</td>\n",
       "    </tr>\n",
       "    <tr>\n",
       "      <th>3269</th>\n",
       "      <td>3269</td>\n",
       "      <td>RET</td>\n",
       "      <td>Fusions</td>\n",
       "      <td>2</td>\n",
       "      <td>oncogenic fusion ret rearranged transfection g...</td>\n",
       "    </tr>\n",
       "    <tr>\n",
       "      <th>3106</th>\n",
       "      <td>3106</td>\n",
       "      <td>DNMT3A</td>\n",
       "      <td>Deletion</td>\n",
       "      <td>1</td>\n",
       "      <td>genetic alterations responsible adverse outcom...</td>\n",
       "    </tr>\n",
       "    <tr>\n",
       "      <th>886</th>\n",
       "      <td>886</td>\n",
       "      <td>PDGFRA</td>\n",
       "      <td>E996K</td>\n",
       "      <td>3</td>\n",
       "      <td>activating mutations platelet derived growth f...</td>\n",
       "    </tr>\n",
       "  </tbody>\n",
       "</table>\n",
       "</div>"
      ],
      "text/plain": [
       "        ID    Gene              Variation  Class  \\\n",
       "1916  1916     SMO                  Q477E      2   \n",
       "1379  1379   FGFR1  FGFR1OP1-FGFR1_Fusion      7   \n",
       "3269  3269     RET                Fusions      2   \n",
       "3106  3106  DNMT3A               Deletion      1   \n",
       "886    886  PDGFRA                  E996K      3   \n",
       "\n",
       "                                                   TEXT  \n",
       "1916  introduction uncontrolled activation hedgehog ...  \n",
       "1379  fop fibroblast growth factor receptor 1 fgfr1 ...  \n",
       "3269  oncogenic fusion ret rearranged transfection g...  \n",
       "3106  genetic alterations responsible adverse outcom...  \n",
       "886   activating mutations platelet derived growth f...  "
      ]
     },
     "execution_count": 45,
     "metadata": {},
     "output_type": "execute_result"
    }
   ],
   "source": [
    "X_train.head()"
   ]
  },
  {
   "cell_type": "code",
   "execution_count": 46,
   "metadata": {},
   "outputs": [
    {
     "data": {
      "text/plain": [
       "(2124, 9)"
      ]
     },
     "execution_count": 46,
     "metadata": {},
     "output_type": "execute_result"
    }
   ],
   "source": [
    "# Response encoding of gene column\n",
    "# Alpha is used for laplas smoothing\n",
    "alpha = 1\n",
    "\n",
    "train_gene_feature_responseEncoding = np.array(get_gv_feature(alpha, 'Gene', X_train))\n",
    "cv_gene_feature_responseEncoding = np.array(get_gv_feature(alpha, 'Gene', X_cv))\n",
    "test_gene_feature_responseEncoding = np.array(get_gv_feature(alpha, 'Gene', X_test))\n",
    "\n",
    "train_gene_feature_responseEncoding.shape"
   ]
  },
  {
   "cell_type": "markdown",
   "metadata": {},
   "source": [
    "### How good this gene feature is to predict the classes\n",
    "Lets fit it to a model logistic regression and check if it produce accuracy better than my worst model"
   ]
  },
  {
   "cell_type": "code",
   "execution_count": 47,
   "metadata": {},
   "outputs": [],
   "source": [
    "alpha = [10**x for x in range(-5,1)]  # testing pperfomance for different alpha value - hyper paratemer"
   ]
  },
  {
   "cell_type": "code",
   "execution_count": 48,
   "metadata": {},
   "outputs": [
    {
     "name": "stderr",
     "output_type": "stream",
     "text": [
      "C:\\ProgramData\\Anaconda3\\lib\\site-packages\\sklearn\\linear_model\\stochastic_gradient.py:128: FutureWarning: max_iter and tol parameters have been added in <class 'sklearn.linear_model.stochastic_gradient.SGDClassifier'> in 0.19. If both are left unset, they default to max_iter=5 and tol=None. If tol is not None, max_iter defaults to max_iter=1000. From 0.21, default max_iter will be 1000, and default tol will be 1e-3.\n",
      "  \"and default tol will be 1e-3.\" % type(self), FutureWarning)\n",
      "C:\\ProgramData\\Anaconda3\\lib\\site-packages\\sklearn\\linear_model\\stochastic_gradient.py:128: FutureWarning: max_iter and tol parameters have been added in <class 'sklearn.linear_model.stochastic_gradient.SGDClassifier'> in 0.19. If both are left unset, they default to max_iter=5 and tol=None. If tol is not None, max_iter defaults to max_iter=1000. From 0.21, default max_iter will be 1000, and default tol will be 1e-3.\n",
      "  \"and default tol will be 1e-3.\" % type(self), FutureWarning)\n",
      "C:\\ProgramData\\Anaconda3\\lib\\site-packages\\sklearn\\linear_model\\stochastic_gradient.py:128: FutureWarning: max_iter and tol parameters have been added in <class 'sklearn.linear_model.stochastic_gradient.SGDClassifier'> in 0.19. If both are left unset, they default to max_iter=5 and tol=None. If tol is not None, max_iter defaults to max_iter=1000. From 0.21, default max_iter will be 1000, and default tol will be 1e-3.\n",
      "  \"and default tol will be 1e-3.\" % type(self), FutureWarning)\n",
      "C:\\ProgramData\\Anaconda3\\lib\\site-packages\\sklearn\\linear_model\\stochastic_gradient.py:128: FutureWarning: max_iter and tol parameters have been added in <class 'sklearn.linear_model.stochastic_gradient.SGDClassifier'> in 0.19. If both are left unset, they default to max_iter=5 and tol=None. If tol is not None, max_iter defaults to max_iter=1000. From 0.21, default max_iter will be 1000, and default tol will be 1e-3.\n",
      "  \"and default tol will be 1e-3.\" % type(self), FutureWarning)\n",
      "C:\\ProgramData\\Anaconda3\\lib\\site-packages\\sklearn\\linear_model\\stochastic_gradient.py:128: FutureWarning: max_iter and tol parameters have been added in <class 'sklearn.linear_model.stochastic_gradient.SGDClassifier'> in 0.19. If both are left unset, they default to max_iter=5 and tol=None. If tol is not None, max_iter defaults to max_iter=1000. From 0.21, default max_iter will be 1000, and default tol will be 1e-3.\n",
      "  \"and default tol will be 1e-3.\" % type(self), FutureWarning)\n",
      "C:\\ProgramData\\Anaconda3\\lib\\site-packages\\sklearn\\linear_model\\stochastic_gradient.py:128: FutureWarning: max_iter and tol parameters have been added in <class 'sklearn.linear_model.stochastic_gradient.SGDClassifier'> in 0.19. If both are left unset, they default to max_iter=5 and tol=None. If tol is not None, max_iter defaults to max_iter=1000. From 0.21, default max_iter will be 1000, and default tol will be 1e-3.\n",
      "  \"and default tol will be 1e-3.\" % type(self), FutureWarning)\n"
     ]
    },
    {
     "name": "stdout",
     "output_type": "stream",
     "text": [
      " for value of alpha 1e-05 log loss is 1.375980216169863\n"
     ]
    },
    {
     "name": "stderr",
     "output_type": "stream",
     "text": [
      "C:\\ProgramData\\Anaconda3\\lib\\site-packages\\sklearn\\linear_model\\stochastic_gradient.py:128: FutureWarning: max_iter and tol parameters have been added in <class 'sklearn.linear_model.stochastic_gradient.SGDClassifier'> in 0.19. If both are left unset, they default to max_iter=5 and tol=None. If tol is not None, max_iter defaults to max_iter=1000. From 0.21, default max_iter will be 1000, and default tol will be 1e-3.\n",
      "  \"and default tol will be 1e-3.\" % type(self), FutureWarning)\n",
      "C:\\ProgramData\\Anaconda3\\lib\\site-packages\\sklearn\\linear_model\\stochastic_gradient.py:128: FutureWarning: max_iter and tol parameters have been added in <class 'sklearn.linear_model.stochastic_gradient.SGDClassifier'> in 0.19. If both are left unset, they default to max_iter=5 and tol=None. If tol is not None, max_iter defaults to max_iter=1000. From 0.21, default max_iter will be 1000, and default tol will be 1e-3.\n",
      "  \"and default tol will be 1e-3.\" % type(self), FutureWarning)\n",
      "C:\\ProgramData\\Anaconda3\\lib\\site-packages\\sklearn\\linear_model\\stochastic_gradient.py:128: FutureWarning: max_iter and tol parameters have been added in <class 'sklearn.linear_model.stochastic_gradient.SGDClassifier'> in 0.19. If both are left unset, they default to max_iter=5 and tol=None. If tol is not None, max_iter defaults to max_iter=1000. From 0.21, default max_iter will be 1000, and default tol will be 1e-3.\n",
      "  \"and default tol will be 1e-3.\" % type(self), FutureWarning)\n"
     ]
    },
    {
     "name": "stdout",
     "output_type": "stream",
     "text": [
      " for value of alpha 0.0001 log loss is 1.1697697807564822\n"
     ]
    },
    {
     "name": "stderr",
     "output_type": "stream",
     "text": [
      "C:\\ProgramData\\Anaconda3\\lib\\site-packages\\sklearn\\linear_model\\stochastic_gradient.py:128: FutureWarning: max_iter and tol parameters have been added in <class 'sklearn.linear_model.stochastic_gradient.SGDClassifier'> in 0.19. If both are left unset, they default to max_iter=5 and tol=None. If tol is not None, max_iter defaults to max_iter=1000. From 0.21, default max_iter will be 1000, and default tol will be 1e-3.\n",
      "  \"and default tol will be 1e-3.\" % type(self), FutureWarning)\n",
      "C:\\ProgramData\\Anaconda3\\lib\\site-packages\\sklearn\\linear_model\\stochastic_gradient.py:128: FutureWarning: max_iter and tol parameters have been added in <class 'sklearn.linear_model.stochastic_gradient.SGDClassifier'> in 0.19. If both are left unset, they default to max_iter=5 and tol=None. If tol is not None, max_iter defaults to max_iter=1000. From 0.21, default max_iter will be 1000, and default tol will be 1e-3.\n",
      "  \"and default tol will be 1e-3.\" % type(self), FutureWarning)\n",
      "C:\\ProgramData\\Anaconda3\\lib\\site-packages\\sklearn\\linear_model\\stochastic_gradient.py:128: FutureWarning: max_iter and tol parameters have been added in <class 'sklearn.linear_model.stochastic_gradient.SGDClassifier'> in 0.19. If both are left unset, they default to max_iter=5 and tol=None. If tol is not None, max_iter defaults to max_iter=1000. From 0.21, default max_iter will be 1000, and default tol will be 1e-3.\n",
      "  \"and default tol will be 1e-3.\" % type(self), FutureWarning)\n"
     ]
    },
    {
     "name": "stdout",
     "output_type": "stream",
     "text": [
      " for value of alpha 0.001 log loss is 1.1885782390376756\n"
     ]
    },
    {
     "name": "stderr",
     "output_type": "stream",
     "text": [
      "C:\\ProgramData\\Anaconda3\\lib\\site-packages\\sklearn\\linear_model\\stochastic_gradient.py:128: FutureWarning: max_iter and tol parameters have been added in <class 'sklearn.linear_model.stochastic_gradient.SGDClassifier'> in 0.19. If both are left unset, they default to max_iter=5 and tol=None. If tol is not None, max_iter defaults to max_iter=1000. From 0.21, default max_iter will be 1000, and default tol will be 1e-3.\n",
      "  \"and default tol will be 1e-3.\" % type(self), FutureWarning)\n",
      "C:\\ProgramData\\Anaconda3\\lib\\site-packages\\sklearn\\linear_model\\stochastic_gradient.py:128: FutureWarning: max_iter and tol parameters have been added in <class 'sklearn.linear_model.stochastic_gradient.SGDClassifier'> in 0.19. If both are left unset, they default to max_iter=5 and tol=None. If tol is not None, max_iter defaults to max_iter=1000. From 0.21, default max_iter will be 1000, and default tol will be 1e-3.\n",
      "  \"and default tol will be 1e-3.\" % type(self), FutureWarning)\n",
      "C:\\ProgramData\\Anaconda3\\lib\\site-packages\\sklearn\\linear_model\\stochastic_gradient.py:128: FutureWarning: max_iter and tol parameters have been added in <class 'sklearn.linear_model.stochastic_gradient.SGDClassifier'> in 0.19. If both are left unset, they default to max_iter=5 and tol=None. If tol is not None, max_iter defaults to max_iter=1000. From 0.21, default max_iter will be 1000, and default tol will be 1e-3.\n",
      "  \"and default tol will be 1e-3.\" % type(self), FutureWarning)\n"
     ]
    },
    {
     "name": "stdout",
     "output_type": "stream",
     "text": [
      " for value of alpha 0.01 log loss is 1.3444286442650906\n",
      " for value of alpha 0.1 log loss is 1.4478914487860435\n"
     ]
    },
    {
     "name": "stderr",
     "output_type": "stream",
     "text": [
      "C:\\ProgramData\\Anaconda3\\lib\\site-packages\\sklearn\\linear_model\\stochastic_gradient.py:128: FutureWarning: max_iter and tol parameters have been added in <class 'sklearn.linear_model.stochastic_gradient.SGDClassifier'> in 0.19. If both are left unset, they default to max_iter=5 and tol=None. If tol is not None, max_iter defaults to max_iter=1000. From 0.21, default max_iter will be 1000, and default tol will be 1e-3.\n",
      "  \"and default tol will be 1e-3.\" % type(self), FutureWarning)\n",
      "C:\\ProgramData\\Anaconda3\\lib\\site-packages\\sklearn\\linear_model\\stochastic_gradient.py:128: FutureWarning: max_iter and tol parameters have been added in <class 'sklearn.linear_model.stochastic_gradient.SGDClassifier'> in 0.19. If both are left unset, they default to max_iter=5 and tol=None. If tol is not None, max_iter defaults to max_iter=1000. From 0.21, default max_iter will be 1000, and default tol will be 1e-3.\n",
      "  \"and default tol will be 1e-3.\" % type(self), FutureWarning)\n",
      "C:\\ProgramData\\Anaconda3\\lib\\site-packages\\sklearn\\linear_model\\stochastic_gradient.py:128: FutureWarning: max_iter and tol parameters have been added in <class 'sklearn.linear_model.stochastic_gradient.SGDClassifier'> in 0.19. If both are left unset, they default to max_iter=5 and tol=None. If tol is not None, max_iter defaults to max_iter=1000. From 0.21, default max_iter will be 1000, and default tol will be 1e-3.\n",
      "  \"and default tol will be 1e-3.\" % type(self), FutureWarning)\n"
     ]
    },
    {
     "name": "stdout",
     "output_type": "stream",
     "text": [
      " for value of alpha 1 log loss is 1.4800460081512157\n"
     ]
    },
    {
     "name": "stderr",
     "output_type": "stream",
     "text": [
      "C:\\ProgramData\\Anaconda3\\lib\\site-packages\\sklearn\\linear_model\\stochastic_gradient.py:128: FutureWarning: max_iter and tol parameters have been added in <class 'sklearn.linear_model.stochastic_gradient.SGDClassifier'> in 0.19. If both are left unset, they default to max_iter=5 and tol=None. If tol is not None, max_iter defaults to max_iter=1000. From 0.21, default max_iter will be 1000, and default tol will be 1e-3.\n",
      "  \"and default tol will be 1e-3.\" % type(self), FutureWarning)\n"
     ]
    }
   ],
   "source": [
    "# Use a SGD classifier\n",
    "# and calibrated classifier to get the results in term of probabilities (sum of all = 1)\n",
    "from sklearn.linear_model import SGDClassifier\n",
    "from sklearn.calibration import CalibratedClassifierCV\n",
    "\n",
    "cv_log_error_array = []\n",
    "for i in alpha:\n",
    "    \n",
    "    clf = SGDClassifier(alpha=i, penalty='l2', loss='log', random_state=42)\n",
    "    clf.fit(train_gene_feature_onehotencoding, y_train)\n",
    "    \n",
    "    sigmoid_clf = CalibratedClassifierCV(clf, method = 'sigmoid')\n",
    "    sigmoid_clf.fit(train_gene_feature_onehotencoding, y_train)\n",
    "    predict_sig_y = sigmoid_clf.predict_proba(cv_gene_feature_onehotencoding)\n",
    "    cv_log_error_array.append(log_loss(y_cv, predict_sig_y, labels = clf.classes_, eps=1e-15))\n",
    "    print(\" for value of alpha {} log loss is {}\".format(i, log_loss(y_cv, predict_sig_y, labels = clf.classes_, eps=1e-15)))\n",
    "    \n"
   ]
  },
  {
   "cell_type": "code",
   "execution_count": 49,
   "metadata": {},
   "outputs": [
    {
     "data": {
      "text/plain": [
       "(532, 245)"
      ]
     },
     "execution_count": 49,
     "metadata": {},
     "output_type": "execute_result"
    }
   ],
   "source": [
    "cv_gene_feature_onehotencoding.shape"
   ]
  },
  {
   "cell_type": "code",
   "execution_count": 50,
   "metadata": {},
   "outputs": [
    {
     "data": {
      "image/png": "[encoded data removed]",
      "text/plain": [
       "<matplotlib.figure.Figure at 0x2049cffe2e8>"
      ]
     },
     "metadata": {},
     "output_type": "display_data"
    }
   ],
   "source": [
    "fig, ax = plt.subplots()\n",
    "ax.plot(alpha, cv_log_error_array, c='g')\n",
    "# for annotation\n",
    "for i, txt in enumerate(np.round(cv_log_error_array,3)):\n",
    "    ax.annotate((alpha[i],np.round(txt,3)), (alpha[i],cv_log_error_array[i]))\n",
    "    \n",
    "plt.grid()\n",
    "plt.title(\"Cross Validation Error for each alpha\")\n",
    "plt.xlabel(\"Alpha i's\")\n",
    "plt.ylabel(\"Error measure\")\n",
    "plt.show()\n"
   ]
  },
  {
   "cell_type": "code",
   "execution_count": 51,
   "metadata": {},
   "outputs": [
    {
     "name": "stderr",
     "output_type": "stream",
     "text": [
      "C:\\ProgramData\\Anaconda3\\lib\\site-packages\\sklearn\\linear_model\\stochastic_gradient.py:128: FutureWarning: max_iter and tol parameters have been added in <class 'sklearn.linear_model.stochastic_gradient.SGDClassifier'> in 0.19. If both are left unset, they default to max_iter=5 and tol=None. If tol is not None, max_iter defaults to max_iter=1000. From 0.21, default max_iter will be 1000, and default tol will be 1e-3.\n",
      "  \"and default tol will be 1e-3.\" % type(self), FutureWarning)\n",
      "C:\\ProgramData\\Anaconda3\\lib\\site-packages\\sklearn\\linear_model\\stochastic_gradient.py:128: FutureWarning: max_iter and tol parameters have been added in <class 'sklearn.linear_model.stochastic_gradient.SGDClassifier'> in 0.19. If both are left unset, they default to max_iter=5 and tol=None. If tol is not None, max_iter defaults to max_iter=1000. From 0.21, default max_iter will be 1000, and default tol will be 1e-3.\n",
      "  \"and default tol will be 1e-3.\" % type(self), FutureWarning)\n",
      "C:\\ProgramData\\Anaconda3\\lib\\site-packages\\sklearn\\linear_model\\stochastic_gradient.py:128: FutureWarning: max_iter and tol parameters have been added in <class 'sklearn.linear_model.stochastic_gradient.SGDClassifier'> in 0.19. If both are left unset, they default to max_iter=5 and tol=None. If tol is not None, max_iter defaults to max_iter=1000. From 0.21, default max_iter will be 1000, and default tol will be 1e-3.\n",
      "  \"and default tol will be 1e-3.\" % type(self), FutureWarning)\n",
      "C:\\ProgramData\\Anaconda3\\lib\\site-packages\\sklearn\\linear_model\\stochastic_gradient.py:128: FutureWarning: max_iter and tol parameters have been added in <class 'sklearn.linear_model.stochastic_gradient.SGDClassifier'> in 0.19. If both are left unset, they default to max_iter=5 and tol=None. If tol is not None, max_iter defaults to max_iter=1000. From 0.21, default max_iter will be 1000, and default tol will be 1e-3.\n",
      "  \"and default tol will be 1e-3.\" % type(self), FutureWarning)\n"
     ]
    },
    {
     "name": "stdout",
     "output_type": "stream",
     "text": [
      "For values of best alpha =  0.0001 The train log loss is: 1.046433718653109\n",
      "For values of best alpha =  0.0001 The cross validation log loss is: 1.1697697807564822\n",
      "For values of best alpha =  0.0001 The test log loss is: 1.269342572842494\n"
     ]
    }
   ],
   "source": [
    "# Lets use best alpha value as we can see from above graph and compute log loss\n",
    "best_alpha = np.argmin(cv_log_error_array)\n",
    "clf = SGDClassifier(alpha=alpha[best_alpha], penalty='l2', loss='log', random_state=42)\n",
    "clf.fit(train_gene_feature_onehotencoding, y_train)\n",
    "sigmoid_clf = CalibratedClassifierCV(clf, method=\"sigmoid\")\n",
    "sigmoid_clf.fit(train_gene_feature_onehotencoding, y_train)\n",
    "\n",
    "predict_sig_y = sigmoid_clf.predict_proba(train_gene_feature_onehotencoding)\n",
    "print('For values of best alpha = ', alpha[best_alpha], \"The train log loss is:\",log_loss(y_train, predict_sig_y, labels=clf.classes_, eps=1e-15))\n",
    "predict_sig_y = sigmoid_clf.predict_proba(cv_gene_feature_onehotencoding)\n",
    "print('For values of best alpha = ', alpha[best_alpha], \"The cross validation log loss is:\",log_loss(y_cv, predict_sig_y, labels=clf.classes_, eps=1e-15))\n",
    "predict_sig_y = sigmoid_clf.predict_proba(test_gene_feature_onehotencoding)\n",
    "print('For values of best alpha = ', alpha[best_alpha], \"The test log loss is:\",log_loss(y_test, predict_sig_y, labels=clf.classes_, eps=1e-15))\n"
   ]
  },
  {
   "cell_type": "markdown",
   "metadata": {},
   "source": [
    "Now lets check how many values are overlapping between train, test or between CV and train"
   ]
  },
  {
   "cell_type": "code",
   "execution_count": 52,
   "metadata": {},
   "outputs": [],
   "source": [
    "test_coverage = X_test[X_test['Gene'].isin(list(set(X_train['Gene'])))].shape[0]\n",
    "cv_coverage = X_cv[X_cv['Gene'].isin(list(set(X_train['Gene'])))].shape[0]"
   ]
  },
  {
   "cell_type": "code",
   "execution_count": 53,
   "metadata": {},
   "outputs": [
    {
     "name": "stdout",
     "output_type": "stream",
     "text": [
      "1. In test data 653 out of 665 : 98.19548872180451\n",
      "2. In cross validation data 522 out of  532 : 98.1203007518797\n"
     ]
    }
   ],
   "source": [
    "print('1. In test data',test_coverage, 'out of',X_test.shape[0], \":\",(test_coverage/X_test.shape[0])*100)\n",
    "print('2. In cross validation data',cv_coverage, 'out of ',X_cv.shape[0],\":\" ,(cv_coverage/X_cv.shape[0])*100)"
   ]
  },
  {
   "cell_type": "markdown",
   "metadata": {},
   "source": [
    "## Evaluating Variation column"
   ]
  },
  {
   "cell_type": "code",
   "execution_count": 54,
   "metadata": {},
   "outputs": [
    {
     "data": {
      "text/plain": [
       "Truncating_Mutations    57\n",
       "Deletion                46\n",
       "Amplification           43\n",
       "Fusions                 23\n",
       "Overexpression           3\n",
       "Name: Variation, dtype: int64"
      ]
     },
     "execution_count": 54,
     "metadata": {},
     "output_type": "execute_result"
    }
   ],
   "source": [
    "unique_variation = X_train['Variation'].value_counts()\n",
    "unique_variation.head()"
   ]
  },
  {
   "cell_type": "code",
   "execution_count": 55,
   "metadata": {},
   "outputs": [
    {
     "data": {
      "text/plain": [
       "[<matplotlib.lines.Line2D at 0x2049d310ba8>]"
      ]
     },
     "execution_count": 55,
     "metadata": {},
     "output_type": "execute_result"
    },
    {
     "data": {
      "image/png": "[encoded data removed]",
      "text/plain": [
       "<matplotlib.figure.Figure at 0x2049cffeda0>"
      ]
     },
     "metadata": {},
     "output_type": "display_data"
    }
   ],
   "source": [
    "## Cumulative Graph\n",
    "s = sum(unique_variation.values)\n",
    "h = unique_variation.values/s\n",
    "c = np.cumsum(h)\n",
    "\n",
    "plt.plot(c)"
   ]
  },
  {
   "cell_type": "markdown",
   "metadata": {},
   "source": [
    "#### one hot encoding for variation"
   ]
  },
  {
   "cell_type": "code",
   "execution_count": 56,
   "metadata": {},
   "outputs": [],
   "source": [
    "variation_vectorizer = CountVectorizer()\n",
    "train_variation_onehotencoding = variation_vectorizer.fit_transform(X_train['Variation'])\n",
    "cv_variation_onehotencoding = variation_vectorizer.transform(X_cv['Variation'])\n",
    "test_variation_onehotencoding = variation_vectorizer.transform(X_test['Variation'])"
   ]
  },
  {
   "cell_type": "code",
   "execution_count": 57,
   "metadata": {},
   "outputs": [
    {
     "data": {
      "text/plain": [
       "(2124, 1966)"
      ]
     },
     "execution_count": 57,
     "metadata": {},
     "output_type": "execute_result"
    }
   ],
   "source": [
    "train_variation_onehotencoding.shape"
   ]
  },
  {
   "cell_type": "markdown",
   "metadata": {},
   "source": [
    "### Responce encoding for variation column"
   ]
  },
  {
   "cell_type": "code",
   "execution_count": 58,
   "metadata": {},
   "outputs": [],
   "source": [
    "alpha = 1\n",
    "\n",
    "train_variation_responseencoding = np.array(get_gv_feature(alpha, 'Variation', X_train))\n",
    "test_variation_responseencoding = np.array(get_gv_feature(alpha, 'Variation', X_test))\n",
    "cv_variation_responseencoding = np.array(get_gv_feature(alpha, 'Variation', X_cv))"
   ]
  },
  {
   "cell_type": "code",
   "execution_count": 59,
   "metadata": {},
   "outputs": [
    {
     "data": {
      "text/plain": [
       "(2124, 9)"
      ]
     },
     "execution_count": 59,
     "metadata": {},
     "output_type": "execute_result"
    }
   ],
   "source": [
    "train_variation_responseencoding.shape"
   ]
  },
  {
   "cell_type": "markdown",
   "metadata": {},
   "source": [
    "### Lets build a model with variation column only and see if this feature is important"
   ]
  },
  {
   "cell_type": "code",
   "execution_count": 60,
   "metadata": {},
   "outputs": [],
   "source": [
    "# hyperparameter\n",
    "alpha = [10**x for x in range(-5,1)]"
   ]
  },
  {
   "cell_type": "code",
   "execution_count": 61,
   "metadata": {},
   "outputs": [
    {
     "name": "stderr",
     "output_type": "stream",
     "text": [
      "C:\\ProgramData\\Anaconda3\\lib\\site-packages\\sklearn\\linear_model\\stochastic_gradient.py:128: FutureWarning: max_iter and tol parameters have been added in <class 'sklearn.linear_model.stochastic_gradient.SGDClassifier'> in 0.19. If both are left unset, they default to max_iter=5 and tol=None. If tol is not None, max_iter defaults to max_iter=1000. From 0.21, default max_iter will be 1000, and default tol will be 1e-3.\n",
      "  \"and default tol will be 1e-3.\" % type(self), FutureWarning)\n",
      "C:\\ProgramData\\Anaconda3\\lib\\site-packages\\sklearn\\linear_model\\stochastic_gradient.py:128: FutureWarning: max_iter and tol parameters have been added in <class 'sklearn.linear_model.stochastic_gradient.SGDClassifier'> in 0.19. If both are left unset, they default to max_iter=5 and tol=None. If tol is not None, max_iter defaults to max_iter=1000. From 0.21, default max_iter will be 1000, and default tol will be 1e-3.\n",
      "  \"and default tol will be 1e-3.\" % type(self), FutureWarning)\n",
      "C:\\ProgramData\\Anaconda3\\lib\\site-packages\\sklearn\\linear_model\\stochastic_gradient.py:128: FutureWarning: max_iter and tol parameters have been added in <class 'sklearn.linear_model.stochastic_gradient.SGDClassifier'> in 0.19. If both are left unset, they default to max_iter=5 and tol=None. If tol is not None, max_iter defaults to max_iter=1000. From 0.21, default max_iter will be 1000, and default tol will be 1e-3.\n",
      "  \"and default tol will be 1e-3.\" % type(self), FutureWarning)\n",
      "C:\\ProgramData\\Anaconda3\\lib\\site-packages\\sklearn\\linear_model\\stochastic_gradient.py:128: FutureWarning: max_iter and tol parameters have been added in <class 'sklearn.linear_model.stochastic_gradient.SGDClassifier'> in 0.19. If both are left unset, they default to max_iter=5 and tol=None. If tol is not None, max_iter defaults to max_iter=1000. From 0.21, default max_iter will be 1000, and default tol will be 1e-3.\n",
      "  \"and default tol will be 1e-3.\" % type(self), FutureWarning)\n",
      "C:\\ProgramData\\Anaconda3\\lib\\site-packages\\sklearn\\linear_model\\stochastic_gradient.py:128: FutureWarning: max_iter and tol parameters have been added in <class 'sklearn.linear_model.stochastic_gradient.SGDClassifier'> in 0.19. If both are left unset, they default to max_iter=5 and tol=None. If tol is not None, max_iter defaults to max_iter=1000. From 0.21, default max_iter will be 1000, and default tol will be 1e-3.\n",
      "  \"and default tol will be 1e-3.\" % type(self), FutureWarning)\n",
      "C:\\ProgramData\\Anaconda3\\lib\\site-packages\\sklearn\\linear_model\\stochastic_gradient.py:128: FutureWarning: max_iter and tol parameters have been added in <class 'sklearn.linear_model.stochastic_gradient.SGDClassifier'> in 0.19. If both are left unset, they default to max_iter=5 and tol=None. If tol is not None, max_iter defaults to max_iter=1000. From 0.21, default max_iter will be 1000, and default tol will be 1e-3.\n",
      "  \"and default tol will be 1e-3.\" % type(self), FutureWarning)\n"
     ]
    },
    {
     "name": "stdout",
     "output_type": "stream",
     "text": [
      "CV log loss for alpha:  1e-05 is :  1.7384259801135789\n"
     ]
    },
    {
     "name": "stderr",
     "output_type": "stream",
     "text": [
      "C:\\ProgramData\\Anaconda3\\lib\\site-packages\\sklearn\\linear_model\\stochastic_gradient.py:128: FutureWarning: max_iter and tol parameters have been added in <class 'sklearn.linear_model.stochastic_gradient.SGDClassifier'> in 0.19. If both are left unset, they default to max_iter=5 and tol=None. If tol is not None, max_iter defaults to max_iter=1000. From 0.21, default max_iter will be 1000, and default tol will be 1e-3.\n",
      "  \"and default tol will be 1e-3.\" % type(self), FutureWarning)\n",
      "C:\\ProgramData\\Anaconda3\\lib\\site-packages\\sklearn\\linear_model\\stochastic_gradient.py:128: FutureWarning: max_iter and tol parameters have been added in <class 'sklearn.linear_model.stochastic_gradient.SGDClassifier'> in 0.19. If both are left unset, they default to max_iter=5 and tol=None. If tol is not None, max_iter defaults to max_iter=1000. From 0.21, default max_iter will be 1000, and default tol will be 1e-3.\n",
      "  \"and default tol will be 1e-3.\" % type(self), FutureWarning)\n",
      "C:\\ProgramData\\Anaconda3\\lib\\site-packages\\sklearn\\linear_model\\stochastic_gradient.py:128: FutureWarning: max_iter and tol parameters have been added in <class 'sklearn.linear_model.stochastic_gradient.SGDClassifier'> in 0.19. If both are left unset, they default to max_iter=5 and tol=None. If tol is not None, max_iter defaults to max_iter=1000. From 0.21, default max_iter will be 1000, and default tol will be 1e-3.\n",
      "  \"and default tol will be 1e-3.\" % type(self), FutureWarning)\n"
     ]
    },
    {
     "name": "stdout",
     "output_type": "stream",
     "text": [
      "CV log loss for alpha:  0.0001 is :  1.7384259801135789\n"
     ]
    },
    {
     "name": "stderr",
     "output_type": "stream",
     "text": [
      "C:\\ProgramData\\Anaconda3\\lib\\site-packages\\sklearn\\linear_model\\stochastic_gradient.py:128: FutureWarning: max_iter and tol parameters have been added in <class 'sklearn.linear_model.stochastic_gradient.SGDClassifier'> in 0.19. If both are left unset, they default to max_iter=5 and tol=None. If tol is not None, max_iter defaults to max_iter=1000. From 0.21, default max_iter will be 1000, and default tol will be 1e-3.\n",
      "  \"and default tol will be 1e-3.\" % type(self), FutureWarning)\n",
      "C:\\ProgramData\\Anaconda3\\lib\\site-packages\\sklearn\\linear_model\\stochastic_gradient.py:128: FutureWarning: max_iter and tol parameters have been added in <class 'sklearn.linear_model.stochastic_gradient.SGDClassifier'> in 0.19. If both are left unset, they default to max_iter=5 and tol=None. If tol is not None, max_iter defaults to max_iter=1000. From 0.21, default max_iter will be 1000, and default tol will be 1e-3.\n",
      "  \"and default tol will be 1e-3.\" % type(self), FutureWarning)\n"
     ]
    },
    {
     "name": "stdout",
     "output_type": "stream",
     "text": [
      "CV log loss for alpha:  0.001 is :  1.7384259801135789\n"
     ]
    },
    {
     "name": "stderr",
     "output_type": "stream",
     "text": [
      "C:\\ProgramData\\Anaconda3\\lib\\site-packages\\sklearn\\linear_model\\stochastic_gradient.py:128: FutureWarning: max_iter and tol parameters have been added in <class 'sklearn.linear_model.stochastic_gradient.SGDClassifier'> in 0.19. If both are left unset, they default to max_iter=5 and tol=None. If tol is not None, max_iter defaults to max_iter=1000. From 0.21, default max_iter will be 1000, and default tol will be 1e-3.\n",
      "  \"and default tol will be 1e-3.\" % type(self), FutureWarning)\n",
      "C:\\ProgramData\\Anaconda3\\lib\\site-packages\\sklearn\\linear_model\\stochastic_gradient.py:128: FutureWarning: max_iter and tol parameters have been added in <class 'sklearn.linear_model.stochastic_gradient.SGDClassifier'> in 0.19. If both are left unset, they default to max_iter=5 and tol=None. If tol is not None, max_iter defaults to max_iter=1000. From 0.21, default max_iter will be 1000, and default tol will be 1e-3.\n",
      "  \"and default tol will be 1e-3.\" % type(self), FutureWarning)\n"
     ]
    },
    {
     "name": "stdout",
     "output_type": "stream",
     "text": [
      "CV log loss for alpha:  0.01 is :  1.7384259801135789\n"
     ]
    },
    {
     "name": "stderr",
     "output_type": "stream",
     "text": [
      "C:\\ProgramData\\Anaconda3\\lib\\site-packages\\sklearn\\linear_model\\stochastic_gradient.py:128: FutureWarning: max_iter and tol parameters have been added in <class 'sklearn.linear_model.stochastic_gradient.SGDClassifier'> in 0.19. If both are left unset, they default to max_iter=5 and tol=None. If tol is not None, max_iter defaults to max_iter=1000. From 0.21, default max_iter will be 1000, and default tol will be 1e-3.\n",
      "  \"and default tol will be 1e-3.\" % type(self), FutureWarning)\n",
      "C:\\ProgramData\\Anaconda3\\lib\\site-packages\\sklearn\\linear_model\\stochastic_gradient.py:128: FutureWarning: max_iter and tol parameters have been added in <class 'sklearn.linear_model.stochastic_gradient.SGDClassifier'> in 0.19. If both are left unset, they default to max_iter=5 and tol=None. If tol is not None, max_iter defaults to max_iter=1000. From 0.21, default max_iter will be 1000, and default tol will be 1e-3.\n",
      "  \"and default tol will be 1e-3.\" % type(self), FutureWarning)\n",
      "C:\\ProgramData\\Anaconda3\\lib\\site-packages\\sklearn\\linear_model\\stochastic_gradient.py:128: FutureWarning: max_iter and tol parameters have been added in <class 'sklearn.linear_model.stochastic_gradient.SGDClassifier'> in 0.19. If both are left unset, they default to max_iter=5 and tol=None. If tol is not None, max_iter defaults to max_iter=1000. From 0.21, default max_iter will be 1000, and default tol will be 1e-3.\n",
      "  \"and default tol will be 1e-3.\" % type(self), FutureWarning)\n"
     ]
    },
    {
     "name": "stdout",
     "output_type": "stream",
     "text": [
      "CV log loss for alpha:  0.1 is :  1.7384259801135789\n"
     ]
    },
    {
     "name": "stderr",
     "output_type": "stream",
     "text": [
      "C:\\ProgramData\\Anaconda3\\lib\\site-packages\\sklearn\\linear_model\\stochastic_gradient.py:128: FutureWarning: max_iter and tol parameters have been added in <class 'sklearn.linear_model.stochastic_gradient.SGDClassifier'> in 0.19. If both are left unset, they default to max_iter=5 and tol=None. If tol is not None, max_iter defaults to max_iter=1000. From 0.21, default max_iter will be 1000, and default tol will be 1e-3.\n",
      "  \"and default tol will be 1e-3.\" % type(self), FutureWarning)\n",
      "C:\\ProgramData\\Anaconda3\\lib\\site-packages\\sklearn\\linear_model\\stochastic_gradient.py:128: FutureWarning: max_iter and tol parameters have been added in <class 'sklearn.linear_model.stochastic_gradient.SGDClassifier'> in 0.19. If both are left unset, they default to max_iter=5 and tol=None. If tol is not None, max_iter defaults to max_iter=1000. From 0.21, default max_iter will be 1000, and default tol will be 1e-3.\n",
      "  \"and default tol will be 1e-3.\" % type(self), FutureWarning)\n"
     ]
    },
    {
     "name": "stdout",
     "output_type": "stream",
     "text": [
      "CV log loss for alpha:  1 is :  1.7384259801135789\n"
     ]
    },
    {
     "name": "stderr",
     "output_type": "stream",
     "text": [
      "C:\\ProgramData\\Anaconda3\\lib\\site-packages\\sklearn\\linear_model\\stochastic_gradient.py:128: FutureWarning: max_iter and tol parameters have been added in <class 'sklearn.linear_model.stochastic_gradient.SGDClassifier'> in 0.19. If both are left unset, they default to max_iter=5 and tol=None. If tol is not None, max_iter defaults to max_iter=1000. From 0.21, default max_iter will be 1000, and default tol will be 1e-3.\n",
      "  \"and default tol will be 1e-3.\" % type(self), FutureWarning)\n"
     ]
    }
   ],
   "source": [
    "# SGD classifier for model\n",
    "# Calibrated classifier to get result in probability terms - sigmoid\n",
    "cv_log_error_array = []\n",
    "for i in alpha:\n",
    "    \n",
    "    clf = SGDClassifier(alpha=1, loss='log', penalty='l2', random_state=42)\n",
    "    clf.fit(train_variation_onehotencoding, y_train)\n",
    "    \n",
    "    sig_clf = CalibratedClassifierCV(clf, method = 'sigmoid')\n",
    "    sig_clf.fit(train_variation_onehotencoding, y_train)\n",
    "    predicted_y = sig_clf.predict_proba(cv_variation_onehotencoding)\n",
    "    \n",
    "    cv_log_error_array.append(log_loss(y_cv, predicted_y, labels=clf.classes_))\n",
    "    print(\"CV log loss for alpha: \", i,\"is : \",log_loss(y_cv, predicted_y, labels=clf.classes_))"
   ]
  },
  {
   "cell_type": "code",
   "execution_count": 62,
   "metadata": {},
   "outputs": [
    {
     "name": "stderr",
     "output_type": "stream",
     "text": [
      "C:\\ProgramData\\Anaconda3\\lib\\site-packages\\sklearn\\linear_model\\stochastic_gradient.py:128: FutureWarning: max_iter and tol parameters have been added in <class 'sklearn.linear_model.stochastic_gradient.SGDClassifier'> in 0.19. If both are left unset, they default to max_iter=5 and tol=None. If tol is not None, max_iter defaults to max_iter=1000. From 0.21, default max_iter will be 1000, and default tol will be 1e-3.\n",
      "  \"and default tol will be 1e-3.\" % type(self), FutureWarning)\n",
      "C:\\ProgramData\\Anaconda3\\lib\\site-packages\\sklearn\\linear_model\\stochastic_gradient.py:128: FutureWarning: max_iter and tol parameters have been added in <class 'sklearn.linear_model.stochastic_gradient.SGDClassifier'> in 0.19. If both are left unset, they default to max_iter=5 and tol=None. If tol is not None, max_iter defaults to max_iter=1000. From 0.21, default max_iter will be 1000, and default tol will be 1e-3.\n",
      "  \"and default tol will be 1e-3.\" % type(self), FutureWarning)\n",
      "C:\\ProgramData\\Anaconda3\\lib\\site-packages\\sklearn\\linear_model\\stochastic_gradient.py:128: FutureWarning: max_iter and tol parameters have been added in <class 'sklearn.linear_model.stochastic_gradient.SGDClassifier'> in 0.19. If both are left unset, they default to max_iter=5 and tol=None. If tol is not None, max_iter defaults to max_iter=1000. From 0.21, default max_iter will be 1000, and default tol will be 1e-3.\n",
      "  \"and default tol will be 1e-3.\" % type(self), FutureWarning)\n",
      "C:\\ProgramData\\Anaconda3\\lib\\site-packages\\sklearn\\linear_model\\stochastic_gradient.py:128: FutureWarning: max_iter and tol parameters have been added in <class 'sklearn.linear_model.stochastic_gradient.SGDClassifier'> in 0.19. If both are left unset, they default to max_iter=5 and tol=None. If tol is not None, max_iter defaults to max_iter=1000. From 0.21, default max_iter will be 1000, and default tol will be 1e-3.\n",
      "  \"and default tol will be 1e-3.\" % type(self), FutureWarning)\n"
     ]
    },
    {
     "name": "stdout",
     "output_type": "stream",
     "text": [
      " log loss for training data , with best alpha: 1e-05 is:  0.6890201028434098\n",
      " log loss for cv data , with best alpha: 1e-05 is:  1.7203829139729496\n",
      " log loss for test data , with best alpha: 1e-05 is:  1.7045093534091496\n"
     ]
    }
   ],
   "source": [
    "best_alpha = np.argmin(cv_log_error_array)\n",
    "clf = SGDClassifier(alpha=alpha[best_alpha], loss='log', penalty='l2', random_state=42)\n",
    "clf.fit(train_variation_onehotencoding, y_train)\n",
    "    \n",
    "sig_clf = CalibratedClassifierCV(clf, method = 'sigmoid')\n",
    "sig_clf.fit(train_variation_onehotencoding, y_train)\n",
    "\n",
    "\n",
    "predicted_y = sig_clf.predict_proba(train_variation_onehotencoding)\n",
    "print(\" log loss for training data , with best alpha:\", alpha[best_alpha], \"is: \",log_loss(y_train, predicted_y, labels=clf.classes_))\n",
    "    \n",
    "predicted_y = sig_clf.predict_proba(cv_variation_onehotencoding)\n",
    "print(\" log loss for cv data , with best alpha:\", alpha[best_alpha], \"is: \",log_loss(y_cv, predicted_y, labels=clf.classes_))\n",
    "\n",
    "predicted_y = sig_clf.predict_proba(test_variation_onehotencoding)\n",
    "print(\" log loss for test data , with best alpha:\", alpha[best_alpha], \"is: \",log_loss(y_test, predicted_y, labels=clf.classes_))\n",
    "   "
   ]
  },
  {
   "cell_type": "markdown",
   "metadata": {},
   "source": [
    "#### test log loss is much lesser as compare to worst fuction, this feature can be important .. One more thing to check"
   ]
  },
  {
   "cell_type": "code",
   "execution_count": 63,
   "metadata": {},
   "outputs": [
    {
     "name": "stdout",
     "output_type": "stream",
     "text": [
      " Test has  80  variations out of  665 percentage is :  12.030075187969924\n",
      " CV has  54  variations out of  532 percentage is :  10.150375939849624\n"
     ]
    }
   ],
   "source": [
    "test_coverage = X_test[X_test['Variation'].isin(list(set(X_train['Variation'])))].shape[0]\n",
    "cv_coverage = X_cv[X_cv['Variation'].isin(list(set(X_train['Variation'])))].shape[0]      \n",
    "                                          \n",
    "print(\" Test has \", test_coverage, \" variations out of \", X_test.shape[0], \"percentage is : \", test_coverage*100/X_test.shape[0])\n",
    "print(\" CV has \", cv_coverage, \" variations out of \", X_cv.shape[0], \"percentage is : \", cv_coverage*100/X_cv.shape[0])"
   ]
  },
  {
   "cell_type": "markdown",
   "metadata": {},
   "source": [
    "#### feature is not much stable, it has very less common variation in test and train.. If log loss is not much lower then worst model, I can eleminate this feature from my final model"
   ]
  },
  {
   "cell_type": "markdown",
   "metadata": {},
   "source": [
    "For worst model : Test prediction log loss :  2.4241973490851803\n"
   ]
  },
  {
   "cell_type": "markdown",
   "metadata": {},
   "source": [
    "With variation feature : log loss for test data , with best alpha: 1e-05 is:  1.6966176998017122"
   ]
  },
  {
   "cell_type": "markdown",
   "metadata": {},
   "source": [
    "## Evaluating text column"
   ]
  },
  {
   "cell_type": "code",
   "execution_count": 73,
   "metadata": {},
   "outputs": [],
   "source": [
    "# cls_text is a data frame\n",
    "# for every row in data frame consider the 'TEXT'\n",
    "# split the words by space\n",
    "# make a dict with those words\n",
    "# increment its count whenever we see that word\n",
    "from collections import defaultdict\n",
    "\n",
    "def extract_dictionary_paddle(cls_text):\n",
    "    dictionary = defaultdict(int)\n",
    "    for index, row in cls_text.iterrows():\n",
    "        for word in row['TEXT'].lower().split():\n",
    "            dictionary[word]+=1\n",
    "    return dictionary\n"
   ]
  },
  {
   "cell_type": "code",
   "execution_count": 66,
   "metadata": {},
   "outputs": [],
   "source": [
    "# text feature response encoding\n",
    "\n",
    "import math\n",
    "#https://stackoverflow.com/a/1602964\n",
    "def get_text_responsecoding(df):\n",
    "    text_feature_responseCoding = np.zeros((df.shape[0],9))\n",
    "    for i in range(0,9):\n",
    "        row_index = 0\n",
    "        for index, row in df.iterrows():\n",
    "            sum_prob = 0\n",
    "            for word in row['TEXT'].split():\n",
    "                sum_prob += math.log(((dict_list[i].get(word,0)+10 )/(total_dict.get(word,0)+90)))\n",
    "            text_feature_responseCoding[row_index][i] = math.exp(sum_prob/len(row['TEXT'].split()))\n",
    "            row_index += 1\n",
    "    return text_feature_responseCoding"
   ]
  },
  {
   "cell_type": "code",
   "execution_count": 67,
   "metadata": {},
   "outputs": [
    {
     "name": "stdout",
     "output_type": "stream",
     "text": [
      "Total number of unique words in train data : 53958\n"
     ]
    }
   ],
   "source": [
    "# building a CountVectorizer with all the words that occured minimum 3 times in train data\n",
    "text_vectorizer = CountVectorizer(min_df=3)\n",
    "train_text_feature_onehotCoding = text_vectorizer.fit_transform(X_train['TEXT'])\n",
    "# getting all the feature names (words)\n",
    "train_text_features= text_vectorizer.get_feature_names()\n",
    "\n",
    "# train_text_feature_onehotCoding.sum(axis=0).A1 will sum every row and returns (1*number of features) vector\n",
    "train_text_fea_counts = train_text_feature_onehotCoding.sum(axis=0).A1\n",
    "\n",
    "# zip(list(text_features),text_fea_counts) will zip a word with its number of times it occured\n",
    "text_fea_dict = dict(zip(list(train_text_features),train_text_fea_counts))\n",
    "\n",
    "\n",
    "print(\"Total number of unique words in train data :\", len(train_text_features))"
   ]
  },
  {
   "cell_type": "code",
   "execution_count": 74,
   "metadata": {},
   "outputs": [],
   "source": [
    "dict_list = []\n",
    "# dict_list =[] contains 9 dictoinaries each corresponds to a class\n",
    "for i in range(1,10):\n",
    "    cls_text = X_train[X_train['Class']==i]\n",
    "    # build a word dict based on the words in that class\n",
    "    dict_list.append(extract_dictionary_paddle(cls_text))\n",
    "    # append it to dict_list\n",
    "\n",
    "# dict_list[i] is build on i'th  class text data\n",
    "# total_dict is buid on whole training text data\n",
    "total_dict = extract_dictionary_paddle(X_train)\n",
    "\n",
    "\n",
    "confuse_array = []\n",
    "for i in train_text_features:\n",
    "    ratios = []\n",
    "    max_val = -1\n",
    "    for j in range(0,9):\n",
    "        ratios.append((dict_list[j][i]+10 )/(total_dict[i]+90))\n",
    "    confuse_array.append(ratios)\n",
    "confuse_array = np.array(confuse_array)"
   ]
  },
  {
   "cell_type": "code",
   "execution_count": 76,
   "metadata": {},
   "outputs": [],
   "source": [
    "#response coding of text features\n",
    "train_text_feature_responseCoding  = get_text_responsecoding(X_train)\n",
    "test_text_feature_responseCoding  = get_text_responsecoding(X_test)\n",
    "cv_text_feature_responseCoding  = get_text_responsecoding(X_cv)"
   ]
  },
  {
   "cell_type": "code",
   "execution_count": 77,
   "metadata": {},
   "outputs": [],
   "source": [
    "# https://stackoverflow.com/a/16202486\n",
    "# we convert each row values such that they sum to 1  \n",
    "train_text_feature_responseCoding = (train_text_feature_responseCoding.T/train_text_feature_responseCoding.sum(axis=1)).T\n",
    "test_text_feature_responseCoding = (test_text_feature_responseCoding.T/test_text_feature_responseCoding.sum(axis=1)).T\n",
    "cv_text_feature_responseCoding = (cv_text_feature_responseCoding.T/cv_text_feature_responseCoding.sum(axis=1)).T"
   ]
  },
  {
   "cell_type": "code",
   "execution_count": 79,
   "metadata": {},
   "outputs": [],
   "source": [
    "# don't forget to normalize every feature\n",
    "from sklearn.preprocessing import normalize\n",
    "train_text_feature_onehotCoding = normalize(train_text_feature_onehotCoding, axis=0)\n",
    "\n",
    "# we use the same vectorizer that was trained on train data\n",
    "test_text_feature_onehotCoding = text_vectorizer.transform(X_test['TEXT'])\n",
    "# don't forget to normalize every feature\n",
    "test_text_feature_onehotCoding = normalize(test_text_feature_onehotCoding, axis=0)\n",
    "\n",
    "# we use the same vectorizer that was trained on train data\n",
    "cv_text_feature_onehotCoding = text_vectorizer.transform(X_cv['TEXT'])\n",
    "# don't forget to normalize every feature\n",
    "cv_text_feature_onehotCoding = normalize(cv_text_feature_onehotCoding, axis=0)"
   ]
  },
  {
   "cell_type": "code",
   "execution_count": 80,
   "metadata": {},
   "outputs": [],
   "source": [
    "#https://stackoverflow.com/a/2258273/4084039\n",
    "sorted_text_fea_dict = dict(sorted(text_fea_dict.items(), key=lambda x: x[1] , reverse=True))\n",
    "sorted_text_occur = np.array(list(sorted_text_fea_dict.values()))"
   ]
  },
  {
   "cell_type": "code",
   "execution_count": 82,
   "metadata": {},
   "outputs": [
    {
     "name": "stdout",
     "output_type": "stream",
     "text": [
      "Counter({3: 5470, 4: 3823, 5: 2788, 6: 2747, 8: 2363, 7: 1973, 9: 1886, 10: 1464, 12: 1261, 14: 1130, 16: 1072, 11: 1071, 18: 783, 13: 750, 15: 704, 24: 703, 17: 596, 20: 566, 21: 533, 19: 510, 22: 477, 23: 420, 42: 408, 25: 393, 28: 354, 27: 348, 30: 344, 26: 341, 32: 325, 36: 272, 55: 257, 33: 256, 31: 256, 29: 252, 40: 240, 34: 236, 41: 233, 35: 221, 39: 211, 48: 207, 45: 187, 44: 183, 37: 182, 46: 181, 38: 178, 56: 166, 50: 166, 54: 162, 49: 161, 43: 159, 52: 149, 64: 141, 47: 141, 51: 134, 70: 131, 60: 121, 57: 119, 53: 118, 63: 108, 61: 107, 58: 107, 66: 106, 71: 103, 84: 101, 82: 100, 72: 100, 69: 97, 62: 97, 65: 95, 67: 93, 59: 93, 73: 91, 76: 86, 77: 82, 74: 81, 68: 80, 91: 76, 75: 76, 90: 74, 96: 73, 86: 72, 81: 71, 78: 69, 88: 68, 97: 67, 115: 66, 100: 65, 83: 65, 99: 64, 85: 64, 87: 62, 80: 61, 107: 60, 94: 58, 79: 58, 93: 56, 120: 55, 116: 54, 106: 54, 102: 54, 98: 54, 110: 53, 95: 53, 92: 53, 127: 51, 103: 51, 104: 50, 109: 48, 105: 48, 101: 47, 113: 45, 111: 45, 124: 44, 118: 44, 89: 44, 114: 43, 108: 43, 130: 42, 129: 42, 122: 41, 143: 40, 140: 40, 123: 39, 112: 39, 145: 38, 147: 37, 119: 37, 161: 36, 160: 36, 142: 36, 136: 36, 167: 35, 158: 35, 144: 35, 141: 35, 138: 35, 132: 35, 117: 35, 128: 34, 121: 34, 155: 33, 150: 33, 125: 33, 162: 32, 153: 32, 149: 32, 146: 32, 135: 32, 168: 31, 166: 31, 139: 31, 134: 31, 177: 30, 159: 30, 133: 30, 169: 29, 151: 29, 131: 29, 126: 29, 207: 28, 154: 28, 148: 28, 226: 27, 210: 27, 203: 27, 174: 27, 165: 27, 164: 27, 137: 27, 220: 26, 176: 26, 157: 26, 217: 25, 197: 25, 206: 24, 198: 24, 178: 24, 175: 24, 214: 23, 209: 23, 208: 23, 196: 23, 194: 23, 193: 23, 186: 23, 185: 23, 173: 23, 156: 23, 192: 22, 191: 22, 190: 22, 181: 22, 227: 21, 180: 21, 172: 21, 170: 21, 152: 21, 245: 20, 242: 20, 201: 20, 200: 20, 188: 20, 183: 20, 182: 20, 163: 20, 286: 19, 263: 19, 248: 19, 241: 19, 233: 19, 231: 19, 275: 18, 264: 18, 256: 18, 236: 18, 205: 18, 189: 18, 293: 17, 282: 17, 265: 17, 260: 17, 253: 17, 240: 17, 225: 17, 218: 17, 195: 17, 171: 17, 336: 16, 297: 16, 262: 16, 249: 16, 228: 16, 187: 16, 357: 15, 295: 15, 292: 15, 290: 15, 287: 15, 284: 15, 276: 15, 261: 15, 255: 15, 252: 15, 251: 15, 238: 15, 229: 15, 202: 15, 379: 14, 368: 14, 301: 14, 300: 14, 291: 14, 280: 14, 266: 14, 243: 14, 239: 14, 215: 14, 212: 14, 211: 14, 199: 14, 325: 13, 316: 13, 279: 13, 268: 13, 267: 13, 257: 13, 250: 13, 246: 13, 244: 13, 230: 13, 224: 13, 221: 13, 456: 12, 400: 12, 397: 12, 394: 12, 337: 12, 320: 12, 310: 12, 299: 12, 294: 12, 258: 12, 237: 12, 232: 12, 219: 12, 216: 12, 443: 11, 405: 11, 372: 11, 362: 11, 326: 11, 312: 11, 309: 11, 308: 11, 304: 11, 288: 11, 283: 11, 273: 11, 270: 11, 269: 11, 259: 11, 247: 11, 223: 11, 222: 11, 213: 11, 548: 10, 434: 10, 417: 10, 360: 10, 342: 10, 335: 10, 330: 10, 324: 10, 319: 10, 306: 10, 281: 10, 278: 10, 272: 10, 254: 10, 184: 10, 179: 10, 663: 9, 596: 9, 538: 9, 489: 9, 455: 9, 449: 9, 437: 9, 436: 9, 426: 9, 408: 9, 387: 9, 382: 9, 380: 9, 377: 9, 367: 9, 363: 9, 358: 9, 351: 9, 346: 9, 344: 9, 343: 9, 334: 9, 332: 9, 323: 9, 315: 9, 313: 9, 305: 9, 303: 9, 302: 9, 285: 9, 235: 9, 204: 9, 655: 8, 645: 8, 603: 8, 598: 8, 573: 8, 529: 8, 513: 8, 493: 8, 475: 8, 474: 8, 473: 8, 460: 8, 452: 8, 448: 8, 422: 8, 419: 8, 412: 8, 393: 8, 392: 8, 375: 8, 371: 8, 370: 8, 356: 8, 341: 8, 340: 8, 321: 8, 318: 8, 314: 8, 298: 8, 296: 8, 271: 8, 234: 8, 1197: 7, 916: 7, 906: 7, 670: 7, 648: 7, 637: 7, 623: 7, 618: 7, 549: 7, 530: 7, 523: 7, 509: 7, 504: 7, 492: 7, 480: 7, 476: 7, 466: 7, 463: 7, 462: 7, 459: 7, 458: 7, 453: 7, 429: 7, 404: 7, 402: 7, 398: 7, 395: 7, 391: 7, 388: 7, 385: 7, 384: 7, 378: 7, 373: 7, 365: 7, 364: 7, 350: 7, 345: 7, 338: 7, 333: 7, 329: 7, 328: 7, 327: 7, 311: 7, 277: 7, 274: 7, 1311: 6, 856: 6, 785: 6, 757: 6, 717: 6, 701: 6, 641: 6, 609: 6, 575: 6, 564: 6, 562: 6, 560: 6, 556: 6, 550: 6, 546: 6, 541: 6, 507: 6, 503: 6, 487: 6, 484: 6, 479: 6, 477: 6, 470: 6, 468: 6, 461: 6, 447: 6, 440: 6, 431: 6, 428: 6, 427: 6, 423: 6, 421: 6, 418: 6, 411: 6, 401: 6, 396: 6, 383: 6, 374: 6, 366: 6, 359: 6, 355: 6, 354: 6, 349: 6, 322: 6, 307: 6, 1391: 5, 1322: 5, 1011: 5, 921: 5, 898: 5, 880: 5, 809: 5, 793: 5, 765: 5, 745: 5, 737: 5, 728: 5, 691: 5, 679: 5, 672: 5, 669: 5, 657: 5, 640: 5, 617: 5, 589: 5, 577: 5, 571: 5, 566: 5, 563: 5, 559: 5, 557: 5, 544: 5, 540: 5, 539: 5, 537: 5, 533: 5, 527: 5, 526: 5, 525: 5, 524: 5, 514: 5, 500: 5, 499: 5, 496: 5, 485: 5, 469: 5, 454: 5, 446: 5, 445: 5, 430: 5, 416: 5, 413: 5, 410: 5, 409: 5, 407: 5, 399: 5, 390: 5, 389: 5, 369: 5, 347: 5, 339: 5, 331: 5, 317: 5, 2381: 4, 1909: 4, 1849: 4, 1572: 4, 1545: 4, 1426: 4, 1389: 4, 1379: 4, 1352: 4, 1239: 4, 1201: 4, 1181: 4, 1179: 4, 1105: 4, 1102: 4, 1093: 4, 1079: 4, 1026: 4, 1021: 4, 1012: 4, 1010: 4, 975: 4, 960: 4, 949: 4, 938: 4, 932: 4, 913: 4, 893: 4, 885: 4, 879: 4, 872: 4, 866: 4, 859: 4, 858: 4, 833: 4, 817: 4, 790: 4, 789: 4, 778: 4, 760: 4, 756: 4, 751: 4, 749: 4, 747: 4, 742: 4, 740: 4, 739: 4, 722: 4, 713: 4, 712: 4, 709: 4, 702: 4, 695: 4, 693: 4, 692: 4, 689: 4, 685: 4, 683: 4, 675: 4, 674: 4, 661: 4, 656: 4, 644: 4, 643: 4, 634: 4, 630: 4, 625: 4, 622: 4, 621: 4, 620: 4, 612: 4, 608: 4, 602: 4, 601: 4, 600: 4, 593: 4, 587: 4, 582: 4, 579: 4, 576: 4, 574: 4, 561: 4, 558: 4, 555: 4, 552: 4, 551: 4, 543: 4, 535: 4, 518: 4, 517: 4, 516: 4, 508: 4, 505: 4, 501: 4, 488: 4, 486: 4, 483: 4, 482: 4, 478: 4, 444: 4, 439: 4, 438: 4, 435: 4, 420: 4, 415: 4, 414: 4, 406: 4, 403: 4, 386: 4, 376: 4, 361: 4, 348: 4, 289: 4, 4189: 3, 2275: 3, 2252: 3, 2193: 3, 2171: 3, 2103: 3, 2041: 3, 1957: 3, 1807: 3, 1777: 3, 1758: 3, 1755: 3, 1745: 3, 1741: 3, 1680: 3, 1640: 3, 1633: 3, 1573: 3, 1569: 3, 1554: 3, 1528: 3, 1525: 3, 1506: 3, 1438: 3, 1414: 3, 1399: 3, 1394: 3, 1364: 3, 1356: 3, 1338: 3, 1329: 3, 1326: 3, 1320: 3, 1299: 3, 1297: 3, 1294: 3, 1282: 3, 1277: 3, 1265: 3, 1258: 3, 1241: 3, 1238: 3, 1229: 3, 1214: 3, 1212: 3, 1207: 3, 1200: 3, 1195: 3, 1194: 3, 1187: 3, 1185: 3, 1176: 3, 1174: 3, 1173: 3, 1162: 3, 1156: 3, 1152: 3, 1145: 3, 1126: 3, 1122: 3, 1114: 3, 1096: 3, 1080: 3, 1070: 3, 1059: 3, 1054: 3, 1047: 3, 1035: 3, 1028: 3, 1025: 3, 1015: 3, 1006: 3, 1003: 3, 1001: 3, 998: 3, 996: 3, 993: 3, 991: 3, 976: 3, 973: 3, 972: 3, 964: 3, 956: 3, 950: 3, 945: 3, 941: 3, 939: 3, 927: 3, 925: 3, 923: 3, 918: 3, 915: 3, 914: 3, 911: 3, 908: 3, 901: 3, 899: 3, 887: 3, 865: 3, 864: 3, 863: 3, 854: 3, 852: 3, 848: 3, 847: 3, 846: 3, 843: 3, 840: 3, 835: 3, 834: 3, 828: 3, 826: 3, 825: 3, 822: 3, 818: 3, 816: 3, 815: 3, 808: 3, 807: 3, 803: 3, 801: 3, 799: 3, 797: 3, 796: 3, 791: 3, 773: 3, 772: 3, 770: 3, 767: 3, 764: 3, 754: 3, 753: 3, 752: 3, 741: 3, 730: 3, 729: 3, 724: 3, 723: 3, 721: 3, 719: 3, 718: 3, 716: 3, 711: 3, 707: 3, 698: 3, 697: 3, 694: 3, 684: 3, 682: 3, 681: 3, 678: 3, 673: 3, 671: 3, 665: 3, 651: 3, 649: 3, 638: 3, 636: 3, 629: 3, 628: 3, 627: 3, 626: 3, 619: 3, 614: 3, 607: 3, 594: 3, 592: 3, 586: 3, 584: 3, 583: 3, 580: 3, 578: 3, 570: 3, 569: 3, 565: 3, 553: 3, 547: 3, 545: 3, 542: 3, 534: 3, 531: 3, 511: 3, 510: 3, 506: 3, 497: 3, 494: 3, 490: 3, 481: 3, 464: 3, 457: 3, 450: 3, 442: 3, 441: 3, 432: 3, 425: 3, 381: 3, 353: 3, 13126: 2, 8203: 2, 6397: 2, 6184: 2, 6042: 2, 5917: 2, 5535: 2, 5521: 2, 5515: 2, 5095: 2, 5003: 2, 4992: 2, 4881: 2, 4740: 2, 4500: 2, 4482: 2, 4413: 2, 4396: 2, 4364: 2, 4348: 2, 4054: 2, 3853: 2, 3825: 2, 3739: 2, 3593: 2, 3588: 2, 3582: 2, 3540: 2, 3507: 2, 3481: 2, 3473: 2, 3364: 2, 3350: 2, 3299: 2, 3286: 2, 3246: 2, 3208: 2, 3171: 2, 3143: 2, 3107: 2, 3090: 2, 3067: 2, 3064: 2, 2977: 2, 2972: 2, 2933: 2, 2889: 2, 2860: 2, 2854: 2, 2791: 2, 2775: 2, 2750: 2, 2722: 2, 2697: 2, 2654: 2, 2641: 2, 2634: 2, 2626: 2, 2614: 2, 2609: 2, 2595: 2, 2587: 2, 2568: 2, 2559: 2, 2554: 2, 2547: 2, 2541: 2, 2514: 2, 2489: 2, 2487: 2, 2476: 2, 2474: 2, 2459: 2, 2389: 2, 2362: 2, 2345: 2, 2296: 2, 2271: 2, 2263: 2, 2224: 2, 2219: 2, 2211: 2, 2207: 2, 2189: 2, 2169: 2, 2159: 2, 2156: 2, 2122: 2, 2099: 2, 2096: 2, 2084: 2, 2083: 2, 2064: 2, 2055: 2, 2048: 2, 2038: 2, 2028: 2, 1999: 2, 1996: 2, 1987: 2, 1983: 2, 1961: 2, 1956: 2, 1951: 2, 1945: 2, 1943: 2, 1942: 2, 1931: 2, 1927: 2, 1925: 2, 1923: 2, 1921: 2, 1918: 2, 1914: 2, 1912: 2, 1911: 2, 1879: 2, 1870: 2, 1862: 2, 1859: 2, 1856: 2, 1853: 2, 1848: 2, 1835: 2, 1803: 2, 1795: 2, 1793: 2, 1792: 2, 1789: 2, 1783: 2, 1753: 2, 1729: 2, 1720: 2, 1716: 2, 1709: 2, 1700: 2, 1695: 2, 1689: 2, 1688: 2, 1684: 2, 1682: 2, 1668: 2, 1667: 2, 1642: 2, 1637: 2, 1632: 2, 1631: 2, 1629: 2, 1628: 2, 1627: 2, 1624: 2, 1617: 2, 1609: 2, 1608: 2, 1599: 2, 1592: 2, 1584: 2, 1583: 2, 1579: 2, 1570: 2, 1557: 2, 1552: 2, 1548: 2, 1546: 2, 1540: 2, 1529: 2, 1527: 2, 1523: 2, 1517: 2, 1498: 2, 1495: 2, 1485: 2, 1476: 2, 1470: 2, 1468: 2, 1443: 2, 1435: 2, 1434: 2, 1420: 2, 1419: 2, 1417: 2, 1412: 2, 1411: 2, 1408: 2, 1407: 2, 1406: 2, 1402: 2, 1401: 2, 1398: 2, 1397: 2, 1393: 2, 1384: 2, 1381: 2, 1367: 2, 1362: 2, 1355: 2, 1350: 2, 1349: 2, 1345: 2, 1336: 2, 1327: 2, 1323: 2, 1319: 2, 1317: 2, 1312: 2, 1298: 2, 1291: 2, 1281: 2, 1275: 2, 1273: 2, 1272: 2, 1270: 2, 1267: 2, 1249: 2, 1232: 2, 1220: 2, 1217: 2, 1216: 2, 1211: 2, 1208: 2, 1203: 2, 1198: 2, 1192: 2, 1190: 2, 1189: 2, 1186: 2, 1184: 2, 1178: 2, 1177: 2, 1172: 2, 1171: 2, 1170: 2, 1166: 2, 1165: 2, 1163: 2, 1159: 2, 1157: 2, 1155: 2, 1154: 2, 1151: 2, 1150: 2, 1149: 2, 1144: 2, 1141: 2, 1140: 2, 1138: 2, 1137: 2, 1136: 2, 1134: 2, 1118: 2, 1115: 2, 1113: 2, 1109: 2, 1108: 2, 1104: 2, 1094: 2, 1091: 2, 1090: 2, 1089: 2, 1081: 2, 1076: 2, 1074: 2, 1073: 2, 1072: 2, 1066: 2, 1060: 2, 1058: 2, 1050: 2, 1043: 2, 1041: 2, 1040: 2, 1039: 2, 1036: 2, 1034: 2, 1033: 2, 1023: 2, 1005: 2, 997: 2, 992: 2, 989: 2, 988: 2, 987: 2, 985: 2, 980: 2, 974: 2, 970: 2, 966: 2, 965: 2, 961: 2, 940: 2, 936: 2, 934: 2, 930: 2, 929: 2, 926: 2, 917: 2, 909: 2, 905: 2, 904: 2, 897: 2, 894: 2, 891: 2, 890: 2, 889: 2, 888: 2, 884: 2, 878: 2, 875: 2, 874: 2, 869: 2, 867: 2, 857: 2, 855: 2, 850: 2, 849: 2, 844: 2, 838: 2, 836: 2, 831: 2, 829: 2, 820: 2, 819: 2, 811: 2, 806: 2, 804: 2, 800: 2, 798: 2, 792: 2, 787: 2, 786: 2, 784: 2, 783: 2, 782: 2, 781: 2, 777: 2, 775: 2, 763: 2, 759: 2, 750: 2, 746: 2, 744: 2, 738: 2, 733: 2, 726: 2, 715: 2, 714: 2, 706: 2, 705: 2, 699: 2, 690: 2, 688: 2, 668: 2, 667: 2, 660: 2, 659: 2, 658: 2, 654: 2, 653: 2, 652: 2, 646: 2, 642: 2, 639: 2, 632: 2, 615: 2, 613: 2, 611: 2, 604: 2, 595: 2, 588: 2, 585: 2, 568: 2, 567: 2, 554: 2, 536: 2, 532: 2, 528: 2, 521: 2, 519: 2, 515: 2, 512: 2, 502: 2, 498: 2, 491: 2, 352: 2, 152156: 1, 120385: 1, 81416: 1, 69288: 1, 69214: 1, 67848: 1, 66677: 1, 64762: 1, 63954: 1, 55222: 1, 54120: 1, 50368: 1, 50238: 1, 47155: 1, 46874: 1, 44241: 1, 43797: 1, 42750: 1, 42731: 1, 42060: 1, 41508: 1, 41114: 1, 40426: 1, 39165: 1, 38460: 1, 38067: 1, 37315: 1, 37070: 1, 35915: 1, 35196: 1, 34029: 1, 33956: 1, 33368: 1, 33269: 1, 32832: 1, 31558: 1, 29854: 1, 29564: 1, 28532: 1, 27092: 1, 26479: 1, 26334: 1, 26203: 1, 26060: 1, 25795: 1, 25154: 1, 25048: 1, 24941: 1, 24669: 1, 24644: 1, 24095: 1, 24079: 1, 24000: 1, 22906: 1, 22112: 1, 21828: 1, 21743: 1, 21670: 1, 21589: 1, 21476: 1, 21257: 1, 21044: 1, 20934: 1, 20702: 1, 20435: 1, 20300: 1, 19857: 1, 19687: 1, 19663: 1, 19589: 1, 19508: 1, 19495: 1, 19244: 1, 19145: 1, 18962: 1, 18500: 1, 18398: 1, 18271: 1, 18252: 1, 18239: 1, 18201: 1, 18120: 1, 17902: 1, 17839: 1, 17741: 1, 17694: 1, 17669: 1, 17500: 1, 17455: 1, 17428: 1, 17409: 1, 17307: 1, 17278: 1, 17201: 1, 17131: 1, 17109: 1, 16479: 1, 16369: 1, 16287: 1, 16188: 1, 16116: 1, 15988: 1, 15948: 1, 15830: 1, 15813: 1, 15691: 1, 15568: 1, 15520: 1, 15303: 1, 15278: 1, 15265: 1, 15073: 1, 15040: 1, 14852: 1, 14823: 1, 14733: 1, 14631: 1, 14605: 1, 14322: 1, 14021: 1, 14010: 1, 13945: 1, 13854: 1, 13795: 1, 13702: 1, 13632: 1, 13572: 1, 13522: 1, 13506: 1, 13425: 1, 13406: 1, 13240: 1, 13205: 1, 13022: 1, 13018: 1, 13003: 1, 12901: 1, 12761: 1, 12731: 1, 12703: 1, 12636: 1, 12629: 1, 12608: 1, 12587: 1, 12512: 1, 12494: 1, 12474: 1, 12473: 1, 12460: 1, 12446: 1, 12444: 1, 12402: 1, 12374: 1, 12359: 1, 12340: 1, 12321: 1, 12293: 1, 12230: 1, 12225: 1, 12201: 1, 12188: 1, 12178: 1, 12177: 1, 12151: 1, 12029: 1, 12001: 1, 11905: 1, 11864: 1, 11849: 1, 11752: 1, 11622: 1, 11594: 1, 11591: 1, 11549: 1, 11533: 1, 11482: 1, 11353: 1, 11345: 1, 11251: 1, 11215: 1, 11160: 1, 11084: 1, 11075: 1, 11013: 1, 10994: 1, 10780: 1, 10775: 1, 10747: 1, 10619: 1, 10510: 1, 10487: 1, 10403: 1, 10352: 1, 10338: 1, 10248: 1, 10246: 1, 10239: 1, 10174: 1, 10170: 1, 10099: 1, 10066: 1, 9996: 1, 9995: 1, 9919: 1, 9913: 1, 9868: 1, 9866: 1, 9843: 1, 9812: 1, 9778: 1, 9752: 1, 9646: 1, 9596: 1, 9549: 1, 9525: 1, 9512: 1, 9499: 1, 9412: 1, 9403: 1, 9364: 1, 9344: 1, 9332: 1, 9302: 1, 9299: 1, 9287: 1, 9280: 1, 9275: 1, 9262: 1, 9227: 1, 9161: 1, 9118: 1, 9063: 1, 9044: 1, 9041: 1, 8997: 1, 8985: 1, 8908: 1, 8895: 1, 8850: 1, 8848: 1, 8842: 1, 8839: 1, 8823: 1, 8816: 1, 8812: 1, 8743: 1, 8733: 1, 8703: 1, 8691: 1, 8642: 1, 8587: 1, 8483: 1, 8474: 1, 8473: 1, 8472: 1, 8459: 1, 8445: 1, 8398: 1, 8358: 1, 8353: 1, 8335: 1, 8322: 1, 8312: 1, 8307: 1, 8301: 1, 8290: 1, 8272: 1, 8205: 1, 8197: 1, 8163: 1, 8130: 1, 8072: 1, 8070: 1, 8028: 1, 7999: 1, 7997: 1, 7976: 1, 7967: 1, 7955: 1, 7950: 1, 7940: 1, 7920: 1, 7894: 1, 7874: 1, 7838: 1, 7802: 1, 7791: 1, 7788: 1, 7740: 1, 7694: 1, 7666: 1, 7661: 1, 7629: 1, 7623: 1, 7619: 1, 7602: 1, 7597: 1, 7592: 1, 7578: 1, 7555: 1, 7554: 1, 7541: 1, 7503: 1, 7451: 1, 7445: 1, 7388: 1, 7375: 1, 7335: 1, 7304: 1, 7286: 1, 7282: 1, 7274: 1, 7267: 1, 7261: 1, 7236: 1, 7227: 1, 7184: 1, 7164: 1, 7158: 1, 7138: 1, 7134: 1, 7091: 1, 7084: 1, 7081: 1, 7057: 1, 7040: 1, 7028: 1, 6992: 1, 6973: 1, 6958: 1, 6956: 1, 6924: 1, 6896: 1, 6893: 1, 6886: 1, 6869: 1, 6857: 1, 6837: 1, 6811: 1, 6798: 1, 6795: 1, 6794: 1, 6741: 1, 6726: 1, 6702: 1, 6700: 1, 6692: 1, 6677: 1, 6675: 1, 6649: 1, 6647: 1, 6641: 1, 6629: 1, 6621: 1, 6596: 1, 6576: 1, 6575: 1, 6570: 1, 6551: 1, 6547: 1, 6481: 1, 6478: 1, 6469: 1, 6433: 1, 6418: 1, 6409: 1, 6396: 1, 6391: 1, 6375: 1, 6372: 1, 6357: 1, 6353: 1, 6348: 1, 6321: 1, 6300: 1, 6287: 1, 6283: 1, 6276: 1, 6258: 1, 6244: 1, 6226: 1, 6205: 1, 6198: 1, 6177: 1, 6163: 1, 6155: 1, 6151: 1, 6122: 1, 6091: 1, 6088: 1, 6084: 1, 6083: 1, 6081: 1, 6026: 1, 6019: 1, 6003: 1, 6000: 1, 5979: 1, 5940: 1, 5934: 1, 5933: 1, 5921: 1, 5906: 1, 5869: 1, 5868: 1, 5867: 1, 5864: 1, 5841: 1, 5832: 1, 5813: 1, 5795: 1, 5779: 1, 5775: 1, 5746: 1, 5737: 1, 5732: 1, 5715: 1, 5705: 1, 5704: 1, 5701: 1, 5692: 1, 5674: 1, 5670: 1, 5662: 1, 5657: 1, 5646: 1, 5644: 1, 5635: 1, 5624: 1, 5622: 1, 5611: 1, 5607: 1, 5604: 1, 5577: 1, 5561: 1, 5498: 1, 5485: 1, 5480: 1, 5477: 1, 5458: 1, 5429: 1, 5415: 1, 5406: 1, 5366: 1, 5363: 1, 5361: 1, 5354: 1, 5342: 1, 5312: 1, 5310: 1, 5293: 1, 5256: 1, 5223: 1, 5203: 1, 5202: 1, 5199: 1, 5192: 1, 5180: 1, 5174: 1, 5167: 1, 5148: 1, 5132: 1, 5109: 1, 5106: 1, 5098: 1, 5086: 1, 5085: 1, 5045: 1, 5042: 1, 5040: 1, 5025: 1, 5016: 1, 4995: 1, 4991: 1, 4979: 1, 4971: 1, 4965: 1, 4953: 1, 4952: 1, 4941: 1, 4935: 1, 4929: 1, 4921: 1, 4919: 1, 4901: 1, 4900: 1, 4888: 1, 4884: 1, 4878: 1, 4870: 1, 4858: 1, 4843: 1, 4830: 1, 4821: 1, 4819: 1, 4813: 1, 4809: 1, 4800: 1, 4796: 1, 4795: 1, 4794: 1, 4786: 1, 4775: 1, 4762: 1, 4748: 1, 4746: 1, 4736: 1, 4730: 1, 4716: 1, 4697: 1, 4669: 1, 4648: 1, 4630: 1, 4601: 1, 4590: 1, 4583: 1, 4562: 1, 4561: 1, 4550: 1, 4548: 1, 4538: 1, 4537: 1, 4523: 1, 4516: 1, 4491: 1, 4485: 1, 4484: 1, 4462: 1, 4460: 1, 4438: 1, 4428: 1, 4427: 1, 4422: 1, 4404: 1, 4398: 1, 4377: 1, 4374: 1, 4357: 1, 4356: 1, 4354: 1, 4345: 1, 4339: 1, 4328: 1, 4314: 1, 4311: 1, 4308: 1, 4306: 1, 4295: 1, 4293: 1, 4289: 1, 4286: 1, 4285: 1, 4252: 1, 4249: 1, 4245: 1, 4239: 1, 4229: 1, 4217: 1, 4212: 1, 4211: 1, 4202: 1, 4198: 1, 4195: 1, 4177: 1, 4174: 1, 4173: 1, 4172: 1, 4163: 1, 4161: 1, 4158: 1, 4156: 1, 4148: 1, 4145: 1, 4144: 1, 4141: 1, 4123: 1, 4120: 1, 4093: 1, 4091: 1, 4083: 1, 4081: 1, 4080: 1, 4073: 1, 4071: 1, 4056: 1, 4053: 1, 4034: 1, 4029: 1, 4026: 1, 4024: 1, 4019: 1, 4011: 1, 4008: 1, 3998: 1, 3988: 1, 3986: 1, 3982: 1, 3974: 1, 3972: 1, 3969: 1, 3952: 1, 3951: 1, 3941: 1, 3931: 1, 3924: 1, 3922: 1, 3913: 1, 3910: 1, 3909: 1, 3899: 1, 3897: 1, 3894: 1, 3886: 1, 3876: 1, 3872: 1, 3870: 1, 3867: 1, 3848: 1, 3847: 1, 3844: 1, 3841: 1, 3820: 1, 3814: 1, 3811: 1, 3808: 1, 3803: 1, 3798: 1, 3796: 1, 3794: 1, 3792: 1, 3786: 1, 3776: 1, 3774: 1, 3761: 1, 3760: 1, 3759: 1, 3756: 1, 3742: 1, 3738: 1, 3735: 1, 3727: 1, 3725: 1, 3719: 1, 3713: 1, 3712: 1, 3708: 1, 3705: 1, 3700: 1, 3692: 1, 3682: 1, 3677: 1, 3673: 1, 3671: 1, 3667: 1, 3658: 1, 3649: 1, 3643: 1, 3641: 1, 3636: 1, 3629: 1, 3627: 1, 3624: 1, 3616: 1, 3612: 1, 3592: 1, 3578: 1, 3576: 1, 3574: 1, 3554: 1, 3550: 1, 3549: 1, 3544: 1, 3542: 1, 3541: 1, 3537: 1, 3534: 1, 3533: 1, 3530: 1, 3527: 1, 3523: 1, 3518: 1, 3515: 1, 3510: 1, 3503: 1, 3498: 1, 3494: 1, 3492: 1, 3490: 1, 3486: 1, 3478: 1, 3467: 1, 3458: 1, 3457: 1, 3452: 1, 3450: 1, 3448: 1, 3443: 1, 3439: 1, 3436: 1, 3432: 1, 3428: 1, 3423: 1, 3419: 1, 3418: 1, 3416: 1, 3413: 1, 3405: 1, 3404: 1, 3401: 1, 3400: 1, 3396: 1, 3392: 1, 3389: 1, 3388: 1, 3378: 1, 3374: 1, 3369: 1, 3365: 1, 3359: 1, 3355: 1, 3352: 1, 3344: 1, 3342: 1, 3341: 1, 3338: 1, 3331: 1, 3329: 1, 3328: 1, 3324: 1, 3323: 1, 3322: 1, 3321: 1, 3318: 1, 3311: 1, 3308: 1, 3296: 1, 3287: 1, 3271: 1, 3270: 1, 3268: 1, 3262: 1, 3261: 1, 3257: 1, 3256: 1, 3253: 1, 3241: 1, 3240: 1, 3239: 1, 3237: 1, 3234: 1, 3229: 1, 3221: 1, 3219: 1, 3217: 1, 3215: 1, 3198: 1, 3196: 1, 3194: 1, 3180: 1, 3177: 1, 3176: 1, 3175: 1, 3168: 1, 3165: 1, 3150: 1, 3148: 1, 3144: 1, 3142: 1, 3141: 1, 3139: 1, 3137: 1, 3135: 1, 3128: 1, 3123: 1, 3121: 1, 3118: 1, 3117: 1, 3116: 1, 3106: 1, 3099: 1, 3085: 1, 3080: 1, 3075: 1, 3072: 1, 3070: 1, 3058: 1, 3056: 1, 3055: 1, 3043: 1, 3037: 1, 3033: 1, 3031: 1, 3030: 1, 3016: 1, 3009: 1, 3008: 1, 3002: 1, 3001: 1, 2997: 1, 2985: 1, 2984: 1, 2983: 1, 2982: 1, 2980: 1, 2975: 1, 2963: 1, 2946: 1, 2934: 1, 2930: 1, 2927: 1, 2920: 1, 2915: 1, 2899: 1, 2898: 1, 2894: 1, 2871: 1, 2866: 1, 2864: 1, 2862: 1, 2861: 1, 2859: 1, 2845: 1, 2840: 1, 2837: 1, 2836: 1, 2831: 1, 2827: 1, 2826: 1, 2819: 1, 2818: 1, 2817: 1, 2813: 1, 2805: 1, 2803: 1, 2802: 1, 2793: 1, 2786: 1, 2783: 1, 2773: 1, 2758: 1, 2756: 1, 2753: 1, 2749: 1, 2748: 1, 2744: 1, 2736: 1, 2730: 1, 2729: 1, 2725: 1, 2720: 1, 2717: 1, 2707: 1, 2703: 1, 2698: 1, 2694: 1, 2685: 1, 2683: 1, 2676: 1, 2675: 1, 2673: 1, 2672: 1, 2668: 1, 2667: 1, 2666: 1, 2665: 1, 2661: 1, 2660: 1, 2658: 1, 2651: 1, 2648: 1, 2646: 1, 2645: 1, 2643: 1, 2640: 1, 2639: 1, 2637: 1, 2636: 1, 2635: 1, 2631: 1, 2621: 1, 2619: 1, 2613: 1, 2608: 1, 2606: 1, 2601: 1, 2599: 1, 2598: 1, 2593: 1, 2590: 1, 2586: 1, 2578: 1, 2577: 1, 2576: 1, 2569: 1, 2561: 1, 2551: 1, 2545: 1, 2539: 1, 2538: 1, 2536: 1, 2529: 1, 2528: 1, 2526: 1, 2516: 1, 2508: 1, 2506: 1, 2499: 1, 2497: 1, 2496: 1, 2495: 1, 2493: 1, 2491: 1, 2488: 1, 2479: 1, 2477: 1, 2469: 1, 2468: 1, 2466: 1, 2464: 1, 2463: 1, 2461: 1, 2453: 1, 2452: 1, 2449: 1, 2448: 1, 2446: 1, 2445: 1, 2444: 1, 2442: 1, 2441: 1, 2440: 1, 2436: 1, 2435: 1, 2434: 1, 2428: 1, 2424: 1, 2422: 1, 2415: 1, 2414: 1, 2412: 1, 2411: 1, 2409: 1, 2406: 1, 2399: 1, 2393: 1, 2387: 1, 2369: 1, 2365: 1, 2364: 1, 2363: 1, 2359: 1, 2354: 1, 2351: 1, 2348: 1, 2342: 1, 2341: 1, 2339: 1, 2333: 1, 2330: 1, 2327: 1, 2325: 1, 2323: 1, 2321: 1, 2316: 1, 2313: 1, 2310: 1, 2299: 1, 2298: 1, 2294: 1, 2289: 1, 2287: 1, 2284: 1, 2283: 1, 2281: 1, 2280: 1, 2276: 1, 2270: 1, 2268: 1, 2259: 1, 2253: 1, 2251: 1, 2248: 1, 2245: 1, 2242: 1, 2239: 1, 2238: 1, 2236: 1, 2235: 1, 2231: 1, 2227: 1, 2226: 1, 2223: 1, 2222: 1, 2220: 1, 2218: 1, 2217: 1, 2216: 1, 2208: 1, 2206: 1, 2202: 1, 2201: 1, 2199: 1, 2197: 1, 2183: 1, 2180: 1, 2178: 1, 2177: 1, 2170: 1, 2168: 1, 2167: 1, 2155: 1, 2151: 1, 2147: 1, 2143: 1, 2138: 1, 2135: 1, 2133: 1, 2129: 1, 2124: 1, 2119: 1, 2114: 1, 2113: 1, 2112: 1, 2107: 1, 2106: 1, 2105: 1, 2104: 1, 2101: 1, 2097: 1, 2094: 1, 2089: 1, 2080: 1, 2076: 1, 2072: 1, 2071: 1, 2070: 1, 2069: 1, 2067: 1, 2061: 1, 2060: 1, 2058: 1, 2057: 1, 2056: 1, 2054: 1, 2053: 1, 2052: 1, 2044: 1, 2040: 1, 2039: 1, 2037: 1, 2033: 1, 2031: 1, 2027: 1, 2025: 1, 2022: 1, 2021: 1, 2020: 1, 2018: 1, 2016: 1, 2011: 1, 2008: 1, 2004: 1, 2001: 1, 2000: 1, 1993: 1, 1992: 1, 1991: 1, 1990: 1, 1988: 1, 1985: 1, 1978: 1, 1975: 1, 1974: 1, 1973: 1, 1968: 1, 1959: 1, 1955: 1, 1953: 1, 1947: 1, 1944: 1, 1934: 1, 1933: 1, 1926: 1, 1924: 1, 1922: 1, 1919: 1, 1916: 1, 1915: 1, 1910: 1, 1908: 1, 1907: 1, 1903: 1, 1900: 1, 1896: 1, 1895: 1, 1892: 1, 1891: 1, 1888: 1, 1887: 1, 1882: 1, 1880: 1, 1875: 1, 1873: 1, 1872: 1, 1867: 1, 1865: 1, 1863: 1, 1861: 1, 1860: 1, 1858: 1, 1857: 1, 1850: 1, 1846: 1, 1845: 1, 1844: 1, 1842: 1, 1834: 1, 1832: 1, 1831: 1, 1827: 1, 1826: 1, 1821: 1, 1820: 1, 1818: 1, 1817: 1, 1814: 1, 1813: 1, 1812: 1, 1810: 1, 1806: 1, 1800: 1, 1797: 1, 1796: 1, 1794: 1, 1784: 1, 1782: 1, 1780: 1, 1775: 1, 1774: 1, 1773: 1, 1769: 1, 1768: 1, 1766: 1, 1765: 1, 1761: 1, 1759: 1, 1757: 1, 1756: 1, 1751: 1, 1749: 1, 1744: 1, 1740: 1, 1738: 1, 1737: 1, 1735: 1, 1734: 1, 1731: 1, 1728: 1, 1726: 1, 1725: 1, 1723: 1, 1722: 1, 1721: 1, 1719: 1, 1718: 1, 1717: 1, 1711: 1, 1708: 1, 1707: 1, 1706: 1, 1704: 1, 1703: 1, 1702: 1, 1701: 1, 1698: 1, 1697: 1, 1694: 1, 1692: 1, 1686: 1, 1685: 1, 1679: 1, 1678: 1, 1677: 1, 1676: 1, 1675: 1, 1674: 1, 1673: 1, 1672: 1, 1670: 1, 1666: 1, 1664: 1, 1663: 1, 1661: 1, 1656: 1, 1651: 1, 1650: 1, 1648: 1, 1647: 1, 1646: 1, 1639: 1, 1638: 1, 1634: 1, 1630: 1, 1625: 1, 1622: 1, 1621: 1, 1619: 1, 1616: 1, 1614: 1, 1613: 1, 1610: 1, 1603: 1, 1602: 1, 1600: 1, 1598: 1, 1596: 1, 1593: 1, 1591: 1, 1587: 1, 1585: 1, 1582: 1, 1574: 1, 1571: 1, 1568: 1, 1567: 1, 1566: 1, 1565: 1, 1560: 1, 1559: 1, 1553: 1, 1551: 1, 1550: 1, 1549: 1, 1544: 1, 1539: 1, 1536: 1, 1535: 1, 1534: 1, 1533: 1, 1532: 1, 1530: 1, 1521: 1, 1519: 1, 1515: 1, 1512: 1, 1511: 1, 1510: 1, 1508: 1, 1502: 1, 1501: 1, 1499: 1, 1496: 1, 1493: 1, 1489: 1, 1488: 1, 1483: 1, 1478: 1, 1477: 1, 1475: 1, 1473: 1, 1471: 1, 1465: 1, 1462: 1, 1461: 1, 1459: 1, 1458: 1, 1457: 1, 1454: 1, 1452: 1, 1448: 1, 1446: 1, 1439: 1, 1433: 1, 1432: 1, 1430: 1, 1429: 1, 1428: 1, 1427: 1, 1425: 1, 1423: 1, 1418: 1, 1416: 1, 1413: 1, 1410: 1, 1404: 1, 1400: 1, 1392: 1, 1390: 1, 1387: 1, 1386: 1, 1383: 1, 1378: 1, 1377: 1, 1375: 1, 1373: 1, 1371: 1, 1369: 1, 1368: 1, 1366: 1, 1365: 1, 1363: 1, 1360: 1, 1359: 1, 1358: 1, 1357: 1, 1354: 1, 1344: 1, 1343: 1, 1342: 1, 1339: 1, 1334: 1, 1333: 1, 1332: 1, 1330: 1, 1328: 1, 1325: 1, 1321: 1, 1316: 1, 1314: 1, 1310: 1, 1309: 1, 1307: 1, 1305: 1, 1303: 1, 1302: 1, 1301: 1, 1300: 1, 1293: 1, 1292: 1, 1290: 1, 1289: 1, 1287: 1, 1285: 1, 1284: 1, 1283: 1, 1279: 1, 1276: 1, 1274: 1, 1268: 1, 1266: 1, 1263: 1, 1262: 1, 1261: 1, 1259: 1, 1256: 1, 1253: 1, 1251: 1, 1250: 1, 1247: 1, 1246: 1, 1245: 1, 1244: 1, 1243: 1, 1235: 1, 1233: 1, 1230: 1, 1228: 1, 1226: 1, 1225: 1, 1224: 1, 1223: 1, 1222: 1, 1221: 1, 1219: 1, 1215: 1, 1210: 1, 1209: 1, 1205: 1, 1204: 1, 1202: 1, 1199: 1, 1196: 1, 1183: 1, 1180: 1, 1175: 1, 1169: 1, 1164: 1, 1161: 1, 1158: 1, 1153: 1, 1147: 1, 1146: 1, 1142: 1, 1139: 1, 1131: 1, 1128: 1, 1127: 1, 1124: 1, 1121: 1, 1120: 1, 1117: 1, 1112: 1, 1111: 1, 1106: 1, 1103: 1, 1101: 1, 1099: 1, 1097: 1, 1095: 1, 1087: 1, 1086: 1, 1085: 1, 1084: 1, 1078: 1, 1075: 1, 1069: 1, 1063: 1, 1057: 1, 1051: 1, 1049: 1, 1048: 1, 1045: 1, 1044: 1, 1042: 1, 1038: 1, 1037: 1, 1031: 1, 1029: 1, 1024: 1, 1020: 1, 1017: 1, 1013: 1, 1008: 1, 1004: 1, 1002: 1, 995: 1, 994: 1, 990: 1, 982: 1, 979: 1, 969: 1, 967: 1, 963: 1, 959: 1, 958: 1, 957: 1, 954: 1, 953: 1, 952: 1, 947: 1, 943: 1, 942: 1, 928: 1, 924: 1, 920: 1, 919: 1, 903: 1, 902: 1, 900: 1, 896: 1, 895: 1, 892: 1, 886: 1, 883: 1, 882: 1, 871: 1, 868: 1, 862: 1, 861: 1, 853: 1, 851: 1, 845: 1, 842: 1, 837: 1, 832: 1, 827: 1, 824: 1, 821: 1, 814: 1, 813: 1, 812: 1, 810: 1, 805: 1, 788: 1, 780: 1, 779: 1, 776: 1, 774: 1, 771: 1, 768: 1, 766: 1, 762: 1, 761: 1, 755: 1, 736: 1, 735: 1, 734: 1, 732: 1, 727: 1, 725: 1, 720: 1, 710: 1, 708: 1, 704: 1, 703: 1, 700: 1, 696: 1, 687: 1, 686: 1, 680: 1, 677: 1, 676: 1, 666: 1, 662: 1, 650: 1, 635: 1, 633: 1, 631: 1, 624: 1, 616: 1, 606: 1, 605: 1, 599: 1, 597: 1, 590: 1, 581: 1, 572: 1, 522: 1, 520: 1, 495: 1, 472: 1, 471: 1, 465: 1, 451: 1, 433: 1, 424: 1})\n"
     ]
    }
   ],
   "source": [
    "# Number of words for a given frequency.\n",
    "from collections import Counter\n",
    "print(Counter(sorted_text_occur))"
   ]
  },
  {
   "cell_type": "markdown",
   "metadata": {},
   "source": [
    "#### Lets build model with only 'TEXT' column to see its important"
   ]
  },
  {
   "cell_type": "code",
   "execution_count": 83,
   "metadata": {},
   "outputs": [
    {
     "name": "stderr",
     "output_type": "stream",
     "text": [
      "C:\\ProgramData\\Anaconda3\\lib\\site-packages\\sklearn\\linear_model\\stochastic_gradient.py:128: FutureWarning: max_iter and tol parameters have been added in <class 'sklearn.linear_model.stochastic_gradient.SGDClassifier'> in 0.19. If both are left unset, they default to max_iter=5 and tol=None. If tol is not None, max_iter defaults to max_iter=1000. From 0.21, default max_iter will be 1000, and default tol will be 1e-3.\n",
      "  \"and default tol will be 1e-3.\" % type(self), FutureWarning)\n",
      "C:\\ProgramData\\Anaconda3\\lib\\site-packages\\sklearn\\linear_model\\stochastic_gradient.py:128: FutureWarning: max_iter and tol parameters have been added in <class 'sklearn.linear_model.stochastic_gradient.SGDClassifier'> in 0.19. If both are left unset, they default to max_iter=5 and tol=None. If tol is not None, max_iter defaults to max_iter=1000. From 0.21, default max_iter will be 1000, and default tol will be 1e-3.\n",
      "  \"and default tol will be 1e-3.\" % type(self), FutureWarning)\n",
      "C:\\ProgramData\\Anaconda3\\lib\\site-packages\\sklearn\\calibration.py:435: RuntimeWarning: overflow encountered in exp\n",
      "  E = np.exp(AB[0] * F + AB[1])\n",
      "C:\\ProgramData\\Anaconda3\\lib\\site-packages\\sklearn\\calibration.py:445: RuntimeWarning: overflow encountered in exp\n",
      "  E = np.exp(AB[0] * F + AB[1])\n",
      "C:\\ProgramData\\Anaconda3\\lib\\site-packages\\sklearn\\calibration.py:447: RuntimeWarning: invalid value encountered in multiply\n",
      "  TEP_minus_T1P = P * (T * E - T1)\n",
      "C:\\ProgramData\\Anaconda3\\lib\\site-packages\\sklearn\\calibration.py:435: RuntimeWarning: overflow encountered in exp\n",
      "  E = np.exp(AB[0] * F + AB[1])\n",
      "C:\\ProgramData\\Anaconda3\\lib\\site-packages\\sklearn\\calibration.py:435: RuntimeWarning: overflow encountered in exp\n",
      "  E = np.exp(AB[0] * F + AB[1])\n",
      "C:\\ProgramData\\Anaconda3\\lib\\site-packages\\sklearn\\calibration.py:445: RuntimeWarning: overflow encountered in exp\n",
      "  E = np.exp(AB[0] * F + AB[1])\n",
      "C:\\ProgramData\\Anaconda3\\lib\\site-packages\\sklearn\\calibration.py:447: RuntimeWarning: invalid value encountered in multiply\n",
      "  TEP_minus_T1P = P * (T * E - T1)\n",
      "C:\\ProgramData\\Anaconda3\\lib\\site-packages\\sklearn\\calibration.py:435: RuntimeWarning: overflow encountered in exp\n",
      "  E = np.exp(AB[0] * F + AB[1])\n",
      "C:\\ProgramData\\Anaconda3\\lib\\site-packages\\sklearn\\calibration.py:435: RuntimeWarning: overflow encountered in exp\n",
      "  E = np.exp(AB[0] * F + AB[1])\n",
      "C:\\ProgramData\\Anaconda3\\lib\\site-packages\\sklearn\\calibration.py:445: RuntimeWarning: overflow encountered in exp\n",
      "  E = np.exp(AB[0] * F + AB[1])\n",
      "C:\\ProgramData\\Anaconda3\\lib\\site-packages\\sklearn\\calibration.py:447: RuntimeWarning: invalid value encountered in multiply\n",
      "  TEP_minus_T1P = P * (T * E - T1)\n",
      "C:\\ProgramData\\Anaconda3\\lib\\site-packages\\sklearn\\calibration.py:435: RuntimeWarning: overflow encountered in exp\n",
      "  E = np.exp(AB[0] * F + AB[1])\n",
      "C:\\ProgramData\\Anaconda3\\lib\\site-packages\\sklearn\\calibration.py:435: RuntimeWarning: overflow encountered in exp\n",
      "  E = np.exp(AB[0] * F + AB[1])\n",
      "C:\\ProgramData\\Anaconda3\\lib\\site-packages\\sklearn\\calibration.py:445: RuntimeWarning: overflow encountered in exp\n",
      "  E = np.exp(AB[0] * F + AB[1])\n",
      "C:\\ProgramData\\Anaconda3\\lib\\site-packages\\sklearn\\calibration.py:447: RuntimeWarning: invalid value encountered in multiply\n",
      "  TEP_minus_T1P = P * (T * E - T1)\n",
      "C:\\ProgramData\\Anaconda3\\lib\\site-packages\\sklearn\\calibration.py:435: RuntimeWarning: overflow encountered in exp\n",
      "  E = np.exp(AB[0] * F + AB[1])\n",
      "C:\\ProgramData\\Anaconda3\\lib\\site-packages\\sklearn\\calibration.py:435: RuntimeWarning: overflow encountered in exp\n",
      "  E = np.exp(AB[0] * F + AB[1])\n",
      "C:\\ProgramData\\Anaconda3\\lib\\site-packages\\sklearn\\calibration.py:445: RuntimeWarning: overflow encountered in exp\n",
      "  E = np.exp(AB[0] * F + AB[1])\n",
      "C:\\ProgramData\\Anaconda3\\lib\\site-packages\\sklearn\\calibration.py:447: RuntimeWarning: invalid value encountered in multiply\n",
      "  TEP_minus_T1P = P * (T * E - T1)\n",
      "C:\\ProgramData\\Anaconda3\\lib\\site-packages\\sklearn\\calibration.py:435: RuntimeWarning: overflow encountered in exp\n",
      "  E = np.exp(AB[0] * F + AB[1])\n",
      "C:\\ProgramData\\Anaconda3\\lib\\site-packages\\sklearn\\linear_model\\stochastic_gradient.py:128: FutureWarning: max_iter and tol parameters have been added in <class 'sklearn.linear_model.stochastic_gradient.SGDClassifier'> in 0.19. If both are left unset, they default to max_iter=5 and tol=None. If tol is not None, max_iter defaults to max_iter=1000. From 0.21, default max_iter will be 1000, and default tol will be 1e-3.\n",
      "  \"and default tol will be 1e-3.\" % type(self), FutureWarning)\n",
      "C:\\ProgramData\\Anaconda3\\lib\\site-packages\\sklearn\\calibration.py:435: RuntimeWarning: overflow encountered in exp\n",
      "  E = np.exp(AB[0] * F + AB[1])\n",
      "C:\\ProgramData\\Anaconda3\\lib\\site-packages\\sklearn\\calibration.py:445: RuntimeWarning: overflow encountered in exp\n",
      "  E = np.exp(AB[0] * F + AB[1])\n",
      "C:\\ProgramData\\Anaconda3\\lib\\site-packages\\sklearn\\calibration.py:447: RuntimeWarning: invalid value encountered in multiply\n",
      "  TEP_minus_T1P = P * (T * E - T1)\n",
      "C:\\ProgramData\\Anaconda3\\lib\\site-packages\\sklearn\\calibration.py:435: RuntimeWarning: overflow encountered in exp\n",
      "  E = np.exp(AB[0] * F + AB[1])\n",
      "C:\\ProgramData\\Anaconda3\\lib\\site-packages\\sklearn\\calibration.py:435: RuntimeWarning: overflow encountered in exp\n",
      "  E = np.exp(AB[0] * F + AB[1])\n",
      "C:\\ProgramData\\Anaconda3\\lib\\site-packages\\sklearn\\calibration.py:445: RuntimeWarning: overflow encountered in exp\n",
      "  E = np.exp(AB[0] * F + AB[1])\n",
      "C:\\ProgramData\\Anaconda3\\lib\\site-packages\\sklearn\\calibration.py:447: RuntimeWarning: invalid value encountered in multiply\n",
      "  TEP_minus_T1P = P * (T * E - T1)\n",
      "C:\\ProgramData\\Anaconda3\\lib\\site-packages\\sklearn\\calibration.py:435: RuntimeWarning: overflow encountered in exp\n",
      "  E = np.exp(AB[0] * F + AB[1])\n",
      "C:\\ProgramData\\Anaconda3\\lib\\site-packages\\sklearn\\calibration.py:435: RuntimeWarning: overflow encountered in exp\n",
      "  E = np.exp(AB[0] * F + AB[1])\n",
      "C:\\ProgramData\\Anaconda3\\lib\\site-packages\\sklearn\\calibration.py:445: RuntimeWarning: overflow encountered in exp\n",
      "  E = np.exp(AB[0] * F + AB[1])\n",
      "C:\\ProgramData\\Anaconda3\\lib\\site-packages\\sklearn\\calibration.py:447: RuntimeWarning: invalid value encountered in multiply\n",
      "  TEP_minus_T1P = P * (T * E - T1)\n",
      "C:\\ProgramData\\Anaconda3\\lib\\site-packages\\sklearn\\calibration.py:435: RuntimeWarning: overflow encountered in exp\n",
      "  E = np.exp(AB[0] * F + AB[1])\n",
      "C:\\ProgramData\\Anaconda3\\lib\\site-packages\\sklearn\\calibration.py:435: RuntimeWarning: overflow encountered in exp\n",
      "  E = np.exp(AB[0] * F + AB[1])\n",
      "C:\\ProgramData\\Anaconda3\\lib\\site-packages\\sklearn\\calibration.py:445: RuntimeWarning: overflow encountered in exp\n",
      "  E = np.exp(AB[0] * F + AB[1])\n",
      "C:\\ProgramData\\Anaconda3\\lib\\site-packages\\sklearn\\calibration.py:447: RuntimeWarning: invalid value encountered in multiply\n",
      "  TEP_minus_T1P = P * (T * E - T1)\n",
      "C:\\ProgramData\\Anaconda3\\lib\\site-packages\\sklearn\\calibration.py:435: RuntimeWarning: overflow encountered in exp\n",
      "  E = np.exp(AB[0] * F + AB[1])\n",
      "C:\\ProgramData\\Anaconda3\\lib\\site-packages\\sklearn\\calibration.py:435: RuntimeWarning: overflow encountered in exp\n",
      "  E = np.exp(AB[0] * F + AB[1])\n",
      "C:\\ProgramData\\Anaconda3\\lib\\site-packages\\sklearn\\calibration.py:445: RuntimeWarning: overflow encountered in exp\n",
      "  E = np.exp(AB[0] * F + AB[1])\n",
      "C:\\ProgramData\\Anaconda3\\lib\\site-packages\\sklearn\\calibration.py:447: RuntimeWarning: invalid value encountered in multiply\n",
      "  TEP_minus_T1P = P * (T * E - T1)\n",
      "C:\\ProgramData\\Anaconda3\\lib\\site-packages\\sklearn\\calibration.py:435: RuntimeWarning: overflow encountered in exp\n",
      "  E = np.exp(AB[0] * F + AB[1])\n",
      "C:\\ProgramData\\Anaconda3\\lib\\site-packages\\sklearn\\calibration.py:435: RuntimeWarning: overflow encountered in exp\n",
      "  E = np.exp(AB[0] * F + AB[1])\n",
      "C:\\ProgramData\\Anaconda3\\lib\\site-packages\\sklearn\\calibration.py:445: RuntimeWarning: overflow encountered in exp\n",
      "  E = np.exp(AB[0] * F + AB[1])\n",
      "C:\\ProgramData\\Anaconda3\\lib\\site-packages\\sklearn\\calibration.py:447: RuntimeWarning: invalid value encountered in multiply\n",
      "  TEP_minus_T1P = P * (T * E - T1)\n",
      "C:\\ProgramData\\Anaconda3\\lib\\site-packages\\sklearn\\calibration.py:435: RuntimeWarning: overflow encountered in exp\n",
      "  E = np.exp(AB[0] * F + AB[1])\n",
      "C:\\ProgramData\\Anaconda3\\lib\\site-packages\\sklearn\\linear_model\\stochastic_gradient.py:128: FutureWarning: max_iter and tol parameters have been added in <class 'sklearn.linear_model.stochastic_gradient.SGDClassifier'> in 0.19. If both are left unset, they default to max_iter=5 and tol=None. If tol is not None, max_iter defaults to max_iter=1000. From 0.21, default max_iter will be 1000, and default tol will be 1e-3.\n",
      "  \"and default tol will be 1e-3.\" % type(self), FutureWarning)\n"
     ]
    },
    {
     "name": "stderr",
     "output_type": "stream",
     "text": [
      "C:\\ProgramData\\Anaconda3\\lib\\site-packages\\sklearn\\calibration.py:435: RuntimeWarning: overflow encountered in exp\n",
      "  E = np.exp(AB[0] * F + AB[1])\n",
      "C:\\ProgramData\\Anaconda3\\lib\\site-packages\\sklearn\\calibration.py:445: RuntimeWarning: overflow encountered in exp\n",
      "  E = np.exp(AB[0] * F + AB[1])\n",
      "C:\\ProgramData\\Anaconda3\\lib\\site-packages\\sklearn\\calibration.py:447: RuntimeWarning: invalid value encountered in multiply\n",
      "  TEP_minus_T1P = P * (T * E - T1)\n",
      "C:\\ProgramData\\Anaconda3\\lib\\site-packages\\sklearn\\calibration.py:435: RuntimeWarning: overflow encountered in exp\n",
      "  E = np.exp(AB[0] * F + AB[1])\n",
      "C:\\ProgramData\\Anaconda3\\lib\\site-packages\\sklearn\\calibration.py:435: RuntimeWarning: overflow encountered in exp\n",
      "  E = np.exp(AB[0] * F + AB[1])\n",
      "C:\\ProgramData\\Anaconda3\\lib\\site-packages\\sklearn\\calibration.py:445: RuntimeWarning: overflow encountered in exp\n",
      "  E = np.exp(AB[0] * F + AB[1])\n",
      "C:\\ProgramData\\Anaconda3\\lib\\site-packages\\sklearn\\calibration.py:447: RuntimeWarning: invalid value encountered in multiply\n",
      "  TEP_minus_T1P = P * (T * E - T1)\n",
      "C:\\ProgramData\\Anaconda3\\lib\\site-packages\\sklearn\\calibration.py:435: RuntimeWarning: overflow encountered in exp\n",
      "  E = np.exp(AB[0] * F + AB[1])\n",
      "C:\\ProgramData\\Anaconda3\\lib\\site-packages\\sklearn\\calibration.py:435: RuntimeWarning: overflow encountered in exp\n",
      "  E = np.exp(AB[0] * F + AB[1])\n",
      "C:\\ProgramData\\Anaconda3\\lib\\site-packages\\sklearn\\calibration.py:445: RuntimeWarning: overflow encountered in exp\n",
      "  E = np.exp(AB[0] * F + AB[1])\n",
      "C:\\ProgramData\\Anaconda3\\lib\\site-packages\\sklearn\\calibration.py:447: RuntimeWarning: invalid value encountered in multiply\n",
      "  TEP_minus_T1P = P * (T * E - T1)\n",
      "C:\\ProgramData\\Anaconda3\\lib\\site-packages\\sklearn\\calibration.py:435: RuntimeWarning: overflow encountered in exp\n",
      "  E = np.exp(AB[0] * F + AB[1])\n"
     ]
    },
    {
     "name": "stdout",
     "output_type": "stream",
     "text": [
      "For values of alpha =  1e-05 The log loss is: 1.355766380184372\n"
     ]
    },
    {
     "name": "stderr",
     "output_type": "stream",
     "text": [
      "C:\\ProgramData\\Anaconda3\\lib\\site-packages\\sklearn\\linear_model\\stochastic_gradient.py:128: FutureWarning: max_iter and tol parameters have been added in <class 'sklearn.linear_model.stochastic_gradient.SGDClassifier'> in 0.19. If both are left unset, they default to max_iter=5 and tol=None. If tol is not None, max_iter defaults to max_iter=1000. From 0.21, default max_iter will be 1000, and default tol will be 1e-3.\n",
      "  \"and default tol will be 1e-3.\" % type(self), FutureWarning)\n",
      "C:\\ProgramData\\Anaconda3\\lib\\site-packages\\sklearn\\linear_model\\stochastic_gradient.py:128: FutureWarning: max_iter and tol parameters have been added in <class 'sklearn.linear_model.stochastic_gradient.SGDClassifier'> in 0.19. If both are left unset, they default to max_iter=5 and tol=None. If tol is not None, max_iter defaults to max_iter=1000. From 0.21, default max_iter will be 1000, and default tol will be 1e-3.\n",
      "  \"and default tol will be 1e-3.\" % type(self), FutureWarning)\n",
      "C:\\ProgramData\\Anaconda3\\lib\\site-packages\\sklearn\\linear_model\\stochastic_gradient.py:128: FutureWarning: max_iter and tol parameters have been added in <class 'sklearn.linear_model.stochastic_gradient.SGDClassifier'> in 0.19. If both are left unset, they default to max_iter=5 and tol=None. If tol is not None, max_iter defaults to max_iter=1000. From 0.21, default max_iter will be 1000, and default tol will be 1e-3.\n",
      "  \"and default tol will be 1e-3.\" % type(self), FutureWarning)\n",
      "C:\\ProgramData\\Anaconda3\\lib\\site-packages\\sklearn\\linear_model\\stochastic_gradient.py:128: FutureWarning: max_iter and tol parameters have been added in <class 'sklearn.linear_model.stochastic_gradient.SGDClassifier'> in 0.19. If both are left unset, they default to max_iter=5 and tol=None. If tol is not None, max_iter defaults to max_iter=1000. From 0.21, default max_iter will be 1000, and default tol will be 1e-3.\n",
      "  \"and default tol will be 1e-3.\" % type(self), FutureWarning)\n"
     ]
    },
    {
     "name": "stdout",
     "output_type": "stream",
     "text": [
      "For values of alpha =  0.0001 The log loss is: 1.2956218100265915\n"
     ]
    },
    {
     "name": "stderr",
     "output_type": "stream",
     "text": [
      "C:\\ProgramData\\Anaconda3\\lib\\site-packages\\sklearn\\linear_model\\stochastic_gradient.py:128: FutureWarning: max_iter and tol parameters have been added in <class 'sklearn.linear_model.stochastic_gradient.SGDClassifier'> in 0.19. If both are left unset, they default to max_iter=5 and tol=None. If tol is not None, max_iter defaults to max_iter=1000. From 0.21, default max_iter will be 1000, and default tol will be 1e-3.\n",
      "  \"and default tol will be 1e-3.\" % type(self), FutureWarning)\n",
      "C:\\ProgramData\\Anaconda3\\lib\\site-packages\\sklearn\\linear_model\\stochastic_gradient.py:128: FutureWarning: max_iter and tol parameters have been added in <class 'sklearn.linear_model.stochastic_gradient.SGDClassifier'> in 0.19. If both are left unset, they default to max_iter=5 and tol=None. If tol is not None, max_iter defaults to max_iter=1000. From 0.21, default max_iter will be 1000, and default tol will be 1e-3.\n",
      "  \"and default tol will be 1e-3.\" % type(self), FutureWarning)\n",
      "C:\\ProgramData\\Anaconda3\\lib\\site-packages\\sklearn\\linear_model\\stochastic_gradient.py:128: FutureWarning: max_iter and tol parameters have been added in <class 'sklearn.linear_model.stochastic_gradient.SGDClassifier'> in 0.19. If both are left unset, they default to max_iter=5 and tol=None. If tol is not None, max_iter defaults to max_iter=1000. From 0.21, default max_iter will be 1000, and default tol will be 1e-3.\n",
      "  \"and default tol will be 1e-3.\" % type(self), FutureWarning)\n"
     ]
    },
    {
     "name": "stdout",
     "output_type": "stream",
     "text": [
      "For values of alpha =  0.001 The log loss is: 1.0789872681690178\n"
     ]
    },
    {
     "name": "stderr",
     "output_type": "stream",
     "text": [
      "C:\\ProgramData\\Anaconda3\\lib\\site-packages\\sklearn\\linear_model\\stochastic_gradient.py:128: FutureWarning: max_iter and tol parameters have been added in <class 'sklearn.linear_model.stochastic_gradient.SGDClassifier'> in 0.19. If both are left unset, they default to max_iter=5 and tol=None. If tol is not None, max_iter defaults to max_iter=1000. From 0.21, default max_iter will be 1000, and default tol will be 1e-3.\n",
      "  \"and default tol will be 1e-3.\" % type(self), FutureWarning)\n",
      "C:\\ProgramData\\Anaconda3\\lib\\site-packages\\sklearn\\linear_model\\stochastic_gradient.py:128: FutureWarning: max_iter and tol parameters have been added in <class 'sklearn.linear_model.stochastic_gradient.SGDClassifier'> in 0.19. If both are left unset, they default to max_iter=5 and tol=None. If tol is not None, max_iter defaults to max_iter=1000. From 0.21, default max_iter will be 1000, and default tol will be 1e-3.\n",
      "  \"and default tol will be 1e-3.\" % type(self), FutureWarning)\n",
      "C:\\ProgramData\\Anaconda3\\lib\\site-packages\\sklearn\\linear_model\\stochastic_gradient.py:128: FutureWarning: max_iter and tol parameters have been added in <class 'sklearn.linear_model.stochastic_gradient.SGDClassifier'> in 0.19. If both are left unset, they default to max_iter=5 and tol=None. If tol is not None, max_iter defaults to max_iter=1000. From 0.21, default max_iter will be 1000, and default tol will be 1e-3.\n",
      "  \"and default tol will be 1e-3.\" % type(self), FutureWarning)\n"
     ]
    },
    {
     "name": "stdout",
     "output_type": "stream",
     "text": [
      "For values of alpha =  0.01 The log loss is: 1.1715617961261768\n"
     ]
    },
    {
     "name": "stderr",
     "output_type": "stream",
     "text": [
      "C:\\ProgramData\\Anaconda3\\lib\\site-packages\\sklearn\\linear_model\\stochastic_gradient.py:128: FutureWarning: max_iter and tol parameters have been added in <class 'sklearn.linear_model.stochastic_gradient.SGDClassifier'> in 0.19. If both are left unset, they default to max_iter=5 and tol=None. If tol is not None, max_iter defaults to max_iter=1000. From 0.21, default max_iter will be 1000, and default tol will be 1e-3.\n",
      "  \"and default tol will be 1e-3.\" % type(self), FutureWarning)\n",
      "C:\\ProgramData\\Anaconda3\\lib\\site-packages\\sklearn\\linear_model\\stochastic_gradient.py:128: FutureWarning: max_iter and tol parameters have been added in <class 'sklearn.linear_model.stochastic_gradient.SGDClassifier'> in 0.19. If both are left unset, they default to max_iter=5 and tol=None. If tol is not None, max_iter defaults to max_iter=1000. From 0.21, default max_iter will be 1000, and default tol will be 1e-3.\n",
      "  \"and default tol will be 1e-3.\" % type(self), FutureWarning)\n",
      "C:\\ProgramData\\Anaconda3\\lib\\site-packages\\sklearn\\linear_model\\stochastic_gradient.py:128: FutureWarning: max_iter and tol parameters have been added in <class 'sklearn.linear_model.stochastic_gradient.SGDClassifier'> in 0.19. If both are left unset, they default to max_iter=5 and tol=None. If tol is not None, max_iter defaults to max_iter=1000. From 0.21, default max_iter will be 1000, and default tol will be 1e-3.\n",
      "  \"and default tol will be 1e-3.\" % type(self), FutureWarning)\n"
     ]
    },
    {
     "name": "stdout",
     "output_type": "stream",
     "text": [
      "For values of alpha =  0.1 The log loss is: 1.4330123765580713\n"
     ]
    },
    {
     "name": "stderr",
     "output_type": "stream",
     "text": [
      "C:\\ProgramData\\Anaconda3\\lib\\site-packages\\sklearn\\linear_model\\stochastic_gradient.py:128: FutureWarning: max_iter and tol parameters have been added in <class 'sklearn.linear_model.stochastic_gradient.SGDClassifier'> in 0.19. If both are left unset, they default to max_iter=5 and tol=None. If tol is not None, max_iter defaults to max_iter=1000. From 0.21, default max_iter will be 1000, and default tol will be 1e-3.\n",
      "  \"and default tol will be 1e-3.\" % type(self), FutureWarning)\n",
      "C:\\ProgramData\\Anaconda3\\lib\\site-packages\\sklearn\\linear_model\\stochastic_gradient.py:128: FutureWarning: max_iter and tol parameters have been added in <class 'sklearn.linear_model.stochastic_gradient.SGDClassifier'> in 0.19. If both are left unset, they default to max_iter=5 and tol=None. If tol is not None, max_iter defaults to max_iter=1000. From 0.21, default max_iter will be 1000, and default tol will be 1e-3.\n",
      "  \"and default tol will be 1e-3.\" % type(self), FutureWarning)\n",
      "C:\\ProgramData\\Anaconda3\\lib\\site-packages\\sklearn\\linear_model\\stochastic_gradient.py:128: FutureWarning: max_iter and tol parameters have been added in <class 'sklearn.linear_model.stochastic_gradient.SGDClassifier'> in 0.19. If both are left unset, they default to max_iter=5 and tol=None. If tol is not None, max_iter defaults to max_iter=1000. From 0.21, default max_iter will be 1000, and default tol will be 1e-3.\n",
      "  \"and default tol will be 1e-3.\" % type(self), FutureWarning)\n"
     ]
    },
    {
     "name": "stdout",
     "output_type": "stream",
     "text": [
      "For values of alpha =  1 The log loss is: 1.6453272729062123\n"
     ]
    }
   ],
   "source": [
    "cv_log_error_array=[]\n",
    "for i in alpha:\n",
    "    clf = SGDClassifier(alpha=i, penalty='l2', loss='log', random_state=42)\n",
    "    clf.fit(train_text_feature_onehotCoding, y_train)\n",
    "    \n",
    "    sig_clf = CalibratedClassifierCV(clf, method=\"sigmoid\")\n",
    "    sig_clf.fit(train_text_feature_onehotCoding, y_train)\n",
    "    predict_y = sig_clf.predict_proba(cv_text_feature_onehotCoding)\n",
    "    cv_log_error_array.append(log_loss(y_cv, predict_y, labels=clf.classes_, eps=1e-15))\n",
    "    print('For values of alpha = ', i, \"The log loss is:\",log_loss(y_cv, predict_y, labels=clf.classes_, eps=1e-15))"
   ]
  },
  {
   "cell_type": "code",
   "execution_count": 84,
   "metadata": {},
   "outputs": [
    {
     "name": "stderr",
     "output_type": "stream",
     "text": [
      "C:\\ProgramData\\Anaconda3\\lib\\site-packages\\sklearn\\linear_model\\stochastic_gradient.py:128: FutureWarning: max_iter and tol parameters have been added in <class 'sklearn.linear_model.stochastic_gradient.SGDClassifier'> in 0.19. If both are left unset, they default to max_iter=5 and tol=None. If tol is not None, max_iter defaults to max_iter=1000. From 0.21, default max_iter will be 1000, and default tol will be 1e-3.\n",
      "  \"and default tol will be 1e-3.\" % type(self), FutureWarning)\n",
      "C:\\ProgramData\\Anaconda3\\lib\\site-packages\\sklearn\\linear_model\\stochastic_gradient.py:128: FutureWarning: max_iter and tol parameters have been added in <class 'sklearn.linear_model.stochastic_gradient.SGDClassifier'> in 0.19. If both are left unset, they default to max_iter=5 and tol=None. If tol is not None, max_iter defaults to max_iter=1000. From 0.21, default max_iter will be 1000, and default tol will be 1e-3.\n",
      "  \"and default tol will be 1e-3.\" % type(self), FutureWarning)\n",
      "C:\\ProgramData\\Anaconda3\\lib\\site-packages\\sklearn\\linear_model\\stochastic_gradient.py:128: FutureWarning: max_iter and tol parameters have been added in <class 'sklearn.linear_model.stochastic_gradient.SGDClassifier'> in 0.19. If both are left unset, they default to max_iter=5 and tol=None. If tol is not None, max_iter defaults to max_iter=1000. From 0.21, default max_iter will be 1000, and default tol will be 1e-3.\n",
      "  \"and default tol will be 1e-3.\" % type(self), FutureWarning)\n",
      "C:\\ProgramData\\Anaconda3\\lib\\site-packages\\sklearn\\linear_model\\stochastic_gradient.py:128: FutureWarning: max_iter and tol parameters have been added in <class 'sklearn.linear_model.stochastic_gradient.SGDClassifier'> in 0.19. If both are left unset, they default to max_iter=5 and tol=None. If tol is not None, max_iter defaults to max_iter=1000. From 0.21, default max_iter will be 1000, and default tol will be 1e-3.\n",
      "  \"and default tol will be 1e-3.\" % type(self), FutureWarning)\n"
     ]
    },
    {
     "name": "stdout",
     "output_type": "stream",
     "text": [
      "For values of best alpha =  0.001 The train log loss is: 0.7899549404880363\n",
      "For values of best alpha =  0.001 The cross validation log loss is: 1.0789872681690178\n",
      "For values of best alpha =  0.001 The test log loss is: 1.2249786958186566\n"
     ]
    }
   ],
   "source": [
    "best_alpha = np.argmin(cv_log_error_array)\n",
    "clf = SGDClassifier(alpha=alpha[best_alpha], penalty='l2', loss='log', random_state=42)\n",
    "clf.fit(train_text_feature_onehotCoding, y_train)\n",
    "sig_clf = CalibratedClassifierCV(clf, method=\"sigmoid\")\n",
    "sig_clf.fit(train_text_feature_onehotCoding, y_train)\n",
    "\n",
    "predict_y = sig_clf.predict_proba(train_text_feature_onehotCoding)\n",
    "print('For values of best alpha = ', alpha[best_alpha], \"The train log loss is:\",log_loss(y_train, predict_y, labels=clf.classes_, eps=1e-15))\n",
    "predict_y = sig_clf.predict_proba(cv_text_feature_onehotCoding)\n",
    "print('For values of best alpha = ', alpha[best_alpha], \"The cross validation log loss is:\",log_loss(y_cv, predict_y, labels=clf.classes_, eps=1e-15))\n",
    "predict_y = sig_clf.predict_proba(test_text_feature_onehotCoding)\n",
    "print('For values of best alpha = ', alpha[best_alpha], \"The test log loss is:\",log_loss(y_test, predict_y, labels=clf.classes_, eps=1e-15))\n"
   ]
  },
  {
   "cell_type": "markdown",
   "metadata": {},
   "source": [
    "Good performance as compare to Random model\n",
    "#### Lets check the overlap of 'TEXT' data\n"
   ]
  },
  {
   "cell_type": "code",
   "execution_count": 85,
   "metadata": {},
   "outputs": [],
   "source": [
    "def get_intersec_text(df):\n",
    "    df_text_vec = CountVectorizer(min_df=3)\n",
    "    df_text_fea = df_text_vec.fit_transform(df['TEXT'])\n",
    "    df_text_features = df_text_vec.get_feature_names()\n",
    "\n",
    "    df_text_fea_counts = df_text_fea.sum(axis=0).A1\n",
    "    df_text_fea_dict = dict(zip(list(df_text_features),df_text_fea_counts))\n",
    "    len1 = len(set(df_text_features))\n",
    "    len2 = len(set(train_text_features) & set(df_text_features))\n",
    "    return len1,len2"
   ]
  },
  {
   "cell_type": "code",
   "execution_count": 87,
   "metadata": {},
   "outputs": [
    {
     "name": "stdout",
     "output_type": "stream",
     "text": [
      "97.283 % of word of test data appeared in train data\n",
      "97.761 % of word of Cross Validation appeared in train data\n"
     ]
    }
   ],
   "source": [
    "len1,len2 = get_intersec_text(X_test)\n",
    "print(np.round((len2/len1)*100, 3), \"% of word of test data appeared in train data\")\n",
    "len1,len2 = get_intersec_text(X_cv)\n",
    "print(np.round((len2/len1)*100, 3), \"% of word of Cross Validation appeared in train data\")"
   ]
  },
  {
   "cell_type": "markdown",
   "metadata": {},
   "source": [
    "So, all 3 columns are going to be important.\n",
    "### Data prepration for Machine Learning models\n",
    "\n",
    "Lets create few functions which we will be using later"
   ]
  },
  {
   "cell_type": "code",
   "execution_count": 88,
   "metadata": {},
   "outputs": [],
   "source": [
    "def report_log_loss(train_x, train_y, test_x, test_y,  clf):\n",
    "    clf.fit(train_x, train_y)\n",
    "    sig_clf = CalibratedClassifierCV(clf, method=\"sigmoid\")\n",
    "    sig_clf.fit(train_x, train_y)\n",
    "    sig_clf_probs = sig_clf.predict_proba(test_x)\n",
    "    return log_loss(test_y, sig_clf_probs, eps=1e-15)"
   ]
  },
  {
   "cell_type": "code",
   "execution_count": 89,
   "metadata": {},
   "outputs": [],
   "source": [
    "# This function plots the confusion matrices given y_i, y_i_hat.\n",
    "def plot_confusion_matrix(test_y, predict_y):\n",
    "    C = confusion_matrix(test_y, predict_y)\n",
    "    \n",
    "    A =(((C.T)/(C.sum(axis=1))).T)\n",
    "    \n",
    "    B =(C/C.sum(axis=0)) \n",
    "    labels = [1,2,3,4,5,6,7,8,9]\n",
    "    # representing A in heatmap format\n",
    "    print(\"-\"*20, \"Confusion matrix\", \"-\"*20)\n",
    "    plt.figure(figsize=(20,7))\n",
    "    sns.heatmap(C, annot=True, cmap=\"YlGnBu\", fmt=\".3f\", xticklabels=labels, yticklabels=labels)\n",
    "    plt.xlabel('Predicted Class')\n",
    "    plt.ylabel('Original Class')\n",
    "    plt.show()\n",
    "\n",
    "    print(\"-\"*20, \"Precision matrix (Columm Sum=1)\", \"-\"*20)\n",
    "    plt.figure(figsize=(20,7))\n",
    "    sns.heatmap(B, annot=True, cmap=\"YlGnBu\", fmt=\".3f\", xticklabels=labels, yticklabels=labels)\n",
    "    plt.xlabel('Predicted Class')\n",
    "    plt.ylabel('Original Class')\n",
    "    plt.show()\n",
    "    \n",
    "    # representing B in heatmap format\n",
    "    print(\"-\"*20, \"Recall matrix (Row sum=1)\", \"-\"*20)\n",
    "    plt.figure(figsize=(20,7))\n",
    "    sns.heatmap(A, annot=True, cmap=\"YlGnBu\", fmt=\".3f\", xticklabels=labels, yticklabels=labels)\n",
    "    plt.xlabel('Predicted Class')\n",
    "    plt.ylabel('Original Class')\n",
    "    plt.show()\n",
    "\n",
    "\n",
    "def predict_and_plot_confusion_matrix(train_x, train_y,test_x, test_y, clf):\n",
    "    clf.fit(train_x, train_y)\n",
    "    sig_clf = CalibratedClassifierCV(clf, method=\"sigmoid\")\n",
    "    sig_clf.fit(train_x, train_y)\n",
    "    pred_y = sig_clf.predict(test_x)\n",
    "\n",
    "    # for calculating log_loss we willl provide the array of probabilities belongs to each class\n",
    "    print(\"Log loss :\",log_loss(test_y, sig_clf.predict_proba(test_x)))\n",
    "    # calculating the number of data points that are misclassified\n",
    "    print(\"Number of mis-classified points :\", np.count_nonzero((pred_y- test_y))/test_y.shape[0])\n",
    "    plot_confusion_matrix(test_y, pred_y)"
   ]
  },
  {
   "cell_type": "code",
   "execution_count": 90,
   "metadata": {},
   "outputs": [],
   "source": [
    "# this function will be used just for naive bayes\n",
    "# for the given indices, we will print the name of the features\n",
    "# and we will check whether the feature present in the test point text or not\n",
    "def get_impfeature_names(indices, text, gene, var, no_features):\n",
    "    gene_count_vec = CountVectorizer()\n",
    "    var_count_vec = CountVectorizer()\n",
    "    text_count_vec = CountVectorizer(min_df=3)\n",
    "    \n",
    "    gene_vec = gene_count_vec.fit(X_train['Gene'])\n",
    "    var_vec  = var_count_vec.fit(X_train['Variation'])\n",
    "    text_vec = text_count_vec.fit(X_train['TEXT'])\n",
    "    \n",
    "    fea1_len = len(gene_vec.get_feature_names())\n",
    "    fea2_len = len(var_count_vec.get_feature_names())\n",
    "    \n",
    "    word_present = 0\n",
    "    for i,v in enumerate(indices):\n",
    "        if (v < fea1_len):\n",
    "            word = gene_vec.get_feature_names()[v]\n",
    "            yes_no = True if word == gene else False\n",
    "            if yes_no:\n",
    "                word_present += 1\n",
    "                print(i, \"Gene feature [{}] present in test data point [{}]\".format(word,yes_no))\n",
    "        elif (v < fea1_len+fea2_len):\n",
    "            word = var_vec.get_feature_names()[v-(fea1_len)]\n",
    "            yes_no = True if word == var else False\n",
    "            if yes_no:\n",
    "                word_present += 1\n",
    "                print(i, \"variation feature [{}] present in test data point [{}]\".format(word,yes_no))\n",
    "        else:\n",
    "            word = text_vec.get_feature_names()[v-(fea1_len+fea2_len)]\n",
    "            yes_no = True if word in text.split() else False\n",
    "            if yes_no:\n",
    "                word_present += 1\n",
    "                print(i, \"Text feature [{}] present in test data point [{}]\".format(word,yes_no))\n",
    "\n",
    "    print(\"Out of the top \",no_features,\" features \", word_present, \"are present in query point\")"
   ]
  },
  {
   "cell_type": "markdown",
   "metadata": {},
   "source": [
    "#### combining all three features together"
   ]
  },
  {
   "cell_type": "code",
   "execution_count": 93,
   "metadata": {},
   "outputs": [],
   "source": [
    "# merging gene, variance and text features\n",
    "\n",
    "# building train, test and cross validation data sets\n",
    "# a = [[1, 2], \n",
    "#      [3, 4]]\n",
    "# b = [[4, 5], \n",
    "#      [6, 7]]\n",
    "# hstack(a, b) = [[1, 2, 4, 5],\n",
    "#                [ 3, 4, 6, 7]]\n",
    "from scipy.sparse import hstack\n",
    "\n",
    "train_gene_var_onehotCoding = hstack((train_gene_feature_onehotencoding,train_variation_onehotencoding))\n",
    "test_gene_var_onehotCoding = hstack((test_gene_feature_onehotencoding,test_variation_onehotencoding))\n",
    "cv_gene_var_onehotCoding = hstack((cv_gene_feature_onehotencoding,cv_variation_onehotencoding))\n",
    "\n",
    "train_x_onehotCoding = hstack((train_gene_var_onehotCoding, train_text_feature_onehotCoding)).tocsr()\n",
    "train_y = np.array(list(X_train['Class']))\n",
    "\n",
    "test_x_onehotCoding = hstack((test_gene_var_onehotCoding, test_text_feature_onehotCoding)).tocsr()\n",
    "test_y = np.array(list(X_test['Class']))\n",
    "\n",
    "cv_x_onehotCoding = hstack((cv_gene_var_onehotCoding, cv_text_feature_onehotCoding)).tocsr()\n",
    "cv_y = np.array(list(X_cv['Class']))\n",
    "\n",
    "\n",
    "train_gene_var_responseCoding = np.hstack((train_gene_feature_responseEncoding,train_variation_responseencoding))\n",
    "test_gene_var_responseCoding = np.hstack((test_gene_feature_responseEncoding,test_variation_responseencoding))\n",
    "cv_gene_var_responseCoding = np.hstack((cv_gene_feature_responseEncoding,cv_variation_responseencoding))\n",
    "\n",
    "train_x_responseCoding = np.hstack((train_gene_var_responseCoding, train_text_feature_responseCoding))\n",
    "test_x_responseCoding = np.hstack((test_gene_var_responseCoding, test_text_feature_responseCoding))\n",
    "cv_x_responseCoding = np.hstack((cv_gene_var_responseCoding, cv_text_feature_responseCoding))\n"
   ]
  },
  {
   "cell_type": "code",
   "execution_count": 94,
   "metadata": {},
   "outputs": [
    {
     "name": "stdout",
     "output_type": "stream",
     "text": [
      "One hot encoding features :\n",
      "(number of data points * number of features) in train data =  (2124, 56169)\n",
      "(number of data points * number of features) in test data =  (665, 56169)\n",
      "(number of data points * number of features) in cross validation data = (532, 56169)\n"
     ]
    }
   ],
   "source": [
    "print(\"One hot encoding features :\")\n",
    "print(\"(number of data points * number of features) in train data = \", train_x_onehotCoding.shape)\n",
    "print(\"(number of data points * number of features) in test data = \", test_x_onehotCoding.shape)\n",
    "print(\"(number of data points * number of features) in cross validation data =\", cv_x_onehotCoding.shape)"
   ]
  },
  {
   "cell_type": "code",
   "execution_count": 95,
   "metadata": {},
   "outputs": [
    {
     "name": "stdout",
     "output_type": "stream",
     "text": [
      " Response encoding features :\n",
      "(number of data points * number of features) in train data =  (2124, 27)\n",
      "(number of data points * number of features) in test data =  (665, 27)\n",
      "(number of data points * number of features) in cross validation data = (532, 27)\n"
     ]
    }
   ],
   "source": [
    "print(\" Response encoding features :\")\n",
    "print(\"(number of data points * number of features) in train data = \", train_x_responseCoding.shape)\n",
    "print(\"(number of data points * number of features) in test data = \", test_x_responseCoding.shape)\n",
    "print(\"(number of data points * number of features) in cross validation data =\", cv_x_responseCoding.shape)"
   ]
  },
  {
   "cell_type": "code",
   "execution_count": null,
   "metadata": {},
   "outputs": [],
   "source": []
  }
 ],
 "metadata": {
  "kernelspec": {
   "display_name": "Python 3",
   "language": "python",
   "name": "python3"
  },
  "language_info": {
   "codemirror_mode": {
    "name": "ipython",
    "version": 3
   },
   "file_extension": ".py",
   "mimetype": "text/x-python",
   "name": "python",
   "nbconvert_exporter": "python",
   "pygments_lexer": "ipython3",
   "version": "3.6.4"
  }
 },
 "nbformat": 4,
 "nbformat_minor": 2
}
